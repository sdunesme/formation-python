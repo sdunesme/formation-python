{
 "cells": [
  {
   "cell_type": "markdown",
   "id": "caeb20f8-a39c-455b-b79b-d613719f6939",
   "metadata": {},
   "source": [
    "# 02-variables"
   ]
  },
  {
   "cell_type": "markdown",
   "id": "6a3fd9ec-567b-4fe0-93de-c4df9da38269",
   "metadata": {},
   "source": [
    "Initialiser deux variables contenant des entiers"
   ]
  },
  {
   "cell_type": "code",
   "execution_count": null,
   "id": "9a9ce556-d7b0-45c7-83bb-4bfef713e344",
   "metadata": {},
   "outputs": [],
   "source": []
  },
  {
   "cell_type": "markdown",
   "id": "56a16526-45eb-42a2-8037-d96ec3549273",
   "metadata": {},
   "source": [
    "Dans une nouvelle variable, stocker le résultat de la soustraction des deux premières"
   ]
  },
  {
   "cell_type": "code",
   "execution_count": null,
   "id": "eb718b38-7180-4cf0-a937-a75a3d3cc103",
   "metadata": {},
   "outputs": [],
   "source": []
  },
  {
   "cell_type": "markdown",
   "id": "c7525fb8-19f8-4d15-ad6a-196bb265580d",
   "metadata": {},
   "source": [
    "## Listes\n",
    "\n",
    "Définir une liste contenant au moins un objet de type booléen, une chaine de caractères et un flottant"
   ]
  },
  {
   "cell_type": "code",
   "execution_count": null,
   "id": "7fec9a8c-26fe-4860-9d5e-434ccf859d5e",
   "metadata": {},
   "outputs": [],
   "source": []
  },
  {
   "cell_type": "markdown",
   "id": "3a066fb2-0d10-4870-b753-147a88c9c660",
   "metadata": {},
   "source": [
    "Affichez le troisième élément de cette liste avec la fonction print()"
   ]
  },
  {
   "cell_type": "code",
   "execution_count": null,
   "id": "8a98bad9-097f-44c1-b7ae-4b1c1699c5e5",
   "metadata": {},
   "outputs": [],
   "source": []
  },
  {
   "cell_type": "markdown",
   "id": "6c77a812-2c09-44a5-afba-35b321dfa65a",
   "metadata": {},
   "source": [
    "## Dictionnaires"
   ]
  },
  {
   "cell_type": "markdown",
   "id": "ab1d20ec-ab26-4c38-9ed6-5b0045f383a0",
   "metadata": {},
   "source": [
    "Compléter ce dictionnaire imbriqué pour qu'il contienne des informations sur 4 villes de France"
   ]
  },
  {
   "cell_type": "code",
   "execution_count": 14,
   "id": "18e3430a-6dcf-46f9-96af-248a30f89f27",
   "metadata": {},
   "outputs": [
    {
     "name": "stdout",
     "output_type": "stream",
     "text": [
      "{'Amiens': {'region': 'Hauts-de-France', 'population': 132874, 'superficie': 249.46}, 'Orléans': {27.48, 114644, 'Centre-Val-de-Loire'}, '': {}}\n"
     ]
    }
   ],
   "source": [
    "villes = {\n",
    "    'Amiens': {'region': 'Hauts-de-France', 'population': 132874, 'superficie': 249.46},\n",
    "    'Orléans': {'Centre-Val-de-Loire', 114644, 27.48},\n",
    "    '': {}\n",
    "}\n",
    "print(villes)"
   ]
  },
  {
   "cell_type": "markdown",
   "id": "f4c992cf-d524-4c8a-bcb9-f7d0e7409cf7",
   "metadata": {},
   "source": [
    "Corriger la superficie de la ville d'Amiens qui est erronnée : la vraie valeur est 49.46 km². Vérifier que la correction est bien faite avec un print()"
   ]
  },
  {
   "cell_type": "code",
   "execution_count": null,
   "id": "74d45a76-a5e6-4a2e-a3d1-6061c704f836",
   "metadata": {},
   "outputs": [],
   "source": []
  },
  {
   "cell_type": "markdown",
   "id": "344a842b-507d-4bb3-9b01-c407bb64e7c6",
   "metadata": {},
   "source": [
    "Ecrire un test logique permettant de vérifier qu'il y a au moins 5 historiens OU au moins 5 géographes."
   ]
  },
  {
   "cell_type": "code",
   "execution_count": null,
   "id": "35486fda-0d17-40d2-9b58-aea41da67ff4",
   "metadata": {},
   "outputs": [],
   "source": [
    "eleves = {\n",
    "    'geographers': 5,\n",
    "    'statisticians': 8,\n",
    "    'historians': 3\n",
    "}\n"
   ]
  },
  {
   "cell_type": "markdown",
   "id": "689c4d82-3fde-46b8-9d08-49bfff49661f",
   "metadata": {},
   "source": [
    "## Chaines de caractères"
   ]
  },
  {
   "cell_type": "markdown",
   "id": "806d29cb-cfeb-49de-b0e6-52e750099981",
   "metadata": {},
   "source": [
    "Stocker dans la variable `message` une chaine de caractère de type \"Le département ... est découpé en ... communes\" en utilisant les variables ci-dessous."
   ]
  },
  {
   "cell_type": "code",
   "execution_count": null,
   "id": "7bd7c8f8-e997-4fe7-8712-21248bf007c9",
   "metadata": {},
   "outputs": [],
   "source": [
    "departement = 'Rhone'\n",
    "nombre_communes = 208"
   ]
  },
  {
   "cell_type": "markdown",
   "id": "ada9f0b1-ba75-4046-bc48-2bfb5a732fa8",
   "metadata": {},
   "source": [
    "- En utilisant la concaténation de chaines de caractères"
   ]
  },
  {
   "cell_type": "code",
   "execution_count": null,
   "id": "7888649a-9ac3-4135-8fd4-5dfaccc46432",
   "metadata": {},
   "outputs": [],
   "source": [
    "message = "
   ]
  },
  {
   "cell_type": "markdown",
   "id": "21d746f6-7045-4fb6-aafd-9bbba00f1c44",
   "metadata": {},
   "source": [
    "- En utilisant le string substitution"
   ]
  },
  {
   "cell_type": "code",
   "execution_count": null,
   "id": "23ba739d-777e-47a8-a2ca-4374de01f560",
   "metadata": {},
   "outputs": [],
   "source": [
    "message = "
   ]
  },
  {
   "cell_type": "markdown",
   "id": "528e172b-a15a-413a-aca1-d506565c03ea",
   "metadata": {},
   "source": [
    "Mettre ce message entièrement en majuscules et stocker le résultat dans une nouvelle variable"
   ]
  },
  {
   "cell_type": "code",
   "execution_count": null,
   "id": "a8cf8423-f8f0-451c-9f64-40bb2cc858f9",
   "metadata": {},
   "outputs": [],
   "source": []
  },
  {
   "cell_type": "markdown",
   "id": "8a0afeff-14ef-4ebb-9516-78cc3bd7a9b6",
   "metadata": {},
   "source": [
    "Transformer la chaine de caractères en liste de mots et extraire le nom du département via son index dans la liste"
   ]
  },
  {
   "cell_type": "code",
   "execution_count": null,
   "id": "512f6b05-765a-4a6b-8b9d-008ac58d0505",
   "metadata": {},
   "outputs": [],
   "source": []
  },
  {
   "cell_type": "markdown",
   "id": "6d1ac7b5-11a3-455d-ba13-1af047fa39a1",
   "metadata": {},
   "source": [
    "# 03-fonctions\n",
    "\n",
    "## Boucles\n",
    "Ecrire une boucle affichant un compte à rebour de 10 secondes. La fonction `sleep` importée depuis le package `time` indique à l'interpréteur d'attendre x secondes avant de continuer l'exécution."
   ]
  },
  {
   "cell_type": "code",
   "execution_count": 7,
   "id": "c3c57226-f778-4fc6-babc-bf3ea87ca903",
   "metadata": {},
   "outputs": [
    {
     "name": "stdout",
     "output_type": "stream",
     "text": [
      "il reste 10 secondes\n",
      "il reste 9 secondes\n",
      "il reste 8 secondes\n",
      "il reste 7 secondes\n",
      "il reste 6 secondes\n",
      "il reste 5 secondes\n",
      "il reste 4 secondes\n",
      "il reste 3 secondes\n",
      "il reste 2 secondes\n",
      "il reste 1 secondes\n"
     ]
    }
   ],
   "source": [
    "from time import sleep\n",
    "\n",
    "i=10\n",
    "while i > 0:\n",
    "    print('il reste ' + str(i) + ' secondes')\n",
    "    sleep(1)\n",
    "    i -= 1\n"
   ]
  },
  {
   "cell_type": "markdown",
   "id": "c09fedf7-8b38-408c-a358-9ebe2583f8ff",
   "metadata": {},
   "source": [
    "## Fonctions\n",
    "Réécrire la fonction `decrire_individu()` et y ajouter une structure conditionnelle pour indiquer dans le message de retour si l'individu est jeune ou vieux (à vous de définir l'age limite entre les deux). "
   ]
  },
  {
   "cell_type": "code",
   "execution_count": 12,
   "id": "66e4125a-8ecc-4169-a9b6-c24a1c5ee201",
   "metadata": {},
   "outputs": [
    {
     "data": {
      "text/plain": [
       "\"L'individu Geroges Abitbol a 60 ans. Il est jeune.\""
      ]
     },
     "execution_count": 14,
     "metadata": {},
     "output_type": "execute_result"
    }
   ],
   "source": [
    "def decrire_individu(prenom, nom, age=30):\n",
    "    message = f'L\\'individu {prenom} {nom} a {age} ans.'\n",
    "    \n",
    "    if age > 70:\n",
    "        ajout = ' Il est vieux.'\n",
    "    else:\n",
    "        ajout = ' Il est jeune.'\n",
    "    \n",
    "    message_final = message + ajout\n",
    "    \n",
    "    return message_final\n",
    "\n",
    "\n",
    "def decrire_individu(prenom, nom, age=30):\n",
    "    message = f'L\\'individu {prenom} {nom} a {age} ans.'\n",
    "    \n",
    "    if age > 70:\n",
    "        message += ' Il est vieux.'\n",
    "    else:\n",
    "        message += ' Il est jeune.'\n",
    "    \n",
    "    return message\n",
    "\n",
    "def decrire_individu(prenom, nom, age=30):\n",
    "    message = f'L\\'individu {prenom} {nom} a {age} ans.'\n",
    "    \n",
    "    if age > 70:\n",
    "        message_final = f'{message} Il est vieux.'\n",
    "    else:\n",
    "        message_final = f'{message} Il est jeune.'\n",
    "    \n",
    "    return message_final\n",
    "\n",
    "decrire_individu('Geroges', 'Abitbol', 60)"
   ]
  },
  {
   "cell_type": "markdown",
   "id": "f047c68f-16fe-4c06-a391-2435b4b1d588",
   "metadata": {},
   "source": [
    "## Fichiers\n",
    "\n",
    "Ecrire une fonction prenant comme seul paramètre une liste d'individus, et permettant de stocker les prénoms de tous ces individus dans des fichiers séparés par commune de résidence. Le nom du fichier texte devra être le nom de la commune. \n",
    "\n",
    "Il faudra faire une boucle `for` dans votre fonction pour itérer sur tous les objets de la liste et les ranger un à un dans le bon fichier. Pour nommer correctement le fichier, vous pouvez utiliser une string substitution."
   ]
  },
  {
   "cell_type": "code",
   "execution_count": 45,
   "id": "8c4bc55e-c33d-4a42-b959-8b34af21c6e2",
   "metadata": {},
   "outputs": [],
   "source": [
    "import os\n",
    "\n",
    "def trier_individus(argument_liste):\n",
    "    '''\n",
    "    Trie une liste d'individus dans des fichiers textes par commune.\n",
    "\n",
    "    Parameters:\n",
    "        liste (list): Liste des individus.\n",
    "        chemin_output (str): Chemin du dossier ou stocker les fichiers.\n",
    "\n",
    "    Returns:\n",
    "        Nothing    \n",
    "    '''\n",
    "    \n",
    "    # Définir le dossier de destination de nos fichiers villes\n",
    "    destination = 'datasets/output/villes'\n",
    "    \n",
    "    #### \n",
    "    # On teste si le dossier de destination n'existe pas\n",
    "    if not os.path.isdir(destination):\n",
    "        \n",
    "        # Si c'est le cas, on le créé\n",
    "        os.mkdir(destination)\n",
    "    ###\n",
    "\n",
    "    # Démarre une boucle sur ma liste d'individus, les 2 éléments des sous-listes sont dépaquetés dans deux variables séparées\n",
    "    for nom, ville in argument_liste:\n",
    "        \n",
    "        # Je cherche maintenant à définir le chemin complet du fichier ville\n",
    "        fichier = os.path.join(destination, f'{ville}.txt')\n",
    "        \n",
    "        # J'ouvre ce fichier en mode 'ajout' (append)\n",
    "        with open(fichier, 'a', encoding='UTF-8') as f_reader:\n",
    "            f_reader.write(nom)\n",
    "            f_reader.write('\\n')\n",
    "    \n",
    "    return\n",
    "\n",
    "liste_individus = [\n",
    "    ['Michel', 'Vincennes'],\n",
    "    ['Luc', 'Bron'],\n",
    "    ['Mélanie', 'Vincennes'],\n",
    "    ['Joséphine', 'Annecy'],\n",
    "    ['Caroline', 'Annecy'],\n",
    "    ['Jean-Paul', 'Bron'],\n",
    "    ['Claire', 'Vincennes'],\n",
    "    ['Robert', 'Annecy'],\n",
    "    ['Sangoku', 'Bron'],\n",
    "    ['Lucie', 'Vincennes'],\n",
    "    ['Salomé', 'Bron'],\n",
    "    ['Gregory', 'Annecy'],\n",
    "]\n",
    "\n",
    "trier_individus(argument_liste = liste_individus)"
   ]
  },
  {
   "cell_type": "markdown",
   "id": "c817b0d0",
   "metadata": {},
   "source": [
    "#  04-pandas\n",
    "## DataFrames\n",
    "\n",
    "Reprendre le dictionnaire infos_personnelles du chapitre sur les variables, et le transformer en DataFrame pandas."
   ]
  },
  {
   "cell_type": "code",
   "execution_count": null,
   "id": "f3e4fa79",
   "metadata": {},
   "outputs": [],
   "source": []
  },
  {
   "cell_type": "markdown",
   "id": "f5c5ab3b",
   "metadata": {},
   "source": [
    "Ajouter une personne à ce tableau en utilisant la fonction concat(). Faire en sorte que les index soient uniques pour chaque ligne."
   ]
  },
  {
   "cell_type": "code",
   "execution_count": null,
   "id": "75334fd1",
   "metadata": {},
   "outputs": [],
   "source": []
  },
  {
   "cell_type": "markdown",
   "id": "b698dbd8",
   "metadata": {},
   "source": [
    "Ouvrir le dataset iris.csv dans un DataFrame. Tracer des boxplot pour une des variables à l'aide de la méthode de DataFrame `.boxplot()`. Utilisez l'aide pour trouver les arguments dont vous avez besoin pour choisir la variable à afficher et la variable catégorielle."
   ]
  },
  {
   "cell_type": "code",
   "execution_count": null,
   "id": "7335d58c",
   "metadata": {},
   "outputs": [],
   "source": []
  },
  {
   "cell_type": "markdown",
   "id": "ddf64f64",
   "metadata": {},
   "source": [
    "Calculer les moyennes de toutes les variables par espèce et tracer le résultat sur un graphique."
   ]
  },
  {
   "cell_type": "code",
   "execution_count": null,
   "id": "c21d7de5",
   "metadata": {},
   "outputs": [],
   "source": []
  },
  {
   "cell_type": "markdown",
   "id": "d29a61ff",
   "metadata": {},
   "source": [
    "Enregistrer le DataFrame des moyennes dans un fichier csv."
   ]
  },
  {
   "cell_type": "code",
   "execution_count": null,
   "id": "7e37a07e",
   "metadata": {},
   "outputs": [],
   "source": []
  },
  {
   "cell_type": "markdown",
   "id": "514c3488-65ef-4652-9100-361d1fb13cb3",
   "metadata": {},
   "source": [
    "# API\n",
    "\n",
    "Ecrire une fonction recuperer_chronique_hauteur qui prend en entrée un code station banquehydro et une quantité d'observations demandées, et renvoie un tableau geopandas correctement formaté avec le résultat. Le paramètre quantité d'informations devra avoir une valeur par défaut de 100."
   ]
  },
  {
   "cell_type": "code",
   "execution_count": null,
   "id": "c7ced85d-44a2-4719-ae54-a0972d3e0e1c",
   "metadata": {},
   "outputs": [],
   "source": []
  }
 ],
 "metadata": {
  "kernelspec": {
   "display_name": "Python 3 (ipykernel)",
   "language": "python",
   "name": "python3"
  },
  "language_info": {
   "codemirror_mode": {
    "name": "ipython",
    "version": 3
   },
   "file_extension": ".py",
   "mimetype": "text/x-python",
   "name": "python",
   "nbconvert_exporter": "python",
   "pygments_lexer": "ipython3",
   "version": "3.10.6"
  },
  "vscode": {
   "interpreter": {
    "hash": "916dbcbb3f70747c44a77c7bcd40155683ae19c65e1c03b4aa3499c5328201f1"
   }
  }
 },
 "nbformat": 4,
 "nbformat_minor": 5
}
