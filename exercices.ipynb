{
 "cells": [
  {
   "cell_type": "markdown",
   "id": "514c3488-65ef-4652-9100-361d1fb13cb3",
   "metadata": {},
   "source": [
    "# API\n",
    "\n",
    "Ecrire une fonction recuperer_chronique_hauteur qui prend en entrée un code station banquehydro et une quantité d'observations demandées, et renvoie un tableau geopandas correctement formaté avec le résultat. Le paramètre quantité d'informations devra avoir une valeur par défaut de 100."
   ]
  },
  {
   "cell_type": "code",
   "execution_count": null,
   "id": "c7ced85d-44a2-4719-ae54-a0972d3e0e1c",
   "metadata": {},
   "outputs": [],
   "source": [
    "https://transport.data.gouv.fr/gbfs/lyon/station_information.json\n",
    "\n",
    "https://transport.data.gouv.fr/gbfs/lyon/station_status.json"
   ]
  }
 ],
 "metadata": {
  "kernelspec": {
   "display_name": "Python 3 (ipykernel)",
   "language": "python",
   "name": "python3"
  },
  "language_info": {
   "codemirror_mode": {
    "name": "ipython",
    "version": 3
   },
   "file_extension": ".py",
   "mimetype": "text/x-python",
   "name": "python",
   "nbconvert_exporter": "python",
   "pygments_lexer": "ipython3",
   "version": "3.8.10 (default, Nov 14 2022, 12:59:47) \n[GCC 9.4.0]"
  },
  "vscode": {
   "interpreter": {
    "hash": "916dbcbb3f70747c44a77c7bcd40155683ae19c65e1c03b4aa3499c5328201f1"
   }
  }
 },
 "nbformat": 4,
 "nbformat_minor": 5
}
