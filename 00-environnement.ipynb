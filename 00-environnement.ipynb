{
 "cells": [
  {
   "attachments": {},
   "cell_type": "markdown",
   "metadata": {},
   "source": [
    "# Installation de l'environnement Python\n",
    "\n",
    "Lorsque vous traiterez vos données, vous aurez probablement besoin d'installer votre propre environnement Python sur votre machine. Cette partie du cours vous explique comment procéder avec plus de détails que dans le README."
   ]
  },
  {
   "cell_type": "markdown",
   "metadata": {
    "slideshow": {
     "slide_type": "slide"
    },
    "tags": []
   },
   "source": [
    "## Créer un environnement virtuel\n",
    "### Le problème\n",
    "\n",
    "> Les programmes Python utilisent souvent des packages. Ils nécessitent, parfois, une version spécifique d'une bibliothèque, par exemple parce qu'un certain bogue a été corrigé ou encore que le programme a été implémenté en utilisant une version obsolète de l'interface de cette bibliothèque.\n",
    "\n",
    "> Cela signifie qu'il n'est pas toujours possible, pour une installation unique de Python, de couvrir tous les besoins de toutes les applications. Basiquement, si une application A dépend de la version 1.0 d'un module et qu'une application B dépend de la version 2.0, ces dépendances entrent en conflit et installer la version 1.0 ou 2.0 laisse une des deux applications incapable de fonctionner."
   ]
  },
  {
   "cell_type": "markdown",
   "metadata": {
    "slideshow": {
     "slide_type": "slide"
    },
    "tags": []
   },
   "source": [
    "### La solution\n",
    "\n",
    "La solution est de créer un environnement virtuel, un dossier auto-suffisant qui contient une installation de Python pour une version particulière de Python ainsi que des paquets additionnels.\n",
    "\n",
    "> Différentes applications peuvent alors utiliser des environnements virtuels différents. Pour résoudre l'exemple précédent où il existe un conflit de dépendances, l'application A a son environnement virtuel avec la version 1.0 installée pendant que l'application B a un autre environnement virtuel avec la version 2.0. Si l'application B requiert que la bibliothèque soit mise à jour à la version 3.0, cela n'affecte pas l'environnement de A.\n",
    "\n",
    "La conservation d'un environnement de base le plus léger possible et l'utilisation d'environnements virtuels pour ses applications est une bonne pratique à adopter au plus tôt."
   ]
  },
  {
   "cell_type": "markdown",
   "metadata": {
    "slideshow": {
     "slide_type": "slide"
    },
    "tags": []
   },
   "source": [
    "### Créer un environnement virtuel avec virtualenv\n",
    "\n",
    "#### Windows\n",
    "\n",
    "Ouvrez un PowerShell dans le dossier contenant votre projet et tapez les commandes suivantes :\n",
    "\n",
    "```powershell\n",
    "C:/<chemin_installation_python>/python.exe -m venv env --prompt formation-python\n",
    "```\n",
    "\n",
    "#### Linux/Mac\n",
    "\n",
    "Ouvrez un terminal dans le dossier contenant votre projet et tapez les commandes suivantes :\n",
    "\n",
    "```bash\n",
    "python -m venv env --prompt formation-python\n",
    "```\n",
    "\n",
    "#### Explications\n",
    "\n",
    "La première partie appelle l'interpréteur Python (sous Windows, on lui précise bien le chemin de l'interpréteur qu'on souhaite utiliser). Le ```-m``` signifie qu'on va lancer un module. Ce module s'appelle ```venv```. Ensuite, on précise le nom du dossier dans lequel on va créer l'environnement. La convention est d'utiliser ```env```, venv``` ou ```.env``` par exemple. Et enfin le dernier argument ```--prompt formation-python``` permet de donner un nom explicite à notre environnement. Autrement l'environnement prendra le nom du dossier. \n",
    "\n",
    "\n",
    "### Activer l'environnement virtuel\n",
    "\n",
    "#### Windows\n",
    "\n",
    "```powershell\n",
    ".\\env\\Scripts\\activate\n",
    "```\n",
    "\n",
    "#### Linux/Mac\n",
    "\n",
    "```bash\n",
    "source ./env/bin/activate\n",
    "```"
   ]
  },
  {
   "cell_type": "markdown",
   "metadata": {
    "tags": []
   },
   "source": [
    "Je suis désormais dans mon environnement virtuel : cela signifie que si j'y installe un package, il ne sera pas accessible via l'environnement de base ou mes autres environnements virtuels. "
   ]
  },
  {
   "cell_type": "markdown",
   "metadata": {
    "slideshow": {
     "slide_type": "slide"
    },
    "tags": []
   },
   "source": [
    "### Supprimer un environnement virtuel\n",
    "\n",
    "Pour supprimer un environnement virtuel, il suffit de supprimer le dossier ```env``` via l'explorateur de fichiers. "
   ]
  },
  {
   "cell_type": "markdown",
   "metadata": {
    "slideshow": {
     "slide_type": "slide"
    },
    "tags": []
   },
   "source": [
    "## Installer un IDE\n",
    "### Qu'es-ce que c'est ?\n",
    "En programmation informatique, un environnement de développement est un **ensemble d'outils qui permet d'augmenter la productivité** des programmeurs qui développent des logiciels. Il comporte un **éditeur de texte destiné à la programmation**, des fonctions qui permettent, par pression sur un bouton, de démarrer le compilateur ou l'éditeur de liens ainsi qu'un débogueur en ligne, qui permet d'exécuter ligne par ligne le programme en cours de construction."
   ]
  },
  {
   "cell_type": "markdown",
   "metadata": {
    "slideshow": {
     "slide_type": "slide"
    },
    "tags": []
   },
   "source": [
    "### Installer et lancer le Jupyter Lab\n",
    "Jupyter Lab un IDE interactif. Son interface permet de rédiger et d'exécuter des cellules de code au sein de documents markdown. Il est très utilisé en data science, en informatique scientifique, en journalisme informatique et en apprentissage automatique. \n",
    "\n",
    "Retourner dans l'environnement virtuel et lancez la commande suivante :\n",
    "\n",
    "```bash\n",
    "pip install jupyterlab\n",
    "```\n",
    "\n",
    "Le Jupyter Lab est lancé et accessible depuis votre navigateur à l'adresse affichée dans le terminal."
   ]
  },
  {
   "cell_type": "markdown",
   "metadata": {
    "slideshow": {
     "slide_type": "slide"
    },
    "tags": []
   },
   "source": [
    "### Installer Visual Studio Code (facultatif)\n",
    "Visual Studio Code est un excellent IDE pour Python et beaucoup d'autres languages structurés. Nous ne l'utiliserons pas lors de cette formation mais vous pourriez être amenés à l'utiliser lorsque vous quitterez l'environnement Jupyter Lab. \n",
    "- Télécharger et installer la [dernière version disponible](https://code.visualstudio.com/) pour son architecture. Lancer VSCode, puis se rendre dans l'onglet \"Extensions\". \n",
    "- Installer les extensions Python (ms-python.python), Pylance (ms-python.vscode-pylance) et Path Intellisense (christian-kohler.path-intellisense).\n",
    "- Ouvrir le dossier de la formation"
   ]
  },
  {
   "attachments": {},
   "cell_type": "markdown",
   "metadata": {},
   "source": [
    "## Installer les packages utilisés dans ce cours\n",
    "\n",
    "On installe les packages via le module PyPi (pip). Veillez à bien être dans votre environnement virtuel au préalable.\n",
    "Pour pouvoir bénéficier des dernières fonctionnalités du gestionaire de paquets, il est recommandé de systématiquement le mettre à jour après la création de l'environnement virtuel.\n",
    "\n",
    "```bash\n",
    "python -m pip install -U pip\n",
    "```\n",
    "\n",
    "On installe ensuite les packages comme ceci : \n",
    "\n",
    "```bash\n",
    "python -m pip install numpy matplotlib pyarrow pandas geopandas rasterio contextily folium mapclassify jupyterlab\n",
    "```"
   ]
  },
  {
   "cell_type": "markdown",
   "metadata": {},
   "source": [
    "## Supprimer des packages\n",
    "\n",
    "Si on a besoin de supprimer un package de son environnement, on peux le faire comme ceci :\n",
    "\n",
    "```bash\n",
    "python -m pip uninstall contextily\n",
    "```"
   ]
  },
  {
   "cell_type": "markdown",
   "metadata": {},
   "source": [
    "## Examiner son environnement\n",
    "\n",
    "On peut examiner les packages installés dans l'environnement actuellement activé avec la commande suivante :\n",
    "\n",
    "```bash\n",
    "python -m pip freeze\n",
    "```"
   ]
  }
 ],
 "metadata": {
  "kernelspec": {
   "display_name": "Python 3 (ipykernel)",
   "language": "python",
   "name": "python3"
  },
  "language_info": {
   "codemirror_mode": {
    "name": "ipython",
    "version": 3
   },
   "file_extension": ".py",
   "mimetype": "text/x-python",
   "name": "python",
   "nbconvert_exporter": "python",
   "pygments_lexer": "ipython3",
   "version": "3.10.12"
  },
  "vscode": {
   "interpreter": {
    "hash": "916dbcbb3f70747c44a77c7bcd40155683ae19c65e1c03b4aa3499c5328201f1"
   }
  }
 },
 "nbformat": 4,
 "nbformat_minor": 4
}
