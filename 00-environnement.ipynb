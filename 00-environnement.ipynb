{
 "cells": [
  {
   "attachments": {},
   "cell_type": "markdown",
   "metadata": {},
   "source": [
    "# Installation de l'environnement Python\n",
    "\n",
    "Ce cours est prévu pour être exécuté en ligne sur un [Workspace DataCamp](https://app.datacamp.com/workspace/). Cependant, lorsque vous traiterez vos données réelles, vous aurez probablement besoin d'installer votre propre environnement Python sur votre machine. Cette partie du cours vous explique comment procéder."
   ]
  },
  {
   "cell_type": "markdown",
   "metadata": {
    "slideshow": {
     "slide_type": "slide"
    },
    "tags": []
   },
   "source": [
    "## Qu'est-ce que Miniconda ?\n",
    "Anaconda est une **distribution** libre et open source des langages de programmation Python et R appliqué au développement d'applications dédiées à la science des données et à l'apprentissage automatique (traitement de données à grande échelle, analyse prédictive, calcul scientifique), qui vise à simplifier la **gestion des paquets** et de déploiement. Les versions de paquetages sont gérées par le **système de gestion de paquets conda**. \n",
    "\n",
    "Miniconda est la **version minimaliste d'Anaconda** qui inclut uniquement Conda, Python, les paquets dont ils dépendent, et un petit nombre d'autres paquets systèmes utiles. "
   ]
  },
  {
   "cell_type": "markdown",
   "metadata": {
    "slideshow": {
     "slide_type": "slide"
    },
    "tags": []
   },
   "source": [
    "## Installer son environnement de base\n",
    "Télécharger et installer la [dernière version de Miniconda disponible](https://docs.conda.io/en/latest/miniconda.html#latest-miniconda-installer-links) pour son architecture. Les options par défaut sont, en général, les bonnes.\n",
    "Lancer ensuite l'application **Anaconda Prompt**.\n",
    "\n",
    "```bash\n",
    "conda info\n",
    "conda list\n",
    "```"
   ]
  },
  {
   "cell_type": "markdown",
   "metadata": {
    "slideshow": {
     "slide_type": "slide"
    },
    "tags": []
   },
   "source": [
    "## Créer un environnement virtuel\n",
    "### Le problème\n",
    "\n",
    "> Les programmes Python utilisent souvent des packages. Ils nécessitent, parfois, une version spécifique d'une bibliothèque, par exemple parce qu'un certain bogue a été corrigé ou encore que le programme a été implémenté en utilisant une version obsolète de l'interface de cette bibliothèque.\n",
    "\n",
    "> Cela signifie qu'il n'est pas toujours possible, pour une installation unique de Python, de couvrir tous les besoins de toutes les applications. Basiquement, si une application A dépend de la version 1.0 d'un module et qu'une application B dépend de la version 2.0, ces dépendances entrent en conflit et installer la version 1.0 ou 2.0 laisse une des deux applications incapable de fonctionner."
   ]
  },
  {
   "cell_type": "markdown",
   "metadata": {
    "slideshow": {
     "slide_type": "slide"
    },
    "tags": []
   },
   "source": [
    "### La solution\n",
    "\n",
    "La solution est de créer un environnement virtuel, un dossier auto-suffisant qui contient une installation de Python pour une version particulière de Python ainsi que des paquets additionnels.\n",
    "\n",
    "> Différentes applications peuvent alors utiliser des environnements virtuels différents. Pour résoudre l'exemple précédent où il existe un conflit de dépendances, l'application A a son environnement virtuel avec la version 1.0 installée pendant que l'application B a un autre environnement virtuel avec la version 2.0. Si l'application B requiert que la bibliothèque soit mise à jour à la version 3.0, cela n'affecte pas l'environnement de A.\n",
    "\n",
    "La conservation d'un environnement de base le plus léger possible et l'utilisation d'environnements virtuels pour ses applications est une bonne pratique à adopter au plus tôt."
   ]
  },
  {
   "cell_type": "markdown",
   "metadata": {
    "slideshow": {
     "slide_type": "slide"
    },
    "tags": []
   },
   "source": [
    "### Créer un environnement virtuel avec conda\n",
    "\n",
    "```bash\n",
    "conda create -n formation-python\n",
    "conda activate formation-python\n",
    "\n",
    "conda install python\n",
    "\n",
    "conda info\n",
    "conda list\n",
    "\n",
    "python\n",
    "```\n",
    "\n",
    "La console python s'ouvre. Elle permet de lancer une commande directement. Par exemple : "
   ]
  },
  {
   "cell_type": "code",
   "execution_count": null,
   "metadata": {
    "tags": []
   },
   "outputs": [
    {
     "name": "stdout",
     "output_type": "stream",
     "text": [
      "hello geographers!\n"
     ]
    }
   ],
   "source": [
    "print(\"hello geographers!\")\n",
    "exit()"
   ]
  },
  {
   "cell_type": "markdown",
   "metadata": {
    "tags": []
   },
   "source": [
    "Je suis dans mon environnement virtuel : cela signifie que si j'y installe un package, il ne sera pas accessible via l'environnement de base ou mes autres environnements virtuels. "
   ]
  },
  {
   "cell_type": "markdown",
   "metadata": {
    "slideshow": {
     "slide_type": "slide"
    },
    "tags": []
   },
   "source": [
    "### Supprimer un environnement virtuel avec conda\n",
    "\n",
    "```bash\n",
    "# Retourner dans l'environnement de base lorsque l'on est dans un environnement virtuel\n",
    "conda deactivate\n",
    "\n",
    "# Supprimer un environnement virtuel\n",
    "conda env remove -n formation-python\n",
    "```"
   ]
  },
  {
   "cell_type": "markdown",
   "metadata": {
    "slideshow": {
     "slide_type": "slide"
    },
    "tags": []
   },
   "source": [
    "## Installer un IDE\n",
    "### Qu'es-ce que c'est ?\n",
    "En programmation informatique, un environnement de développement est un **ensemble d'outils qui permet d'augmenter la productivité** des programmeurs qui développent des logiciels. Il comporte un **éditeur de texte destiné à la programmation**, des fonctions qui permettent, par pression sur un bouton, de démarrer le compilateur ou l'éditeur de liens ainsi qu'un débogueur en ligne, qui permet d'exécuter ligne par ligne le programme en cours de construction."
   ]
  },
  {
   "cell_type": "markdown",
   "metadata": {
    "slideshow": {
     "slide_type": "slide"
    },
    "tags": []
   },
   "source": [
    "### Installer et lancer le Jupyter Lab\n",
    "Jupyter Lab un IDE interactif. Son interface permet de rédiger et d'exécuter des cellules de code au sein de documents markdown. Il est très utilisé en data science, en informatique scientifique, en journalisme informatique et en apprentissage automatique. \n",
    "\n",
    "Retourner dans l'Anaconda Prompt.\n",
    "\n",
    "```bash\n",
    "conda install -c conda-forge jupyterlab\n",
    "conda list\n",
    "\n",
    "jupyter-lab\n",
    "```\n",
    "\n",
    "Le Jupyter Lab est lancé et accessible depuis votre navigateur à l'adresse http://localhost:8888/\n",
    "Pour le stopper, retourner dans l'Anaconda Prompt et faire ```Ctrl + C```."
   ]
  },
  {
   "cell_type": "markdown",
   "metadata": {
    "slideshow": {
     "slide_type": "slide"
    },
    "tags": []
   },
   "source": [
    "Si vous souhaitez pouvoir utiliser la commande conda dans n'importe quel terminal (pas uniquement l'Anaconda Prompt), lancez la commande suivante : \n",
    "\n",
    "```bash\n",
    "conda init\n",
    "```\n",
    "\n",
    "Pour annuler cette configuration :\n",
    "\n",
    "```bash\n",
    "conda init --reverse\n",
    "```"
   ]
  },
  {
   "cell_type": "markdown",
   "metadata": {
    "slideshow": {
     "slide_type": "slide"
    },
    "tags": []
   },
   "source": [
    "### Installer Visual Studio Code (facultatif)\n",
    "Visual Studio Code est un excellent IDE pour Python et beaucoup d'autres languages structurés. Nous ne l'utiliserons pas lors de cette formation mais vous pourriez être amenés à l'utiliser lorsque vous quitterez l'environnement Jupyter Lab. \n",
    "- Télécharger et installer la [dernière version disponible](https://code.visualstudio.com/) pour son architecture. Lancer VSCode, puis se rendre dans l'onglet \"Extensions\". \n",
    "- Installer les extensions Python (ms-python.python), Pylance (ms-python.vscode-pylance) et Path Intellisense (christian-kohler.path-intellisense).\n",
    "- Ouvrir le dossier de la formation"
   ]
  },
  {
   "attachments": {},
   "cell_type": "markdown",
   "metadata": {},
   "source": [
    "## Installer les packages utilisés dans ce cours\n",
    "\n",
    "Dans une distribution Anaconda, on installe les packages via l'Anaconda prompt. Veillez à bien être dans votre environnement virtuel au préalable.\n",
    "\n",
    "```bash\n",
    "conda install -c conda-forge pandas geopandas contextily matplotlib rasterio\n",
    "```"
   ]
  }
 ],
 "metadata": {
  "kernelspec": {
   "display_name": "Python 3",
   "language": "python",
   "name": "python3"
  },
  "language_info": {
   "name": "python",
   "version": "3.8.10 (default, Nov 14 2022, 12:59:47) \n[GCC 9.4.0]"
  },
  "orig_nbformat": 4,
  "vscode": {
   "interpreter": {
    "hash": "916dbcbb3f70747c44a77c7bcd40155683ae19c65e1c03b4aa3499c5328201f1"
   }
  }
 },
 "nbformat": 4,
 "nbformat_minor": 2
}
