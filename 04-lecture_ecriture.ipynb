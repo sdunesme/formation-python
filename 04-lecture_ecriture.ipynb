{
 "cells": [
  {
   "cell_type": "markdown",
   "id": "ffe975b5-931a-4246-aa21-1a9f7e586439",
   "metadata": {
    "slideshow": {
     "slide_type": "slide"
    },
    "tags": []
   },
   "source": [
    "## Lire et écrire dans un fichier\n",
    "\n",
    "La fonction `open()` permet de créer un reader de fichier."
   ]
  },
  {
   "cell_type": "code",
   "execution_count": null,
   "id": "a82c45f8-efbb-40d4-95bb-cd632857f93e",
   "metadata": {},
   "outputs": [],
   "source": [
    "?open"
   ]
  },
  {
   "cell_type": "code",
   "execution_count": null,
   "id": "8cd57fa0-9c02-430e-9d53-5f263e0282da",
   "metadata": {
    "slideshow": {
     "slide_type": "slide"
    },
    "tags": []
   },
   "outputs": [],
   "source": [
    "f = open('datasets/ipsum.txt')\n",
    "print(f)"
   ]
  },
  {
   "attachments": {},
   "cell_type": "markdown",
   "id": "43f4898a-16db-4821-a557-532fbaa3598c",
   "metadata": {
    "slideshow": {
     "slide_type": "fragment"
    },
    "tags": []
   },
   "source": [
    "Ce reader fonctionne comme un curseur. Pour lire les lignes du fichier et les renvoyer dans une liste, il faut utiliser une méthode du reader, comme la méthode `readlines()` par exemple."
   ]
  },
  {
   "cell_type": "code",
   "execution_count": null,
   "id": "3323a115-c938-4db3-9f5b-3d278baa08b9",
   "metadata": {
    "tags": []
   },
   "outputs": [],
   "source": [
    "ipsum = f.readlines()\n",
    "print(ipsum)"
   ]
  },
  {
   "cell_type": "markdown",
   "id": "e255be60-2895-4aac-9642-585e56de71c1",
   "metadata": {
    "slideshow": {
     "slide_type": "slide"
    },
    "tags": []
   },
   "source": [
    "Le reader créé par la fonction `open()` fonctionne comme un curseur : une fois arrivé au bour du fichier, il faut le remettre au début si on veux re-lire le fichier."
   ]
  },
  {
   "cell_type": "code",
   "execution_count": null,
   "id": "703bfc71-5e25-414e-8441-f9fcc5730ed2",
   "metadata": {},
   "outputs": [],
   "source": [
    "# Le curseur est déjà à la fin du fichier\n",
    "ipsum = f.readlines()\n",
    "print(ipsum)"
   ]
  },
  {
   "cell_type": "code",
   "execution_count": null,
   "id": "c8733025-b1ed-4b48-9c35-6f42611109cc",
   "metadata": {
    "slideshow": {
     "slide_type": "fragment"
    },
    "tags": []
   },
   "outputs": [],
   "source": [
    "# Ici on remet le curseur au début du fichier\n",
    "f.seek(0)\n",
    "\n",
    "# Puis on relance la lecture\n",
    "ipsum = f.readlines()\n",
    "print(ipsum)"
   ]
  },
  {
   "attachments": {},
   "cell_type": "markdown",
   "id": "21d343f1-3da6-4436-a4d9-3796723f1e0d",
   "metadata": {
    "slideshow": {
     "slide_type": "slide"
    },
    "tags": []
   },
   "source": [
    "On peux aussi vouloir lire tout le contenu du fichier directement dans une chaine de caractères (pas une liste). On utilise pour cela une autre méthode du reader : `read()`."
   ]
  },
  {
   "cell_type": "code",
   "execution_count": null,
   "id": "d5014e39-3692-4dc8-a169-430f5ed00866",
   "metadata": {},
   "outputs": [],
   "source": [
    "f.seek(0)\n",
    "ipsum = f.read()\n",
    "print(ipsum)"
   ]
  },
  {
   "attachments": {},
   "cell_type": "markdown",
   "id": "52643240-5e8d-4344-aaaa-d9f9eb71c0cf",
   "metadata": {
    "slideshow": {
     "slide_type": "slide"
    },
    "tags": []
   },
   "source": [
    "On pense toujours à fermer le reader dès qu'on en a plus besoin pour libérer le fichier (d'autres programmes pourraient en avoir besoin)."
   ]
  },
  {
   "cell_type": "code",
   "execution_count": null,
   "id": "ffc31217-c3ad-4877-ab71-072eed5bbe98",
   "metadata": {
    "tags": []
   },
   "outputs": [],
   "source": [
    "f.close()"
   ]
  },
  {
   "cell_type": "markdown",
   "id": "6eb558cd-f716-4374-923b-495e195a5c8e",
   "metadata": {
    "slideshow": {
     "slide_type": "fragment"
    },
    "tags": []
   },
   "source": [
    "Une bonne pratique est d'utiliser un contexte. Cela évite d'oublier de fermer le fichier ou de réinitialiser l'itérateur"
   ]
  },
  {
   "cell_type": "code",
   "execution_count": null,
   "id": "cfffcbcc-b12a-4c32-9e55-4e97225c6bcc",
   "metadata": {
    "tags": []
   },
   "outputs": [],
   "source": [
    "# Ici on ouvre le fichier en mode lecture seule ('r' pour read)\n",
    "with open('datasets/ipsum.txt', 'r') as f:\n",
    "    print(f.read())"
   ]
  },
  {
   "attachments": {},
   "cell_type": "markdown",
   "metadata": {},
   "source": [
    "Le code ci-dessus est équivalent à celui ci-dessous. Il permet juste de s'affranchir d'une ligne de code, et est considéré comme plus sécurisé car il garantit qu'on oublie pas de fermer le reader.\n",
    "\n",
    "```python\n",
    "f = open('datasets/ipsum.txt', 'r')\n",
    "print(f.read())\n",
    "f.close()\n",
    "```"
   ]
  },
  {
   "cell_type": "code",
   "execution_count": null,
   "id": "5138eb02-b696-43d4-80c9-be8d8e22151c",
   "metadata": {
    "slideshow": {
     "slide_type": "fragment"
    },
    "tags": []
   },
   "outputs": [],
   "source": [
    "# Là on ouvre un autre fichier en mode écriture ('w' pour write)\n",
    "with open('datasets/output/monfichier.txt', 'w') as f:\n",
    "    texte = 'mon texte a mettre dans le fichier'\n",
    "    f.write(texte)"
   ]
  },
  {
   "cell_type": "code",
   "execution_count": null,
   "id": "9817ae15-93ad-4f49-ad39-b955a31de884",
   "metadata": {
    "slideshow": {
     "slide_type": "slide"
    },
    "tags": []
   },
   "outputs": [],
   "source": [
    "# Et enfin, ici on l'ouvre en mode ajout ('a' pour append)\n",
    "with open('datasets/output/monfichier.txt', 'a') as f:\n",
    "    \n",
    "    # On réalise une boucle\n",
    "    i = 0\n",
    "    while i < 10:\n",
    "        # On incrémente la variable\n",
    "        i += 1\n",
    "        \n",
    "        # On écrit d'abord un retour à la ligne\n",
    "        f.write('\\n')\n",
    "        \n",
    "        # Puis on écrit une ligne\n",
    "        texte = f'ma nouvelle ligne {i}'\n",
    "        f.write(texte)"
   ]
  },
  {
   "attachments": {},
   "cell_type": "markdown",
   "metadata": {},
   "source": [
    "> ✍️ Ecrire une boucle permettant de stocker les prénoms de tous les individus ci-dessous dans des fichiers séparés par commune de résidence. Le nom du fichier texte devra être le nom de la commune. \n",
    "> \n",
    "> Il faudra faire une boucle `for` dans pour itérer sur tous les objets du dictionnaire et les ranger un à un dans le bon fichier. Pour nommer correctement le fichier, vous pouvez utiliser une string substitution."
   ]
  },
  {
   "cell_type": "code",
   "execution_count": null,
   "metadata": {},
   "outputs": [],
   "source": [
    "residences = {\n",
    "    'Michel': 'Vincennes',\n",
    "    'Luc': 'Bron',\n",
    "    'Mélanie': 'Vincennes',\n",
    "    'Joséphine': 'Annecy',\n",
    "    'Caroline': 'Annecy',\n",
    "    'Jean-Paul': 'Bron',\n",
    "    'Claire': 'Vincennes',\n",
    "    'Robert': 'Annecy',\n",
    "    'Sangoku': 'Bron',\n",
    "    'Lucie': 'Vincennes',\n",
    "    'Salomé': 'Bron',\n",
    "    'Gregory': 'Annecy',\n",
    "}\n",
    "\n"
   ]
  }
 ],
 "metadata": {
  "kernelspec": {
   "display_name": "Python 3",
   "language": "python",
   "name": "python3"
  },
  "language_info": {
   "name": "python",
   "version": "3.8.10 (default, Nov 14 2022, 12:59:47) \n[GCC 9.4.0]"
  },
  "orig_nbformat": 4,
  "vscode": {
   "interpreter": {
    "hash": "916dbcbb3f70747c44a77c7bcd40155683ae19c65e1c03b4aa3499c5328201f1"
   }
  }
 },
 "nbformat": 4,
 "nbformat_minor": 2
}
