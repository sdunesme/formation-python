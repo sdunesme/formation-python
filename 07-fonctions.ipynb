{
 "cells": [
  {
   "attachments": {},
   "cell_type": "markdown",
   "metadata": {
    "slideshow": {
     "slide_type": "slide"
    },
    "tags": []
   },
   "source": [
    "# Les fonctions\n",
    "\n",
    "Ce cours est téléchargeable à l'adresse https://github.com/sdunesme/formation-python"
   ]
  },
  {
   "attachments": {},
   "cell_type": "markdown",
   "metadata": {},
   "source": [
    "Lorsque l'on réalise un programme complexe en Python, on organise son code dans des fonctions.\n",
    "\n",
    "Une fonction est un morceau de code amené à être répété de nombreuses fois. Les développeurs étant des gens fainéants, ils écrivent des fonctions pour éviter d'avoir à recopier tout le temps la même chose !\n",
    "\n",
    "Une fonction est définie à minima par son nom et les arguments dont elle a besoin pour fonctionner. Elle peut retourner un objet."
   ]
  },
  {
   "cell_type": "code",
   "execution_count": null,
   "metadata": {},
   "outputs": [],
   "source": [
    "def decrire_individu(prenom, nom, age):\n",
    "    message = f'L\\'individu {prenom} {nom} a {age} ans'\n",
    "    \n",
    "    return message\n",
    "\n",
    "print( decrire_individu(prenom='Georges', nom='Abitbol', age=71) )"
   ]
  },
  {
   "cell_type": "markdown",
   "metadata": {},
   "source": [
    "Lorsque l'on fait appel à une fonction, on peux soit nommer ses arguments, soit les renseigner dans le bon ordre."
   ]
  },
  {
   "cell_type": "code",
   "execution_count": null,
   "metadata": {},
   "outputs": [],
   "source": [
    "print( decrire_individu('Georges', 'Abitbol', 71) )\n",
    "\n",
    "print( decrire_individu(nom='Abitbol', age=71, prenom='Georges') )\n",
    "\n",
    "args = {\n",
    "    'nom': 'Test',\n",
    "    'prenom': 'Test2',\n",
    "    'age': 158\n",
    "}\n",
    "decrire_individu(**args)"
   ]
  },
  {
   "cell_type": "markdown",
   "metadata": {
    "slideshow": {
     "slide_type": "slide"
    },
    "tags": []
   },
   "source": [
    "Une variable déclarée dans une fonction ne peux pas être utilisée en dehors de celle-ci (sauf dans certains cas d'usage avancé). C'est la notion de portée d'une variable."
   ]
  },
  {
   "cell_type": "code",
   "execution_count": null,
   "metadata": {},
   "outputs": [],
   "source": [
    "print(message)"
   ]
  },
  {
   "cell_type": "markdown",
   "metadata": {
    "slideshow": {
     "slide_type": "slide"
    },
    "tags": []
   },
   "source": [
    "Il est possible que des valeurs par défaut soient déclarés au moment de la définition de la fonction. Ces arguments deviennent alors optionnels lorsque l'on fera appel à cette fonction."
   ]
  },
  {
   "cell_type": "code",
   "execution_count": null,
   "metadata": {},
   "outputs": [],
   "source": [
    "def decrire_individu(prenom, nom, age = 30):\n",
    "    message = f'L\\'individu {prenom} {nom} a {age} ans'\n",
    "    \n",
    "    return message\n",
    "\n",
    "print(decrire_individu(prenom='Georges', nom='Abitbol', age=71))\n",
    "print(decrire_individu(prenom='Georges', nom='Abitbol'))"
   ]
  },
  {
   "cell_type": "markdown",
   "metadata": {
    "slideshow": {
     "slide_type": "slide"
    },
    "tags": []
   },
   "source": [
    "Quand on est amené à partager ses fonctions, il est important de penser à rédiger une page d'aide. Voici un exemple."
   ]
  },
  {
   "cell_type": "code",
   "execution_count": null,
   "metadata": {},
   "outputs": [],
   "source": [
    "def decrire_individu(prenom, nom, age=30):\n",
    "    '''\n",
    "    Retourne un message d'informations sur un individu.\n",
    "\n",
    "    Parameters:\n",
    "        prenom (str): Prénom de l'individu.\n",
    "        nom (str): Nom de l'individu.\n",
    "        age (int): Age de l'individu.\n",
    "\n",
    "    Returns:\n",
    "        message (str): Message mis en forme avec les informaions sur l'individu\n",
    "    '''    \n",
    "    \n",
    "    message = f'L\\'individu {prenom} {nom} a {age} ans'\n",
    "    \n",
    "    return message\n",
    "\n",
    "?decrire_individu"
   ]
  },
  {
   "attachments": {},
   "cell_type": "markdown",
   "metadata": {},
   "source": [
    "> ✍️ Réécrire la fonction `decrire_individu()` et y ajouter une structure conditionnelle pour indiquer dans le message de retour si l'individu est jeune ou vieux (à vous de définir l'age limite entre les deux). "
   ]
  },
  {
   "cell_type": "code",
   "execution_count": null,
   "metadata": {},
   "outputs": [],
   "source": []
  }
 ],
 "metadata": {
  "kernelspec": {
   "display_name": "Python 3 (ipykernel)",
   "language": "python",
   "name": "python3"
  },
  "language_info": {
   "codemirror_mode": {
    "name": "ipython",
    "version": 3
   },
   "file_extension": ".py",
   "mimetype": "text/x-python",
   "name": "python",
   "nbconvert_exporter": "python",
   "pygments_lexer": "ipython3",
   "version": "3.10.12"
  },
  "vscode": {
   "interpreter": {
    "hash": "916dbcbb3f70747c44a77c7bcd40155683ae19c65e1c03b4aa3499c5328201f1"
   }
  }
 },
 "nbformat": 4,
 "nbformat_minor": 4
}
