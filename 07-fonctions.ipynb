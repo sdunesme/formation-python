{
 "cells": [
  {
   "cell_type": "markdown",
   "id": "80927cc8-a9e5-4ba5-a3be-42c0e4566782",
   "metadata": {
    "slideshow": {
     "slide_type": "slide"
    },
    "tags": []
   },
   "source": [
    "## Premières fonctions\n",
    "\n",
    "Une fonction est un morceau de code amené à être répété de nombreuses fois. Les développeurs étant des gens fainéants, ils écrivent des fonctions pour éviter d'avoir à recopier tout le temps la même chose !\n",
    "\n",
    "Une fonction est définie à minima par son nom et les arguments dont elle a besoin pour fonctionner. Elle peut retourner un objet."
   ]
  },
  {
   "cell_type": "code",
   "execution_count": null,
   "id": "61bc72eb-1f07-4cc8-a64e-b62ca3c31994",
   "metadata": {},
   "outputs": [
    {
     "name": "stdout",
     "output_type": "stream",
     "text": [
      "L'individu Georges Abitbol a 71 ans\n"
     ]
    }
   ],
   "source": [
    "def decrire_individu(prenom, nom, age):\n",
    "    message = f'L\\'individu {prenom} {nom} a {age} ans'\n",
    "    \n",
    "    return message\n",
    "\n",
    "print( decrire_individu(prenom='Georges', nom='Abitbol', age=71) )"
   ]
  },
  {
   "cell_type": "markdown",
   "id": "c0aa2841-92c8-4fa2-af02-c46242a2f9e5",
   "metadata": {},
   "source": [
    "Lorsque l'on fait appel à une fonction, on peux soit nommer ses arguments, soit les renseigner dans le bon ordre."
   ]
  },
  {
   "cell_type": "code",
   "execution_count": null,
   "id": "26d6f2e4-b317-4717-b729-d00c4a43fa80",
   "metadata": {},
   "outputs": [
    {
     "name": "stdout",
     "output_type": "stream",
     "text": [
      "L'individu Georges Abitbol a 71 ans\n",
      "L'individu Georges Abitbol a 71 ans\n"
     ]
    },
    {
     "data": {
      "text/plain": [
       "\"L'individu Test2 Test a 158 ans\""
      ]
     },
     "metadata": {},
     "output_type": "display_data"
    }
   ],
   "source": [
    "print( decrire_individu('Georges', 'Abitbol', 71) )\n",
    "\n",
    "print( decrire_individu(nom='Abitbol', age=71, prenom='Georges') )\n",
    "\n",
    "args = {\n",
    "    'nom': 'Test',\n",
    "    'prenom': 'Test2',\n",
    "    'age': 158\n",
    "}\n",
    "decrire_individu(**args)"
   ]
  },
  {
   "cell_type": "markdown",
   "id": "a5ed29fd-11f7-4688-9917-ebd52565153e",
   "metadata": {
    "slideshow": {
     "slide_type": "slide"
    },
    "tags": []
   },
   "source": [
    "Une variable déclarée dans une fonction ne peux pas être utilisée en dehors de celle-ci (sauf dans certains cas d'usage avancé). C'est la notion de portée d'une variable."
   ]
  },
  {
   "cell_type": "code",
   "execution_count": null,
   "id": "37be4990-5b53-4b5d-bb7f-cded82b2e4fe",
   "metadata": {},
   "outputs": [
    {
     "ename": "NameError",
     "evalue": "name 'message' is not defined",
     "output_type": "error",
     "traceback": [
      "\u001b[0;31m---------------------------------------------------------------------------\u001b[0m\n",
      "\u001b[0;31mNameError\u001b[0m                                 Traceback (most recent call last)\n",
      "Cell \u001b[0;32mIn [21], line 1\u001b[0m\n",
      "\u001b[0;32m----> 1\u001b[0m \u001b[38;5;28mprint\u001b[39m(\u001b[43mmessage\u001b[49m)\n",
      "\n",
      "\u001b[0;31mNameError\u001b[0m: name 'message' is not defined"
     ]
    }
   ],
   "source": [
    "print(message)"
   ]
  },
  {
   "cell_type": "markdown",
   "id": "faf5f785-7587-4cde-8317-db7119e3e7da",
   "metadata": {
    "slideshow": {
     "slide_type": "slide"
    },
    "tags": []
   },
   "source": [
    "Il est possible que des valeurs par défaut soient déclarés au moment de la définition de la fonction. Ces arguments deviennent alors optionnels lorsque l'on fera appel à cette fonction."
   ]
  },
  {
   "cell_type": "code",
   "execution_count": null,
   "id": "42886b7c-f388-49b6-b725-a509818d0976",
   "metadata": {},
   "outputs": [
    {
     "name": "stdout",
     "output_type": "stream",
     "text": [
      "L'individu Georges Abitbol a 71 ans\n",
      "L'individu Georges Abitbol a 30 ans\n"
     ]
    }
   ],
   "source": [
    "def decrire_individu(prenom, nom, age = 30):\n",
    "    message = f'L\\'individu {prenom} {nom} a {age} ans'\n",
    "    \n",
    "    return message\n",
    "\n",
    "print(decrire_individu(prenom='Georges', nom='Abitbol', age=71))\n",
    "print(decrire_individu(prenom='Georges', nom='Abitbol'))"
   ]
  },
  {
   "cell_type": "markdown",
   "id": "9d6f6727-c94b-4722-ba7f-9fbf420a24c8",
   "metadata": {
    "slideshow": {
     "slide_type": "slide"
    },
    "tags": []
   },
   "source": [
    "Quand on est amené à partager ses fonctions, il est important de penser à rédiger une page d'aide. Voici un exemple."
   ]
  },
  {
   "cell_type": "code",
   "execution_count": null,
   "id": "bfa2e4e1-bc6b-41b7-b674-b03ae190cd48",
   "metadata": {},
   "outputs": [
    {
     "data": {
      "text/plain": [
       "\u001b[0;31mSignature:\u001b[0m \u001b[0mdecrire_individu\u001b[0m\u001b[0;34m(\u001b[0m\u001b[0mprenom\u001b[0m\u001b[0;34m,\u001b[0m \u001b[0mnom\u001b[0m\u001b[0;34m,\u001b[0m \u001b[0mage\u001b[0m\u001b[0;34m=\u001b[0m\u001b[0;36m30\u001b[0m\u001b[0;34m)\u001b[0m\u001b[0;34m\u001b[0m\u001b[0;34m\u001b[0m\u001b[0m\n",
       "\u001b[0;31mDocstring:\u001b[0m\n",
       "Retourne un message d'informations sur un individu.\n",
       "\n",
       "Parameters:\n",
       "    prenom (str): Prénom de l'individu.\n",
       "    nom (str): Nom de l'individu.\n",
       "    age (int): Age de l'individu.\n",
       "\n",
       "Returns:\n",
       "    message (str): Message mis en forme avec les informaions sur l'individu\n",
       "\u001b[0;31mFile:\u001b[0m      /tmp/ipykernel_17237/2752702604.py\n",
       "\u001b[0;31mType:\u001b[0m      function\n"
      ]
     },
     "metadata": {},
     "output_type": "display_data"
    }
   ],
   "source": [
    "def decrire_individu(prenom, nom, age=30):\n",
    "    '''\n",
    "    Retourne un message d'informations sur un individu.\n",
    "\n",
    "    Parameters:\n",
    "        prenom (str): Prénom de l'individu.\n",
    "        nom (str): Nom de l'individu.\n",
    "        age (int): Age de l'individu.\n",
    "\n",
    "    Returns:\n",
    "        message (str): Message mis en forme avec les informaions sur l'individu\n",
    "    '''    \n",
    "    \n",
    "    message = f'L\\'individu {prenom} {nom} a {age} ans'\n",
    "    \n",
    "    return message\n",
    "\n",
    "?decrire_individu"
   ]
  },
  {
   "attachments": {},
   "cell_type": "markdown",
   "id": "c09fedf7-8b38-408c-a358-9ebe2583f8ff",
   "metadata": {},
   "source": [
    "> ✍️ Réécrire la fonction `decrire_individu()` et y ajouter une structure conditionnelle pour indiquer dans le message de retour si l'individu est jeune ou vieux (à vous de définir l'age limite entre les deux). "
   ]
  },
  {
   "cell_type": "code",
   "execution_count": null,
   "metadata": {},
   "outputs": [],
   "source": []
  }
 ],
 "metadata": {
  "kernelspec": {
   "display_name": "Python 3",
   "language": "python",
   "name": "python3"
  },
  "language_info": {
   "name": "python",
   "version": "3.8.10 (default, Nov 14 2022, 12:59:47) \n[GCC 9.4.0]"
  },
  "orig_nbformat": 4,
  "vscode": {
   "interpreter": {
    "hash": "916dbcbb3f70747c44a77c7bcd40155683ae19c65e1c03b4aa3499c5328201f1"
   }
  }
 },
 "nbformat": 4,
 "nbformat_minor": 2
}
