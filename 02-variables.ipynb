{
 "cells": [
  {
   "cell_type": "markdown",
   "id": "4d41f04b-cd62-447f-a89e-5f03ba6775f6",
   "metadata": {
    "slideshow": {
     "slide_type": "slide"
    },
    "tags": []
   },
   "source": [
    "# Les variables\n",
    "\n",
    "Ce cours est téléchargeable à l'adresse https://github.com/sdunesme/formation-python"
   ]
  },
  {
   "cell_type": "markdown",
   "id": "0acad9fb-419f-4dbb-a5c0-69417398fda5",
   "metadata": {
    "slideshow": {
     "slide_type": "slide"
    },
    "tags": []
   },
   "source": [
    "Une variable est une zone de mémoire dans laquelle une valeur est stockée. En Python, on défini et fait appel à une variable par un nom qui est traduit par l'interpréteur en adresse dans la mémoire vive. "
   ]
  },
  {
   "cell_type": "code",
   "execution_count": 5,
   "id": "9eda7b90-b9f5-4381-ada9-11ab0b1f829b",
   "metadata": {
    "slideshow": {
     "slide_type": "fragment"
    },
    "tags": []
   },
   "outputs": [],
   "source": [
    "message = \"hello geographers!\""
   ]
  },
  {
   "cell_type": "markdown",
   "id": "1bcbb805-d9ff-4093-a3f3-6d1cd87fd094",
   "metadata": {
    "tags": []
   },
   "source": [
    "Ici, rien ne s'affiche et c'est normal ! Vous avez simplement stocké la chaine de caractères \"hello geographers!\" dans la variable **message**."
   ]
  },
  {
   "cell_type": "code",
   "execution_count": 6,
   "id": "c68d449b-4416-4c31-8304-579ff5281227",
   "metadata": {
    "slideshow": {
     "slide_type": "fragment"
    },
    "tags": []
   },
   "outputs": [
    {
     "name": "stdout",
     "output_type": "stream",
     "text": [
      "hello geographers!\n"
     ]
    }
   ],
   "source": [
    "print(message) # On utilise la fonction \"print\" pour afficher le contenu de la variable message"
   ]
  },
  {
   "cell_type": "markdown",
   "id": "264474a7-10d3-403a-8329-a4324aa34e54",
   "metadata": {
    "slideshow": {
     "slide_type": "slide"
    },
    "tags": []
   },
   "source": [
    "Si je fais référence à une variable qui n'a pas été définie au préalable, Python me renvoie une erreur de type \"NameError\"."
   ]
  },
  {
   "cell_type": "code",
   "execution_count": 7,
   "id": "769e3128-ab52-40e1-823b-4beeb9d14c6d",
   "metadata": {
    "slideshow": {
     "slide_type": "fragment"
    },
    "tags": []
   },
   "outputs": [
    {
     "ename": "NameError",
     "evalue": "name 'message2' is not defined",
     "output_type": "error",
     "traceback": [
      "\u001b[0;31m---------------------------------------------------------------------------\u001b[0m",
      "\u001b[0;31mNameError\u001b[0m                                 Traceback (most recent call last)",
      "\u001b[0;32m/tmp/ipykernel_1519/2384203134.py\u001b[0m in \u001b[0;36m<module>\u001b[0;34m\u001b[0m\n\u001b[0;32m----> 1\u001b[0;31m \u001b[0mprint\u001b[0m\u001b[0;34m(\u001b[0m\u001b[0mmessage2\u001b[0m\u001b[0;34m)\u001b[0m\u001b[0;34m\u001b[0m\u001b[0;34m\u001b[0m\u001b[0m\n\u001b[0m",
      "\u001b[0;31mNameError\u001b[0m: name 'message2' is not defined"
     ]
    }
   ],
   "source": [
    "print(message2)"
   ]
  },
  {
   "cell_type": "markdown",
   "id": "21c8a422-8f7e-4b0b-9e1c-35dc1671b683",
   "metadata": {
    "slideshow": {
     "slide_type": "slide"
    },
    "tags": []
   },
   "source": [
    "Il est possible de réaliser des opérations arithmétiques avec les variables. Toutes ces opérations sont [listées ici](https://docs.python.org/3/library/stdtypes.html#numeric-types-int-float-complex)."
   ]
  },
  {
   "cell_type": "code",
   "execution_count": 8,
   "id": "3b2c9cfd-f62d-4122-9b14-a3bbe3323455",
   "metadata": {
    "slideshow": {
     "slide_type": "fragment"
    },
    "tags": []
   },
   "outputs": [
    {
     "name": "stdout",
     "output_type": "stream",
     "text": [
      "14\n"
     ]
    }
   ],
   "source": [
    "var_a = 6\n",
    "var_b = 8\n",
    "\n",
    "print(var_a + var_b)"
   ]
  },
  {
   "cell_type": "markdown",
   "id": "4308bebe-3de5-40ca-82f8-b870ca18ba36",
   "metadata": {
    "slideshow": {
     "slide_type": "fragment"
    },
    "tags": []
   },
   "source": [
    "### Quelques conventions de nommage pour les variables\n",
    "\n",
    "* Utiliser des noms complets et descriptifs\n",
    "* Utiliser la norme snake_case\n",
    "* Commencer par une lettre ou un _, proscrire les autres caractères spéciaux"
   ]
  },
  {
   "cell_type": "markdown",
   "id": "90eccfaf-802b-414f-bf9e-a3e37b7788d2",
   "metadata": {
    "slideshow": {
     "slide_type": "slide"
    },
    "tags": []
   },
   "source": [
    "## Quelques types pour commencer\n",
    "\n",
    "Python détecte tout seul le type d'une variable au moment de son initialisation : il ne nécessite pas de déclaration préalable."
   ]
  },
  {
   "cell_type": "code",
   "execution_count": 9,
   "id": "bfb302de-773e-4d5d-8da1-21cc42705046",
   "metadata": {
    "slideshow": {
     "slide_type": "fragment"
    },
    "tags": []
   },
   "outputs": [
    {
     "data": {
      "text/plain": [
       "int"
      ]
     },
     "execution_count": 9,
     "metadata": {},
     "output_type": "execute_result"
    }
   ],
   "source": [
    "type(var_a)"
   ]
  },
  {
   "cell_type": "code",
   "execution_count": 10,
   "id": "9feac4da-8046-46ff-8e40-6628c29f159e",
   "metadata": {
    "slideshow": {
     "slide_type": "fragment"
    },
    "tags": []
   },
   "outputs": [
    {
     "data": {
      "text/plain": [
       "str"
      ]
     },
     "execution_count": 10,
     "metadata": {},
     "output_type": "execute_result"
    }
   ],
   "source": [
    "type(message)"
   ]
  },
  {
   "cell_type": "markdown",
   "id": "2f89498c-693f-451c-976c-26ebbe9fbb79",
   "metadata": {
    "slideshow": {
     "slide_type": "fragment"
    },
    "tags": []
   },
   "source": [
    "- Chaines de caractères (str)\n",
    "- Booléens (bool) : True ou False (attention à la casse)\n",
    "- Numériques: entiers (int) et flottants (float)"
   ]
  },
  {
   "cell_type": "markdown",
   "id": "27ee091e-9f99-45bc-9f2a-8a71a508515e",
   "metadata": {
    "slideshow": {
     "slide_type": "slide"
    },
    "tags": []
   },
   "source": [
    "### Listes (list) et les tuples (tuple)\n",
    "\n",
    "- Les listes sont des variables contenant plusieurs éléments pouvant être de même type ou de types différents. \n",
    "- Les tuples sont des listes qui ne sont plus modifiables une fois créées : principalement utilisé pour retourner les résultats d'une fonction. "
   ]
  },
  {
   "cell_type": "code",
   "execution_count": 39,
   "id": "6d401a04-c65e-4c63-8cfe-c1bed000f355",
   "metadata": {
    "slideshow": {
     "slide_type": "fragment"
    },
    "tags": []
   },
   "outputs": [
    {
     "name": "stdout",
     "output_type": "stream",
     "text": [
      "['geographers', 'statisticians', 'historians']\n"
     ]
    }
   ],
   "source": [
    "eleves = ['geographers', 'statisticians', 'historians']\n",
    "liste_entiers = [51, 52, 53, 54, 55, 56, 57, 58, 59]\n",
    "liste_vide = []\n",
    "liste_de_listes = [[1,2,3], [4,5,6], [7,8,9]]\n",
    "liste_de_bool = [True, False, False, True]\n",
    "liste_multi_types = [5, \"lapins\", 3.7]\n",
    "\n",
    "print(eleves)"
   ]
  },
  {
   "cell_type": "markdown",
   "id": "444cfada-eff4-44a1-9ac1-7a09f188c147",
   "metadata": {
    "slideshow": {
     "slide_type": "slide"
    },
    "tags": []
   },
   "source": [
    "On fait appel à un élément d'une liste en utilisant son index. Attention: en Python les index démarrent à 0."
   ]
  },
  {
   "cell_type": "code",
   "execution_count": 13,
   "id": "25743e60-ae35-4dad-9490-430b3826a11e",
   "metadata": {
    "slideshow": {
     "slide_type": "fragment"
    },
    "tags": []
   },
   "outputs": [
    {
     "name": "stdout",
     "output_type": "stream",
     "text": [
      "56\n"
     ]
    }
   ],
   "source": [
    "liste_entiers = [51, 52, 53, 54, 55, 56, 57, 58, 59]\n",
    "print(liste_entiers[5])"
   ]
  },
  {
   "cell_type": "code",
   "execution_count": 14,
   "id": "af62d354-8811-406b-99bd-4d0f755798a5",
   "metadata": {
    "slideshow": {
     "slide_type": "fragment"
    },
    "tags": []
   },
   "outputs": [
    {
     "name": "stdout",
     "output_type": "stream",
     "text": [
      "[53, 54, 55]\n"
     ]
    }
   ],
   "source": [
    "print(liste_entiers[2:5])"
   ]
  },
  {
   "cell_type": "code",
   "execution_count": 16,
   "id": "660f5cc9-3b33-48e6-b42d-018b81e57510",
   "metadata": {
    "slideshow": {
     "slide_type": "fragment"
    },
    "tags": []
   },
   "outputs": [
    {
     "name": "stdout",
     "output_type": "stream",
     "text": [
      "[51, 52, 53, 54, 55]\n"
     ]
    }
   ],
   "source": [
    "print(liste_entiers[:5])"
   ]
  },
  {
   "cell_type": "code",
   "execution_count": 17,
   "id": "5bfab940-bcf5-464c-99ef-56b584876980",
   "metadata": {
    "slideshow": {
     "slide_type": "fragment"
    },
    "tags": []
   },
   "outputs": [
    {
     "name": "stdout",
     "output_type": "stream",
     "text": [
      "59\n"
     ]
    }
   ],
   "source": [
    "print(liste_entiers[-1])"
   ]
  },
  {
   "cell_type": "code",
   "execution_count": 18,
   "id": "16b8f9df-5138-4e94-bdbe-f4ba52eba3e6",
   "metadata": {
    "slideshow": {
     "slide_type": "fragment"
    },
    "tags": []
   },
   "outputs": [
    {
     "name": "stdout",
     "output_type": "stream",
     "text": [
      "6\n"
     ]
    }
   ],
   "source": [
    "liste_de_listes = [[1,2,3], [4,5,6], [7,8,9]]\n",
    "print(liste_de_listes[1][2])"
   ]
  },
  {
   "cell_type": "markdown",
   "id": "b244641d-d751-40b9-9b5c-60a58bac1a56",
   "metadata": {
    "slideshow": {
     "slide_type": "slide"
    },
    "tags": []
   },
   "source": [
    "Point très important : Python est sensible à l'indentation. Une indentation = 4 espaces en début de ligne. Un exemple avec une première boucle :"
   ]
  },
  {
   "cell_type": "code",
   "execution_count": 44,
   "id": "8aeed1d9-aa98-4076-949b-591af8ec9f5c",
   "metadata": {
    "slideshow": {
     "slide_type": "fragment"
    },
    "tags": []
   },
   "outputs": [
    {
     "name": "stdout",
     "output_type": "stream",
     "text": [
      "hello geographers\n",
      "hello statisticians\n",
      "hello historians\n"
     ]
    }
   ],
   "source": [
    "eleves = ['geographers', 'statisticians', 'historians']\n",
    "\n",
    "for discipline in eleves:\n",
    "    print(\"hello \" + discipline)"
   ]
  },
  {
   "cell_type": "code",
   "execution_count": 45,
   "id": "0c6cd5cd-3639-4856-9e98-4b60147cc27b",
   "metadata": {
    "slideshow": {
     "slide_type": "slide"
    },
    "tags": []
   },
   "outputs": [
    {
     "name": "stdout",
     "output_type": "stream",
     "text": [
      "je ne suis pas encore dans la boucle \n",
      "\n",
      "hello geographers\n",
      "je suis dans la boucle \n",
      "\n",
      "hello statisticians\n",
      "je suis dans la boucle \n",
      "\n",
      "hello historians\n",
      "je suis dans la boucle \n",
      "\n",
      "je ne suis plus dans la boucle\n"
     ]
    }
   ],
   "source": [
    "print(\"je ne suis pas encore dans la boucle \\n\")\n",
    "\n",
    "for discipline in eleves:\n",
    "    print(\"hello \" + discipline)\n",
    "    print(\"je suis dans la boucle \\n\")\n",
    "    \n",
    "print(\"je ne suis plus dans la boucle\")"
   ]
  },
  {
   "cell_type": "markdown",
   "id": "879bba39-3131-4c9f-9fbc-80ce4305c382",
   "metadata": {
    "slideshow": {
     "slide_type": "slide"
    },
    "tags": []
   },
   "source": [
    "### Dictionnaires (dict)\n",
    "\n",
    "Les dictionnaires ressemblent aux listes, mais les éléments y sont nommés par des clés. "
   ]
  },
  {
   "cell_type": "code",
   "execution_count": 38,
   "id": "519b96eb-e098-447a-9596-8ec933024fb7",
   "metadata": {
    "slideshow": {
     "slide_type": "fragment"
    },
    "tags": []
   },
   "outputs": [
    {
     "name": "stdout",
     "output_type": "stream",
     "text": [
      "5\n"
     ]
    }
   ],
   "source": [
    "eleves = {\n",
    "    'geographers': 5,\n",
    "    'statisticians': 8,\n",
    "    'historians': 3\n",
    "}\n",
    "print(eleves['geographers'])"
   ]
  },
  {
   "cell_type": "markdown",
   "id": "f8c74b7b-a905-4b78-b562-1302a77e68ef",
   "metadata": {},
   "source": [
    "Comme pour les listes, il est possible d'imbriquer des dictionnaires. On retrouve régulièrement la dénomination \"nested dict\"."
   ]
  },
  {
   "cell_type": "code",
   "execution_count": 47,
   "id": "8a498e5f-445b-439e-9790-8a7e8a4ad05d",
   "metadata": {
    "slideshow": {
     "slide_type": "fragment"
    },
    "tags": []
   },
   "outputs": [
    {
     "name": "stdout",
     "output_type": "stream",
     "text": [
      "37\n"
     ]
    }
   ],
   "source": [
    "infos_personnelles = {\n",
    "    'jdupont': {'nom': 'Dupont', 'prenom': 'Jean', 'age': 37},\n",
    "    'gabitbol': {'nom': 'Abitbol', 'prenom': 'Georges', 'age': 71},\n",
    "}\n",
    "print(infos_personnelles['jdupont']['age'])"
   ]
  },
  {
   "cell_type": "markdown",
   "id": "a2368283-1370-433f-9ef5-3ca7bfcee27a",
   "metadata": {
    "slideshow": {
     "slide_type": "slide"
    },
    "tags": []
   },
   "source": [
    "### Objet nul (Null, None)\n",
    "\n",
    "L'objet nul permet notamment :\n",
    "\n",
    "- D'initialiser une variable avec rien dedans"
   ]
  },
  {
   "cell_type": "code",
   "execution_count": 48,
   "id": "30247790-ba62-47a0-83e9-155a3720d2e9",
   "metadata": {
    "tags": []
   },
   "outputs": [
    {
     "name": "stdout",
     "output_type": "stream",
     "text": [
      "None\n"
     ]
    }
   ],
   "source": [
    "objet_nul = None\n",
    "print(objet_nul)"
   ]
  },
  {
   "cell_type": "markdown",
   "id": "e1b6746e-0fc6-4a63-b3d3-07b5ef1feb3f",
   "metadata": {
    "slideshow": {
     "slide_type": "fragment"
    },
    "tags": []
   },
   "source": [
    "- De libérer de la mémoire vive en vidant le contenu d'une variable volumineuse (une image par exemple)"
   ]
  },
  {
   "cell_type": "code",
   "execution_count": 187,
   "id": "56bfa534-bf43-4028-841c-780291052ad4",
   "metadata": {
    "tags": []
   },
   "outputs": [
    {
     "name": "stdout",
     "output_type": "stream",
     "text": [
      "{'geographers': 5, 'statisticians': 8, 'historians': 3}\n",
      "None\n"
     ]
    }
   ],
   "source": [
    "print(eleves)\n",
    "\n",
    "eleves = None\n",
    "print(eleves)"
   ]
  },
  {
   "cell_type": "markdown",
   "id": "cb9879c2-762c-40cd-b18d-b14ec5da7653",
   "metadata": {
    "slideshow": {
     "slide_type": "slide"
    },
    "tags": []
   },
   "source": [
    "- De tester l'existence de contenu dans une variable dans une structure conditionnelle"
   ]
  },
  {
   "cell_type": "code",
   "execution_count": 189,
   "id": "e9bb8109-7c75-48cf-ad86-09a6ce50e7cc",
   "metadata": {
    "tags": []
   },
   "outputs": [
    {
     "name": "stdout",
     "output_type": "stream",
     "text": [
      "il n'y a aucun élève\n"
     ]
    }
   ],
   "source": [
    "if eleves:\n",
    "    print('il y a des élèves')\n",
    "else:\n",
    "    print('il n\\'y a aucun élève') # Remarquez l'antislash pour échapper le quote"
   ]
  },
  {
   "cell_type": "markdown",
   "id": "87d138a8-5c06-4b73-bcda-18167732cc74",
   "metadata": {
    "slideshow": {
     "slide_type": "slide"
    },
    "tags": []
   },
   "source": [
    "### Comment tester le type d'une variable ?\n",
    "\n",
    "La fonction `type()` permet cela."
   ]
  },
  {
   "cell_type": "code",
   "execution_count": 180,
   "id": "84e1f2bc-4ab6-43e6-a317-ab82a83bdf71",
   "metadata": {
    "slideshow": {
     "slide_type": "fragment"
    },
    "tags": []
   },
   "outputs": [
    {
     "data": {
      "text/plain": [
       "NoneType"
      ]
     },
     "execution_count": 180,
     "metadata": {},
     "output_type": "execute_result"
    }
   ],
   "source": [
    "type(eleves)"
   ]
  },
  {
   "cell_type": "code",
   "execution_count": 181,
   "id": "8afb83a9-7113-4183-8741-22f3f3bcf77f",
   "metadata": {
    "slideshow": {
     "slide_type": "fragment"
    },
    "tags": []
   },
   "outputs": [
    {
     "data": {
      "text/plain": [
       "False"
      ]
     },
     "execution_count": 181,
     "metadata": {},
     "output_type": "execute_result"
    }
   ],
   "source": [
    "type(eleves) == str"
   ]
  },
  {
   "cell_type": "code",
   "execution_count": 182,
   "id": "5e0658ac-7d27-4334-8610-3a2eaaa29b3a",
   "metadata": {
    "slideshow": {
     "slide_type": "fragment"
    },
    "tags": []
   },
   "outputs": [
    {
     "data": {
      "text/plain": [
       "False"
      ]
     },
     "execution_count": 182,
     "metadata": {},
     "output_type": "execute_result"
    }
   ],
   "source": [
    "type(eleves) == list"
   ]
  },
  {
   "cell_type": "code",
   "execution_count": 183,
   "id": "181b4600-0ad4-43f5-b2ae-cbbda1be7b9d",
   "metadata": {
    "slideshow": {
     "slide_type": "fragment"
    },
    "tags": []
   },
   "outputs": [
    {
     "data": {
      "text/plain": [
       "True"
      ]
     },
     "execution_count": 183,
     "metadata": {},
     "output_type": "execute_result"
    }
   ],
   "source": [
    "type(eleves) != bool"
   ]
  },
  {
   "cell_type": "markdown",
   "id": "a029a54f-325e-459b-8a39-dc52bc4ed04f",
   "metadata": {
    "slideshow": {
     "slide_type": "slide"
    },
    "tags": []
   },
   "source": [
    "On peut utiliser également des opérateurs logiques. Tous les tests et opérateurs logiques sont [détaillés ici](https://docs.python.org/3/library/stdtypes.html#boolean-operations-and-or-not)."
   ]
  },
  {
   "cell_type": "code",
   "execution_count": 190,
   "id": "f72f318d-a8ea-413f-8b0e-9f456ecf7def",
   "metadata": {
    "slideshow": {
     "slide_type": "fragment"
    },
    "tags": []
   },
   "outputs": [
    {
     "data": {
      "text/plain": [
       "False"
      ]
     },
     "execution_count": 190,
     "metadata": {},
     "output_type": "execute_result"
    }
   ],
   "source": [
    "eleves = {\n",
    "    'geographers': 5,\n",
    "    'statisticians': 8,\n",
    "    'historians': 3\n",
    "}\n",
    "\n",
    "type(eleves) != bool and len(eleves) > 5"
   ]
  },
  {
   "cell_type": "markdown",
   "id": "3d528357-bcca-4a7e-950d-aae6c7540fe3",
   "metadata": {
    "slideshow": {
     "slide_type": "slide"
    },
    "tags": []
   },
   "source": [
    "Il est possible de convertir le type de certaines variables :"
   ]
  },
  {
   "cell_type": "code",
   "execution_count": 56,
   "id": "fddda8ec-cec1-4d9b-a8bb-d40d39938025",
   "metadata": {
    "slideshow": {
     "slide_type": "fragment"
    },
    "tags": []
   },
   "outputs": [
    {
     "data": {
      "text/plain": [
       "3"
      ]
     },
     "execution_count": 56,
     "metadata": {},
     "output_type": "execute_result"
    }
   ],
   "source": [
    "# Dans ce cas, Python réalise une troncature à l'unité\n",
    "int(3.0)\n",
    "\n",
    "# Pour faire un arrondi, utiliser la fonction round()\n",
    "round(3.965)"
   ]
  },
  {
   "cell_type": "code",
   "execution_count": 57,
   "id": "928ddeb9-b14a-4fd5-8ad8-5036329177a9",
   "metadata": {
    "slideshow": {
     "slide_type": "fragment"
    },
    "tags": []
   },
   "outputs": [
    {
     "data": {
      "text/plain": [
       "5.2658"
      ]
     },
     "execution_count": 57,
     "metadata": {},
     "output_type": "execute_result"
    }
   ],
   "source": [
    "float('5.2658')"
   ]
  },
  {
   "cell_type": "markdown",
   "id": "7c583d81-5b26-47e2-b687-84cf6e570e8f",
   "metadata": {
    "slideshow": {
     "slide_type": "slide"
    },
    "tags": []
   },
   "source": [
    "## Quelques méthodes et fonctions utiles pour chaque type\n",
    "\n",
    "> Une méthode est une fonction qui \"appartient à\" un objet. \n",
    "\n",
    "Des méthodes peuvent être définies pour chaque classe d'objet. "
   ]
  },
  {
   "cell_type": "markdown",
   "id": "bfc135e7-fb63-4025-a2e8-2caf3f83e3b8",
   "metadata": {
    "slideshow": {
     "slide_type": "slide"
    },
    "tags": []
   },
   "source": [
    "### Chaines de caractères (str)\n",
    "[Toutes les méthodes pour les chaines de caractères](https://docs.python.org/3/library/stdtypes.html#string-methods)"
   ]
  },
  {
   "cell_type": "code",
   "execution_count": 69,
   "id": "12998612-f08a-4171-aded-5bfe6f6c7bdb",
   "metadata": {
    "slideshow": {
     "slide_type": "fragment"
    },
    "tags": []
   },
   "outputs": [],
   "source": [
    "chaine = 'ma chaine de caractères'"
   ]
  },
  {
   "cell_type": "code",
   "execution_count": 70,
   "id": "4aba0068-378a-4dd4-b537-51f2ebf3f965",
   "metadata": {
    "slideshow": {
     "slide_type": "fragment"
    },
    "tags": []
   },
   "outputs": [
    {
     "name": "stdout",
     "output_type": "stream",
     "text": [
      "MA CHAINE DE CARACTÈRES\n"
     ]
    }
   ],
   "source": [
    "# Passer en majuscules\n",
    "print(chaine.upper())"
   ]
  },
  {
   "cell_type": "code",
   "execution_count": 191,
   "id": "35e43ada-ef5d-4225-b225-df96dc1a1fe1",
   "metadata": {
    "slideshow": {
     "slide_type": "fragment"
    },
    "tags": []
   },
   "outputs": [
    {
     "name": "stdout",
     "output_type": "stream",
     "text": [
      "True\n",
      "False\n"
     ]
    }
   ],
   "source": [
    "# Vérifier que la fin de la chaine correspond\n",
    "print(chaine.endswith(\"caractères\"))\n",
    "print(chaine.endswith(\"patate\"))"
   ]
  },
  {
   "cell_type": "code",
   "execution_count": 192,
   "id": "d3780194-40db-423a-9cd7-23dc06239e8c",
   "metadata": {
    "slideshow": {
     "slide_type": "fragment"
    },
    "tags": []
   },
   "outputs": [
    {
     "name": "stdout",
     "output_type": "stream",
     "text": [
      "True\n"
     ]
    }
   ],
   "source": [
    "# Vérifier que la chaine est en minuscules\n",
    "print(chaine.islower())"
   ]
  },
  {
   "cell_type": "code",
   "execution_count": 72,
   "id": "990f105e-241a-419d-941e-2601ab04656a",
   "metadata": {
    "slideshow": {
     "slide_type": "slide"
    },
    "tags": []
   },
   "outputs": [
    {
     "data": {
      "text/plain": [
       "True"
      ]
     },
     "execution_count": 72,
     "metadata": {},
     "output_type": "execute_result"
    }
   ],
   "source": [
    "chaine = 'ma chaine de caractères'\n",
    "\n",
    "# Tester la présence d'une sous-chaine\n",
    "\"ma\" in chaine"
   ]
  },
  {
   "cell_type": "code",
   "execution_count": 197,
   "id": "4468cb3a-9518-4d0e-8b9b-023254ccc856",
   "metadata": {
    "slideshow": {
     "slide_type": "fragment"
    },
    "tags": []
   },
   "outputs": [
    {
     "name": "stdout",
     "output_type": "stream",
     "text": [
      "10\n"
     ]
    }
   ],
   "source": [
    "# Trouver la position d'une sous-chaine de caractères\n",
    "debut_de = chaine.find('de')\n",
    "print(debut_de)"
   ]
  },
  {
   "cell_type": "code",
   "execution_count": 199,
   "id": "7471c9ca-3910-455c-ba45-edcdc8ef9b70",
   "metadata": {
    "slideshow": {
     "slide_type": "fragment"
    },
    "tags": []
   },
   "outputs": [
    {
     "name": "stdout",
     "output_type": "stream",
     "text": [
      "ta chaine de caractères\n"
     ]
    }
   ],
   "source": [
    "# Remplacer une sous-chaine\n",
    "print(chaine.replace(\"ma\", \"ta\"))"
   ]
  },
  {
   "cell_type": "code",
   "execution_count": 198,
   "id": "58d53a5f-ddb1-4794-af42-a93b625532e5",
   "metadata": {
    "slideshow": {
     "slide_type": "slide"
    },
    "tags": []
   },
   "outputs": [
    {
     "name": "stdout",
     "output_type": "stream",
     "text": [
      "ma chaine \n",
      "de\n"
     ]
    }
   ],
   "source": [
    "chaine = 'ma chaine de caractères'\n",
    "\n",
    "# Extraire une partie de la chaine grâce aux index des caractères\n",
    "# Attention: en python les index commencent à 0\n",
    "print(chaine[0:10])\n",
    "print(chaine[debut_de:debut_de+2])"
   ]
  },
  {
   "cell_type": "code",
   "execution_count": 200,
   "id": "7b143ede-4445-48a5-832e-938e94f543a9",
   "metadata": {
    "slideshow": {
     "slide_type": "fragment"
    },
    "tags": []
   },
   "outputs": [
    {
     "name": "stdout",
     "output_type": "stream",
     "text": [
      "['ma', 'chaine', 'de', 'caractères']\n",
      "caractères\n"
     ]
    }
   ],
   "source": [
    "# Séparer la chaine par un caractère\n",
    "liste_mots = chaine.split(\" \")\n",
    "print(liste_mots)\n",
    "print(liste_mots[3])"
   ]
  },
  {
   "cell_type": "code",
   "execution_count": 201,
   "id": "93a63c11-a42a-4cc4-a956-84b48a9141eb",
   "metadata": {
    "slideshow": {
     "slide_type": "slide"
    },
    "tags": []
   },
   "outputs": [
    {
     "name": "stdout",
     "output_type": "stream",
     "text": [
      "ma chaine de caractères est vraiment superbe !\n"
     ]
    }
   ],
   "source": [
    "# \"Additionner\" (concaténer) des chaines de caratères\n",
    "print(chaine + \" est vraiment superbe !\")"
   ]
  },
  {
   "cell_type": "code",
   "execution_count": 62,
   "id": "89fa36cc-7271-4ffe-9d40-0774da6c84ab",
   "metadata": {
    "slideshow": {
     "slide_type": "fragment"
    },
    "tags": []
   },
   "outputs": [
    {
     "name": "stdout",
     "output_type": "stream",
     "text": [
      "<class 'float'>\n",
      "Cet arbre mesure 4.56 mètres\n"
     ]
    }
   ],
   "source": [
    "taille_arbre = 4.56\n",
    "print(type(taille_arbre))\n",
    "\n",
    "print('Cet arbre mesure ' + str(taille_arbre) + ' mètres')"
   ]
  },
  {
   "cell_type": "markdown",
   "id": "8301b404-411c-4f31-ac73-3631c4b4d724",
   "metadata": {
    "slideshow": {
     "slide_type": "slide"
    },
    "tags": []
   },
   "source": [
    "#### Le string substitution\n",
    "Jusqu'en python 2, on utilisait majoritairement la méthode `.format()` ou la substitution par l'opérateur `%`. En python 3, la string substitution est beaucoup plus fluide et lisible. "
   ]
  },
  {
   "cell_type": "code",
   "execution_count": 225,
   "id": "275e30be-eb1e-4a7e-9dda-25a0ef36a118",
   "metadata": {
    "slideshow": {
     "slide_type": "fragment"
    },
    "tags": []
   },
   "outputs": [
    {
     "name": "stdout",
     "output_type": "stream",
     "text": [
      "L'individu Jean a 37 ans.\n",
      "L'individu Georges a 71 ans.\n"
     ]
    }
   ],
   "source": [
    "infos_personnelles = {\n",
    "    'jdupont': {'nom': 'Dupont', 'prenom': 'Jean', 'age': 37},\n",
    "    'gabitbol': {'nom': 'Abitbol', 'prenom': 'Georges', 'age': 71},\n",
    "}\n",
    "\n",
    "# On réalise une boucle sur tous les éléments du dictionnaire\n",
    "for identifiant in infos_personnelles:\n",
    "    age = infos_personnelles[identifiant]['age']\n",
    "    prenom = infos_personnelles[identifiant]['prenom']\n",
    "    \n",
    "    # On préfixe notre chaine renvoyée avec un f (pour format)\n",
    "    print(f'L\\'individu {prenom} a {age} ans.')"
   ]
  },
  {
   "cell_type": "markdown",
   "id": "8aef7db2-124e-4ea7-9767-0b9260986003",
   "metadata": {},
   "source": [
    "Il est possible d'exécuter du code directement entre les accolades :"
   ]
  },
  {
   "cell_type": "code",
   "execution_count": 203,
   "id": "0dc6ada9-57d6-4f5a-8a1f-899709988f7d",
   "metadata": {
    "slideshow": {
     "slide_type": "fragment"
    },
    "tags": []
   },
   "outputs": [
    {
     "name": "stdout",
     "output_type": "stream",
     "text": [
      "Le résultat de l'opération 15 puissance 53 est 215197256322241735579900134833764013819745741784572601318359375\n"
     ]
    }
   ],
   "source": [
    "print(f\"Le résultat de l'opération 15 puissance 53 est {pow(15, 53)}\")"
   ]
  },
  {
   "cell_type": "markdown",
   "id": "0ed0d81b-5948-4dd8-8a91-af3f6625ebc0",
   "metadata": {
    "slideshow": {
     "slide_type": "slide"
    },
    "tags": []
   },
   "source": [
    "### Listes (list)"
   ]
  },
  {
   "cell_type": "code",
   "execution_count": 129,
   "id": "eae09377-106a-43ba-8f68-07c3247bda67",
   "metadata": {
    "slideshow": {
     "slide_type": "fragment"
    },
    "tags": []
   },
   "outputs": [
    {
     "name": "stdout",
     "output_type": "stream",
     "text": [
      "[2, 5, 4, 3, 5, 1, 2, 6, 8]\n",
      "['jeanne', 'julie', 'huguette', 'pierre', 'paul', 'georges']\n"
     ]
    }
   ],
   "source": [
    "liste_entiers = [2,5,4,3,5,1,2,6,8]\n",
    "print(liste_entiers)\n",
    "\n",
    "liste_chaines = ['jeanne', 'julie', 'huguette', 'pierre', 'paul', 'georges']\n",
    "print(liste_chaines)"
   ]
  },
  {
   "cell_type": "code",
   "execution_count": 130,
   "id": "43d5b2bf-e317-45cf-8b22-37d79093b6c5",
   "metadata": {
    "slideshow": {
     "slide_type": "fragment"
    },
    "tags": []
   },
   "outputs": [
    {
     "data": {
      "text/plain": [
       "True"
      ]
     },
     "execution_count": 130,
     "metadata": {},
     "output_type": "execute_result"
    }
   ],
   "source": [
    "# Tester la présence d'un élément\n",
    "'jeanne' in liste_chaines"
   ]
  },
  {
   "cell_type": "code",
   "execution_count": 131,
   "id": "354b57ee-b37e-4af3-84eb-a8ef0fae01a9",
   "metadata": {
    "slideshow": {
     "slide_type": "fragment"
    },
    "tags": []
   },
   "outputs": [
    {
     "name": "stdout",
     "output_type": "stream",
     "text": [
      "[1, 2, 2, 3, 4, 5, 5, 6, 8]\n",
      "['georges', 'huguette', 'jeanne', 'julie', 'paul', 'pierre']\n"
     ]
    }
   ],
   "source": [
    "# Trier les éléments\n",
    "liste_entiers.sort()\n",
    "print(liste_entiers)\n",
    "\n",
    "liste_chaines.sort()\n",
    "print(liste_chaines)"
   ]
  },
  {
   "cell_type": "code",
   "execution_count": 132,
   "id": "852f7490-4fbd-4fd8-8629-9dbba74e9f13",
   "metadata": {
    "slideshow": {
     "slide_type": "slide"
    },
    "tags": []
   },
   "outputs": [
    {
     "name": "stdout",
     "output_type": "stream",
     "text": [
      "[8, 6, 5, 5, 4, 3, 2, 2, 1]\n"
     ]
    }
   ],
   "source": [
    "# Inverser le tri\n",
    "liste_entiers.reverse()\n",
    "print(liste_entiers)"
   ]
  },
  {
   "cell_type": "code",
   "execution_count": 138,
   "id": "6e8fa1df-9c98-4304-9466-299190b1ac74",
   "metadata": {
    "slideshow": {
     "slide_type": "fragment"
    },
    "tags": []
   },
   "outputs": [
    {
     "name": "stdout",
     "output_type": "stream",
     "text": [
      "['jeanne', 'julie', 'huguette', 'pierre', 'paul', 'georges', 'suzanne']\n"
     ]
    }
   ],
   "source": [
    "# Ajouter un élément\n",
    "liste_chaines = ['jeanne', 'julie', 'huguette', 'pierre', 'paul', 'georges']\n",
    "liste_chaines.append('suzanne')\n",
    "print(liste_chaines)"
   ]
  },
  {
   "cell_type": "code",
   "execution_count": 134,
   "id": "85e00ab8-31b9-4cd5-8e02-d2c5e66f05ff",
   "metadata": {
    "slideshow": {
     "slide_type": "fragment"
    },
    "tags": []
   },
   "outputs": [
    {
     "name": "stdout",
     "output_type": "stream",
     "text": [
      "['georges', 'huguette', 'jeanne', 'françois', 'julie', 'paul', 'pierre', 'suzanne']\n"
     ]
    }
   ],
   "source": [
    "# Ajouter un élément à une position précise\n",
    "liste_chaines.insert(3, 'françois')\n",
    "print(liste_chaines)"
   ]
  },
  {
   "cell_type": "code",
   "execution_count": 135,
   "id": "be947549-0741-4174-ae2d-8826b751b872",
   "metadata": {
    "slideshow": {
     "slide_type": "slide"
    },
    "tags": []
   },
   "outputs": [
    {
     "name": "stdout",
     "output_type": "stream",
     "text": [
      "['georges', 'huguette', 'jeanne', 'françois', 'paul', 'pierre', 'suzanne']\n"
     ]
    }
   ],
   "source": [
    "# Supprimer un élément via son contenu\n",
    "liste_chaines.remove('julie')\n",
    "print(liste_chaines)"
   ]
  },
  {
   "cell_type": "code",
   "execution_count": 137,
   "id": "fd782ae6-2eb5-490b-b084-d5df24292cd8",
   "metadata": {
    "slideshow": {
     "slide_type": "fragment"
    },
    "tags": []
   },
   "outputs": [
    {
     "name": "stdout",
     "output_type": "stream",
     "text": [
      "['georges', 'huguette', 'françois', 'paul', 'pierre', 'suzanne']\n"
     ]
    }
   ],
   "source": [
    "# Supprimer un élément via son index dans la liste\n",
    "liste_chaines.pop(2)\n",
    "print(liste_chaines)"
   ]
  },
  {
   "cell_type": "markdown",
   "id": "a99f779b-d3cf-4e0b-a6c4-15018fc36dcf",
   "metadata": {
    "slideshow": {
     "slide_type": "slide"
    },
    "tags": []
   },
   "source": [
    "#### Quelques fonctions utiles avec des listes"
   ]
  },
  {
   "cell_type": "code",
   "execution_count": 143,
   "id": "4d38bedc-87d8-4dc4-83e2-6b0c97af1fdb",
   "metadata": {
    "tags": []
   },
   "outputs": [
    {
     "data": {
      "text/plain": [
       "range(0, 10)"
      ]
     },
     "execution_count": 143,
     "metadata": {},
     "output_type": "execute_result"
    }
   ],
   "source": [
    "# Générateur de liste de type range\n",
    "range(10)"
   ]
  },
  {
   "cell_type": "code",
   "execution_count": 214,
   "id": "a3ff3a7b-5b9e-48ee-ae3f-4bee9d82e792",
   "metadata": {
    "slideshow": {
     "slide_type": "fragment"
    },
    "tags": []
   },
   "outputs": [
    {
     "name": "stdout",
     "output_type": "stream",
     "text": [
      "<class 'range'>\n",
      "<class 'list'>\n"
     ]
    }
   ],
   "source": [
    "print(type(range(10)))\n",
    "print(type([0,1,2,3,4,5,6,7,8,9]))"
   ]
  },
  {
   "cell_type": "markdown",
   "id": "cb9c6340-2b1d-4755-8a3a-978cbaf7be06",
   "metadata": {
    "slideshow": {
     "slide_type": "fragment"
    },
    "tags": []
   },
   "source": [
    "En général, on utilise ce type de générateur dans une boucle. Cependant, on peux parfois avoir besoin de \"déplier\" un générateur : "
   ]
  },
  {
   "cell_type": "code",
   "execution_count": 216,
   "id": "8854bc0a-b545-4d16-b9e0-aa10b33650d0",
   "metadata": {
    "tags": []
   },
   "outputs": [
    {
     "name": "stdout",
     "output_type": "stream",
     "text": [
      "[5, 10, 15, 20, 25, 30, 35, 40, 45]\n"
     ]
    }
   ],
   "source": [
    "ma_liste = list(range(5, 50, 5))\n",
    "print(ma_liste)"
   ]
  },
  {
   "cell_type": "code",
   "execution_count": 217,
   "id": "f06a9646-6e3d-4788-a025-9f820d2f207e",
   "metadata": {
    "slideshow": {
     "slide_type": "slide"
    },
    "tags": []
   },
   "outputs": [
    {
     "name": "stdout",
     "output_type": "stream",
     "text": [
      "9\n",
      "45\n",
      "5\n",
      "225\n"
     ]
    }
   ],
   "source": [
    "# Quelques informations sur une liste\n",
    "print(len(ma_liste)) # Sa longueur\n",
    "print(max(ma_liste)) # Son maximum\n",
    "print(min(ma_liste)) # Son minimum\n",
    "print(sum(ma_liste)) # Sa somme"
   ]
  },
  {
   "cell_type": "markdown",
   "id": "218c9e27-d870-4dd0-965d-10b2d30015b1",
   "metadata": {
    "slideshow": {
     "slide_type": "slide"
    },
    "tags": []
   },
   "source": [
    "D'autres statistiques comme la moyenne, la médiane, etc. sont implémentées dans le package statistics."
   ]
  },
  {
   "cell_type": "code",
   "execution_count": 218,
   "id": "c9495d82-3df0-4bd6-bea2-6e18a788c98b",
   "metadata": {
    "slideshow": {
     "slide_type": "fragment"
    },
    "tags": []
   },
   "outputs": [
    {
     "data": {
      "text/plain": [
       "25"
      ]
     },
     "execution_count": 218,
     "metadata": {},
     "output_type": "execute_result"
    }
   ],
   "source": [
    "# On importe le package (il ne contient qu'un seul module)\n",
    "import statistics\n",
    "\n",
    "# On fait appel à une fonction de ce module\n",
    "statistics.mean(ma_liste)"
   ]
  },
  {
   "cell_type": "code",
   "execution_count": 219,
   "id": "b837f3cd-b6ce-438e-9d2e-d55ee18a96a5",
   "metadata": {
    "slideshow": {
     "slide_type": "fragment"
    },
    "tags": []
   },
   "outputs": [
    {
     "data": {
      "text/plain": [
       "25"
      ]
     },
     "execution_count": 219,
     "metadata": {},
     "output_type": "execute_result"
    }
   ],
   "source": [
    "# Il est possible de stocker un module entier dans une variable\n",
    "import statistics as stats\n",
    "\n",
    "# On appelle alors les fonctions de ce module via cette variable\n",
    "stats.median(ma_liste)"
   ]
  },
  {
   "cell_type": "code",
   "execution_count": 220,
   "id": "04737d13-ee87-45ae-906f-20abca9d81d2",
   "metadata": {
    "slideshow": {
     "slide_type": "fragment"
    },
    "tags": []
   },
   "outputs": [
    {
     "data": {
      "text/plain": [
       "25"
      ]
     },
     "execution_count": 220,
     "metadata": {},
     "output_type": "execute_result"
    }
   ],
   "source": [
    "# Enfin, il est possible d'importer uniquement un module ou une fonction d'un module\n",
    "from statistics import median\n",
    "\n",
    "# On peux alors faire appel directement à la fonction\n",
    "median(ma_liste)"
   ]
  },
  {
   "cell_type": "code",
   "execution_count": 179,
   "id": "26d4977f-e276-470a-a70b-c129b30a7d00",
   "metadata": {
    "slideshow": {
     "slide_type": "slide"
    },
    "tags": []
   },
   "outputs": [
    {
     "name": "stdout",
     "output_type": "stream",
     "text": [
      "Help on module statistics:\n",
      "\n",
      "NAME\n",
      "    statistics - Basic statistics module.\n",
      "\n",
      "MODULE REFERENCE\n",
      "    https://docs.python.org/3.7/library/statistics\n",
      "    \n",
      "    The following documentation is automatically generated from the Python\n",
      "    source files.  It may be incomplete, incorrect or include features that\n",
      "    are considered implementation detail and may vary between Python\n",
      "    implementations.  When in doubt, consult the module reference at the\n",
      "    location listed above.\n",
      "\n",
      "DESCRIPTION\n",
      "    This module provides functions for calculating statistics of data, including\n",
      "    averages, variance, and standard deviation.\n",
      "    \n",
      "    Calculating averages\n",
      "    --------------------\n",
      "    \n",
      "    ==================  =============================================\n",
      "    Function            Description\n",
      "    ==================  =============================================\n",
      "    mean                Arithmetic mean (average) of data.\n",
      "    harmonic_mean       Harmonic mean of data.\n",
      "    median              Median (middle value) of data.\n",
      "    median_low          Low median of data.\n",
      "    median_high         High median of data.\n",
      "    median_grouped      Median, or 50th percentile, of grouped data.\n",
      "    mode                Mode (most common value) of data.\n",
      "    ==================  =============================================\n",
      "    \n",
      "    Calculate the arithmetic mean (\"the average\") of data:\n",
      "    \n",
      "    >>> mean([-1.0, 2.5, 3.25, 5.75])\n",
      "    2.625\n",
      "    \n",
      "    \n",
      "    Calculate the standard median of discrete data:\n",
      "    \n",
      "    >>> median([2, 3, 4, 5])\n",
      "    3.5\n",
      "    \n",
      "    \n",
      "    Calculate the median, or 50th percentile, of data grouped into class intervals\n",
      "    centred on the data values provided. E.g. if your data points are rounded to\n",
      "    the nearest whole number:\n",
      "    \n",
      "    >>> median_grouped([2, 2, 3, 3, 3, 4])  #doctest: +ELLIPSIS\n",
      "    2.8333333333...\n",
      "    \n",
      "    This should be interpreted in this way: you have two data points in the class\n",
      "    interval 1.5-2.5, three data points in the class interval 2.5-3.5, and one in\n",
      "    the class interval 3.5-4.5. The median of these data points is 2.8333...\n",
      "    \n",
      "    \n",
      "    Calculating variability or spread\n",
      "    ---------------------------------\n",
      "    \n",
      "    ==================  =============================================\n",
      "    Function            Description\n",
      "    ==================  =============================================\n",
      "    pvariance           Population variance of data.\n",
      "    variance            Sample variance of data.\n",
      "    pstdev              Population standard deviation of data.\n",
      "    stdev               Sample standard deviation of data.\n",
      "    ==================  =============================================\n",
      "    \n",
      "    Calculate the standard deviation of sample data:\n",
      "    \n",
      "    >>> stdev([2.5, 3.25, 5.5, 11.25, 11.75])  #doctest: +ELLIPSIS\n",
      "    4.38961843444...\n",
      "    \n",
      "    If you have previously calculated the mean, you can pass it as the optional\n",
      "    second argument to the four \"spread\" functions to avoid recalculating it:\n",
      "    \n",
      "    >>> data = [1, 2, 2, 4, 4, 4, 5, 6]\n",
      "    >>> mu = mean(data)\n",
      "    >>> pvariance(data, mu)\n",
      "    2.5\n",
      "    \n",
      "    \n",
      "    Exceptions\n",
      "    ----------\n",
      "    \n",
      "    A single exception is defined: StatisticsError is a subclass of ValueError.\n",
      "\n",
      "CLASSES\n",
      "    builtins.ValueError(builtins.Exception)\n",
      "        StatisticsError\n",
      "    \n",
      "    class StatisticsError(builtins.ValueError)\n",
      "     |  Inappropriate argument value (of correct type).\n",
      "     |  \n",
      "     |  Method resolution order:\n",
      "     |      StatisticsError\n",
      "     |      builtins.ValueError\n",
      "     |      builtins.Exception\n",
      "     |      builtins.BaseException\n",
      "     |      builtins.object\n",
      "     |  \n",
      "     |  Data descriptors defined here:\n",
      "     |  \n",
      "     |  __weakref__\n",
      "     |      list of weak references to the object (if defined)\n",
      "     |  \n",
      "     |  ----------------------------------------------------------------------\n",
      "     |  Methods inherited from builtins.ValueError:\n",
      "     |  \n",
      "     |  __init__(self, /, *args, **kwargs)\n",
      "     |      Initialize self.  See help(type(self)) for accurate signature.\n",
      "     |  \n",
      "     |  ----------------------------------------------------------------------\n",
      "     |  Static methods inherited from builtins.ValueError:\n",
      "     |  \n",
      "     |  __new__(*args, **kwargs) from builtins.type\n",
      "     |      Create and return a new object.  See help(type) for accurate signature.\n",
      "     |  \n",
      "     |  ----------------------------------------------------------------------\n",
      "     |  Methods inherited from builtins.BaseException:\n",
      "     |  \n",
      "     |  __delattr__(self, name, /)\n",
      "     |      Implement delattr(self, name).\n",
      "     |  \n",
      "     |  __getattribute__(self, name, /)\n",
      "     |      Return getattr(self, name).\n",
      "     |  \n",
      "     |  __reduce__(...)\n",
      "     |      Helper for pickle.\n",
      "     |  \n",
      "     |  __repr__(self, /)\n",
      "     |      Return repr(self).\n",
      "     |  \n",
      "     |  __setattr__(self, name, value, /)\n",
      "     |      Implement setattr(self, name, value).\n",
      "     |  \n",
      "     |  __setstate__(...)\n",
      "     |  \n",
      "     |  __str__(self, /)\n",
      "     |      Return str(self).\n",
      "     |  \n",
      "     |  with_traceback(...)\n",
      "     |      Exception.with_traceback(tb) --\n",
      "     |      set self.__traceback__ to tb and return self.\n",
      "     |  \n",
      "     |  ----------------------------------------------------------------------\n",
      "     |  Data descriptors inherited from builtins.BaseException:\n",
      "     |  \n",
      "     |  __cause__\n",
      "     |      exception cause\n",
      "     |  \n",
      "     |  __context__\n",
      "     |      exception context\n",
      "     |  \n",
      "     |  __dict__\n",
      "     |  \n",
      "     |  __suppress_context__\n",
      "     |  \n",
      "     |  __traceback__\n",
      "     |  \n",
      "     |  args\n",
      "\n",
      "FUNCTIONS\n",
      "    harmonic_mean(data)\n",
      "        Return the harmonic mean of data.\n",
      "        \n",
      "        The harmonic mean, sometimes called the subcontrary mean, is the\n",
      "        reciprocal of the arithmetic mean of the reciprocals of the data,\n",
      "        and is often appropriate when averaging quantities which are rates\n",
      "        or ratios, for example speeds. Example:\n",
      "        \n",
      "        Suppose an investor purchases an equal value of shares in each of\n",
      "        three companies, with P/E (price/earning) ratios of 2.5, 3 and 10.\n",
      "        What is the average P/E ratio for the investor's portfolio?\n",
      "        \n",
      "        >>> harmonic_mean([2.5, 3, 10])  # For an equal investment portfolio.\n",
      "        3.6\n",
      "        \n",
      "        Using the arithmetic mean would give an average of about 5.167, which\n",
      "        is too high.\n",
      "        \n",
      "        If ``data`` is empty, or any element is less than zero,\n",
      "        ``harmonic_mean`` will raise ``StatisticsError``.\n",
      "    \n",
      "    mean(data)\n",
      "        Return the sample arithmetic mean of data.\n",
      "        \n",
      "        >>> mean([1, 2, 3, 4, 4])\n",
      "        2.8\n",
      "        \n",
      "        >>> from fractions import Fraction as F\n",
      "        >>> mean([F(3, 7), F(1, 21), F(5, 3), F(1, 3)])\n",
      "        Fraction(13, 21)\n",
      "        \n",
      "        >>> from decimal import Decimal as D\n",
      "        >>> mean([D(\"0.5\"), D(\"0.75\"), D(\"0.625\"), D(\"0.375\")])\n",
      "        Decimal('0.5625')\n",
      "        \n",
      "        If ``data`` is empty, StatisticsError will be raised.\n",
      "    \n",
      "    median(data)\n",
      "        Return the median (middle value) of numeric data.\n",
      "        \n",
      "        When the number of data points is odd, return the middle data point.\n",
      "        When the number of data points is even, the median is interpolated by\n",
      "        taking the average of the two middle values:\n",
      "        \n",
      "        >>> median([1, 3, 5])\n",
      "        3\n",
      "        >>> median([1, 3, 5, 7])\n",
      "        4.0\n",
      "    \n",
      "    median_grouped(data, interval=1)\n",
      "        Return the 50th percentile (median) of grouped continuous data.\n",
      "        \n",
      "        >>> median_grouped([1, 2, 2, 3, 4, 4, 4, 4, 4, 5])\n",
      "        3.7\n",
      "        >>> median_grouped([52, 52, 53, 54])\n",
      "        52.5\n",
      "        \n",
      "        This calculates the median as the 50th percentile, and should be\n",
      "        used when your data is continuous and grouped. In the above example,\n",
      "        the values 1, 2, 3, etc. actually represent the midpoint of classes\n",
      "        0.5-1.5, 1.5-2.5, 2.5-3.5, etc. The middle value falls somewhere in\n",
      "        class 3.5-4.5, and interpolation is used to estimate it.\n",
      "        \n",
      "        Optional argument ``interval`` represents the class interval, and\n",
      "        defaults to 1. Changing the class interval naturally will change the\n",
      "        interpolated 50th percentile value:\n",
      "        \n",
      "        >>> median_grouped([1, 3, 3, 5, 7], interval=1)\n",
      "        3.25\n",
      "        >>> median_grouped([1, 3, 3, 5, 7], interval=2)\n",
      "        3.5\n",
      "        \n",
      "        This function does not check whether the data points are at least\n",
      "        ``interval`` apart.\n",
      "    \n",
      "    median_high(data)\n",
      "        Return the high median of data.\n",
      "        \n",
      "        When the number of data points is odd, the middle value is returned.\n",
      "        When it is even, the larger of the two middle values is returned.\n",
      "        \n",
      "        >>> median_high([1, 3, 5])\n",
      "        3\n",
      "        >>> median_high([1, 3, 5, 7])\n",
      "        5\n",
      "    \n",
      "    median_low(data)\n",
      "        Return the low median of numeric data.\n",
      "        \n",
      "        When the number of data points is odd, the middle value is returned.\n",
      "        When it is even, the smaller of the two middle values is returned.\n",
      "        \n",
      "        >>> median_low([1, 3, 5])\n",
      "        3\n",
      "        >>> median_low([1, 3, 5, 7])\n",
      "        3\n",
      "    \n",
      "    mode(data)\n",
      "        Return the most common data point from discrete or nominal data.\n",
      "        \n",
      "        ``mode`` assumes discrete data, and returns a single value. This is the\n",
      "        standard treatment of the mode as commonly taught in schools:\n",
      "        \n",
      "        >>> mode([1, 1, 2, 3, 3, 3, 3, 4])\n",
      "        3\n",
      "        \n",
      "        This also works with nominal (non-numeric) data:\n",
      "        \n",
      "        >>> mode([\"red\", \"blue\", \"blue\", \"red\", \"green\", \"red\", \"red\"])\n",
      "        'red'\n",
      "        \n",
      "        If there is not exactly one most common value, ``mode`` will raise\n",
      "        StatisticsError.\n",
      "    \n",
      "    pstdev(data, mu=None)\n",
      "        Return the square root of the population variance.\n",
      "        \n",
      "        See ``pvariance`` for arguments and other details.\n",
      "        \n",
      "        >>> pstdev([1.5, 2.5, 2.5, 2.75, 3.25, 4.75])\n",
      "        0.986893273527251\n",
      "    \n",
      "    pvariance(data, mu=None)\n",
      "        Return the population variance of ``data``.\n",
      "        \n",
      "        data should be an iterable of Real-valued numbers, with at least one\n",
      "        value. The optional argument mu, if given, should be the mean of\n",
      "        the data. If it is missing or None, the mean is automatically calculated.\n",
      "        \n",
      "        Use this function to calculate the variance from the entire population.\n",
      "        To estimate the variance from a sample, the ``variance`` function is\n",
      "        usually a better choice.\n",
      "        \n",
      "        Examples:\n",
      "        \n",
      "        >>> data = [0.0, 0.25, 0.25, 1.25, 1.5, 1.75, 2.75, 3.25]\n",
      "        >>> pvariance(data)\n",
      "        1.25\n",
      "        \n",
      "        If you have already calculated the mean of the data, you can pass it as\n",
      "        the optional second argument to avoid recalculating it:\n",
      "        \n",
      "        >>> mu = mean(data)\n",
      "        >>> pvariance(data, mu)\n",
      "        1.25\n",
      "        \n",
      "        This function does not check that ``mu`` is actually the mean of ``data``.\n",
      "        Giving arbitrary values for ``mu`` may lead to invalid or impossible\n",
      "        results.\n",
      "        \n",
      "        Decimals and Fractions are supported:\n",
      "        \n",
      "        >>> from decimal import Decimal as D\n",
      "        >>> pvariance([D(\"27.5\"), D(\"30.25\"), D(\"30.25\"), D(\"34.5\"), D(\"41.75\")])\n",
      "        Decimal('24.815')\n",
      "        \n",
      "        >>> from fractions import Fraction as F\n",
      "        >>> pvariance([F(1, 4), F(5, 4), F(1, 2)])\n",
      "        Fraction(13, 72)\n",
      "    \n",
      "    stdev(data, xbar=None)\n",
      "        Return the square root of the sample variance.\n",
      "        \n",
      "        See ``variance`` for arguments and other details.\n",
      "        \n",
      "        >>> stdev([1.5, 2.5, 2.5, 2.75, 3.25, 4.75])\n",
      "        1.0810874155219827\n",
      "    \n",
      "    variance(data, xbar=None)\n",
      "        Return the sample variance of data.\n",
      "        \n",
      "        data should be an iterable of Real-valued numbers, with at least two\n",
      "        values. The optional argument xbar, if given, should be the mean of\n",
      "        the data. If it is missing or None, the mean is automatically calculated.\n",
      "        \n",
      "        Use this function when your data is a sample from a population. To\n",
      "        calculate the variance from the entire population, see ``pvariance``.\n",
      "        \n",
      "        Examples:\n",
      "        \n",
      "        >>> data = [2.75, 1.75, 1.25, 0.25, 0.5, 1.25, 3.5]\n",
      "        >>> variance(data)\n",
      "        1.3720238095238095\n",
      "        \n",
      "        If you have already calculated the mean of your data, you can pass it as\n",
      "        the optional second argument ``xbar`` to avoid recalculating it:\n",
      "        \n",
      "        >>> m = mean(data)\n",
      "        >>> variance(data, m)\n",
      "        1.3720238095238095\n",
      "        \n",
      "        This function does not check that ``xbar`` is actually the mean of\n",
      "        ``data``. Giving arbitrary values for ``xbar`` may lead to invalid or\n",
      "        impossible results.\n",
      "        \n",
      "        Decimals and Fractions are supported:\n",
      "        \n",
      "        >>> from decimal import Decimal as D\n",
      "        >>> variance([D(\"27.5\"), D(\"30.25\"), D(\"30.25\"), D(\"34.5\"), D(\"41.75\")])\n",
      "        Decimal('31.01875')\n",
      "        \n",
      "        >>> from fractions import Fraction as F\n",
      "        >>> variance([F(1, 6), F(1, 2), F(5, 3)])\n",
      "        Fraction(67, 108)\n",
      "\n",
      "DATA\n",
      "    __all__ = ['StatisticsError', 'pstdev', 'pvariance', 'stdev', 'varianc...\n",
      "\n",
      "FILE\n",
      "    /usr/lib/python3.7/statistics.py\n",
      "\n",
      "\n"
     ]
    }
   ],
   "source": [
    "# Très important : afficher l'aide d'un module et le lien vers sa documentation complète\n",
    "help(statistics)"
   ]
  }
 ],
 "metadata": {
  "kernelspec": {
   "display_name": "Python 3 (ipykernel)",
   "language": "python",
   "name": "python3"
  },
  "language_info": {
   "codemirror_mode": {
    "name": "ipython",
    "version": 3
   },
   "file_extension": ".py",
   "mimetype": "text/x-python",
   "name": "python",
   "nbconvert_exporter": "python",
   "pygments_lexer": "ipython3",
   "version": "3.7.3"
  }
 },
 "nbformat": 4,
 "nbformat_minor": 5
}
