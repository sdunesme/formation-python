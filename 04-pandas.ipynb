{
 "cells": [
  {
   "cell_type": "markdown",
   "id": "345fabd1-b310-4458-a1a4-bab4528aa3cd",
   "metadata": {
    "slideshow": {
     "slide_type": "slide"
    },
    "tags": []
   },
   "source": [
    "# Librairie tableaux, statistiques et data science : pandas\n",
    "\n",
    "| pandas is a fast, powerful, flexible and easy to use open source data analysis and manipulation tool,\n",
    "built on top of the Python programming language.\n",
    "\n",
    "Dans une distribution Anaconda, on installe le package pandas via l'Anaconda prompt. Veillez à bien être dans votre environnement virtuel au préalable.\n",
    "```bash\n",
    "conda install -c conda-forge pandas\n",
    "```"
   ]
  },
  {
   "cell_type": "code",
   "execution_count": 1,
   "id": "d583041a-d819-4ebc-9077-bb92b496d6f3",
   "metadata": {},
   "outputs": [
    {
     "name": "stdout",
     "output_type": "stream",
     "text": [
      "1.5.1\n"
     ]
    }
   ],
   "source": [
    "import pandas as pd\n",
    "print(pd.__version__)"
   ]
  },
  {
   "cell_type": "code",
   "execution_count": 2,
   "id": "8fbe4350-3744-4297-81b0-8ffb1e51688c",
   "metadata": {
    "slideshow": {
     "slide_type": "slide"
    },
    "tags": []
   },
   "outputs": [
    {
     "name": "stdout",
     "output_type": "stream",
     "text": [
      "<module 'pandas' from 'C:\\\\Users\\\\sdunesme\\\\Miniconda3\\\\envs\\\\formation\\\\lib\\\\site-packages\\\\pandas\\\\__init__.py'>\n"
     ]
    }
   ],
   "source": [
    "print(pd)"
   ]
  },
  {
   "cell_type": "code",
   "execution_count": 3,
   "id": "6236cf88-ca70-4912-8e89-403acf9fcd40",
   "metadata": {
    "slideshow": {
     "slide_type": "fragment"
    },
    "tags": []
   },
   "outputs": [
    {
     "data": {
      "text/plain": [
       "\u001b[1;31mType:\u001b[0m        module\n",
       "\u001b[1;31mString form:\u001b[0m <module 'pandas' from 'C:\\\\Users\\\\sdunesme\\\\Miniconda3\\\\envs\\\\formation\\\\lib\\\\site-packages\\\\pandas\\\\__init__.py'>\n",
       "\u001b[1;31mFile:\u001b[0m        c:\\users\\sdunesme\\miniconda3\\envs\\formation\\lib\\site-packages\\pandas\\__init__.py\n",
       "\u001b[1;31mDocstring:\u001b[0m  \n",
       "pandas - a powerful data analysis and manipulation library for Python\n",
       "=====================================================================\n",
       "\n",
       "**pandas** is a Python package providing fast, flexible, and expressive data\n",
       "structures designed to make working with \"relational\" or \"labeled\" data both\n",
       "easy and intuitive. It aims to be the fundamental high-level building block for\n",
       "doing practical, **real world** data analysis in Python. Additionally, it has\n",
       "the broader goal of becoming **the most powerful and flexible open source data\n",
       "analysis / manipulation tool available in any language**. It is already well on\n",
       "its way toward this goal.\n",
       "\n",
       "Main Features\n",
       "-------------\n",
       "Here are just a few of the things that pandas does well:\n",
       "\n",
       "  - Easy handling of missing data in floating point as well as non-floating\n",
       "    point data.\n",
       "  - Size mutability: columns can be inserted and deleted from DataFrame and\n",
       "    higher dimensional objects\n",
       "  - Automatic and explicit data alignment: objects can be explicitly aligned\n",
       "    to a set of labels, or the user can simply ignore the labels and let\n",
       "    `Series`, `DataFrame`, etc. automatically align the data for you in\n",
       "    computations.\n",
       "  - Powerful, flexible group by functionality to perform split-apply-combine\n",
       "    operations on data sets, for both aggregating and transforming data.\n",
       "  - Make it easy to convert ragged, differently-indexed data in other Python\n",
       "    and NumPy data structures into DataFrame objects.\n",
       "  - Intelligent label-based slicing, fancy indexing, and subsetting of large\n",
       "    data sets.\n",
       "  - Intuitive merging and joining data sets.\n",
       "  - Flexible reshaping and pivoting of data sets.\n",
       "  - Hierarchical labeling of axes (possible to have multiple labels per tick).\n",
       "  - Robust IO tools for loading data from flat files (CSV and delimited),\n",
       "    Excel files, databases, and saving/loading data from the ultrafast HDF5\n",
       "    format.\n",
       "  - Time series-specific functionality: date range generation and frequency\n",
       "    conversion, moving window statistics, date shifting and lagging.\n"
      ]
     },
     "metadata": {},
     "output_type": "display_data"
    }
   ],
   "source": [
    "?pd"
   ]
  },
  {
   "cell_type": "markdown",
   "id": "16a64ba3-2a97-47cb-8c1c-7f492a51a947",
   "metadata": {
    "slideshow": {
     "slide_type": "slide"
    },
    "tags": []
   },
   "source": [
    "## Nouveaux types d'objets fournis par pandas\n",
    "\n",
    "Pandas fourni principalement le type (classe) d'objet `DataFrame`."
   ]
  },
  {
   "cell_type": "code",
   "execution_count": 4,
   "id": "91aaeb3c-22ed-4658-b39f-ff1c847b76c4",
   "metadata": {},
   "outputs": [
    {
     "name": "stdout",
     "output_type": "stream",
     "text": [
      "Empty DataFrame\n",
      "Columns: []\n",
      "Index: []\n"
     ]
    }
   ],
   "source": [
    "# On créé un DataFrame vide qu'on enregistre dans la variable df, puis on l'affiche\n",
    "df = pd.DataFrame()\n",
    "print(df)"
   ]
  },
  {
   "cell_type": "markdown",
   "id": "a5975d9c-12d5-4ce5-81da-9b89f2f6b5ce",
   "metadata": {
    "slideshow": {
     "slide_type": "slide"
    },
    "tags": []
   },
   "source": [
    "On peux créer un DataFrame à partir d'un dictionnaire existant. Les clés du dictionnaire doivent correspondre aux colonnes, et les valeurs aux lignes."
   ]
  },
  {
   "cell_type": "code",
   "execution_count": 5,
   "id": "34f72182-4a21-46de-977d-a9fc2926ca23",
   "metadata": {},
   "outputs": [
    {
     "name": "stdout",
     "output_type": "stream",
     "text": [
      "     espece  nombre\n",
      "0     chêne      15\n",
      "1    charme      24\n",
      "2     hêtre       2\n",
      "3  cocotier       0\n"
     ]
    }
   ],
   "source": [
    "inventaire_arbres = {\n",
    "    'espece': ['chêne', 'charme', 'hêtre', 'cocotier'],\n",
    "    'nombre': [15, 24, 2, 0]\n",
    "}\n",
    "\n",
    "df_arbres = pd.DataFrame(inventaire_arbres)\n",
    "print(df_arbres)"
   ]
  },
  {
   "cell_type": "markdown",
   "id": "aa44d24c-241d-4cca-82e2-d2e5d7389f78",
   "metadata": {
    "slideshow": {
     "slide_type": "slide"
    },
    "tags": []
   },
   "source": [
    "La [pandas cheatsheet](https://pandas.pydata.org/Pandas_Cheat_Sheet.pdf) résume beaucoup de méthodes et à avoir toujours sous la main.\n",
    "\n",
    "Par exemple, pour ajouter des lignes à un DataFrame :"
   ]
  },
  {
   "cell_type": "code",
   "execution_count": 6,
   "id": "e0e306fb-f4f1-4e08-8672-b72705d62e7b",
   "metadata": {},
   "outputs": [
    {
     "name": "stdout",
     "output_type": "stream",
     "text": [
      "     espece  nombre\n",
      "0     chêne      15\n",
      "1    charme      24\n",
      "2     hêtre       2\n",
      "3  cocotier       0\n",
      "0   pommier      15\n",
      "1   poirier      24\n",
      "2  bananier      54\n",
      "3  manguier      26\n"
     ]
    }
   ],
   "source": [
    "inventaire_nouveaux_arbres = {\n",
    "    'espece': ['pommier', 'poirier', 'bananier', 'manguier'],\n",
    "    'nombre': [15, 24, 54, 26]\n",
    "}\n",
    "\n",
    "# En réalité, on va concaténer deux DataFrames ayant les mêmes colonnes\n",
    "df_nouveaux_arbres = pd.DataFrame(inventaire_nouveaux_arbres)\n",
    "df_arbres = pd.concat([df_arbres, df_nouveaux_arbres])\n",
    "\n",
    "print(df_arbres)"
   ]
  },
  {
   "cell_type": "markdown",
   "id": "2aaeb5b0-5512-4cb8-abe9-e3519588721c",
   "metadata": {
    "slideshow": {
     "slide_type": "slide"
    },
    "tags": []
   },
   "source": [
    "Notez qu'après une concaténation, les index pandas ne sont plus uniques, contrairement aux index Python qui le sont toujours."
   ]
  },
  {
   "cell_type": "code",
   "execution_count": 7,
   "id": "5f9b6a27-a97a-4bb4-898e-d1dc927b7a6e",
   "metadata": {},
   "outputs": [
    {
     "name": "stdout",
     "output_type": "stream",
     "text": [
      "    espece  nombre\n",
      "1   charme      24\n",
      "1  poirier      24\n",
      "espece    charme\n",
      "nombre        24\n",
      "Name: 1, dtype: object\n"
     ]
    }
   ],
   "source": [
    "print(df_arbres.loc[1])\n",
    "print(df_arbres.iloc[1])"
   ]
  },
  {
   "cell_type": "markdown",
   "id": "befc8f0a-4491-4ff3-88fd-c55200b3227f",
   "metadata": {
    "slideshow": {
     "slide_type": "slide"
    },
    "tags": []
   },
   "source": [
    "On peux reset les index pandas. Une colonne index sera alors créée pour conserver les anciens index."
   ]
  },
  {
   "cell_type": "code",
   "execution_count": 8,
   "id": "bd18ab76-457a-4e99-afb4-2298a713d14c",
   "metadata": {},
   "outputs": [
    {
     "name": "stdout",
     "output_type": "stream",
     "text": [
      "   index    espece  nombre\n",
      "0      0     chêne      15\n",
      "1      1    charme      24\n",
      "2      2     hêtre       2\n",
      "3      3  cocotier       0\n",
      "4      0   pommier      15\n",
      "5      1   poirier      24\n",
      "6      2  bananier      54\n",
      "7      3  manguier      26\n"
     ]
    }
   ],
   "source": [
    "df_arbres.reset_index(inplace=True)\n",
    "print(df_arbres)"
   ]
  },
  {
   "cell_type": "markdown",
   "id": "2aaa5ae9-8902-4732-9513-edb4cb8ad904",
   "metadata": {
    "slideshow": {
     "slide_type": "slide"
    },
    "tags": []
   },
   "source": [
    "Les tableaux pandas sont dits \"tidy\". Exemple :"
   ]
  },
  {
   "cell_type": "code",
   "execution_count": 9,
   "id": "8287b4b8-790a-4f92-8481-7645f6efcc49",
   "metadata": {},
   "outputs": [
    {
     "name": "stdout",
     "output_type": "stream",
     "text": [
      "0      0\n",
      "1     24\n",
      "2      4\n",
      "3      0\n",
      "4      0\n",
      "5     24\n",
      "6    108\n",
      "7     78\n",
      "dtype: int64\n"
     ]
    }
   ],
   "source": [
    "print(df_arbres['index'] * df_arbres['nombre'])"
   ]
  },
  {
   "cell_type": "markdown",
   "id": "3282e4d2-f32e-481e-b538-e813dbb161ee",
   "metadata": {
    "slideshow": {
     "slide_type": "slide"
    },
    "tags": []
   },
   "source": [
    "Pour supprimer une colonne dont on n'a plus besoin :"
   ]
  },
  {
   "cell_type": "code",
   "execution_count": 10,
   "id": "680c0cd3-1b4d-462a-837d-f5db26f4404b",
   "metadata": {},
   "outputs": [
    {
     "name": "stdout",
     "output_type": "stream",
     "text": [
      "     espece  nombre\n",
      "0     chêne      15\n",
      "1    charme      24\n",
      "2     hêtre       2\n",
      "3  cocotier       0\n",
      "4   pommier      15\n",
      "5   poirier      24\n",
      "6  bananier      54\n",
      "7  manguier      26\n"
     ]
    }
   ],
   "source": [
    "df_arbres.drop(columns=['index'], inplace=True)\n",
    "print(df_arbres)"
   ]
  },
  {
   "cell_type": "markdown",
   "id": "b859f5e7-842d-4798-9030-27a8173cf1ed",
   "metadata": {
    "slideshow": {
     "slide_type": "slide"
    },
    "tags": []
   },
   "source": [
    "Pour résumer des variables selon un champ catégoriel :"
   ]
  },
  {
   "cell_type": "code",
   "execution_count": 11,
   "id": "d0490d76-8a02-4c86-a065-63bccd5b23f9",
   "metadata": {},
   "outputs": [
    {
     "name": "stdout",
     "output_type": "stream",
     "text": [
      "     espece  nombre\n",
      "0     chêne      15\n",
      "1    charme      24\n",
      "2     hêtre       2\n",
      "3  cocotier       0\n",
      "4   pommier      15\n",
      "5   poirier      24\n",
      "6  bananier      54\n",
      "7  manguier      26\n",
      "0     chêne      15\n",
      "1    charme      24\n",
      "2     hêtre       2\n",
      "3  cocotier       0\n"
     ]
    }
   ],
   "source": [
    "# Rajoutons quelques lignes à notre tableau\n",
    "df_arbres = pd.concat([\n",
    "    df_arbres, \n",
    "    pd.DataFrame({\n",
    "    'espece': ['chêne', 'charme', 'hêtre', 'cocotier'],\n",
    "    'nombre': [15, 24, 2, 0]\n",
    "    })\n",
    "])\n",
    "\n",
    "print(df_arbres)"
   ]
  },
  {
   "cell_type": "code",
   "execution_count": 12,
   "id": "589b5184-da5c-41c1-95b3-9385e001bf6b",
   "metadata": {
    "slideshow": {
     "slide_type": "slide"
    },
    "tags": []
   },
   "outputs": [
    {
     "name": "stdout",
     "output_type": "stream",
     "text": [
      "          nombre\n",
      "espece          \n",
      "bananier      54\n",
      "charme        48\n",
      "chêne         30\n",
      "cocotier       0\n",
      "hêtre          4\n",
      "manguier      26\n",
      "poirier       24\n",
      "pommier       15\n"
     ]
    }
   ],
   "source": [
    "# Résumons en faisant une somme par catégorie\n",
    "somme_arbres = df_arbres.groupby('espece').sum()\n",
    "print(somme_arbres)"
   ]
  },
  {
   "cell_type": "markdown",
   "id": "a3d22b08-bf2f-448e-906d-14e13f77a99c",
   "metadata": {
    "slideshow": {
     "slide_type": "slide"
    },
    "tags": []
   },
   "source": [
    "En faisant cela, l'index pandas est devenu une chaine de caractère correspondant au nom du groupe au moment du `groupby`."
   ]
  },
  {
   "cell_type": "code",
   "execution_count": 13,
   "id": "d4b6a2c2-1ca0-44e5-ac60-9baaa6c04c04",
   "metadata": {},
   "outputs": [
    {
     "data": {
      "text/plain": [
       "nombre    48\n",
       "Name: charme, dtype: int64"
      ]
     },
     "execution_count": 13,
     "metadata": {},
     "output_type": "execute_result"
    }
   ],
   "source": [
    "somme_arbres.loc['charme']"
   ]
  },
  {
   "cell_type": "markdown",
   "id": "e379bf2b-9f3d-4e5d-9ce7-f5f29fc51b2b",
   "metadata": {
    "slideshow": {
     "slide_type": "slide"
    },
    "tags": []
   },
   "source": [
    "Pour réaliser des graphiques, nous avons besoin du package matplotlib qui n'est pas une dépendance obligatoire de pandas.\n",
    "\n",
    "```bash\n",
    "conda install -c conda-forge matplotlib\n",
    "```\n",
    "\n",
    "On peux ensuite utiliser un méthode des DataFrames pandas :"
   ]
  },
  {
   "cell_type": "code",
   "execution_count": 14,
   "id": "7a12e4e8-7404-4173-82ba-97c231da29a9",
   "metadata": {
    "slideshow": {
     "slide_type": "slide"
    },
    "tags": []
   },
   "outputs": [
    {
     "data": {
      "image/png": "[encoded data removed]",
      "text/plain": [
       "<Figure size 640x480 with 1 Axes>"
      ]
     },
     "metadata": {},
     "output_type": "display_data"
    }
   ],
   "source": [
    "# Avec des lignes dupliquées\n",
    "mon_histo = df_arbres.plot.bar(x='espece', y='nombre', title='Nombre d\\'individus recensés par espèce')"
   ]
  },
  {
   "cell_type": "code",
   "execution_count": 16,
   "id": "f76122bc-1e5f-443e-a5a1-2e3dcf8422c4",
   "metadata": {
    "slideshow": {
     "slide_type": "slide"
    },
    "tags": []
   },
   "outputs": [
    {
     "data": {
      "image/png": "[encoded data removed]",
      "text/plain": [
       "<Figure size 640x480 with 1 Axes>"
      ]
     },
     "metadata": {},
     "output_type": "display_data"
    }
   ],
   "source": [
    "# Avec le résumé statistique\n",
    "mon_histo = somme_arbres.sort_values('nombre').plot.bar(y='nombre', title='Nombre d\\'individus recensés par espèce')"
   ]
  },
  {
   "cell_type": "markdown",
   "id": "7fef18f8-2a10-483d-9362-5f8feb639179",
   "metadata": {
    "slideshow": {
     "slide_type": "slide"
    },
    "tags": []
   },
   "source": [
    "## Lire et écrire dans des fichiers avec pandas\n",
    "\n",
    "Pandas peut générer des tableaux de données directement depuis des fichiers : par exemple csv, presse-papier, excel, sql, json, xml, ..."
   ]
  },
  {
   "cell_type": "code",
   "execution_count": 17,
   "id": "e7186480-cf4c-4049-826e-7d4e1f9e1eb0",
   "metadata": {},
   "outputs": [
    {
     "name": "stdout",
     "output_type": "stream",
     "text": [
      "     Sepal.Length  Sepal.Width  Petal.Length  Petal.Width    Species\n",
      "1             5.1          3.5           1.4          0.2     setosa\n",
      "2             4.9          3.0           1.4          0.2     setosa\n",
      "3             4.7          3.2           1.3          0.2     setosa\n",
      "4             4.6          3.1           1.5          0.2     setosa\n",
      "5             5.0          3.6           1.4          0.2     setosa\n",
      "..            ...          ...           ...          ...        ...\n",
      "146           6.7          3.0           5.2          2.3  virginica\n",
      "147           6.3          2.5           5.0          1.9  virginica\n",
      "148           6.5          3.0           5.2          2.0  virginica\n",
      "149           6.2          3.4           5.4          2.3  virginica\n",
      "150           5.9          3.0           5.1          1.8  virginica\n",
      "\n",
      "[150 rows x 5 columns]\n"
     ]
    }
   ],
   "source": [
    "df_iris = pd.read_csv('datasets/iris.csv', index_col=0)\n",
    "print(df_iris)"
   ]
  },
  {
   "cell_type": "markdown",
   "id": "639309bb-a7d3-409e-9b27-5a40e946fe4f",
   "metadata": {
    "slideshow": {
     "slide_type": "slide"
    },
    "tags": []
   },
   "source": [
    "La sauvegarde d'un tableau de données dans un fichier est également extrêmement simple."
   ]
  },
  {
   "cell_type": "code",
   "execution_count": 18,
   "id": "47e80cc8-5610-49ed-82fa-e8602a14f590",
   "metadata": {},
   "outputs": [],
   "source": [
    "df_arbres.to_csv('datasets/output/inventaire.csv', sep=',')"
   ]
  },
  {
   "cell_type": "markdown",
   "id": "a8c3cd1a-34c0-423a-a66b-d1791b32545d",
   "metadata": {
    "slideshow": {
     "slide_type": "slide"
    },
    "tags": []
   },
   "source": [
    "## Visualiser des données avec pandas\n",
    "### Table\n",
    "\n",
    "Les tableaux pandas s'intègrent bien dans les Jupyter notebook si on enlève la fonction `print()`."
   ]
  },
  {
   "cell_type": "code",
   "execution_count": 19,
   "id": "89bae791-abea-47a8-8caf-16157bef24ac",
   "metadata": {},
   "outputs": [
    {
     "data": {
      "text/html": [
       "<div>\n",
       "<style scoped>\n",
       "    .dataframe tbody tr th:only-of-type {\n",
       "        vertical-align: middle;\n",
       "    }\n",
       "\n",
       "    .dataframe tbody tr th {\n",
       "        vertical-align: top;\n",
       "    }\n",
       "\n",
       "    .dataframe thead th {\n",
       "        text-align: right;\n",
       "    }\n",
       "</style>\n",
       "<table border=\"1\" class=\"dataframe\">\n",
       "  <thead>\n",
       "    <tr style=\"text-align: right;\">\n",
       "      <th></th>\n",
       "      <th>Sepal.Length</th>\n",
       "      <th>Sepal.Width</th>\n",
       "      <th>Petal.Length</th>\n",
       "      <th>Petal.Width</th>\n",
       "      <th>Species</th>\n",
       "    </tr>\n",
       "  </thead>\n",
       "  <tbody>\n",
       "    <tr>\n",
       "      <th>1</th>\n",
       "      <td>5.1</td>\n",
       "      <td>3.5</td>\n",
       "      <td>1.4</td>\n",
       "      <td>0.2</td>\n",
       "      <td>setosa</td>\n",
       "    </tr>\n",
       "    <tr>\n",
       "      <th>2</th>\n",
       "      <td>4.9</td>\n",
       "      <td>3.0</td>\n",
       "      <td>1.4</td>\n",
       "      <td>0.2</td>\n",
       "      <td>setosa</td>\n",
       "    </tr>\n",
       "    <tr>\n",
       "      <th>3</th>\n",
       "      <td>4.7</td>\n",
       "      <td>3.2</td>\n",
       "      <td>1.3</td>\n",
       "      <td>0.2</td>\n",
       "      <td>setosa</td>\n",
       "    </tr>\n",
       "    <tr>\n",
       "      <th>4</th>\n",
       "      <td>4.6</td>\n",
       "      <td>3.1</td>\n",
       "      <td>1.5</td>\n",
       "      <td>0.2</td>\n",
       "      <td>setosa</td>\n",
       "    </tr>\n",
       "    <tr>\n",
       "      <th>5</th>\n",
       "      <td>5.0</td>\n",
       "      <td>3.6</td>\n",
       "      <td>1.4</td>\n",
       "      <td>0.2</td>\n",
       "      <td>setosa</td>\n",
       "    </tr>\n",
       "    <tr>\n",
       "      <th>...</th>\n",
       "      <td>...</td>\n",
       "      <td>...</td>\n",
       "      <td>...</td>\n",
       "      <td>...</td>\n",
       "      <td>...</td>\n",
       "    </tr>\n",
       "    <tr>\n",
       "      <th>146</th>\n",
       "      <td>6.7</td>\n",
       "      <td>3.0</td>\n",
       "      <td>5.2</td>\n",
       "      <td>2.3</td>\n",
       "      <td>virginica</td>\n",
       "    </tr>\n",
       "    <tr>\n",
       "      <th>147</th>\n",
       "      <td>6.3</td>\n",
       "      <td>2.5</td>\n",
       "      <td>5.0</td>\n",
       "      <td>1.9</td>\n",
       "      <td>virginica</td>\n",
       "    </tr>\n",
       "    <tr>\n",
       "      <th>148</th>\n",
       "      <td>6.5</td>\n",
       "      <td>3.0</td>\n",
       "      <td>5.2</td>\n",
       "      <td>2.0</td>\n",
       "      <td>virginica</td>\n",
       "    </tr>\n",
       "    <tr>\n",
       "      <th>149</th>\n",
       "      <td>6.2</td>\n",
       "      <td>3.4</td>\n",
       "      <td>5.4</td>\n",
       "      <td>2.3</td>\n",
       "      <td>virginica</td>\n",
       "    </tr>\n",
       "    <tr>\n",
       "      <th>150</th>\n",
       "      <td>5.9</td>\n",
       "      <td>3.0</td>\n",
       "      <td>5.1</td>\n",
       "      <td>1.8</td>\n",
       "      <td>virginica</td>\n",
       "    </tr>\n",
       "  </tbody>\n",
       "</table>\n",
       "<p>150 rows × 5 columns</p>\n",
       "</div>"
      ],
      "text/plain": [
       "     Sepal.Length  Sepal.Width  Petal.Length  Petal.Width    Species\n",
       "1             5.1          3.5           1.4          0.2     setosa\n",
       "2             4.9          3.0           1.4          0.2     setosa\n",
       "3             4.7          3.2           1.3          0.2     setosa\n",
       "4             4.6          3.1           1.5          0.2     setosa\n",
       "5             5.0          3.6           1.4          0.2     setosa\n",
       "..            ...          ...           ...          ...        ...\n",
       "146           6.7          3.0           5.2          2.3  virginica\n",
       "147           6.3          2.5           5.0          1.9  virginica\n",
       "148           6.5          3.0           5.2          2.0  virginica\n",
       "149           6.2          3.4           5.4          2.3  virginica\n",
       "150           5.9          3.0           5.1          1.8  virginica\n",
       "\n",
       "[150 rows x 5 columns]"
      ]
     },
     "execution_count": 19,
     "metadata": {},
     "output_type": "execute_result"
    }
   ],
   "source": [
    "df_iris"
   ]
  },
  {
   "cell_type": "markdown",
   "id": "67ffa49f-afcc-4cc4-82d1-7d61cf6ffce7",
   "metadata": {
    "slideshow": {
     "slide_type": "slide"
    },
    "tags": []
   },
   "source": [
    "Les méthodes head et tail permettent de récupérer les premières et dernières lignes."
   ]
  },
  {
   "cell_type": "code",
   "execution_count": 20,
   "id": "cb8f9429-ad1f-4e05-8363-139b2b19ae28",
   "metadata": {},
   "outputs": [
    {
     "data": {
      "text/html": [
       "<div>\n",
       "<style scoped>\n",
       "    .dataframe tbody tr th:only-of-type {\n",
       "        vertical-align: middle;\n",
       "    }\n",
       "\n",
       "    .dataframe tbody tr th {\n",
       "        vertical-align: top;\n",
       "    }\n",
       "\n",
       "    .dataframe thead th {\n",
       "        text-align: right;\n",
       "    }\n",
       "</style>\n",
       "<table border=\"1\" class=\"dataframe\">\n",
       "  <thead>\n",
       "    <tr style=\"text-align: right;\">\n",
       "      <th></th>\n",
       "      <th>Sepal.Length</th>\n",
       "      <th>Sepal.Width</th>\n",
       "      <th>Petal.Length</th>\n",
       "      <th>Petal.Width</th>\n",
       "      <th>Species</th>\n",
       "    </tr>\n",
       "  </thead>\n",
       "  <tbody>\n",
       "    <tr>\n",
       "      <th>1</th>\n",
       "      <td>5.1</td>\n",
       "      <td>3.5</td>\n",
       "      <td>1.4</td>\n",
       "      <td>0.2</td>\n",
       "      <td>setosa</td>\n",
       "    </tr>\n",
       "    <tr>\n",
       "      <th>2</th>\n",
       "      <td>4.9</td>\n",
       "      <td>3.0</td>\n",
       "      <td>1.4</td>\n",
       "      <td>0.2</td>\n",
       "      <td>setosa</td>\n",
       "    </tr>\n",
       "    <tr>\n",
       "      <th>3</th>\n",
       "      <td>4.7</td>\n",
       "      <td>3.2</td>\n",
       "      <td>1.3</td>\n",
       "      <td>0.2</td>\n",
       "      <td>setosa</td>\n",
       "    </tr>\n",
       "    <tr>\n",
       "      <th>4</th>\n",
       "      <td>4.6</td>\n",
       "      <td>3.1</td>\n",
       "      <td>1.5</td>\n",
       "      <td>0.2</td>\n",
       "      <td>setosa</td>\n",
       "    </tr>\n",
       "    <tr>\n",
       "      <th>5</th>\n",
       "      <td>5.0</td>\n",
       "      <td>3.6</td>\n",
       "      <td>1.4</td>\n",
       "      <td>0.2</td>\n",
       "      <td>setosa</td>\n",
       "    </tr>\n",
       "    <tr>\n",
       "      <th>6</th>\n",
       "      <td>5.4</td>\n",
       "      <td>3.9</td>\n",
       "      <td>1.7</td>\n",
       "      <td>0.4</td>\n",
       "      <td>setosa</td>\n",
       "    </tr>\n",
       "    <tr>\n",
       "      <th>7</th>\n",
       "      <td>4.6</td>\n",
       "      <td>3.4</td>\n",
       "      <td>1.4</td>\n",
       "      <td>0.3</td>\n",
       "      <td>setosa</td>\n",
       "    </tr>\n",
       "    <tr>\n",
       "      <th>8</th>\n",
       "      <td>5.0</td>\n",
       "      <td>3.4</td>\n",
       "      <td>1.5</td>\n",
       "      <td>0.2</td>\n",
       "      <td>setosa</td>\n",
       "    </tr>\n",
       "    <tr>\n",
       "      <th>9</th>\n",
       "      <td>4.4</td>\n",
       "      <td>2.9</td>\n",
       "      <td>1.4</td>\n",
       "      <td>0.2</td>\n",
       "      <td>setosa</td>\n",
       "    </tr>\n",
       "    <tr>\n",
       "      <th>10</th>\n",
       "      <td>4.9</td>\n",
       "      <td>3.1</td>\n",
       "      <td>1.5</td>\n",
       "      <td>0.1</td>\n",
       "      <td>setosa</td>\n",
       "    </tr>\n",
       "    <tr>\n",
       "      <th>11</th>\n",
       "      <td>5.4</td>\n",
       "      <td>3.7</td>\n",
       "      <td>1.5</td>\n",
       "      <td>0.2</td>\n",
       "      <td>setosa</td>\n",
       "    </tr>\n",
       "    <tr>\n",
       "      <th>12</th>\n",
       "      <td>4.8</td>\n",
       "      <td>3.4</td>\n",
       "      <td>1.6</td>\n",
       "      <td>0.2</td>\n",
       "      <td>setosa</td>\n",
       "    </tr>\n",
       "    <tr>\n",
       "      <th>13</th>\n",
       "      <td>4.8</td>\n",
       "      <td>3.0</td>\n",
       "      <td>1.4</td>\n",
       "      <td>0.1</td>\n",
       "      <td>setosa</td>\n",
       "    </tr>\n",
       "    <tr>\n",
       "      <th>14</th>\n",
       "      <td>4.3</td>\n",
       "      <td>3.0</td>\n",
       "      <td>1.1</td>\n",
       "      <td>0.1</td>\n",
       "      <td>setosa</td>\n",
       "    </tr>\n",
       "    <tr>\n",
       "      <th>15</th>\n",
       "      <td>5.8</td>\n",
       "      <td>4.0</td>\n",
       "      <td>1.2</td>\n",
       "      <td>0.2</td>\n",
       "      <td>setosa</td>\n",
       "    </tr>\n",
       "  </tbody>\n",
       "</table>\n",
       "</div>"
      ],
      "text/plain": [
       "    Sepal.Length  Sepal.Width  Petal.Length  Petal.Width Species\n",
       "1            5.1          3.5           1.4          0.2  setosa\n",
       "2            4.9          3.0           1.4          0.2  setosa\n",
       "3            4.7          3.2           1.3          0.2  setosa\n",
       "4            4.6          3.1           1.5          0.2  setosa\n",
       "5            5.0          3.6           1.4          0.2  setosa\n",
       "6            5.4          3.9           1.7          0.4  setosa\n",
       "7            4.6          3.4           1.4          0.3  setosa\n",
       "8            5.0          3.4           1.5          0.2  setosa\n",
       "9            4.4          2.9           1.4          0.2  setosa\n",
       "10           4.9          3.1           1.5          0.1  setosa\n",
       "11           5.4          3.7           1.5          0.2  setosa\n",
       "12           4.8          3.4           1.6          0.2  setosa\n",
       "13           4.8          3.0           1.4          0.1  setosa\n",
       "14           4.3          3.0           1.1          0.1  setosa\n",
       "15           5.8          4.0           1.2          0.2  setosa"
      ]
     },
     "execution_count": 20,
     "metadata": {},
     "output_type": "execute_result"
    }
   ],
   "source": [
    "df_iris.head(15)"
   ]
  },
  {
   "cell_type": "code",
   "execution_count": 21,
   "id": "67446124-a2fa-4b01-958c-4b034415a61d",
   "metadata": {
    "slideshow": {
     "slide_type": "slide"
    },
    "tags": []
   },
   "outputs": [
    {
     "data": {
      "text/html": [
       "<div>\n",
       "<style scoped>\n",
       "    .dataframe tbody tr th:only-of-type {\n",
       "        vertical-align: middle;\n",
       "    }\n",
       "\n",
       "    .dataframe tbody tr th {\n",
       "        vertical-align: top;\n",
       "    }\n",
       "\n",
       "    .dataframe thead th {\n",
       "        text-align: right;\n",
       "    }\n",
       "</style>\n",
       "<table border=\"1\" class=\"dataframe\">\n",
       "  <thead>\n",
       "    <tr style=\"text-align: right;\">\n",
       "      <th></th>\n",
       "      <th>Sepal.Length</th>\n",
       "      <th>Sepal.Width</th>\n",
       "      <th>Petal.Length</th>\n",
       "      <th>Petal.Width</th>\n",
       "      <th>Species</th>\n",
       "    </tr>\n",
       "  </thead>\n",
       "  <tbody>\n",
       "    <tr>\n",
       "      <th>136</th>\n",
       "      <td>7.7</td>\n",
       "      <td>3.0</td>\n",
       "      <td>6.1</td>\n",
       "      <td>2.3</td>\n",
       "      <td>virginica</td>\n",
       "    </tr>\n",
       "    <tr>\n",
       "      <th>137</th>\n",
       "      <td>6.3</td>\n",
       "      <td>3.4</td>\n",
       "      <td>5.6</td>\n",
       "      <td>2.4</td>\n",
       "      <td>virginica</td>\n",
       "    </tr>\n",
       "    <tr>\n",
       "      <th>138</th>\n",
       "      <td>6.4</td>\n",
       "      <td>3.1</td>\n",
       "      <td>5.5</td>\n",
       "      <td>1.8</td>\n",
       "      <td>virginica</td>\n",
       "    </tr>\n",
       "    <tr>\n",
       "      <th>139</th>\n",
       "      <td>6.0</td>\n",
       "      <td>3.0</td>\n",
       "      <td>4.8</td>\n",
       "      <td>1.8</td>\n",
       "      <td>virginica</td>\n",
       "    </tr>\n",
       "    <tr>\n",
       "      <th>140</th>\n",
       "      <td>6.9</td>\n",
       "      <td>3.1</td>\n",
       "      <td>5.4</td>\n",
       "      <td>2.1</td>\n",
       "      <td>virginica</td>\n",
       "    </tr>\n",
       "    <tr>\n",
       "      <th>141</th>\n",
       "      <td>6.7</td>\n",
       "      <td>3.1</td>\n",
       "      <td>5.6</td>\n",
       "      <td>2.4</td>\n",
       "      <td>virginica</td>\n",
       "    </tr>\n",
       "    <tr>\n",
       "      <th>142</th>\n",
       "      <td>6.9</td>\n",
       "      <td>3.1</td>\n",
       "      <td>5.1</td>\n",
       "      <td>2.3</td>\n",
       "      <td>virginica</td>\n",
       "    </tr>\n",
       "    <tr>\n",
       "      <th>143</th>\n",
       "      <td>5.8</td>\n",
       "      <td>2.7</td>\n",
       "      <td>5.1</td>\n",
       "      <td>1.9</td>\n",
       "      <td>virginica</td>\n",
       "    </tr>\n",
       "    <tr>\n",
       "      <th>144</th>\n",
       "      <td>6.8</td>\n",
       "      <td>3.2</td>\n",
       "      <td>5.9</td>\n",
       "      <td>2.3</td>\n",
       "      <td>virginica</td>\n",
       "    </tr>\n",
       "    <tr>\n",
       "      <th>145</th>\n",
       "      <td>6.7</td>\n",
       "      <td>3.3</td>\n",
       "      <td>5.7</td>\n",
       "      <td>2.5</td>\n",
       "      <td>virginica</td>\n",
       "    </tr>\n",
       "    <tr>\n",
       "      <th>146</th>\n",
       "      <td>6.7</td>\n",
       "      <td>3.0</td>\n",
       "      <td>5.2</td>\n",
       "      <td>2.3</td>\n",
       "      <td>virginica</td>\n",
       "    </tr>\n",
       "    <tr>\n",
       "      <th>147</th>\n",
       "      <td>6.3</td>\n",
       "      <td>2.5</td>\n",
       "      <td>5.0</td>\n",
       "      <td>1.9</td>\n",
       "      <td>virginica</td>\n",
       "    </tr>\n",
       "    <tr>\n",
       "      <th>148</th>\n",
       "      <td>6.5</td>\n",
       "      <td>3.0</td>\n",
       "      <td>5.2</td>\n",
       "      <td>2.0</td>\n",
       "      <td>virginica</td>\n",
       "    </tr>\n",
       "    <tr>\n",
       "      <th>149</th>\n",
       "      <td>6.2</td>\n",
       "      <td>3.4</td>\n",
       "      <td>5.4</td>\n",
       "      <td>2.3</td>\n",
       "      <td>virginica</td>\n",
       "    </tr>\n",
       "    <tr>\n",
       "      <th>150</th>\n",
       "      <td>5.9</td>\n",
       "      <td>3.0</td>\n",
       "      <td>5.1</td>\n",
       "      <td>1.8</td>\n",
       "      <td>virginica</td>\n",
       "    </tr>\n",
       "  </tbody>\n",
       "</table>\n",
       "</div>"
      ],
      "text/plain": [
       "     Sepal.Length  Sepal.Width  Petal.Length  Petal.Width    Species\n",
       "136           7.7          3.0           6.1          2.3  virginica\n",
       "137           6.3          3.4           5.6          2.4  virginica\n",
       "138           6.4          3.1           5.5          1.8  virginica\n",
       "139           6.0          3.0           4.8          1.8  virginica\n",
       "140           6.9          3.1           5.4          2.1  virginica\n",
       "141           6.7          3.1           5.6          2.4  virginica\n",
       "142           6.9          3.1           5.1          2.3  virginica\n",
       "143           5.8          2.7           5.1          1.9  virginica\n",
       "144           6.8          3.2           5.9          2.3  virginica\n",
       "145           6.7          3.3           5.7          2.5  virginica\n",
       "146           6.7          3.0           5.2          2.3  virginica\n",
       "147           6.3          2.5           5.0          1.9  virginica\n",
       "148           6.5          3.0           5.2          2.0  virginica\n",
       "149           6.2          3.4           5.4          2.3  virginica\n",
       "150           5.9          3.0           5.1          1.8  virginica"
      ]
     },
     "execution_count": 21,
     "metadata": {},
     "output_type": "execute_result"
    }
   ],
   "source": [
    "df_iris.tail(15)"
   ]
  },
  {
   "cell_type": "markdown",
   "id": "2cca4f2d-5b64-4c0e-a4fd-8f249dde9f6d",
   "metadata": {
    "slideshow": {
     "slide_type": "slide"
    },
    "tags": []
   },
   "source": [
    "On accède aux lignes via leur index grâce à la propriété `.loc[]`"
   ]
  },
  {
   "cell_type": "code",
   "execution_count": 22,
   "id": "8e4440bf-18ac-4e12-9629-a466343d53a8",
   "metadata": {},
   "outputs": [
    {
     "data": {
      "text/html": [
       "<div>\n",
       "<style scoped>\n",
       "    .dataframe tbody tr th:only-of-type {\n",
       "        vertical-align: middle;\n",
       "    }\n",
       "\n",
       "    .dataframe tbody tr th {\n",
       "        vertical-align: top;\n",
       "    }\n",
       "\n",
       "    .dataframe thead th {\n",
       "        text-align: right;\n",
       "    }\n",
       "</style>\n",
       "<table border=\"1\" class=\"dataframe\">\n",
       "  <thead>\n",
       "    <tr style=\"text-align: right;\">\n",
       "      <th></th>\n",
       "      <th>Sepal.Length</th>\n",
       "      <th>Sepal.Width</th>\n",
       "      <th>Petal.Length</th>\n",
       "      <th>Petal.Width</th>\n",
       "      <th>Species</th>\n",
       "    </tr>\n",
       "  </thead>\n",
       "  <tbody>\n",
       "    <tr>\n",
       "      <th>30</th>\n",
       "      <td>4.7</td>\n",
       "      <td>3.2</td>\n",
       "      <td>1.6</td>\n",
       "      <td>0.2</td>\n",
       "      <td>setosa</td>\n",
       "    </tr>\n",
       "    <tr>\n",
       "      <th>31</th>\n",
       "      <td>4.8</td>\n",
       "      <td>3.1</td>\n",
       "      <td>1.6</td>\n",
       "      <td>0.2</td>\n",
       "      <td>setosa</td>\n",
       "    </tr>\n",
       "    <tr>\n",
       "      <th>32</th>\n",
       "      <td>5.4</td>\n",
       "      <td>3.4</td>\n",
       "      <td>1.5</td>\n",
       "      <td>0.4</td>\n",
       "      <td>setosa</td>\n",
       "    </tr>\n",
       "    <tr>\n",
       "      <th>33</th>\n",
       "      <td>5.2</td>\n",
       "      <td>4.1</td>\n",
       "      <td>1.5</td>\n",
       "      <td>0.1</td>\n",
       "      <td>setosa</td>\n",
       "    </tr>\n",
       "    <tr>\n",
       "      <th>34</th>\n",
       "      <td>5.5</td>\n",
       "      <td>4.2</td>\n",
       "      <td>1.4</td>\n",
       "      <td>0.2</td>\n",
       "      <td>setosa</td>\n",
       "    </tr>\n",
       "    <tr>\n",
       "      <th>35</th>\n",
       "      <td>4.9</td>\n",
       "      <td>3.1</td>\n",
       "      <td>1.5</td>\n",
       "      <td>0.2</td>\n",
       "      <td>setosa</td>\n",
       "    </tr>\n",
       "    <tr>\n",
       "      <th>36</th>\n",
       "      <td>5.0</td>\n",
       "      <td>3.2</td>\n",
       "      <td>1.2</td>\n",
       "      <td>0.2</td>\n",
       "      <td>setosa</td>\n",
       "    </tr>\n",
       "    <tr>\n",
       "      <th>37</th>\n",
       "      <td>5.5</td>\n",
       "      <td>3.5</td>\n",
       "      <td>1.3</td>\n",
       "      <td>0.2</td>\n",
       "      <td>setosa</td>\n",
       "    </tr>\n",
       "    <tr>\n",
       "      <th>38</th>\n",
       "      <td>4.9</td>\n",
       "      <td>3.6</td>\n",
       "      <td>1.4</td>\n",
       "      <td>0.1</td>\n",
       "      <td>setosa</td>\n",
       "    </tr>\n",
       "    <tr>\n",
       "      <th>39</th>\n",
       "      <td>4.4</td>\n",
       "      <td>3.0</td>\n",
       "      <td>1.3</td>\n",
       "      <td>0.2</td>\n",
       "      <td>setosa</td>\n",
       "    </tr>\n",
       "    <tr>\n",
       "      <th>40</th>\n",
       "      <td>5.1</td>\n",
       "      <td>3.4</td>\n",
       "      <td>1.5</td>\n",
       "      <td>0.2</td>\n",
       "      <td>setosa</td>\n",
       "    </tr>\n",
       "  </tbody>\n",
       "</table>\n",
       "</div>"
      ],
      "text/plain": [
       "    Sepal.Length  Sepal.Width  Petal.Length  Petal.Width Species\n",
       "30           4.7          3.2           1.6          0.2  setosa\n",
       "31           4.8          3.1           1.6          0.2  setosa\n",
       "32           5.4          3.4           1.5          0.4  setosa\n",
       "33           5.2          4.1           1.5          0.1  setosa\n",
       "34           5.5          4.2           1.4          0.2  setosa\n",
       "35           4.9          3.1           1.5          0.2  setosa\n",
       "36           5.0          3.2           1.2          0.2  setosa\n",
       "37           5.5          3.5           1.3          0.2  setosa\n",
       "38           4.9          3.6           1.4          0.1  setosa\n",
       "39           4.4          3.0           1.3          0.2  setosa\n",
       "40           5.1          3.4           1.5          0.2  setosa"
      ]
     },
     "execution_count": 22,
     "metadata": {},
     "output_type": "execute_result"
    }
   ],
   "source": [
    "df_iris.loc[30:40]"
   ]
  },
  {
   "cell_type": "code",
   "execution_count": 23,
   "id": "86be5db4-a8a2-4ba0-8402-cda8174869dc",
   "metadata": {
    "slideshow": {
     "slide_type": "slide"
    },
    "tags": []
   },
   "outputs": [
    {
     "data": {
      "text/html": [
       "<div>\n",
       "<style scoped>\n",
       "    .dataframe tbody tr th:only-of-type {\n",
       "        vertical-align: middle;\n",
       "    }\n",
       "\n",
       "    .dataframe tbody tr th {\n",
       "        vertical-align: top;\n",
       "    }\n",
       "\n",
       "    .dataframe thead th {\n",
       "        text-align: right;\n",
       "    }\n",
       "</style>\n",
       "<table border=\"1\" class=\"dataframe\">\n",
       "  <thead>\n",
       "    <tr style=\"text-align: right;\">\n",
       "      <th></th>\n",
       "      <th>nombre</th>\n",
       "    </tr>\n",
       "    <tr>\n",
       "      <th>espece</th>\n",
       "      <th></th>\n",
       "    </tr>\n",
       "  </thead>\n",
       "  <tbody>\n",
       "    <tr>\n",
       "      <th>charme</th>\n",
       "      <td>48</td>\n",
       "    </tr>\n",
       "    <tr>\n",
       "      <th>chêne</th>\n",
       "      <td>30</td>\n",
       "    </tr>\n",
       "    <tr>\n",
       "      <th>cocotier</th>\n",
       "      <td>0</td>\n",
       "    </tr>\n",
       "    <tr>\n",
       "      <th>hêtre</th>\n",
       "      <td>4</td>\n",
       "    </tr>\n",
       "    <tr>\n",
       "      <th>manguier</th>\n",
       "      <td>26</td>\n",
       "    </tr>\n",
       "    <tr>\n",
       "      <th>poirier</th>\n",
       "      <td>24</td>\n",
       "    </tr>\n",
       "  </tbody>\n",
       "</table>\n",
       "</div>"
      ],
      "text/plain": [
       "          nombre\n",
       "espece          \n",
       "charme        48\n",
       "chêne         30\n",
       "cocotier       0\n",
       "hêtre          4\n",
       "manguier      26\n",
       "poirier       24"
      ]
     },
     "execution_count": 23,
     "metadata": {},
     "output_type": "execute_result"
    }
   ],
   "source": [
    "# Cela fonctionne aussi avec les index de type str\n",
    "somme_arbres.loc['charme':'poirier']"
   ]
  },
  {
   "cell_type": "markdown",
   "id": "b7cc8609-773d-4af4-8f64-2fc64a1fa8d3",
   "metadata": {
    "slideshow": {
     "slide_type": "slide"
    },
    "tags": []
   },
   "source": [
    "On peux filtrer les lignes de cette façon :"
   ]
  },
  {
   "cell_type": "code",
   "execution_count": 24,
   "id": "fada124b-2b0f-46b3-b155-d057f34e27c9",
   "metadata": {},
   "outputs": [
    {
     "data": {
      "text/html": [
       "<div>\n",
       "<style scoped>\n",
       "    .dataframe tbody tr th:only-of-type {\n",
       "        vertical-align: middle;\n",
       "    }\n",
       "\n",
       "    .dataframe tbody tr th {\n",
       "        vertical-align: top;\n",
       "    }\n",
       "\n",
       "    .dataframe thead th {\n",
       "        text-align: right;\n",
       "    }\n",
       "</style>\n",
       "<table border=\"1\" class=\"dataframe\">\n",
       "  <thead>\n",
       "    <tr style=\"text-align: right;\">\n",
       "      <th></th>\n",
       "      <th>Sepal.Length</th>\n",
       "      <th>Sepal.Width</th>\n",
       "      <th>Petal.Length</th>\n",
       "      <th>Petal.Width</th>\n",
       "      <th>Species</th>\n",
       "    </tr>\n",
       "  </thead>\n",
       "  <tbody>\n",
       "    <tr>\n",
       "      <th>101</th>\n",
       "      <td>6.3</td>\n",
       "      <td>3.3</td>\n",
       "      <td>6.0</td>\n",
       "      <td>2.5</td>\n",
       "      <td>virginica</td>\n",
       "    </tr>\n",
       "    <tr>\n",
       "      <th>102</th>\n",
       "      <td>5.8</td>\n",
       "      <td>2.7</td>\n",
       "      <td>5.1</td>\n",
       "      <td>1.9</td>\n",
       "      <td>virginica</td>\n",
       "    </tr>\n",
       "    <tr>\n",
       "      <th>103</th>\n",
       "      <td>7.1</td>\n",
       "      <td>3.0</td>\n",
       "      <td>5.9</td>\n",
       "      <td>2.1</td>\n",
       "      <td>virginica</td>\n",
       "    </tr>\n",
       "    <tr>\n",
       "      <th>104</th>\n",
       "      <td>6.3</td>\n",
       "      <td>2.9</td>\n",
       "      <td>5.6</td>\n",
       "      <td>1.8</td>\n",
       "      <td>virginica</td>\n",
       "    </tr>\n",
       "    <tr>\n",
       "      <th>105</th>\n",
       "      <td>6.5</td>\n",
       "      <td>3.0</td>\n",
       "      <td>5.8</td>\n",
       "      <td>2.2</td>\n",
       "      <td>virginica</td>\n",
       "    </tr>\n",
       "    <tr>\n",
       "      <th>106</th>\n",
       "      <td>7.6</td>\n",
       "      <td>3.0</td>\n",
       "      <td>6.6</td>\n",
       "      <td>2.1</td>\n",
       "      <td>virginica</td>\n",
       "    </tr>\n",
       "    <tr>\n",
       "      <th>107</th>\n",
       "      <td>4.9</td>\n",
       "      <td>2.5</td>\n",
       "      <td>4.5</td>\n",
       "      <td>1.7</td>\n",
       "      <td>virginica</td>\n",
       "    </tr>\n",
       "    <tr>\n",
       "      <th>108</th>\n",
       "      <td>7.3</td>\n",
       "      <td>2.9</td>\n",
       "      <td>6.3</td>\n",
       "      <td>1.8</td>\n",
       "      <td>virginica</td>\n",
       "    </tr>\n",
       "    <tr>\n",
       "      <th>109</th>\n",
       "      <td>6.7</td>\n",
       "      <td>2.5</td>\n",
       "      <td>5.8</td>\n",
       "      <td>1.8</td>\n",
       "      <td>virginica</td>\n",
       "    </tr>\n",
       "    <tr>\n",
       "      <th>110</th>\n",
       "      <td>7.2</td>\n",
       "      <td>3.6</td>\n",
       "      <td>6.1</td>\n",
       "      <td>2.5</td>\n",
       "      <td>virginica</td>\n",
       "    </tr>\n",
       "    <tr>\n",
       "      <th>111</th>\n",
       "      <td>6.5</td>\n",
       "      <td>3.2</td>\n",
       "      <td>5.1</td>\n",
       "      <td>2.0</td>\n",
       "      <td>virginica</td>\n",
       "    </tr>\n",
       "    <tr>\n",
       "      <th>112</th>\n",
       "      <td>6.4</td>\n",
       "      <td>2.7</td>\n",
       "      <td>5.3</td>\n",
       "      <td>1.9</td>\n",
       "      <td>virginica</td>\n",
       "    </tr>\n",
       "    <tr>\n",
       "      <th>113</th>\n",
       "      <td>6.8</td>\n",
       "      <td>3.0</td>\n",
       "      <td>5.5</td>\n",
       "      <td>2.1</td>\n",
       "      <td>virginica</td>\n",
       "    </tr>\n",
       "    <tr>\n",
       "      <th>114</th>\n",
       "      <td>5.7</td>\n",
       "      <td>2.5</td>\n",
       "      <td>5.0</td>\n",
       "      <td>2.0</td>\n",
       "      <td>virginica</td>\n",
       "    </tr>\n",
       "    <tr>\n",
       "      <th>115</th>\n",
       "      <td>5.8</td>\n",
       "      <td>2.8</td>\n",
       "      <td>5.1</td>\n",
       "      <td>2.4</td>\n",
       "      <td>virginica</td>\n",
       "    </tr>\n",
       "    <tr>\n",
       "      <th>116</th>\n",
       "      <td>6.4</td>\n",
       "      <td>3.2</td>\n",
       "      <td>5.3</td>\n",
       "      <td>2.3</td>\n",
       "      <td>virginica</td>\n",
       "    </tr>\n",
       "    <tr>\n",
       "      <th>117</th>\n",
       "      <td>6.5</td>\n",
       "      <td>3.0</td>\n",
       "      <td>5.5</td>\n",
       "      <td>1.8</td>\n",
       "      <td>virginica</td>\n",
       "    </tr>\n",
       "    <tr>\n",
       "      <th>118</th>\n",
       "      <td>7.7</td>\n",
       "      <td>3.8</td>\n",
       "      <td>6.7</td>\n",
       "      <td>2.2</td>\n",
       "      <td>virginica</td>\n",
       "    </tr>\n",
       "    <tr>\n",
       "      <th>119</th>\n",
       "      <td>7.7</td>\n",
       "      <td>2.6</td>\n",
       "      <td>6.9</td>\n",
       "      <td>2.3</td>\n",
       "      <td>virginica</td>\n",
       "    </tr>\n",
       "    <tr>\n",
       "      <th>120</th>\n",
       "      <td>6.0</td>\n",
       "      <td>2.2</td>\n",
       "      <td>5.0</td>\n",
       "      <td>1.5</td>\n",
       "      <td>virginica</td>\n",
       "    </tr>\n",
       "    <tr>\n",
       "      <th>121</th>\n",
       "      <td>6.9</td>\n",
       "      <td>3.2</td>\n",
       "      <td>5.7</td>\n",
       "      <td>2.3</td>\n",
       "      <td>virginica</td>\n",
       "    </tr>\n",
       "    <tr>\n",
       "      <th>122</th>\n",
       "      <td>5.6</td>\n",
       "      <td>2.8</td>\n",
       "      <td>4.9</td>\n",
       "      <td>2.0</td>\n",
       "      <td>virginica</td>\n",
       "    </tr>\n",
       "    <tr>\n",
       "      <th>123</th>\n",
       "      <td>7.7</td>\n",
       "      <td>2.8</td>\n",
       "      <td>6.7</td>\n",
       "      <td>2.0</td>\n",
       "      <td>virginica</td>\n",
       "    </tr>\n",
       "    <tr>\n",
       "      <th>124</th>\n",
       "      <td>6.3</td>\n",
       "      <td>2.7</td>\n",
       "      <td>4.9</td>\n",
       "      <td>1.8</td>\n",
       "      <td>virginica</td>\n",
       "    </tr>\n",
       "    <tr>\n",
       "      <th>125</th>\n",
       "      <td>6.7</td>\n",
       "      <td>3.3</td>\n",
       "      <td>5.7</td>\n",
       "      <td>2.1</td>\n",
       "      <td>virginica</td>\n",
       "    </tr>\n",
       "    <tr>\n",
       "      <th>126</th>\n",
       "      <td>7.2</td>\n",
       "      <td>3.2</td>\n",
       "      <td>6.0</td>\n",
       "      <td>1.8</td>\n",
       "      <td>virginica</td>\n",
       "    </tr>\n",
       "    <tr>\n",
       "      <th>127</th>\n",
       "      <td>6.2</td>\n",
       "      <td>2.8</td>\n",
       "      <td>4.8</td>\n",
       "      <td>1.8</td>\n",
       "      <td>virginica</td>\n",
       "    </tr>\n",
       "    <tr>\n",
       "      <th>128</th>\n",
       "      <td>6.1</td>\n",
       "      <td>3.0</td>\n",
       "      <td>4.9</td>\n",
       "      <td>1.8</td>\n",
       "      <td>virginica</td>\n",
       "    </tr>\n",
       "    <tr>\n",
       "      <th>129</th>\n",
       "      <td>6.4</td>\n",
       "      <td>2.8</td>\n",
       "      <td>5.6</td>\n",
       "      <td>2.1</td>\n",
       "      <td>virginica</td>\n",
       "    </tr>\n",
       "    <tr>\n",
       "      <th>130</th>\n",
       "      <td>7.2</td>\n",
       "      <td>3.0</td>\n",
       "      <td>5.8</td>\n",
       "      <td>1.6</td>\n",
       "      <td>virginica</td>\n",
       "    </tr>\n",
       "    <tr>\n",
       "      <th>131</th>\n",
       "      <td>7.4</td>\n",
       "      <td>2.8</td>\n",
       "      <td>6.1</td>\n",
       "      <td>1.9</td>\n",
       "      <td>virginica</td>\n",
       "    </tr>\n",
       "    <tr>\n",
       "      <th>132</th>\n",
       "      <td>7.9</td>\n",
       "      <td>3.8</td>\n",
       "      <td>6.4</td>\n",
       "      <td>2.0</td>\n",
       "      <td>virginica</td>\n",
       "    </tr>\n",
       "    <tr>\n",
       "      <th>133</th>\n",
       "      <td>6.4</td>\n",
       "      <td>2.8</td>\n",
       "      <td>5.6</td>\n",
       "      <td>2.2</td>\n",
       "      <td>virginica</td>\n",
       "    </tr>\n",
       "    <tr>\n",
       "      <th>134</th>\n",
       "      <td>6.3</td>\n",
       "      <td>2.8</td>\n",
       "      <td>5.1</td>\n",
       "      <td>1.5</td>\n",
       "      <td>virginica</td>\n",
       "    </tr>\n",
       "    <tr>\n",
       "      <th>135</th>\n",
       "      <td>6.1</td>\n",
       "      <td>2.6</td>\n",
       "      <td>5.6</td>\n",
       "      <td>1.4</td>\n",
       "      <td>virginica</td>\n",
       "    </tr>\n",
       "    <tr>\n",
       "      <th>136</th>\n",
       "      <td>7.7</td>\n",
       "      <td>3.0</td>\n",
       "      <td>6.1</td>\n",
       "      <td>2.3</td>\n",
       "      <td>virginica</td>\n",
       "    </tr>\n",
       "    <tr>\n",
       "      <th>137</th>\n",
       "      <td>6.3</td>\n",
       "      <td>3.4</td>\n",
       "      <td>5.6</td>\n",
       "      <td>2.4</td>\n",
       "      <td>virginica</td>\n",
       "    </tr>\n",
       "    <tr>\n",
       "      <th>138</th>\n",
       "      <td>6.4</td>\n",
       "      <td>3.1</td>\n",
       "      <td>5.5</td>\n",
       "      <td>1.8</td>\n",
       "      <td>virginica</td>\n",
       "    </tr>\n",
       "    <tr>\n",
       "      <th>139</th>\n",
       "      <td>6.0</td>\n",
       "      <td>3.0</td>\n",
       "      <td>4.8</td>\n",
       "      <td>1.8</td>\n",
       "      <td>virginica</td>\n",
       "    </tr>\n",
       "    <tr>\n",
       "      <th>140</th>\n",
       "      <td>6.9</td>\n",
       "      <td>3.1</td>\n",
       "      <td>5.4</td>\n",
       "      <td>2.1</td>\n",
       "      <td>virginica</td>\n",
       "    </tr>\n",
       "    <tr>\n",
       "      <th>141</th>\n",
       "      <td>6.7</td>\n",
       "      <td>3.1</td>\n",
       "      <td>5.6</td>\n",
       "      <td>2.4</td>\n",
       "      <td>virginica</td>\n",
       "    </tr>\n",
       "    <tr>\n",
       "      <th>142</th>\n",
       "      <td>6.9</td>\n",
       "      <td>3.1</td>\n",
       "      <td>5.1</td>\n",
       "      <td>2.3</td>\n",
       "      <td>virginica</td>\n",
       "    </tr>\n",
       "    <tr>\n",
       "      <th>143</th>\n",
       "      <td>5.8</td>\n",
       "      <td>2.7</td>\n",
       "      <td>5.1</td>\n",
       "      <td>1.9</td>\n",
       "      <td>virginica</td>\n",
       "    </tr>\n",
       "    <tr>\n",
       "      <th>144</th>\n",
       "      <td>6.8</td>\n",
       "      <td>3.2</td>\n",
       "      <td>5.9</td>\n",
       "      <td>2.3</td>\n",
       "      <td>virginica</td>\n",
       "    </tr>\n",
       "    <tr>\n",
       "      <th>145</th>\n",
       "      <td>6.7</td>\n",
       "      <td>3.3</td>\n",
       "      <td>5.7</td>\n",
       "      <td>2.5</td>\n",
       "      <td>virginica</td>\n",
       "    </tr>\n",
       "    <tr>\n",
       "      <th>146</th>\n",
       "      <td>6.7</td>\n",
       "      <td>3.0</td>\n",
       "      <td>5.2</td>\n",
       "      <td>2.3</td>\n",
       "      <td>virginica</td>\n",
       "    </tr>\n",
       "    <tr>\n",
       "      <th>147</th>\n",
       "      <td>6.3</td>\n",
       "      <td>2.5</td>\n",
       "      <td>5.0</td>\n",
       "      <td>1.9</td>\n",
       "      <td>virginica</td>\n",
       "    </tr>\n",
       "    <tr>\n",
       "      <th>148</th>\n",
       "      <td>6.5</td>\n",
       "      <td>3.0</td>\n",
       "      <td>5.2</td>\n",
       "      <td>2.0</td>\n",
       "      <td>virginica</td>\n",
       "    </tr>\n",
       "    <tr>\n",
       "      <th>149</th>\n",
       "      <td>6.2</td>\n",
       "      <td>3.4</td>\n",
       "      <td>5.4</td>\n",
       "      <td>2.3</td>\n",
       "      <td>virginica</td>\n",
       "    </tr>\n",
       "    <tr>\n",
       "      <th>150</th>\n",
       "      <td>5.9</td>\n",
       "      <td>3.0</td>\n",
       "      <td>5.1</td>\n",
       "      <td>1.8</td>\n",
       "      <td>virginica</td>\n",
       "    </tr>\n",
       "  </tbody>\n",
       "</table>\n",
       "</div>"
      ],
      "text/plain": [
       "     Sepal.Length  Sepal.Width  Petal.Length  Petal.Width    Species\n",
       "101           6.3          3.3           6.0          2.5  virginica\n",
       "102           5.8          2.7           5.1          1.9  virginica\n",
       "103           7.1          3.0           5.9          2.1  virginica\n",
       "104           6.3          2.9           5.6          1.8  virginica\n",
       "105           6.5          3.0           5.8          2.2  virginica\n",
       "106           7.6          3.0           6.6          2.1  virginica\n",
       "107           4.9          2.5           4.5          1.7  virginica\n",
       "108           7.3          2.9           6.3          1.8  virginica\n",
       "109           6.7          2.5           5.8          1.8  virginica\n",
       "110           7.2          3.6           6.1          2.5  virginica\n",
       "111           6.5          3.2           5.1          2.0  virginica\n",
       "112           6.4          2.7           5.3          1.9  virginica\n",
       "113           6.8          3.0           5.5          2.1  virginica\n",
       "114           5.7          2.5           5.0          2.0  virginica\n",
       "115           5.8          2.8           5.1          2.4  virginica\n",
       "116           6.4          3.2           5.3          2.3  virginica\n",
       "117           6.5          3.0           5.5          1.8  virginica\n",
       "118           7.7          3.8           6.7          2.2  virginica\n",
       "119           7.7          2.6           6.9          2.3  virginica\n",
       "120           6.0          2.2           5.0          1.5  virginica\n",
       "121           6.9          3.2           5.7          2.3  virginica\n",
       "122           5.6          2.8           4.9          2.0  virginica\n",
       "123           7.7          2.8           6.7          2.0  virginica\n",
       "124           6.3          2.7           4.9          1.8  virginica\n",
       "125           6.7          3.3           5.7          2.1  virginica\n",
       "126           7.2          3.2           6.0          1.8  virginica\n",
       "127           6.2          2.8           4.8          1.8  virginica\n",
       "128           6.1          3.0           4.9          1.8  virginica\n",
       "129           6.4          2.8           5.6          2.1  virginica\n",
       "130           7.2          3.0           5.8          1.6  virginica\n",
       "131           7.4          2.8           6.1          1.9  virginica\n",
       "132           7.9          3.8           6.4          2.0  virginica\n",
       "133           6.4          2.8           5.6          2.2  virginica\n",
       "134           6.3          2.8           5.1          1.5  virginica\n",
       "135           6.1          2.6           5.6          1.4  virginica\n",
       "136           7.7          3.0           6.1          2.3  virginica\n",
       "137           6.3          3.4           5.6          2.4  virginica\n",
       "138           6.4          3.1           5.5          1.8  virginica\n",
       "139           6.0          3.0           4.8          1.8  virginica\n",
       "140           6.9          3.1           5.4          2.1  virginica\n",
       "141           6.7          3.1           5.6          2.4  virginica\n",
       "142           6.9          3.1           5.1          2.3  virginica\n",
       "143           5.8          2.7           5.1          1.9  virginica\n",
       "144           6.8          3.2           5.9          2.3  virginica\n",
       "145           6.7          3.3           5.7          2.5  virginica\n",
       "146           6.7          3.0           5.2          2.3  virginica\n",
       "147           6.3          2.5           5.0          1.9  virginica\n",
       "148           6.5          3.0           5.2          2.0  virginica\n",
       "149           6.2          3.4           5.4          2.3  virginica\n",
       "150           5.9          3.0           5.1          1.8  virginica"
      ]
     },
     "execution_count": 24,
     "metadata": {},
     "output_type": "execute_result"
    }
   ],
   "source": [
    "df_iris[df_iris.Species == \"virginica\"]"
   ]
  },
  {
   "cell_type": "markdown",
   "id": "0a94c7a8-14d5-4551-a730-f446c5244094",
   "metadata": {
    "slideshow": {
     "slide_type": "slide"
    },
    "tags": []
   },
   "source": [
    "### Charts\n",
    "\n",
    "Voici quelques possibilités simples de plot avec pandas. Ces fonctionnalités sont utiles pour visualiser l'état de vos données en cours de traitement, mais je conseille plutôt d'utiliser R et ggplot pour réaliser vos graphiques pour vos rapports et publications.\n",
    "\n",
    "Toutes les possibilités de plotting de pandas sont [détaillées ici](https://pandas.pydata.org/docs/user_guide/visualization.html) et [là](https://pandas.pydata.org/docs/reference/api/pandas.DataFrame.plot.html#pandas-dataframe-plot)."
   ]
  },
  {
   "cell_type": "code",
   "execution_count": 25,
   "id": "2937cf2e-c134-4578-bad4-7529ec56bb4d",
   "metadata": {
    "slideshow": {
     "slide_type": "slide"
    },
    "tags": []
   },
   "outputs": [
    {
     "data": {
      "text/plain": [
       "<AxesSubplot:xlabel='Sepal.Length', ylabel='Sepal.Width'>"
      ]
     },
     "execution_count": 25,
     "metadata": {},
     "output_type": "execute_result"
    },
    {
     "data": {
      "image/png": "[encoded data removed]",
      "text/plain": [
       "<Figure size 640x480 with 1 Axes>"
      ]
     },
     "metadata": {},
     "output_type": "display_data"
    }
   ],
   "source": [
    "df_iris.plot.scatter(x='Sepal.Length', y='Sepal.Width')"
   ]
  },
  {
   "cell_type": "code",
   "execution_count": 26,
   "id": "3bb29e3f-bd56-41e3-92e9-18f5959c5552",
   "metadata": {
    "slideshow": {
     "slide_type": "slide"
    },
    "tags": []
   },
   "outputs": [
    {
     "data": {
      "text/plain": [
       "<AxesSubplot:xlabel='Sepal.Length', ylabel='Sepal.Width'>"
      ]
     },
     "execution_count": 26,
     "metadata": {},
     "output_type": "execute_result"
    },
    {
     "data": {
      "image/png": "[encoded data removed]",
      "text/plain": [
       "<Figure size 640x480 with 1 Axes>"
      ]
     },
     "metadata": {},
     "output_type": "display_data"
    }
   ],
   "source": [
    "df_iris[df_iris.Species == \"virginica\"].plot.scatter(x='Sepal.Length', y='Sepal.Width')"
   ]
  },
  {
   "cell_type": "markdown",
   "id": "36a6032e-b94a-4dac-88f6-6f55e31704f2",
   "metadata": {
    "slideshow": {
     "slide_type": "slide"
    },
    "tags": []
   },
   "source": [
    "## Récupérer des données via une API\n",
    "\n",
    "Pour récupérer des données directement depuis une API, on va utiliser le package requests. Par exemple, l'[API Hydrométrie du portail HubEau](https://hubeau.eaufrance.fr/page/api-hydrometrie#console).\n",
    "\n",
    "Allez chercher une station qui vous intéresse sur [le visualiseur](https://hubeau.eaufrance.fr/sites/default/files/api/demo/hydro_tr.htm)."
   ]
  },
  {
   "cell_type": "code",
   "execution_count": 49,
   "id": "3c252417-2820-4510-afd2-082c5f4a7cd8",
   "metadata": {},
   "outputs": [
    {
     "name": "stdout",
     "output_type": "stream",
     "text": [
      "<Response [206]>\n"
     ]
    }
   ],
   "source": [
    "# On importe tout le package requests\n",
    "import requests\n",
    "\n",
    "# On récupère le point de terminaison dans la documentation de l'API\n",
    "point_terminaison = 'https://hubeau.eaufrance.fr/api/v1/hydrometrie/observations_tr'\n",
    "\n",
    "# Les paramètres à fournir à l'API sont renseignés dans un dictionnaire dont les clés correspondent aux noms de ces paramètres\n",
    "reponse = requests.get(point_terminaison,\n",
    "            params = {\n",
    "                'code_entite': 'V022000202',\n",
    "                'grandeur_hydro': 'H',\n",
    "                'size': 100,\n",
    "                'sort': 'desc'\n",
    "            })\n",
    "\n",
    "# La fonction get du package requests va renvoyer un objet de type Reponse\n",
    "print(reponse)"
   ]
  },
  {
   "cell_type": "markdown",
   "id": "b0d2f722-53f9-4aeb-b348-79eaeb55be71",
   "metadata": {
    "slideshow": {
     "slide_type": "slide"
    },
    "tags": []
   },
   "source": [
    "On peux vérifier à quoi correspond le code HTTP de la réponse dans la documentation de l'API. Puis on vérifie ce quelle contient."
   ]
  },
  {
   "cell_type": "code",
   "execution_count": 54,
   "id": "3eed5f3c-e83f-4076-b57b-61c0616740cf",
   "metadata": {},
   "outputs": [
    {
     "name": "stdout",
     "output_type": "stream",
     "text": [
      "206\n"
     ]
    }
   ],
   "source": [
    "print(reponse.status_code)"
   ]
  },
  {
   "cell_type": "code",
   "execution_count": 55,
   "id": "a9da5eab-3936-40db-887a-1e6492dee5b7",
   "metadata": {},
   "outputs": [
    {
     "name": "stdout",
     "output_type": "stream",
     "text": [
      "{'count': 7649, 'first': 'https://hubeau.eaufrance.fr/api/v1/hydrometrie/observations_tr?code_entite=V022000202&grandeur_hydro=H&sort=desc&cursor=&size=100', 'prev': None, 'next': 'https://hubeau.eaufrance.fr/api/v1/hydrometrie/observations_tr?code_entite=V022000202&grandeur_hydro=H&sort=desc&cursor=AoJwuvmpwoQDPwxWMDIyMDAwMl9WMDIyMDAwMjAyX0hfNF8yMDIyLTExLTE3VDA4OjE1OjAw&size=100', 'api_version': '1.0.1', 'data': [{'code_site': 'V0220002', 'code_station': 'V022000202', 'grandeur_hydro': 'H', 'date_debut_serie': '2022-11-17T00:00:01Z', 'date_fin_serie': '2022-11-17T16:30:00Z', 'statut_serie': 4, 'code_systeme_alti_serie': 31, 'date_obs': '2022-11-17T16:30:00Z', 'resultat_obs': 839.0, 'code_methode_obs': 0, 'libelle_methode_obs': 'Mesure', 'code_qualification_obs': 16, 'libelle_qualification_obs': 'Non qualifiée', 'continuite_obs_hydro': True, 'longitude': 6.271047706, 'latitude': 46.150604321}, {'code_site': 'V0220002', 'code_station': 'V022000202', 'grandeur_hydro': 'H', 'date_debut_serie': '2022-11-17T00:00:01Z', 'date_fin_serie': '2022-11-17T16:30:00Z', 'statut_serie': 4, 'code_systeme_alti_serie': 31, 'date_obs': '2022-11-17T16:25:00Z', 'resultat_obs': 839.0, 'code_methode_obs': 0, 'libelle_methode_obs': 'Mesure', 'code_qualification_obs': 16, 'libelle_qualification_obs': 'Non qualifiée', 'continuite_obs_hydro': True, 'longitude': 6.271047706, 'latitude': 46.150604321}, {'code_site': 'V0220002', 'code_station': 'V022000202', 'grandeur_hydro': 'H', 'date_debut_serie': '2022-11-17T00:00:01Z', 'date_fin_serie': '2022-11-17T16:30:00Z', 'statut_serie': 4, 'code_systeme_alti_serie': 31, 'date_obs': '2022-11-17T16:20:00Z', 'resultat_obs': 835.0, 'code_methode_obs': 0, 'libelle_methode_obs': 'Mesure', 'code_qualification_obs': 16, 'libelle_qualification_obs': 'Non qualifiée', 'continuite_obs_hydro': True, 'longitude': 6.271047706, 'latitude': 46.150604321}, {'code_site': 'V0220002', 'code_station': 'V022000202', 'grandeur_hydro': 'H', 'date_debut_serie': '2022-11-17T00:00:01Z', 'date_fin_serie': '2022-11-17T16:30:00Z', 'statut_serie': 4, 'code_systeme_alti_serie': 31, 'date_obs': '2022-11-17T16:15:00Z', 'resultat_obs': 838.0, 'code_methode_obs': 0, 'libelle_methode_obs': 'Mesure', 'code_qualification_obs': 16, 'libelle_qualification_obs': 'Non qualifiée', 'continuite_obs_hydro': True, 'longitude': 6.271047706, 'latitude': 46.150604321}, {'code_site': 'V0220002', 'code_station': 'V022000202', 'grandeur_hydro': 'H', 'date_debut_serie': '2022-11-17T00:00:01Z', 'date_fin_serie': '2022-11-17T16:30:00Z', 'statut_serie': 4, 'code_systeme_alti_serie': 31, 'date_obs': '2022-11-17T16:10:00Z', 'resultat_obs': 845.0, 'code_methode_obs': 0, 'libelle_methode_obs': 'Mesure', 'code_qualification_obs': 16, 'libelle_qualification_obs': 'Non qualifiée', 'continuite_obs_hydro': True, 'longitude': 6.271047706, 'latitude': 46.150604321}, {'code_site': 'V0220002', 'code_station': 'V022000202', 'grandeur_hydro': 'H', 'date_debut_serie': '2022-11-17T00:00:01Z', 'date_fin_serie': '2022-11-17T16:30:00Z', 'statut_serie': 4, 'code_systeme_alti_serie': 31, 'date_obs': '2022-11-17T16:05:00Z', 'resultat_obs': 855.0, 'code_methode_obs': 0, 'libelle_methode_obs': 'Mesure', 'code_qualification_obs': 16, 'libelle_qualification_obs': 'Non qualifiée', 'continuite_obs_hydro': True, 'longitude': 6.271047706, 'latitude': 46.150604321}, {'code_site': 'V0220002', 'code_station': 'V022000202', 'grandeur_hydro': 'H', 'date_debut_serie': '2022-11-17T00:00:01Z', 'date_fin_serie': '2022-11-17T16:00:00Z', 'statut_serie': 4, 'code_systeme_alti_serie': 31, 'date_obs': '2022-11-17T16:00:00Z', 'resultat_obs': 854.0, 'code_methode_obs': 0, 'libelle_methode_obs': 'Mesure', 'code_qualification_obs': 16, 'libelle_qualification_obs': 'Non qualifiée', 'continuite_obs_hydro': True, 'longitude': 6.271047706, 'latitude': 46.150604321}, {'code_site': 'V0220002', 'code_station': 'V022000202', 'grandeur_hydro': 'H', 'date_debut_serie': '2022-11-17T00:00:01Z', 'date_fin_serie': '2022-11-17T16:00:00Z', 'statut_serie': 4, 'code_systeme_alti_serie': 31, 'date_obs': '2022-11-17T15:55:00Z', 'resultat_obs': 876.0, 'code_methode_obs': 0, 'libelle_methode_obs': 'Mesure', 'code_qualification_obs': 16, 'libelle_qualification_obs': 'Non qualifiée', 'continuite_obs_hydro': True, 'longitude': 6.271047706, 'latitude': 46.150604321}, {'code_site': 'V0220002', 'code_station': 'V022000202', 'grandeur_hydro': 'H', 'date_debut_serie': '2022-11-17T00:00:01Z', 'date_fin_serie': '2022-11-17T16:00:00Z', 'statut_serie': 4, 'code_systeme_alti_serie': 31, 'date_obs': '2022-11-17T15:50:00Z', 'resultat_obs': 874.0, 'code_methode_obs': 0, 'libelle_methode_obs': 'Mesure', 'code_qualification_obs': 16, 'libelle_qualification_obs': 'Non qualifiée', 'continuite_obs_hydro': True, 'longitude': 6.271047706, 'latitude': 46.150604321}, {'code_site': 'V0220002', 'code_station': 'V022000202', 'grandeur_hydro': 'H', 'date_debut_serie': '2022-11-17T00:00:01Z', 'date_fin_serie': '2022-11-17T16:00:00Z', 'statut_serie': 4, 'code_systeme_alti_serie': 31, 'date_obs': '2022-11-17T15:45:00Z', 'resultat_obs': 870.0, 'code_methode_obs': 0, 'libelle_methode_obs': 'Mesure', 'code_qualification_obs': 16, 'libelle_qualification_obs': 'Non qualifiée', 'continuite_obs_hydro': True, 'longitude': 6.271047706, 'latitude': 46.150604321}, {'code_site': 'V0220002', 'code_station': 'V022000202', 'grandeur_hydro': 'H', 'date_debut_serie': '2022-11-17T00:00:01Z', 'date_fin_serie': '2022-11-17T16:00:00Z', 'statut_serie': 4, 'code_systeme_alti_serie': 31, 'date_obs': '2022-11-17T15:40:00Z', 'resultat_obs': 851.0, 'code_methode_obs': 0, 'libelle_methode_obs': 'Mesure', 'code_qualification_obs': 16, 'libelle_qualification_obs': 'Non qualifiée', 'continuite_obs_hydro': True, 'longitude': 6.271047706, 'latitude': 46.150604321}, {'code_site': 'V0220002', 'code_station': 'V022000202', 'grandeur_hydro': 'H', 'date_debut_serie': '2022-11-17T00:00:01Z', 'date_fin_serie': '2022-11-17T16:00:00Z', 'statut_serie': 4, 'code_systeme_alti_serie': 31, 'date_obs': '2022-11-17T15:35:00Z', 'resultat_obs': 873.0, 'code_methode_obs': 0, 'libelle_methode_obs': 'Mesure', 'code_qualification_obs': 16, 'libelle_qualification_obs': 'Non qualifiée', 'continuite_obs_hydro': True, 'longitude': 6.271047706, 'latitude': 46.150604321}, {'code_site': 'V0220002', 'code_station': 'V022000202', 'grandeur_hydro': 'H', 'date_debut_serie': '2022-11-17T00:00:01Z', 'date_fin_serie': '2022-11-17T15:30:00Z', 'statut_serie': 4, 'code_systeme_alti_serie': 31, 'date_obs': '2022-11-17T15:30:00Z', 'resultat_obs': 876.0, 'code_methode_obs': 0, 'libelle_methode_obs': 'Mesure', 'code_qualification_obs': 16, 'libelle_qualification_obs': 'Non qualifiée', 'continuite_obs_hydro': True, 'longitude': 6.271047706, 'latitude': 46.150604321}, {'code_site': 'V0220002', 'code_station': 'V022000202', 'grandeur_hydro': 'H', 'date_debut_serie': '2022-11-17T00:00:01Z', 'date_fin_serie': '2022-11-17T15:30:00Z', 'statut_serie': 4, 'code_systeme_alti_serie': 31, 'date_obs': '2022-11-17T15:25:00Z', 'resultat_obs': 872.0, 'code_methode_obs': 0, 'libelle_methode_obs': 'Mesure', 'code_qualification_obs': 16, 'libelle_qualification_obs': 'Non qualifiée', 'continuite_obs_hydro': True, 'longitude': 6.271047706, 'latitude': 46.150604321}, {'code_site': 'V0220002', 'code_station': 'V022000202', 'grandeur_hydro': 'H', 'date_debut_serie': '2022-11-17T00:00:01Z', 'date_fin_serie': '2022-11-17T15:30:00Z', 'statut_serie': 4, 'code_systeme_alti_serie': 31, 'date_obs': '2022-11-17T15:20:00Z', 'resultat_obs': 848.0, 'code_methode_obs': 0, 'libelle_methode_obs': 'Mesure', 'code_qualification_obs': 16, 'libelle_qualification_obs': 'Non qualifiée', 'continuite_obs_hydro': True, 'longitude': 6.271047706, 'latitude': 46.150604321}, {'code_site': 'V0220002', 'code_station': 'V022000202', 'grandeur_hydro': 'H', 'date_debut_serie': '2022-11-17T00:00:01Z', 'date_fin_serie': '2022-11-17T15:30:00Z', 'statut_serie': 4, 'code_systeme_alti_serie': 31, 'date_obs': '2022-11-17T15:15:00Z', 'resultat_obs': 868.0, 'code_methode_obs': 0, 'libelle_methode_obs': 'Mesure', 'code_qualification_obs': 16, 'libelle_qualification_obs': 'Non qualifiée', 'continuite_obs_hydro': True, 'longitude': 6.271047706, 'latitude': 46.150604321}, {'code_site': 'V0220002', 'code_station': 'V022000202', 'grandeur_hydro': 'H', 'date_debut_serie': '2022-11-17T00:00:01Z', 'date_fin_serie': '2022-11-17T15:30:00Z', 'statut_serie': 4, 'code_systeme_alti_serie': 31, 'date_obs': '2022-11-17T15:10:00Z', 'resultat_obs': 883.0, 'code_methode_obs': 0, 'libelle_methode_obs': 'Mesure', 'code_qualification_obs': 16, 'libelle_qualification_obs': 'Non qualifiée', 'continuite_obs_hydro': True, 'longitude': 6.271047706, 'latitude': 46.150604321}, {'code_site': 'V0220002', 'code_station': 'V022000202', 'grandeur_hydro': 'H', 'date_debut_serie': '2022-11-17T00:00:01Z', 'date_fin_serie': '2022-11-17T15:30:00Z', 'statut_serie': 4, 'code_systeme_alti_serie': 31, 'date_obs': '2022-11-17T15:05:00Z', 'resultat_obs': 859.0, 'code_methode_obs': 0, 'libelle_methode_obs': 'Mesure', 'code_qualification_obs': 16, 'libelle_qualification_obs': 'Non qualifiée', 'continuite_obs_hydro': True, 'longitude': 6.271047706, 'latitude': 46.150604321}, {'code_site': 'V0220002', 'code_station': 'V022000202', 'grandeur_hydro': 'H', 'date_debut_serie': '2022-11-17T00:00:01Z', 'date_fin_serie': '2022-11-17T15:00:00Z', 'statut_serie': 4, 'code_systeme_alti_serie': 31, 'date_obs': '2022-11-17T15:00:00Z', 'resultat_obs': 866.0, 'code_methode_obs': 0, 'libelle_methode_obs': 'Mesure', 'code_qualification_obs': 16, 'libelle_qualification_obs': 'Non qualifiée', 'continuite_obs_hydro': True, 'longitude': 6.271047706, 'latitude': 46.150604321}, {'code_site': 'V0220002', 'code_station': 'V022000202', 'grandeur_hydro': 'H', 'date_debut_serie': '2022-11-17T00:00:01Z', 'date_fin_serie': '2022-11-17T15:00:00Z', 'statut_serie': 4, 'code_systeme_alti_serie': 31, 'date_obs': '2022-11-17T14:55:00Z', 'resultat_obs': 901.0, 'code_methode_obs': 0, 'libelle_methode_obs': 'Mesure', 'code_qualification_obs': 16, 'libelle_qualification_obs': 'Non qualifiée', 'continuite_obs_hydro': True, 'longitude': 6.271047706, 'latitude': 46.150604321}, {'code_site': 'V0220002', 'code_station': 'V022000202', 'grandeur_hydro': 'H', 'date_debut_serie': '2022-11-17T00:00:01Z', 'date_fin_serie': '2022-11-17T15:00:00Z', 'statut_serie': 4, 'code_systeme_alti_serie': 31, 'date_obs': '2022-11-17T14:50:00Z', 'resultat_obs': 882.0, 'code_methode_obs': 0, 'libelle_methode_obs': 'Mesure', 'code_qualification_obs': 16, 'libelle_qualification_obs': 'Non qualifiée', 'continuite_obs_hydro': True, 'longitude': 6.271047706, 'latitude': 46.150604321}, {'code_site': 'V0220002', 'code_station': 'V022000202', 'grandeur_hydro': 'H', 'date_debut_serie': '2022-11-17T00:00:01Z', 'date_fin_serie': '2022-11-17T15:00:00Z', 'statut_serie': 4, 'code_systeme_alti_serie': 31, 'date_obs': '2022-11-17T14:45:00Z', 'resultat_obs': 896.0, 'code_methode_obs': 0, 'libelle_methode_obs': 'Mesure', 'code_qualification_obs': 16, 'libelle_qualification_obs': 'Non qualifiée', 'continuite_obs_hydro': True, 'longitude': 6.271047706, 'latitude': 46.150604321}, {'code_site': 'V0220002', 'code_station': 'V022000202', 'grandeur_hydro': 'H', 'date_debut_serie': '2022-11-17T00:00:01Z', 'date_fin_serie': '2022-11-17T15:00:00Z', 'statut_serie': 4, 'code_systeme_alti_serie': 31, 'date_obs': '2022-11-17T14:40:00Z', 'resultat_obs': 878.0, 'code_methode_obs': 0, 'libelle_methode_obs': 'Mesure', 'code_qualification_obs': 16, 'libelle_qualification_obs': 'Non qualifiée', 'continuite_obs_hydro': True, 'longitude': 6.271047706, 'latitude': 46.150604321}, {'code_site': 'V0220002', 'code_station': 'V022000202', 'grandeur_hydro': 'H', 'date_debut_serie': '2022-11-17T00:00:01Z', 'date_fin_serie': '2022-11-17T15:00:00Z', 'statut_serie': 4, 'code_systeme_alti_serie': 31, 'date_obs': '2022-11-17T14:35:00Z', 'resultat_obs': 866.0, 'code_methode_obs': 0, 'libelle_methode_obs': 'Mesure', 'code_qualification_obs': 16, 'libelle_qualification_obs': 'Non qualifiée', 'continuite_obs_hydro': True, 'longitude': 6.271047706, 'latitude': 46.150604321}, {'code_site': 'V0220002', 'code_station': 'V022000202', 'grandeur_hydro': 'H', 'date_debut_serie': '2022-11-17T00:00:01Z', 'date_fin_serie': '2022-11-17T14:30:00Z', 'statut_serie': 4, 'code_systeme_alti_serie': 31, 'date_obs': '2022-11-17T14:30:00Z', 'resultat_obs': 858.0, 'code_methode_obs': 0, 'libelle_methode_obs': 'Mesure', 'code_qualification_obs': 16, 'libelle_qualification_obs': 'Non qualifiée', 'continuite_obs_hydro': True, 'longitude': 6.271047706, 'latitude': 46.150604321}, {'code_site': 'V0220002', 'code_station': 'V022000202', 'grandeur_hydro': 'H', 'date_debut_serie': '2022-11-17T00:00:01Z', 'date_fin_serie': '2022-11-17T14:30:00Z', 'statut_serie': 4, 'code_systeme_alti_serie': 31, 'date_obs': '2022-11-17T14:25:00Z', 'resultat_obs': 863.0, 'code_methode_obs': 0, 'libelle_methode_obs': 'Mesure', 'code_qualification_obs': 16, 'libelle_qualification_obs': 'Non qualifiée', 'continuite_obs_hydro': True, 'longitude': 6.271047706, 'latitude': 46.150604321}, {'code_site': 'V0220002', 'code_station': 'V022000202', 'grandeur_hydro': 'H', 'date_debut_serie': '2022-11-17T00:00:01Z', 'date_fin_serie': '2022-11-17T14:30:00Z', 'statut_serie': 4, 'code_systeme_alti_serie': 31, 'date_obs': '2022-11-17T14:20:00Z', 'resultat_obs': 886.0, 'code_methode_obs': 0, 'libelle_methode_obs': 'Mesure', 'code_qualification_obs': 16, 'libelle_qualification_obs': 'Non qualifiée', 'continuite_obs_hydro': True, 'longitude': 6.271047706, 'latitude': 46.150604321}, {'code_site': 'V0220002', 'code_station': 'V022000202', 'grandeur_hydro': 'H', 'date_debut_serie': '2022-11-17T00:00:01Z', 'date_fin_serie': '2022-11-17T14:30:00Z', 'statut_serie': 4, 'code_systeme_alti_serie': 31, 'date_obs': '2022-11-17T14:15:00Z', 'resultat_obs': 840.0, 'code_methode_obs': 0, 'libelle_methode_obs': 'Mesure', 'code_qualification_obs': 16, 'libelle_qualification_obs': 'Non qualifiée', 'continuite_obs_hydro': True, 'longitude': 6.271047706, 'latitude': 46.150604321}, {'code_site': 'V0220002', 'code_station': 'V022000202', 'grandeur_hydro': 'H', 'date_debut_serie': '2022-11-17T00:00:01Z', 'date_fin_serie': '2022-11-17T14:30:00Z', 'statut_serie': 4, 'code_systeme_alti_serie': 31, 'date_obs': '2022-11-17T14:10:00Z', 'resultat_obs': 857.0, 'code_methode_obs': 0, 'libelle_methode_obs': 'Mesure', 'code_qualification_obs': 16, 'libelle_qualification_obs': 'Non qualifiée', 'continuite_obs_hydro': True, 'longitude': 6.271047706, 'latitude': 46.150604321}, {'code_site': 'V0220002', 'code_station': 'V022000202', 'grandeur_hydro': 'H', 'date_debut_serie': '2022-11-17T00:00:01Z', 'date_fin_serie': '2022-11-17T14:30:00Z', 'statut_serie': 4, 'code_systeme_alti_serie': 31, 'date_obs': '2022-11-17T14:05:00Z', 'resultat_obs': 850.0, 'code_methode_obs': 0, 'libelle_methode_obs': 'Mesure', 'code_qualification_obs': 16, 'libelle_qualification_obs': 'Non qualifiée', 'continuite_obs_hydro': True, 'longitude': 6.271047706, 'latitude': 46.150604321}, {'code_site': 'V0220002', 'code_station': 'V022000202', 'grandeur_hydro': 'H', 'date_debut_serie': '2022-11-17T00:00:01Z', 'date_fin_serie': '2022-11-17T14:00:00Z', 'statut_serie': 4, 'code_systeme_alti_serie': 31, 'date_obs': '2022-11-17T14:00:00Z', 'resultat_obs': 834.0, 'code_methode_obs': 0, 'libelle_methode_obs': 'Mesure', 'code_qualification_obs': 16, 'libelle_qualification_obs': 'Non qualifiée', 'continuite_obs_hydro': True, 'longitude': 6.271047706, 'latitude': 46.150604321}, {'code_site': 'V0220002', 'code_station': 'V022000202', 'grandeur_hydro': 'H', 'date_debut_serie': '2022-11-17T00:00:01Z', 'date_fin_serie': '2022-11-17T14:00:00Z', 'statut_serie': 4, 'code_systeme_alti_serie': 31, 'date_obs': '2022-11-17T13:55:00Z', 'resultat_obs': 849.0, 'code_methode_obs': 0, 'libelle_methode_obs': 'Mesure', 'code_qualification_obs': 16, 'libelle_qualification_obs': 'Non qualifiée', 'continuite_obs_hydro': True, 'longitude': 6.271047706, 'latitude': 46.150604321}, {'code_site': 'V0220002', 'code_station': 'V022000202', 'grandeur_hydro': 'H', 'date_debut_serie': '2022-11-17T00:00:01Z', 'date_fin_serie': '2022-11-17T14:00:00Z', 'statut_serie': 4, 'code_systeme_alti_serie': 31, 'date_obs': '2022-11-17T13:50:00Z', 'resultat_obs': 824.0, 'code_methode_obs': 0, 'libelle_methode_obs': 'Mesure', 'code_qualification_obs': 16, 'libelle_qualification_obs': 'Non qualifiée', 'continuite_obs_hydro': True, 'longitude': 6.271047706, 'latitude': 46.150604321}, {'code_site': 'V0220002', 'code_station': 'V022000202', 'grandeur_hydro': 'H', 'date_debut_serie': '2022-11-17T00:00:01Z', 'date_fin_serie': '2022-11-17T14:00:00Z', 'statut_serie': 4, 'code_systeme_alti_serie': 31, 'date_obs': '2022-11-17T13:45:00Z', 'resultat_obs': 827.0, 'code_methode_obs': 0, 'libelle_methode_obs': 'Mesure', 'code_qualification_obs': 16, 'libelle_qualification_obs': 'Non qualifiée', 'continuite_obs_hydro': True, 'longitude': 6.271047706, 'latitude': 46.150604321}, {'code_site': 'V0220002', 'code_station': 'V022000202', 'grandeur_hydro': 'H', 'date_debut_serie': '2022-11-17T00:00:01Z', 'date_fin_serie': '2022-11-17T14:00:00Z', 'statut_serie': 4, 'code_systeme_alti_serie': 31, 'date_obs': '2022-11-17T13:40:00Z', 'resultat_obs': 840.0, 'code_methode_obs': 0, 'libelle_methode_obs': 'Mesure', 'code_qualification_obs': 16, 'libelle_qualification_obs': 'Non qualifiée', 'continuite_obs_hydro': True, 'longitude': 6.271047706, 'latitude': 46.150604321}, {'code_site': 'V0220002', 'code_station': 'V022000202', 'grandeur_hydro': 'H', 'date_debut_serie': '2022-11-17T00:00:01Z', 'date_fin_serie': '2022-11-17T14:00:00Z', 'statut_serie': 4, 'code_systeme_alti_serie': 31, 'date_obs': '2022-11-17T13:35:00Z', 'resultat_obs': 897.0, 'code_methode_obs': 0, 'libelle_methode_obs': 'Mesure', 'code_qualification_obs': 16, 'libelle_qualification_obs': 'Non qualifiée', 'continuite_obs_hydro': True, 'longitude': 6.271047706, 'latitude': 46.150604321}, {'code_site': 'V0220002', 'code_station': 'V022000202', 'grandeur_hydro': 'H', 'date_debut_serie': '2022-11-17T00:00:01Z', 'date_fin_serie': '2022-11-17T13:30:00Z', 'statut_serie': 4, 'code_systeme_alti_serie': 31, 'date_obs': '2022-11-17T13:30:00Z', 'resultat_obs': 861.0, 'code_methode_obs': 0, 'libelle_methode_obs': 'Mesure', 'code_qualification_obs': 16, 'libelle_qualification_obs': 'Non qualifiée', 'continuite_obs_hydro': True, 'longitude': 6.271047706, 'latitude': 46.150604321}, {'code_site': 'V0220002', 'code_station': 'V022000202', 'grandeur_hydro': 'H', 'date_debut_serie': '2022-11-17T00:00:01Z', 'date_fin_serie': '2022-11-17T13:30:00Z', 'statut_serie': 4, 'code_systeme_alti_serie': 31, 'date_obs': '2022-11-17T13:25:00Z', 'resultat_obs': 906.0, 'code_methode_obs': 0, 'libelle_methode_obs': 'Mesure', 'code_qualification_obs': 16, 'libelle_qualification_obs': 'Non qualifiée', 'continuite_obs_hydro': True, 'longitude': 6.271047706, 'latitude': 46.150604321}, {'code_site': 'V0220002', 'code_station': 'V022000202', 'grandeur_hydro': 'H', 'date_debut_serie': '2022-11-17T00:00:01Z', 'date_fin_serie': '2022-11-17T13:30:00Z', 'statut_serie': 4, 'code_systeme_alti_serie': 31, 'date_obs': '2022-11-17T13:20:00Z', 'resultat_obs': 841.0, 'code_methode_obs': 0, 'libelle_methode_obs': 'Mesure', 'code_qualification_obs': 16, 'libelle_qualification_obs': 'Non qualifiée', 'continuite_obs_hydro': True, 'longitude': 6.271047706, 'latitude': 46.150604321}, {'code_site': 'V0220002', 'code_station': 'V022000202', 'grandeur_hydro': 'H', 'date_debut_serie': '2022-11-17T00:00:01Z', 'date_fin_serie': '2022-11-17T13:30:00Z', 'statut_serie': 4, 'code_systeme_alti_serie': 31, 'date_obs': '2022-11-17T13:15:00Z', 'resultat_obs': 839.0, 'code_methode_obs': 0, 'libelle_methode_obs': 'Mesure', 'code_qualification_obs': 16, 'libelle_qualification_obs': 'Non qualifiée', 'continuite_obs_hydro': True, 'longitude': 6.271047706, 'latitude': 46.150604321}, {'code_site': 'V0220002', 'code_station': 'V022000202', 'grandeur_hydro': 'H', 'date_debut_serie': '2022-11-17T00:00:01Z', 'date_fin_serie': '2022-11-17T13:30:00Z', 'statut_serie': 4, 'code_systeme_alti_serie': 31, 'date_obs': '2022-11-17T13:10:00Z', 'resultat_obs': 845.0, 'code_methode_obs': 0, 'libelle_methode_obs': 'Mesure', 'code_qualification_obs': 16, 'libelle_qualification_obs': 'Non qualifiée', 'continuite_obs_hydro': True, 'longitude': 6.271047706, 'latitude': 46.150604321}, {'code_site': 'V0220002', 'code_station': 'V022000202', 'grandeur_hydro': 'H', 'date_debut_serie': '2022-11-17T00:00:01Z', 'date_fin_serie': '2022-11-17T13:30:00Z', 'statut_serie': 4, 'code_systeme_alti_serie': 31, 'date_obs': '2022-11-17T13:05:00Z', 'resultat_obs': 845.0, 'code_methode_obs': 0, 'libelle_methode_obs': 'Mesure', 'code_qualification_obs': 16, 'libelle_qualification_obs': 'Non qualifiée', 'continuite_obs_hydro': True, 'longitude': 6.271047706, 'latitude': 46.150604321}, {'code_site': 'V0220002', 'code_station': 'V022000202', 'grandeur_hydro': 'H', 'date_debut_serie': '2022-11-17T00:00:01Z', 'date_fin_serie': '2022-11-17T13:00:00Z', 'statut_serie': 4, 'code_systeme_alti_serie': 31, 'date_obs': '2022-11-17T13:00:00Z', 'resultat_obs': 875.0, 'code_methode_obs': 0, 'libelle_methode_obs': 'Mesure', 'code_qualification_obs': 16, 'libelle_qualification_obs': 'Non qualifiée', 'continuite_obs_hydro': True, 'longitude': 6.271047706, 'latitude': 46.150604321}, {'code_site': 'V0220002', 'code_station': 'V022000202', 'grandeur_hydro': 'H', 'date_debut_serie': '2022-11-17T00:00:01Z', 'date_fin_serie': '2022-11-17T13:00:00Z', 'statut_serie': 4, 'code_systeme_alti_serie': 31, 'date_obs': '2022-11-17T12:55:00Z', 'resultat_obs': 827.0, 'code_methode_obs': 0, 'libelle_methode_obs': 'Mesure', 'code_qualification_obs': 16, 'libelle_qualification_obs': 'Non qualifiée', 'continuite_obs_hydro': True, 'longitude': 6.271047706, 'latitude': 46.150604321}, {'code_site': 'V0220002', 'code_station': 'V022000202', 'grandeur_hydro': 'H', 'date_debut_serie': '2022-11-17T00:00:01Z', 'date_fin_serie': '2022-11-17T13:00:00Z', 'statut_serie': 4, 'code_systeme_alti_serie': 31, 'date_obs': '2022-11-17T12:50:00Z', 'resultat_obs': 850.0, 'code_methode_obs': 0, 'libelle_methode_obs': 'Mesure', 'code_qualification_obs': 16, 'libelle_qualification_obs': 'Non qualifiée', 'continuite_obs_hydro': True, 'longitude': 6.271047706, 'latitude': 46.150604321}, {'code_site': 'V0220002', 'code_station': 'V022000202', 'grandeur_hydro': 'H', 'date_debut_serie': '2022-11-17T00:00:01Z', 'date_fin_serie': '2022-11-17T13:00:00Z', 'statut_serie': 4, 'code_systeme_alti_serie': 31, 'date_obs': '2022-11-17T12:45:00Z', 'resultat_obs': 840.0, 'code_methode_obs': 0, 'libelle_methode_obs': 'Mesure', 'code_qualification_obs': 16, 'libelle_qualification_obs': 'Non qualifiée', 'continuite_obs_hydro': True, 'longitude': 6.271047706, 'latitude': 46.150604321}, {'code_site': 'V0220002', 'code_station': 'V022000202', 'grandeur_hydro': 'H', 'date_debut_serie': '2022-11-17T00:00:01Z', 'date_fin_serie': '2022-11-17T13:00:00Z', 'statut_serie': 4, 'code_systeme_alti_serie': 31, 'date_obs': '2022-11-17T12:40:00Z', 'resultat_obs': 839.0, 'code_methode_obs': 0, 'libelle_methode_obs': 'Mesure', 'code_qualification_obs': 16, 'libelle_qualification_obs': 'Non qualifiée', 'continuite_obs_hydro': True, 'longitude': 6.271047706, 'latitude': 46.150604321}, {'code_site': 'V0220002', 'code_station': 'V022000202', 'grandeur_hydro': 'H', 'date_debut_serie': '2022-11-17T00:00:01Z', 'date_fin_serie': '2022-11-17T13:00:00Z', 'statut_serie': 4, 'code_systeme_alti_serie': 31, 'date_obs': '2022-11-17T12:35:00Z', 'resultat_obs': 871.0, 'code_methode_obs': 0, 'libelle_methode_obs': 'Mesure', 'code_qualification_obs': 16, 'libelle_qualification_obs': 'Non qualifiée', 'continuite_obs_hydro': True, 'longitude': 6.271047706, 'latitude': 46.150604321}, {'code_site': 'V0220002', 'code_station': 'V022000202', 'grandeur_hydro': 'H', 'date_debut_serie': '2022-11-17T00:00:01Z', 'date_fin_serie': '2022-11-17T12:30:00Z', 'statut_serie': 4, 'code_systeme_alti_serie': 31, 'date_obs': '2022-11-17T12:30:00Z', 'resultat_obs': 848.0, 'code_methode_obs': 0, 'libelle_methode_obs': 'Mesure', 'code_qualification_obs': 16, 'libelle_qualification_obs': 'Non qualifiée', 'continuite_obs_hydro': True, 'longitude': 6.271047706, 'latitude': 46.150604321}, {'code_site': 'V0220002', 'code_station': 'V022000202', 'grandeur_hydro': 'H', 'date_debut_serie': '2022-11-17T00:00:01Z', 'date_fin_serie': '2022-11-17T12:30:00Z', 'statut_serie': 4, 'code_systeme_alti_serie': 31, 'date_obs': '2022-11-17T12:25:00Z', 'resultat_obs': 878.0, 'code_methode_obs': 0, 'libelle_methode_obs': 'Mesure', 'code_qualification_obs': 16, 'libelle_qualification_obs': 'Non qualifiée', 'continuite_obs_hydro': True, 'longitude': 6.271047706, 'latitude': 46.150604321}, {'code_site': 'V0220002', 'code_station': 'V022000202', 'grandeur_hydro': 'H', 'date_debut_serie': '2022-11-17T00:00:01Z', 'date_fin_serie': '2022-11-17T12:30:00Z', 'statut_serie': 4, 'code_systeme_alti_serie': 31, 'date_obs': '2022-11-17T12:20:00Z', 'resultat_obs': 851.0, 'code_methode_obs': 0, 'libelle_methode_obs': 'Mesure', 'code_qualification_obs': 16, 'libelle_qualification_obs': 'Non qualifiée', 'continuite_obs_hydro': True, 'longitude': 6.271047706, 'latitude': 46.150604321}, {'code_site': 'V0220002', 'code_station': 'V022000202', 'grandeur_hydro': 'H', 'date_debut_serie': '2022-11-17T00:00:01Z', 'date_fin_serie': '2022-11-17T12:30:00Z', 'statut_serie': 4, 'code_systeme_alti_serie': 31, 'date_obs': '2022-11-17T12:15:00Z', 'resultat_obs': 858.0, 'code_methode_obs': 0, 'libelle_methode_obs': 'Mesure', 'code_qualification_obs': 16, 'libelle_qualification_obs': 'Non qualifiée', 'continuite_obs_hydro': True, 'longitude': 6.271047706, 'latitude': 46.150604321}, {'code_site': 'V0220002', 'code_station': 'V022000202', 'grandeur_hydro': 'H', 'date_debut_serie': '2022-11-17T00:00:01Z', 'date_fin_serie': '2022-11-17T12:30:00Z', 'statut_serie': 4, 'code_systeme_alti_serie': 31, 'date_obs': '2022-11-17T12:10:00Z', 'resultat_obs': 875.0, 'code_methode_obs': 0, 'libelle_methode_obs': 'Mesure', 'code_qualification_obs': 16, 'libelle_qualification_obs': 'Non qualifiée', 'continuite_obs_hydro': True, 'longitude': 6.271047706, 'latitude': 46.150604321}, {'code_site': 'V0220002', 'code_station': 'V022000202', 'grandeur_hydro': 'H', 'date_debut_serie': '2022-11-17T00:00:01Z', 'date_fin_serie': '2022-11-17T12:30:00Z', 'statut_serie': 4, 'code_systeme_alti_serie': 31, 'date_obs': '2022-11-17T12:05:00Z', 'resultat_obs': 892.0, 'code_methode_obs': 0, 'libelle_methode_obs': 'Mesure', 'code_qualification_obs': 16, 'libelle_qualification_obs': 'Non qualifiée', 'continuite_obs_hydro': True, 'longitude': 6.271047706, 'latitude': 46.150604321}, {'code_site': 'V0220002', 'code_station': 'V022000202', 'grandeur_hydro': 'H', 'date_debut_serie': '2022-11-17T00:00:01Z', 'date_fin_serie': '2022-11-17T12:00:00Z', 'statut_serie': 4, 'code_systeme_alti_serie': 31, 'date_obs': '2022-11-17T12:00:00Z', 'resultat_obs': 881.0, 'code_methode_obs': 0, 'libelle_methode_obs': 'Mesure', 'code_qualification_obs': 16, 'libelle_qualification_obs': 'Non qualifiée', 'continuite_obs_hydro': True, 'longitude': 6.271047706, 'latitude': 46.150604321}, {'code_site': 'V0220002', 'code_station': 'V022000202', 'grandeur_hydro': 'H', 'date_debut_serie': '2022-11-17T00:00:01Z', 'date_fin_serie': '2022-11-17T12:00:00Z', 'statut_serie': 4, 'code_systeme_alti_serie': 31, 'date_obs': '2022-11-17T11:55:00Z', 'resultat_obs': 843.0, 'code_methode_obs': 0, 'libelle_methode_obs': 'Mesure', 'code_qualification_obs': 16, 'libelle_qualification_obs': 'Non qualifiée', 'continuite_obs_hydro': True, 'longitude': 6.271047706, 'latitude': 46.150604321}, {'code_site': 'V0220002', 'code_station': 'V022000202', 'grandeur_hydro': 'H', 'date_debut_serie': '2022-11-17T00:00:01Z', 'date_fin_serie': '2022-11-17T12:00:00Z', 'statut_serie': 4, 'code_systeme_alti_serie': 31, 'date_obs': '2022-11-17T11:50:00Z', 'resultat_obs': 844.0, 'code_methode_obs': 0, 'libelle_methode_obs': 'Mesure', 'code_qualification_obs': 16, 'libelle_qualification_obs': 'Non qualifiée', 'continuite_obs_hydro': True, 'longitude': 6.271047706, 'latitude': 46.150604321}, {'code_site': 'V0220002', 'code_station': 'V022000202', 'grandeur_hydro': 'H', 'date_debut_serie': '2022-11-17T00:00:01Z', 'date_fin_serie': '2022-11-17T12:00:00Z', 'statut_serie': 4, 'code_systeme_alti_serie': 31, 'date_obs': '2022-11-17T11:45:00Z', 'resultat_obs': 852.0, 'code_methode_obs': 0, 'libelle_methode_obs': 'Mesure', 'code_qualification_obs': 16, 'libelle_qualification_obs': 'Non qualifiée', 'continuite_obs_hydro': True, 'longitude': 6.271047706, 'latitude': 46.150604321}, {'code_site': 'V0220002', 'code_station': 'V022000202', 'grandeur_hydro': 'H', 'date_debut_serie': '2022-11-17T00:00:01Z', 'date_fin_serie': '2022-11-17T12:00:00Z', 'statut_serie': 4, 'code_systeme_alti_serie': 31, 'date_obs': '2022-11-17T11:40:00Z', 'resultat_obs': 854.0, 'code_methode_obs': 0, 'libelle_methode_obs': 'Mesure', 'code_qualification_obs': 16, 'libelle_qualification_obs': 'Non qualifiée', 'continuite_obs_hydro': True, 'longitude': 6.271047706, 'latitude': 46.150604321}, {'code_site': 'V0220002', 'code_station': 'V022000202', 'grandeur_hydro': 'H', 'date_debut_serie': '2022-11-17T00:00:01Z', 'date_fin_serie': '2022-11-17T12:00:00Z', 'statut_serie': 4, 'code_systeme_alti_serie': 31, 'date_obs': '2022-11-17T11:35:00Z', 'resultat_obs': 828.0, 'code_methode_obs': 0, 'libelle_methode_obs': 'Mesure', 'code_qualification_obs': 16, 'libelle_qualification_obs': 'Non qualifiée', 'continuite_obs_hydro': True, 'longitude': 6.271047706, 'latitude': 46.150604321}, {'code_site': 'V0220002', 'code_station': 'V022000202', 'grandeur_hydro': 'H', 'date_debut_serie': '2022-11-17T00:00:01Z', 'date_fin_serie': '2022-11-17T11:30:00Z', 'statut_serie': 4, 'code_systeme_alti_serie': 31, 'date_obs': '2022-11-17T11:30:00Z', 'resultat_obs': 836.0, 'code_methode_obs': 0, 'libelle_methode_obs': 'Mesure', 'code_qualification_obs': 16, 'libelle_qualification_obs': 'Non qualifiée', 'continuite_obs_hydro': True, 'longitude': 6.271047706, 'latitude': 46.150604321}, {'code_site': 'V0220002', 'code_station': 'V022000202', 'grandeur_hydro': 'H', 'date_debut_serie': '2022-11-17T00:00:01Z', 'date_fin_serie': '2022-11-17T11:30:00Z', 'statut_serie': 4, 'code_systeme_alti_serie': 31, 'date_obs': '2022-11-17T11:25:00Z', 'resultat_obs': 873.0, 'code_methode_obs': 0, 'libelle_methode_obs': 'Mesure', 'code_qualification_obs': 16, 'libelle_qualification_obs': 'Non qualifiée', 'continuite_obs_hydro': True, 'longitude': 6.271047706, 'latitude': 46.150604321}, {'code_site': 'V0220002', 'code_station': 'V022000202', 'grandeur_hydro': 'H', 'date_debut_serie': '2022-11-17T00:00:01Z', 'date_fin_serie': '2022-11-17T11:30:00Z', 'statut_serie': 4, 'code_systeme_alti_serie': 31, 'date_obs': '2022-11-17T11:20:00Z', 'resultat_obs': 850.0, 'code_methode_obs': 0, 'libelle_methode_obs': 'Mesure', 'code_qualification_obs': 16, 'libelle_qualification_obs': 'Non qualifiée', 'continuite_obs_hydro': True, 'longitude': 6.271047706, 'latitude': 46.150604321}, {'code_site': 'V0220002', 'code_station': 'V022000202', 'grandeur_hydro': 'H', 'date_debut_serie': '2022-11-17T00:00:01Z', 'date_fin_serie': '2022-11-17T11:30:00Z', 'statut_serie': 4, 'code_systeme_alti_serie': 31, 'date_obs': '2022-11-17T11:15:00Z', 'resultat_obs': 840.0, 'code_methode_obs': 0, 'libelle_methode_obs': 'Mesure', 'code_qualification_obs': 16, 'libelle_qualification_obs': 'Non qualifiée', 'continuite_obs_hydro': True, 'longitude': 6.271047706, 'latitude': 46.150604321}, {'code_site': 'V0220002', 'code_station': 'V022000202', 'grandeur_hydro': 'H', 'date_debut_serie': '2022-11-17T00:00:01Z', 'date_fin_serie': '2022-11-17T11:30:00Z', 'statut_serie': 4, 'code_systeme_alti_serie': 31, 'date_obs': '2022-11-17T11:10:00Z', 'resultat_obs': 884.0, 'code_methode_obs': 0, 'libelle_methode_obs': 'Mesure', 'code_qualification_obs': 16, 'libelle_qualification_obs': 'Non qualifiée', 'continuite_obs_hydro': True, 'longitude': 6.271047706, 'latitude': 46.150604321}, {'code_site': 'V0220002', 'code_station': 'V022000202', 'grandeur_hydro': 'H', 'date_debut_serie': '2022-11-17T00:00:01Z', 'date_fin_serie': '2022-11-17T11:30:00Z', 'statut_serie': 4, 'code_systeme_alti_serie': 31, 'date_obs': '2022-11-17T11:05:00Z', 'resultat_obs': 881.0, 'code_methode_obs': 0, 'libelle_methode_obs': 'Mesure', 'code_qualification_obs': 16, 'libelle_qualification_obs': 'Non qualifiée', 'continuite_obs_hydro': True, 'longitude': 6.271047706, 'latitude': 46.150604321}, {'code_site': 'V0220002', 'code_station': 'V022000202', 'grandeur_hydro': 'H', 'date_debut_serie': '2022-11-17T00:00:01Z', 'date_fin_serie': '2022-11-17T11:00:00Z', 'statut_serie': 4, 'code_systeme_alti_serie': 31, 'date_obs': '2022-11-17T11:00:00Z', 'resultat_obs': 892.0, 'code_methode_obs': 0, 'libelle_methode_obs': 'Mesure', 'code_qualification_obs': 16, 'libelle_qualification_obs': 'Non qualifiée', 'continuite_obs_hydro': True, 'longitude': 6.271047706, 'latitude': 46.150604321}, {'code_site': 'V0220002', 'code_station': 'V022000202', 'grandeur_hydro': 'H', 'date_debut_serie': '2022-11-17T00:00:01Z', 'date_fin_serie': '2022-11-17T11:00:00Z', 'statut_serie': 4, 'code_systeme_alti_serie': 31, 'date_obs': '2022-11-17T10:55:00Z', 'resultat_obs': 831.0, 'code_methode_obs': 0, 'libelle_methode_obs': 'Mesure', 'code_qualification_obs': 16, 'libelle_qualification_obs': 'Non qualifiée', 'continuite_obs_hydro': True, 'longitude': 6.271047706, 'latitude': 46.150604321}, {'code_site': 'V0220002', 'code_station': 'V022000202', 'grandeur_hydro': 'H', 'date_debut_serie': '2022-11-17T00:00:01Z', 'date_fin_serie': '2022-11-17T11:00:00Z', 'statut_serie': 4, 'code_systeme_alti_serie': 31, 'date_obs': '2022-11-17T10:50:00Z', 'resultat_obs': 863.0, 'code_methode_obs': 0, 'libelle_methode_obs': 'Mesure', 'code_qualification_obs': 16, 'libelle_qualification_obs': 'Non qualifiée', 'continuite_obs_hydro': True, 'longitude': 6.271047706, 'latitude': 46.150604321}, {'code_site': 'V0220002', 'code_station': 'V022000202', 'grandeur_hydro': 'H', 'date_debut_serie': '2022-11-17T00:00:01Z', 'date_fin_serie': '2022-11-17T11:00:00Z', 'statut_serie': 4, 'code_systeme_alti_serie': 31, 'date_obs': '2022-11-17T10:45:00Z', 'resultat_obs': 876.0, 'code_methode_obs': 0, 'libelle_methode_obs': 'Mesure', 'code_qualification_obs': 16, 'libelle_qualification_obs': 'Non qualifiée', 'continuite_obs_hydro': True, 'longitude': 6.271047706, 'latitude': 46.150604321}, {'code_site': 'V0220002', 'code_station': 'V022000202', 'grandeur_hydro': 'H', 'date_debut_serie': '2022-11-17T00:00:01Z', 'date_fin_serie': '2022-11-17T11:00:00Z', 'statut_serie': 4, 'code_systeme_alti_serie': 31, 'date_obs': '2022-11-17T10:40:00Z', 'resultat_obs': 866.0, 'code_methode_obs': 0, 'libelle_methode_obs': 'Mesure', 'code_qualification_obs': 16, 'libelle_qualification_obs': 'Non qualifiée', 'continuite_obs_hydro': True, 'longitude': 6.271047706, 'latitude': 46.150604321}, {'code_site': 'V0220002', 'code_station': 'V022000202', 'grandeur_hydro': 'H', 'date_debut_serie': '2022-11-17T00:00:01Z', 'date_fin_serie': '2022-11-17T11:00:00Z', 'statut_serie': 4, 'code_systeme_alti_serie': 31, 'date_obs': '2022-11-17T10:35:00Z', 'resultat_obs': 878.0, 'code_methode_obs': 0, 'libelle_methode_obs': 'Mesure', 'code_qualification_obs': 16, 'libelle_qualification_obs': 'Non qualifiée', 'continuite_obs_hydro': True, 'longitude': 6.271047706, 'latitude': 46.150604321}, {'code_site': 'V0220002', 'code_station': 'V022000202', 'grandeur_hydro': 'H', 'date_debut_serie': '2022-11-17T00:00:01Z', 'date_fin_serie': '2022-11-17T10:30:00Z', 'statut_serie': 4, 'code_systeme_alti_serie': 31, 'date_obs': '2022-11-17T10:30:00Z', 'resultat_obs': 860.0, 'code_methode_obs': 0, 'libelle_methode_obs': 'Mesure', 'code_qualification_obs': 16, 'libelle_qualification_obs': 'Non qualifiée', 'continuite_obs_hydro': True, 'longitude': 6.271047706, 'latitude': 46.150604321}, {'code_site': 'V0220002', 'code_station': 'V022000202', 'grandeur_hydro': 'H', 'date_debut_serie': '2022-11-17T00:00:01Z', 'date_fin_serie': '2022-11-17T10:30:00Z', 'statut_serie': 4, 'code_systeme_alti_serie': 31, 'date_obs': '2022-11-17T10:25:00Z', 'resultat_obs': 871.0, 'code_methode_obs': 0, 'libelle_methode_obs': 'Mesure', 'code_qualification_obs': 16, 'libelle_qualification_obs': 'Non qualifiée', 'continuite_obs_hydro': True, 'longitude': 6.271047706, 'latitude': 46.150604321}, {'code_site': 'V0220002', 'code_station': 'V022000202', 'grandeur_hydro': 'H', 'date_debut_serie': '2022-11-17T00:00:01Z', 'date_fin_serie': '2022-11-17T10:30:00Z', 'statut_serie': 4, 'code_systeme_alti_serie': 31, 'date_obs': '2022-11-17T10:20:00Z', 'resultat_obs': 866.0, 'code_methode_obs': 0, 'libelle_methode_obs': 'Mesure', 'code_qualification_obs': 16, 'libelle_qualification_obs': 'Non qualifiée', 'continuite_obs_hydro': True, 'longitude': 6.271047706, 'latitude': 46.150604321}, {'code_site': 'V0220002', 'code_station': 'V022000202', 'grandeur_hydro': 'H', 'date_debut_serie': '2022-11-17T00:00:01Z', 'date_fin_serie': '2022-11-17T10:30:00Z', 'statut_serie': 4, 'code_systeme_alti_serie': 31, 'date_obs': '2022-11-17T10:15:00Z', 'resultat_obs': 868.0, 'code_methode_obs': 0, 'libelle_methode_obs': 'Mesure', 'code_qualification_obs': 16, 'libelle_qualification_obs': 'Non qualifiée', 'continuite_obs_hydro': True, 'longitude': 6.271047706, 'latitude': 46.150604321}, {'code_site': 'V0220002', 'code_station': 'V022000202', 'grandeur_hydro': 'H', 'date_debut_serie': '2022-11-17T00:00:01Z', 'date_fin_serie': '2022-11-17T10:30:00Z', 'statut_serie': 4, 'code_systeme_alti_serie': 31, 'date_obs': '2022-11-17T10:10:00Z', 'resultat_obs': 878.0, 'code_methode_obs': 0, 'libelle_methode_obs': 'Mesure', 'code_qualification_obs': 16, 'libelle_qualification_obs': 'Non qualifiée', 'continuite_obs_hydro': True, 'longitude': 6.271047706, 'latitude': 46.150604321}, {'code_site': 'V0220002', 'code_station': 'V022000202', 'grandeur_hydro': 'H', 'date_debut_serie': '2022-11-17T00:00:01Z', 'date_fin_serie': '2022-11-17T10:30:00Z', 'statut_serie': 4, 'code_systeme_alti_serie': 31, 'date_obs': '2022-11-17T10:05:00Z', 'resultat_obs': 862.0, 'code_methode_obs': 0, 'libelle_methode_obs': 'Mesure', 'code_qualification_obs': 16, 'libelle_qualification_obs': 'Non qualifiée', 'continuite_obs_hydro': True, 'longitude': 6.271047706, 'latitude': 46.150604321}, {'code_site': 'V0220002', 'code_station': 'V022000202', 'grandeur_hydro': 'H', 'date_debut_serie': '2022-11-17T00:00:01Z', 'date_fin_serie': '2022-11-17T10:00:00Z', 'statut_serie': 4, 'code_systeme_alti_serie': 31, 'date_obs': '2022-11-17T10:00:00Z', 'resultat_obs': 857.0, 'code_methode_obs': 0, 'libelle_methode_obs': 'Mesure', 'code_qualification_obs': 16, 'libelle_qualification_obs': 'Non qualifiée', 'continuite_obs_hydro': True, 'longitude': 6.271047706, 'latitude': 46.150604321}, {'code_site': 'V0220002', 'code_station': 'V022000202', 'grandeur_hydro': 'H', 'date_debut_serie': '2022-11-17T00:00:01Z', 'date_fin_serie': '2022-11-17T10:00:00Z', 'statut_serie': 4, 'code_systeme_alti_serie': 31, 'date_obs': '2022-11-17T09:55:00Z', 'resultat_obs': 876.0, 'code_methode_obs': 0, 'libelle_methode_obs': 'Mesure', 'code_qualification_obs': 16, 'libelle_qualification_obs': 'Non qualifiée', 'continuite_obs_hydro': True, 'longitude': 6.271047706, 'latitude': 46.150604321}, {'code_site': 'V0220002', 'code_station': 'V022000202', 'grandeur_hydro': 'H', 'date_debut_serie': '2022-11-17T00:00:01Z', 'date_fin_serie': '2022-11-17T10:00:00Z', 'statut_serie': 4, 'code_systeme_alti_serie': 31, 'date_obs': '2022-11-17T09:50:00Z', 'resultat_obs': 859.0, 'code_methode_obs': 0, 'libelle_methode_obs': 'Mesure', 'code_qualification_obs': 16, 'libelle_qualification_obs': 'Non qualifiée', 'continuite_obs_hydro': True, 'longitude': 6.271047706, 'latitude': 46.150604321}, {'code_site': 'V0220002', 'code_station': 'V022000202', 'grandeur_hydro': 'H', 'date_debut_serie': '2022-11-17T00:00:01Z', 'date_fin_serie': '2022-11-17T10:00:00Z', 'statut_serie': 4, 'code_systeme_alti_serie': 31, 'date_obs': '2022-11-17T09:45:00Z', 'resultat_obs': 857.0, 'code_methode_obs': 0, 'libelle_methode_obs': 'Mesure', 'code_qualification_obs': 16, 'libelle_qualification_obs': 'Non qualifiée', 'continuite_obs_hydro': True, 'longitude': 6.271047706, 'latitude': 46.150604321}, {'code_site': 'V0220002', 'code_station': 'V022000202', 'grandeur_hydro': 'H', 'date_debut_serie': '2022-11-17T00:00:01Z', 'date_fin_serie': '2022-11-17T10:00:00Z', 'statut_serie': 4, 'code_systeme_alti_serie': 31, 'date_obs': '2022-11-17T09:40:00Z', 'resultat_obs': 863.0, 'code_methode_obs': 0, 'libelle_methode_obs': 'Mesure', 'code_qualification_obs': 16, 'libelle_qualification_obs': 'Non qualifiée', 'continuite_obs_hydro': True, 'longitude': 6.271047706, 'latitude': 46.150604321}, {'code_site': 'V0220002', 'code_station': 'V022000202', 'grandeur_hydro': 'H', 'date_debut_serie': '2022-11-17T00:00:01Z', 'date_fin_serie': '2022-11-17T10:00:00Z', 'statut_serie': 4, 'code_systeme_alti_serie': 31, 'date_obs': '2022-11-17T09:35:00Z', 'resultat_obs': 866.0, 'code_methode_obs': 0, 'libelle_methode_obs': 'Mesure', 'code_qualification_obs': 16, 'libelle_qualification_obs': 'Non qualifiée', 'continuite_obs_hydro': True, 'longitude': 6.271047706, 'latitude': 46.150604321}, {'code_site': 'V0220002', 'code_station': 'V022000202', 'grandeur_hydro': 'H', 'date_debut_serie': '2022-11-17T00:00:01Z', 'date_fin_serie': '2022-11-17T09:30:00Z', 'statut_serie': 4, 'code_systeme_alti_serie': 31, 'date_obs': '2022-11-17T09:30:00Z', 'resultat_obs': 836.0, 'code_methode_obs': 0, 'libelle_methode_obs': 'Mesure', 'code_qualification_obs': 16, 'libelle_qualification_obs': 'Non qualifiée', 'continuite_obs_hydro': True, 'longitude': 6.271047706, 'latitude': 46.150604321}, {'code_site': 'V0220002', 'code_station': 'V022000202', 'grandeur_hydro': 'H', 'date_debut_serie': '2022-11-17T00:00:01Z', 'date_fin_serie': '2022-11-17T09:30:00Z', 'statut_serie': 4, 'code_systeme_alti_serie': 31, 'date_obs': '2022-11-17T09:25:00Z', 'resultat_obs': 848.0, 'code_methode_obs': 0, 'libelle_methode_obs': 'Mesure', 'code_qualification_obs': 16, 'libelle_qualification_obs': 'Non qualifiée', 'continuite_obs_hydro': True, 'longitude': 6.271047706, 'latitude': 46.150604321}, {'code_site': 'V0220002', 'code_station': 'V022000202', 'grandeur_hydro': 'H', 'date_debut_serie': '2022-11-17T00:00:01Z', 'date_fin_serie': '2022-11-17T09:30:00Z', 'statut_serie': 4, 'code_systeme_alti_serie': 31, 'date_obs': '2022-11-17T09:20:00Z', 'resultat_obs': 844.0, 'code_methode_obs': 0, 'libelle_methode_obs': 'Mesure', 'code_qualification_obs': 16, 'libelle_qualification_obs': 'Non qualifiée', 'continuite_obs_hydro': True, 'longitude': 6.271047706, 'latitude': 46.150604321}, {'code_site': 'V0220002', 'code_station': 'V022000202', 'grandeur_hydro': 'H', 'date_debut_serie': '2022-11-17T00:00:01Z', 'date_fin_serie': '2022-11-17T09:30:00Z', 'statut_serie': 4, 'code_systeme_alti_serie': 31, 'date_obs': '2022-11-17T09:15:00Z', 'resultat_obs': 839.0, 'code_methode_obs': 0, 'libelle_methode_obs': 'Mesure', 'code_qualification_obs': 16, 'libelle_qualification_obs': 'Non qualifiée', 'continuite_obs_hydro': True, 'longitude': 6.271047706, 'latitude': 46.150604321}, {'code_site': 'V0220002', 'code_station': 'V022000202', 'grandeur_hydro': 'H', 'date_debut_serie': '2022-11-17T00:00:01Z', 'date_fin_serie': '2022-11-17T09:30:00Z', 'statut_serie': 4, 'code_systeme_alti_serie': 31, 'date_obs': '2022-11-17T09:10:00Z', 'resultat_obs': 842.0, 'code_methode_obs': 0, 'libelle_methode_obs': 'Mesure', 'code_qualification_obs': 16, 'libelle_qualification_obs': 'Non qualifiée', 'continuite_obs_hydro': True, 'longitude': 6.271047706, 'latitude': 46.150604321}, {'code_site': 'V0220002', 'code_station': 'V022000202', 'grandeur_hydro': 'H', 'date_debut_serie': '2022-11-17T00:00:01Z', 'date_fin_serie': '2022-11-17T09:30:00Z', 'statut_serie': 4, 'code_systeme_alti_serie': 31, 'date_obs': '2022-11-17T09:05:00Z', 'resultat_obs': 833.0, 'code_methode_obs': 0, 'libelle_methode_obs': 'Mesure', 'code_qualification_obs': 16, 'libelle_qualification_obs': 'Non qualifiée', 'continuite_obs_hydro': True, 'longitude': 6.271047706, 'latitude': 46.150604321}, {'code_site': 'V0220002', 'code_station': 'V022000202', 'grandeur_hydro': 'H', 'date_debut_serie': '2022-11-17T00:00:01Z', 'date_fin_serie': '2022-11-17T09:00:00Z', 'statut_serie': 4, 'code_systeme_alti_serie': 31, 'date_obs': '2022-11-17T09:00:00Z', 'resultat_obs': 830.0, 'code_methode_obs': 0, 'libelle_methode_obs': 'Mesure', 'code_qualification_obs': 16, 'libelle_qualification_obs': 'Non qualifiée', 'continuite_obs_hydro': True, 'longitude': 6.271047706, 'latitude': 46.150604321}, {'code_site': 'V0220002', 'code_station': 'V022000202', 'grandeur_hydro': 'H', 'date_debut_serie': '2022-11-17T00:00:01Z', 'date_fin_serie': '2022-11-17T09:00:00Z', 'statut_serie': 4, 'code_systeme_alti_serie': 31, 'date_obs': '2022-11-17T08:55:00Z', 'resultat_obs': 839.0, 'code_methode_obs': 0, 'libelle_methode_obs': 'Mesure', 'code_qualification_obs': 16, 'libelle_qualification_obs': 'Non qualifiée', 'continuite_obs_hydro': True, 'longitude': 6.271047706, 'latitude': 46.150604321}, {'code_site': 'V0220002', 'code_station': 'V022000202', 'grandeur_hydro': 'H', 'date_debut_serie': '2022-11-17T00:00:01Z', 'date_fin_serie': '2022-11-17T09:00:00Z', 'statut_serie': 4, 'code_systeme_alti_serie': 31, 'date_obs': '2022-11-17T08:50:00Z', 'resultat_obs': 847.0, 'code_methode_obs': 0, 'libelle_methode_obs': 'Mesure', 'code_qualification_obs': 16, 'libelle_qualification_obs': 'Non qualifiée', 'continuite_obs_hydro': True, 'longitude': 6.271047706, 'latitude': 46.150604321}, {'code_site': 'V0220002', 'code_station': 'V022000202', 'grandeur_hydro': 'H', 'date_debut_serie': '2022-11-17T00:00:01Z', 'date_fin_serie': '2022-11-17T09:00:00Z', 'statut_serie': 4, 'code_systeme_alti_serie': 31, 'date_obs': '2022-11-17T08:45:00Z', 'resultat_obs': 843.0, 'code_methode_obs': 0, 'libelle_methode_obs': 'Mesure', 'code_qualification_obs': 16, 'libelle_qualification_obs': 'Non qualifiée', 'continuite_obs_hydro': True, 'longitude': 6.271047706, 'latitude': 46.150604321}, {'code_site': 'V0220002', 'code_station': 'V022000202', 'grandeur_hydro': 'H', 'date_debut_serie': '2022-11-17T00:00:01Z', 'date_fin_serie': '2022-11-17T09:00:00Z', 'statut_serie': 4, 'code_systeme_alti_serie': 31, 'date_obs': '2022-11-17T08:40:00Z', 'resultat_obs': 825.0, 'code_methode_obs': 0, 'libelle_methode_obs': 'Mesure', 'code_qualification_obs': 16, 'libelle_qualification_obs': 'Non qualifiée', 'continuite_obs_hydro': True, 'longitude': 6.271047706, 'latitude': 46.150604321}, {'code_site': 'V0220002', 'code_station': 'V022000202', 'grandeur_hydro': 'H', 'date_debut_serie': '2022-11-17T00:00:01Z', 'date_fin_serie': '2022-11-17T09:00:00Z', 'statut_serie': 4, 'code_systeme_alti_serie': 31, 'date_obs': '2022-11-17T08:35:00Z', 'resultat_obs': 821.0, 'code_methode_obs': 0, 'libelle_methode_obs': 'Mesure', 'code_qualification_obs': 16, 'libelle_qualification_obs': 'Non qualifiée', 'continuite_obs_hydro': True, 'longitude': 6.271047706, 'latitude': 46.150604321}, {'code_site': 'V0220002', 'code_station': 'V022000202', 'grandeur_hydro': 'H', 'date_debut_serie': '2022-11-17T00:00:01Z', 'date_fin_serie': '2022-11-17T08:30:00Z', 'statut_serie': 4, 'code_systeme_alti_serie': 31, 'date_obs': '2022-11-17T08:30:00Z', 'resultat_obs': 813.0, 'code_methode_obs': 0, 'libelle_methode_obs': 'Mesure', 'code_qualification_obs': 16, 'libelle_qualification_obs': 'Non qualifiée', 'continuite_obs_hydro': True, 'longitude': 6.271047706, 'latitude': 46.150604321}, {'code_site': 'V0220002', 'code_station': 'V022000202', 'grandeur_hydro': 'H', 'date_debut_serie': '2022-11-17T00:00:01Z', 'date_fin_serie': '2022-11-17T08:30:00Z', 'statut_serie': 4, 'code_systeme_alti_serie': 31, 'date_obs': '2022-11-17T08:25:00Z', 'resultat_obs': 793.0, 'code_methode_obs': 0, 'libelle_methode_obs': 'Mesure', 'code_qualification_obs': 16, 'libelle_qualification_obs': 'Non qualifiée', 'continuite_obs_hydro': True, 'longitude': 6.271047706, 'latitude': 46.150604321}, {'code_site': 'V0220002', 'code_station': 'V022000202', 'grandeur_hydro': 'H', 'date_debut_serie': '2022-11-17T00:00:01Z', 'date_fin_serie': '2022-11-17T08:30:00Z', 'statut_serie': 4, 'code_systeme_alti_serie': 31, 'date_obs': '2022-11-17T08:20:00Z', 'resultat_obs': 793.0, 'code_methode_obs': 0, 'libelle_methode_obs': 'Mesure', 'code_qualification_obs': 16, 'libelle_qualification_obs': 'Non qualifiée', 'continuite_obs_hydro': True, 'longitude': 6.271047706, 'latitude': 46.150604321}, {'code_site': 'V0220002', 'code_station': 'V022000202', 'grandeur_hydro': 'H', 'date_debut_serie': '2022-11-17T00:00:01Z', 'date_fin_serie': '2022-11-17T08:30:00Z', 'statut_serie': 4, 'code_systeme_alti_serie': 31, 'date_obs': '2022-11-17T08:15:00Z', 'resultat_obs': 833.0, 'code_methode_obs': 0, 'libelle_methode_obs': 'Mesure', 'code_qualification_obs': 16, 'libelle_qualification_obs': 'Non qualifiée', 'continuite_obs_hydro': True, 'longitude': 6.271047706, 'latitude': 46.150604321}]}\n"
     ]
    }
   ],
   "source": [
    "print(reponse.json())"
   ]
  },
  {
   "cell_type": "markdown",
   "id": "74075ce2-6578-492e-adb9-621cf630956e",
   "metadata": {
    "slideshow": {
     "slide_type": "slide"
    },
    "tags": []
   },
   "source": [
    "Pour stocker le contenu de cette réponse dans un DataFrame : "
   ]
  },
  {
   "cell_type": "code",
   "execution_count": 56,
   "id": "b8809d81-7b27-4a22-8bf1-e18588a5e357",
   "metadata": {},
   "outputs": [
    {
     "data": {
      "image/png": "[encoded data removed]",
      "text/plain": [
       "<Figure size 640x480 with 1 Axes>"
      ]
     },
     "metadata": {},
     "output_type": "display_data"
    }
   ],
   "source": [
    "donnees_hydro = pd.DataFrame(reponse.json()['data'])\n",
    "\n",
    "graph_chronique = donnees_hydro.plot.line(x='date_obs', y='resultat_obs', rot=45)"
   ]
  },
  {
   "cell_type": "markdown",
   "id": "1cd8dc4e-e295-4ac1-9384-5f27bd58ceff",
   "metadata": {
    "slideshow": {
     "slide_type": "slide"
    },
    "tags": []
   },
   "source": [
    "Les dates sont rangées du plus récent au plus ancien : c'est bien ce qu'on a demandé à l'API, mais ce n'est pas ce que l'on souhaite pour ce graphique. \n",
    "\n",
    "On peux utiliser la méthode `info()` pour vérifier le type d'objet des dates."
   ]
  },
  {
   "cell_type": "code",
   "execution_count": null,
   "id": "b416708c-0f22-44f7-8523-563931ca576b",
   "metadata": {},
   "outputs": [
    {
     "name": "stdout",
     "output_type": "stream",
     "text": [
      "<class 'pandas.core.frame.DataFrame'>\n",
      "RangeIndex: 100 entries, 0 to 99\n",
      "Data columns (total 16 columns):\n",
      " #   Column                     Non-Null Count  Dtype  \n",
      "---  ------                     --------------  -----  \n",
      " 0   code_site                  100 non-null    object \n",
      " 1   code_station               100 non-null    object \n",
      " 2   grandeur_hydro             100 non-null    object \n",
      " 3   date_debut_serie           100 non-null    object \n",
      " 4   date_fin_serie             100 non-null    object \n",
      " 5   statut_serie               100 non-null    int64  \n",
      " 6   code_systeme_alti_serie    100 non-null    int64  \n",
      " 7   date_obs                   100 non-null    object \n",
      " 8   resultat_obs               100 non-null    float64\n",
      " 9   code_methode_obs           100 non-null    int64  \n",
      " 10  libelle_methode_obs        100 non-null    object \n",
      " 11  code_qualification_obs     100 non-null    int64  \n",
      " 12  libelle_qualification_obs  100 non-null    object \n",
      " 13  continuite_obs_hydro       100 non-null    bool   \n",
      " 14  longitude                  100 non-null    float64\n",
      " 15  latitude                   100 non-null    float64\n",
      "dtypes: bool(1), float64(3), int64(4), object(8)\n",
      "memory usage: 11.9+ KB\n",
      "None\n"
     ]
    }
   ],
   "source": [
    "print(donnees_hydro.info())"
   ]
  },
  {
   "cell_type": "markdown",
   "id": "790ae638-ef2f-41ab-b8c6-66f2ee02256e",
   "metadata": {
    "slideshow": {
     "slide_type": "slide"
    },
    "tags": []
   },
   "source": [
    "Il existe en Python un type d'objet `datetime` spécialement concu pour les dates, fourni par le package du même nom. Pas besoin de l'importer pour l'utiliser avec pandas car pandas propose des méthodes de plus haut niveau pour effectuer la conversion.\n",
    "\n",
    "La compréhension de liste permet de générer une liste avec une boucle sur une seule ligne :"
   ]
  },
  {
   "cell_type": "code",
   "execution_count": 59,
   "id": "62c77dcc-090c-4abf-a45a-33ba17c68649",
   "metadata": {},
   "outputs": [
    {
     "name": "stdout",
     "output_type": "stream",
     "text": [
      "['date_debut_serie', 'date_fin_serie', 'date_obs']\n"
     ]
    }
   ],
   "source": [
    "colonnes_date = [col for col in donnees_hydro.columns if 'date_' in col]\n",
    "print(colonnes_date)"
   ]
  },
  {
   "cell_type": "markdown",
   "id": "cc6d5389-a8a5-4577-893f-180ba20e1607",
   "metadata": {},
   "source": [
    "Si on voulais faire la même chose avec une boucle :"
   ]
  },
  {
   "cell_type": "code",
   "execution_count": 60,
   "id": "708a9be3-d519-4b5c-8e2a-2beaaf27c502",
   "metadata": {},
   "outputs": [
    {
     "name": "stdout",
     "output_type": "stream",
     "text": [
      "['date_debut_serie', 'date_fin_serie', 'date_obs']\n"
     ]
    }
   ],
   "source": [
    "colonnes_date = []\n",
    "for col in donnees_hydro.columns:\n",
    "    if 'date_' in col:\n",
    "        colonnes_date.append(col)\n",
    "        \n",
    "print(colonnes_date)"
   ]
  },
  {
   "cell_type": "markdown",
   "id": "88014716-68e3-430d-9a16-ac444c499aa1",
   "metadata": {
    "slideshow": {
     "slide_type": "slide"
    },
    "tags": []
   },
   "source": [
    "La compréhension de liste permet de gagner quelques lignes de code et, surtout, est plus rapide à l'exécution.\n",
    "\n",
    "Maintenant qu'on a la liste des colonnes de date, on veux convertir leur contenu en objets datetime :"
   ]
  },
  {
   "cell_type": "code",
   "execution_count": 61,
   "id": "324a5fab-b387-4823-a658-46e2cf55cb22",
   "metadata": {},
   "outputs": [
    {
     "name": "stdout",
     "output_type": "stream",
     "text": [
      "<class 'pandas.core.frame.DataFrame'>\n",
      "RangeIndex: 100 entries, 0 to 99\n",
      "Data columns (total 16 columns):\n",
      " #   Column                     Non-Null Count  Dtype              \n",
      "---  ------                     --------------  -----              \n",
      " 0   code_site                  100 non-null    object             \n",
      " 1   code_station               100 non-null    object             \n",
      " 2   grandeur_hydro             100 non-null    object             \n",
      " 3   date_debut_serie           100 non-null    datetime64[ns, UTC]\n",
      " 4   date_fin_serie             100 non-null    datetime64[ns, UTC]\n",
      " 5   statut_serie               100 non-null    int64              \n",
      " 6   code_systeme_alti_serie    100 non-null    int64              \n",
      " 7   date_obs                   100 non-null    datetime64[ns, UTC]\n",
      " 8   resultat_obs               100 non-null    float64            \n",
      " 9   code_methode_obs           100 non-null    int64              \n",
      " 10  libelle_methode_obs        100 non-null    object             \n",
      " 11  code_qualification_obs     100 non-null    int64              \n",
      " 12  libelle_qualification_obs  100 non-null    object             \n",
      " 13  continuite_obs_hydro       100 non-null    bool               \n",
      " 14  longitude                  100 non-null    float64            \n",
      " 15  latitude                   100 non-null    float64            \n",
      "dtypes: bool(1), datetime64[ns, UTC](3), float64(3), int64(4), object(5)\n",
      "memory usage: 11.9+ KB\n",
      "None\n"
     ]
    }
   ],
   "source": [
    "for col in colonnes_date:\n",
    "    donnees_hydro[col] = pd.to_datetime(donnees_hydro[col])\n",
    "\n",
    "print(donnees_hydro.info())"
   ]
  },
  {
   "cell_type": "markdown",
   "id": "c719509d-edf3-42f1-b07e-248df6af5837",
   "metadata": {
    "slideshow": {
     "slide_type": "slide"
    },
    "tags": []
   },
   "source": [
    "Reste à les mettre sur la bonne timezone :"
   ]
  },
  {
   "cell_type": "code",
   "execution_count": 62,
   "id": "c489fac3-7bad-4a4f-8137-e99a5a591f44",
   "metadata": {},
   "outputs": [
    {
     "name": "stdout",
     "output_type": "stream",
     "text": [
      "<class 'pandas.core.frame.DataFrame'>\n",
      "RangeIndex: 100 entries, 0 to 99\n",
      "Data columns (total 16 columns):\n",
      " #   Column                     Non-Null Count  Dtype                       \n",
      "---  ------                     --------------  -----                       \n",
      " 0   code_site                  100 non-null    object                      \n",
      " 1   code_station               100 non-null    object                      \n",
      " 2   grandeur_hydro             100 non-null    object                      \n",
      " 3   date_debut_serie           100 non-null    datetime64[ns, Europe/Paris]\n",
      " 4   date_fin_serie             100 non-null    datetime64[ns, Europe/Paris]\n",
      " 5   statut_serie               100 non-null    int64                       \n",
      " 6   code_systeme_alti_serie    100 non-null    int64                       \n",
      " 7   date_obs                   100 non-null    datetime64[ns, Europe/Paris]\n",
      " 8   resultat_obs               100 non-null    float64                     \n",
      " 9   code_methode_obs           100 non-null    int64                       \n",
      " 10  libelle_methode_obs        100 non-null    object                      \n",
      " 11  code_qualification_obs     100 non-null    int64                       \n",
      " 12  libelle_qualification_obs  100 non-null    object                      \n",
      " 13  continuite_obs_hydro       100 non-null    bool                        \n",
      " 14  longitude                  100 non-null    float64                     \n",
      " 15  latitude                   100 non-null    float64                     \n",
      "dtypes: bool(1), datetime64[ns, Europe/Paris](3), float64(3), int64(4), object(5)\n",
      "memory usage: 11.9+ KB\n",
      "None\n"
     ]
    },
    {
     "data": {
      "text/html": [
       "<div>\n",
       "<style scoped>\n",
       "    .dataframe tbody tr th:only-of-type {\n",
       "        vertical-align: middle;\n",
       "    }\n",
       "\n",
       "    .dataframe tbody tr th {\n",
       "        vertical-align: top;\n",
       "    }\n",
       "\n",
       "    .dataframe thead th {\n",
       "        text-align: right;\n",
       "    }\n",
       "</style>\n",
       "<table border=\"1\" class=\"dataframe\">\n",
       "  <thead>\n",
       "    <tr style=\"text-align: right;\">\n",
       "      <th></th>\n",
       "      <th>code_site</th>\n",
       "      <th>code_station</th>\n",
       "      <th>grandeur_hydro</th>\n",
       "      <th>date_debut_serie</th>\n",
       "      <th>date_fin_serie</th>\n",
       "      <th>statut_serie</th>\n",
       "      <th>code_systeme_alti_serie</th>\n",
       "      <th>date_obs</th>\n",
       "      <th>resultat_obs</th>\n",
       "      <th>code_methode_obs</th>\n",
       "      <th>libelle_methode_obs</th>\n",
       "      <th>code_qualification_obs</th>\n",
       "      <th>libelle_qualification_obs</th>\n",
       "      <th>continuite_obs_hydro</th>\n",
       "      <th>longitude</th>\n",
       "      <th>latitude</th>\n",
       "    </tr>\n",
       "  </thead>\n",
       "  <tbody>\n",
       "    <tr>\n",
       "      <th>0</th>\n",
       "      <td>V0220002</td>\n",
       "      <td>V022000202</td>\n",
       "      <td>H</td>\n",
       "      <td>2022-11-17 01:00:01+01:00</td>\n",
       "      <td>2022-11-17 17:30:00+01:00</td>\n",
       "      <td>4</td>\n",
       "      <td>31</td>\n",
       "      <td>2022-11-17 17:30:00+01:00</td>\n",
       "      <td>839.0</td>\n",
       "      <td>0</td>\n",
       "      <td>Mesure</td>\n",
       "      <td>16</td>\n",
       "      <td>Non qualifiée</td>\n",
       "      <td>True</td>\n",
       "      <td>6.271048</td>\n",
       "      <td>46.150604</td>\n",
       "    </tr>\n",
       "    <tr>\n",
       "      <th>1</th>\n",
       "      <td>V0220002</td>\n",
       "      <td>V022000202</td>\n",
       "      <td>H</td>\n",
       "      <td>2022-11-17 01:00:01+01:00</td>\n",
       "      <td>2022-11-17 17:30:00+01:00</td>\n",
       "      <td>4</td>\n",
       "      <td>31</td>\n",
       "      <td>2022-11-17 17:25:00+01:00</td>\n",
       "      <td>839.0</td>\n",
       "      <td>0</td>\n",
       "      <td>Mesure</td>\n",
       "      <td>16</td>\n",
       "      <td>Non qualifiée</td>\n",
       "      <td>True</td>\n",
       "      <td>6.271048</td>\n",
       "      <td>46.150604</td>\n",
       "    </tr>\n",
       "    <tr>\n",
       "      <th>2</th>\n",
       "      <td>V0220002</td>\n",
       "      <td>V022000202</td>\n",
       "      <td>H</td>\n",
       "      <td>2022-11-17 01:00:01+01:00</td>\n",
       "      <td>2022-11-17 17:30:00+01:00</td>\n",
       "      <td>4</td>\n",
       "      <td>31</td>\n",
       "      <td>2022-11-17 17:20:00+01:00</td>\n",
       "      <td>835.0</td>\n",
       "      <td>0</td>\n",
       "      <td>Mesure</td>\n",
       "      <td>16</td>\n",
       "      <td>Non qualifiée</td>\n",
       "      <td>True</td>\n",
       "      <td>6.271048</td>\n",
       "      <td>46.150604</td>\n",
       "    </tr>\n",
       "    <tr>\n",
       "      <th>3</th>\n",
       "      <td>V0220002</td>\n",
       "      <td>V022000202</td>\n",
       "      <td>H</td>\n",
       "      <td>2022-11-17 01:00:01+01:00</td>\n",
       "      <td>2022-11-17 17:30:00+01:00</td>\n",
       "      <td>4</td>\n",
       "      <td>31</td>\n",
       "      <td>2022-11-17 17:15:00+01:00</td>\n",
       "      <td>838.0</td>\n",
       "      <td>0</td>\n",
       "      <td>Mesure</td>\n",
       "      <td>16</td>\n",
       "      <td>Non qualifiée</td>\n",
       "      <td>True</td>\n",
       "      <td>6.271048</td>\n",
       "      <td>46.150604</td>\n",
       "    </tr>\n",
       "    <tr>\n",
       "      <th>4</th>\n",
       "      <td>V0220002</td>\n",
       "      <td>V022000202</td>\n",
       "      <td>H</td>\n",
       "      <td>2022-11-17 01:00:01+01:00</td>\n",
       "      <td>2022-11-17 17:30:00+01:00</td>\n",
       "      <td>4</td>\n",
       "      <td>31</td>\n",
       "      <td>2022-11-17 17:10:00+01:00</td>\n",
       "      <td>845.0</td>\n",
       "      <td>0</td>\n",
       "      <td>Mesure</td>\n",
       "      <td>16</td>\n",
       "      <td>Non qualifiée</td>\n",
       "      <td>True</td>\n",
       "      <td>6.271048</td>\n",
       "      <td>46.150604</td>\n",
       "    </tr>\n",
       "    <tr>\n",
       "      <th>...</th>\n",
       "      <td>...</td>\n",
       "      <td>...</td>\n",
       "      <td>...</td>\n",
       "      <td>...</td>\n",
       "      <td>...</td>\n",
       "      <td>...</td>\n",
       "      <td>...</td>\n",
       "      <td>...</td>\n",
       "      <td>...</td>\n",
       "      <td>...</td>\n",
       "      <td>...</td>\n",
       "      <td>...</td>\n",
       "      <td>...</td>\n",
       "      <td>...</td>\n",
       "      <td>...</td>\n",
       "      <td>...</td>\n",
       "    </tr>\n",
       "    <tr>\n",
       "      <th>95</th>\n",
       "      <td>V0220002</td>\n",
       "      <td>V022000202</td>\n",
       "      <td>H</td>\n",
       "      <td>2022-11-17 01:00:01+01:00</td>\n",
       "      <td>2022-11-17 10:00:00+01:00</td>\n",
       "      <td>4</td>\n",
       "      <td>31</td>\n",
       "      <td>2022-11-17 09:35:00+01:00</td>\n",
       "      <td>821.0</td>\n",
       "      <td>0</td>\n",
       "      <td>Mesure</td>\n",
       "      <td>16</td>\n",
       "      <td>Non qualifiée</td>\n",
       "      <td>True</td>\n",
       "      <td>6.271048</td>\n",
       "      <td>46.150604</td>\n",
       "    </tr>\n",
       "    <tr>\n",
       "      <th>96</th>\n",
       "      <td>V0220002</td>\n",
       "      <td>V022000202</td>\n",
       "      <td>H</td>\n",
       "      <td>2022-11-17 01:00:01+01:00</td>\n",
       "      <td>2022-11-17 09:30:00+01:00</td>\n",
       "      <td>4</td>\n",
       "      <td>31</td>\n",
       "      <td>2022-11-17 09:30:00+01:00</td>\n",
       "      <td>813.0</td>\n",
       "      <td>0</td>\n",
       "      <td>Mesure</td>\n",
       "      <td>16</td>\n",
       "      <td>Non qualifiée</td>\n",
       "      <td>True</td>\n",
       "      <td>6.271048</td>\n",
       "      <td>46.150604</td>\n",
       "    </tr>\n",
       "    <tr>\n",
       "      <th>97</th>\n",
       "      <td>V0220002</td>\n",
       "      <td>V022000202</td>\n",
       "      <td>H</td>\n",
       "      <td>2022-11-17 01:00:01+01:00</td>\n",
       "      <td>2022-11-17 09:30:00+01:00</td>\n",
       "      <td>4</td>\n",
       "      <td>31</td>\n",
       "      <td>2022-11-17 09:25:00+01:00</td>\n",
       "      <td>793.0</td>\n",
       "      <td>0</td>\n",
       "      <td>Mesure</td>\n",
       "      <td>16</td>\n",
       "      <td>Non qualifiée</td>\n",
       "      <td>True</td>\n",
       "      <td>6.271048</td>\n",
       "      <td>46.150604</td>\n",
       "    </tr>\n",
       "    <tr>\n",
       "      <th>98</th>\n",
       "      <td>V0220002</td>\n",
       "      <td>V022000202</td>\n",
       "      <td>H</td>\n",
       "      <td>2022-11-17 01:00:01+01:00</td>\n",
       "      <td>2022-11-17 09:30:00+01:00</td>\n",
       "      <td>4</td>\n",
       "      <td>31</td>\n",
       "      <td>2022-11-17 09:20:00+01:00</td>\n",
       "      <td>793.0</td>\n",
       "      <td>0</td>\n",
       "      <td>Mesure</td>\n",
       "      <td>16</td>\n",
       "      <td>Non qualifiée</td>\n",
       "      <td>True</td>\n",
       "      <td>6.271048</td>\n",
       "      <td>46.150604</td>\n",
       "    </tr>\n",
       "    <tr>\n",
       "      <th>99</th>\n",
       "      <td>V0220002</td>\n",
       "      <td>V022000202</td>\n",
       "      <td>H</td>\n",
       "      <td>2022-11-17 01:00:01+01:00</td>\n",
       "      <td>2022-11-17 09:30:00+01:00</td>\n",
       "      <td>4</td>\n",
       "      <td>31</td>\n",
       "      <td>2022-11-17 09:15:00+01:00</td>\n",
       "      <td>833.0</td>\n",
       "      <td>0</td>\n",
       "      <td>Mesure</td>\n",
       "      <td>16</td>\n",
       "      <td>Non qualifiée</td>\n",
       "      <td>True</td>\n",
       "      <td>6.271048</td>\n",
       "      <td>46.150604</td>\n",
       "    </tr>\n",
       "  </tbody>\n",
       "</table>\n",
       "<p>100 rows × 16 columns</p>\n",
       "</div>"
      ],
      "text/plain": [
       "   code_site code_station grandeur_hydro          date_debut_serie  \\\n",
       "0   V0220002   V022000202              H 2022-11-17 01:00:01+01:00   \n",
       "1   V0220002   V022000202              H 2022-11-17 01:00:01+01:00   \n",
       "2   V0220002   V022000202              H 2022-11-17 01:00:01+01:00   \n",
       "3   V0220002   V022000202              H 2022-11-17 01:00:01+01:00   \n",
       "4   V0220002   V022000202              H 2022-11-17 01:00:01+01:00   \n",
       "..       ...          ...            ...                       ...   \n",
       "95  V0220002   V022000202              H 2022-11-17 01:00:01+01:00   \n",
       "96  V0220002   V022000202              H 2022-11-17 01:00:01+01:00   \n",
       "97  V0220002   V022000202              H 2022-11-17 01:00:01+01:00   \n",
       "98  V0220002   V022000202              H 2022-11-17 01:00:01+01:00   \n",
       "99  V0220002   V022000202              H 2022-11-17 01:00:01+01:00   \n",
       "\n",
       "              date_fin_serie  statut_serie  code_systeme_alti_serie  \\\n",
       "0  2022-11-17 17:30:00+01:00             4                       31   \n",
       "1  2022-11-17 17:30:00+01:00             4                       31   \n",
       "2  2022-11-17 17:30:00+01:00             4                       31   \n",
       "3  2022-11-17 17:30:00+01:00             4                       31   \n",
       "4  2022-11-17 17:30:00+01:00             4                       31   \n",
       "..                       ...           ...                      ...   \n",
       "95 2022-11-17 10:00:00+01:00             4                       31   \n",
       "96 2022-11-17 09:30:00+01:00             4                       31   \n",
       "97 2022-11-17 09:30:00+01:00             4                       31   \n",
       "98 2022-11-17 09:30:00+01:00             4                       31   \n",
       "99 2022-11-17 09:30:00+01:00             4                       31   \n",
       "\n",
       "                    date_obs  resultat_obs  code_methode_obs  \\\n",
       "0  2022-11-17 17:30:00+01:00         839.0                 0   \n",
       "1  2022-11-17 17:25:00+01:00         839.0                 0   \n",
       "2  2022-11-17 17:20:00+01:00         835.0                 0   \n",
       "3  2022-11-17 17:15:00+01:00         838.0                 0   \n",
       "4  2022-11-17 17:10:00+01:00         845.0                 0   \n",
       "..                       ...           ...               ...   \n",
       "95 2022-11-17 09:35:00+01:00         821.0                 0   \n",
       "96 2022-11-17 09:30:00+01:00         813.0                 0   \n",
       "97 2022-11-17 09:25:00+01:00         793.0                 0   \n",
       "98 2022-11-17 09:20:00+01:00         793.0                 0   \n",
       "99 2022-11-17 09:15:00+01:00         833.0                 0   \n",
       "\n",
       "   libelle_methode_obs  code_qualification_obs libelle_qualification_obs  \\\n",
       "0               Mesure                      16             Non qualifiée   \n",
       "1               Mesure                      16             Non qualifiée   \n",
       "2               Mesure                      16             Non qualifiée   \n",
       "3               Mesure                      16             Non qualifiée   \n",
       "4               Mesure                      16             Non qualifiée   \n",
       "..                 ...                     ...                       ...   \n",
       "95              Mesure                      16             Non qualifiée   \n",
       "96              Mesure                      16             Non qualifiée   \n",
       "97              Mesure                      16             Non qualifiée   \n",
       "98              Mesure                      16             Non qualifiée   \n",
       "99              Mesure                      16             Non qualifiée   \n",
       "\n",
       "    continuite_obs_hydro  longitude   latitude  \n",
       "0                   True   6.271048  46.150604  \n",
       "1                   True   6.271048  46.150604  \n",
       "2                   True   6.271048  46.150604  \n",
       "3                   True   6.271048  46.150604  \n",
       "4                   True   6.271048  46.150604  \n",
       "..                   ...        ...        ...  \n",
       "95                  True   6.271048  46.150604  \n",
       "96                  True   6.271048  46.150604  \n",
       "97                  True   6.271048  46.150604  \n",
       "98                  True   6.271048  46.150604  \n",
       "99                  True   6.271048  46.150604  \n",
       "\n",
       "[100 rows x 16 columns]"
      ]
     },
     "execution_count": 62,
     "metadata": {},
     "output_type": "execute_result"
    }
   ],
   "source": [
    "for col in colonnes_date:\n",
    "    donnees_hydro[col] = donnees_hydro[col].dt.tz_convert('Europe/Paris')\n",
    "\n",
    "print(donnees_hydro.info())\n",
    "donnees_hydro"
   ]
  },
  {
   "cell_type": "code",
   "execution_count": 63,
   "id": "264b3aa7-ff49-4853-a2e9-d3e5cdbc8712",
   "metadata": {
    "slideshow": {
     "slide_type": "slide"
    },
    "tags": []
   },
   "outputs": [
    {
     "data": {
      "image/png": "[encoded data removed]",
      "text/plain": [
       "<Figure size 640x480 with 1 Axes>"
      ]
     },
     "metadata": {},
     "output_type": "display_data"
    }
   ],
   "source": [
    "donnees_hydro.to_csv('datasets/output/ma_chronique.csv')\n",
    "\n",
    "graph_chronique = donnees_hydro.plot.line(x='date_obs', y='resultat_obs', rot=45)"
   ]
  },
  {
   "cell_type": "markdown",
   "id": "8546ff71-32cc-4ab4-8e56-c430da97f5f7",
   "metadata": {
    "slideshow": {
     "slide_type": "slide"
    },
    "tags": []
   },
   "source": [
    "Maintenant récupérons les données sur plusieurs stations"
   ]
  },
  {
   "cell_type": "code",
   "execution_count": 65,
   "id": "2e822571-d36e-43b9-9044-ff72e2442ade",
   "metadata": {},
   "outputs": [],
   "source": [
    "reponse = requests.get('https://hubeau.eaufrance.fr/api/v1/hydrometrie/observations_tr',\n",
    "            params = {\n",
    "                'code_entite': 'V02*',\n",
    "                'grandeur_hydro': 'H',\n",
    "                'size': 300,\n",
    "                'sort': 'desc'\n",
    "            })\n",
    "\n",
    "donnees_hydro = pd.DataFrame(reponse.json()['data'])\n",
    "\n",
    "colonnes_date = [col for col in donnees_hydro.columns if 'date_' in col]\n",
    "\n",
    "for col in colonnes_date:\n",
    "    donnees_hydro[col] = pd.to_datetime(donnees_hydro[col])\n",
    "    donnees_hydro[col] = donnees_hydro[col].dt.tz_convert('Europe/Paris')"
   ]
  },
  {
   "cell_type": "markdown",
   "id": "400fd068-c0ee-4273-8aef-149146f37b0e",
   "metadata": {
    "slideshow": {
     "slide_type": "slide"
    },
    "tags": []
   },
   "source": [
    "Pour pouvoir superposer des séries sur un graphique, pandas a besoin d'un index commun (il ne peux se contenter d'une colonne). On va donc transformer la colonne date_obs en index."
   ]
  },
  {
   "cell_type": "code",
   "execution_count": 66,
   "id": "7849f969-de1a-41c5-a661-6c371795b648",
   "metadata": {},
   "outputs": [
    {
     "data": {
      "image/png": "[encoded data removed]",
      "text/plain": [
       "<Figure size 640x480 with 1 Axes>"
      ]
     },
     "metadata": {},
     "output_type": "display_data"
    }
   ],
   "source": [
    "donnees_hydro.set_index('date_obs', inplace=True)\n",
    "graph_multi_stations = donnees_hydro.groupby('code_station')['resultat_obs'].plot(rot=45, legend=True)"
   ]
  },
  {
   "cell_type": "markdown",
   "id": "9b4b21b0-c70e-4a83-92ef-f7f8d8364d8d",
   "metadata": {
    "slideshow": {
     "slide_type": "slide"
    },
    "tags": []
   },
   "source": [
    "Maintenant que l'index est la date, on peux récupérer les données à une date précise de cette façon :"
   ]
  },
  {
   "cell_type": "code",
   "execution_count": 70,
   "id": "6917e7f9-b055-4184-80cd-6747bb9a5748",
   "metadata": {},
   "outputs": [
    {
     "data": {
      "text/html": [
       "<div>\n",
       "<style scoped>\n",
       "    .dataframe tbody tr th:only-of-type {\n",
       "        vertical-align: middle;\n",
       "    }\n",
       "\n",
       "    .dataframe tbody tr th {\n",
       "        vertical-align: top;\n",
       "    }\n",
       "\n",
       "    .dataframe thead th {\n",
       "        text-align: right;\n",
       "    }\n",
       "</style>\n",
       "<table border=\"1\" class=\"dataframe\">\n",
       "  <thead>\n",
       "    <tr style=\"text-align: right;\">\n",
       "      <th></th>\n",
       "      <th>code_station</th>\n",
       "      <th>resultat_obs</th>\n",
       "    </tr>\n",
       "    <tr>\n",
       "      <th>date_obs</th>\n",
       "      <th></th>\n",
       "      <th></th>\n",
       "    </tr>\n",
       "  </thead>\n",
       "  <tbody>\n",
       "    <tr>\n",
       "      <th>2022-11-17 17:10:00+01:00</th>\n",
       "      <td>V020501002</td>\n",
       "      <td>289.0</td>\n",
       "    </tr>\n",
       "    <tr>\n",
       "      <th>2022-11-17 17:10:00+01:00</th>\n",
       "      <td>V020542001</td>\n",
       "      <td>581.0</td>\n",
       "    </tr>\n",
       "    <tr>\n",
       "      <th>2022-11-17 17:10:00+01:00</th>\n",
       "      <td>V020542201</td>\n",
       "      <td>327.0</td>\n",
       "    </tr>\n",
       "    <tr>\n",
       "      <th>2022-11-17 17:10:00+01:00</th>\n",
       "      <td>V022000202</td>\n",
       "      <td>845.0</td>\n",
       "    </tr>\n",
       "    <tr>\n",
       "      <th>2022-11-17 17:10:00+01:00</th>\n",
       "      <td>V023502001</td>\n",
       "      <td>967.0</td>\n",
       "    </tr>\n",
       "  </tbody>\n",
       "</table>\n",
       "</div>"
      ],
      "text/plain": [
       "                          code_station  resultat_obs\n",
       "date_obs                                            \n",
       "2022-11-17 17:10:00+01:00   V020501002         289.0\n",
       "2022-11-17 17:10:00+01:00   V020542001         581.0\n",
       "2022-11-17 17:10:00+01:00   V020542201         327.0\n",
       "2022-11-17 17:10:00+01:00   V022000202         845.0\n",
       "2022-11-17 17:10:00+01:00   V023502001         967.0"
      ]
     },
     "execution_count": 70,
     "metadata": {},
     "output_type": "execute_result"
    }
   ],
   "source": [
    "donnees_hydro[['code_station', 'resultat_obs']].loc['2022-11-17 17:10:00+01:00']"
   ]
  },
  {
   "cell_type": "markdown",
   "id": "22b8ec33-8293-497f-9d43-0c6c11832147",
   "metadata": {
    "slideshow": {
     "slide_type": "slide"
    },
    "tags": []
   },
   "source": [
    "## Ajouter des géométries spatiales avec geopandas\n",
    "\n",
    "Le package geopandas ajoute la gestion des géométries spatiales à pandas. Il faut d'abord l'installer :\n",
    "\n",
    "```bash\n",
    "conda install -c conda-forge geopandas\n",
    "```\n",
    "\n",
    "Puis l'importer :"
   ]
  },
  {
   "cell_type": "code",
   "execution_count": 34,
   "id": "49dce553-b516-458b-a0b0-11590217a413",
   "metadata": {},
   "outputs": [],
   "source": [
    "import geopandas as gpd"
   ]
  },
  {
   "cell_type": "markdown",
   "id": "14c004c0-2c58-47c2-909a-46a160216909",
   "metadata": {
    "slideshow": {
     "slide_type": "slide"
    },
    "tags": []
   },
   "source": [
    "On va ensuite créer un GeoDataFrame avec des géométries spatiales de type point à partir des données latitude et longitude renvoyées par l'API."
   ]
  },
  {
   "cell_type": "code",
   "execution_count": 35,
   "id": "ac9c74f8-5dfb-4f77-83a3-a3743f624015",
   "metadata": {},
   "outputs": [
    {
     "name": "stdout",
     "output_type": "stream",
     "text": [
      "<class 'geopandas.geodataframe.GeoDataFrame'>\n",
      "DatetimeIndex: 300 entries, 2022-11-17 17:30:00+01:00 to 2022-11-17 12:35:00+01:00\n",
      "Data columns (total 16 columns):\n",
      " #   Column                     Non-Null Count  Dtype                       \n",
      "---  ------                     --------------  -----                       \n",
      " 0   code_site                  300 non-null    object                      \n",
      " 1   code_station               300 non-null    object                      \n",
      " 2   grandeur_hydro             300 non-null    object                      \n",
      " 3   date_debut_serie           300 non-null    datetime64[ns, Europe/Paris]\n",
      " 4   date_fin_serie             300 non-null    datetime64[ns, Europe/Paris]\n",
      " 5   statut_serie               300 non-null    int64                       \n",
      " 6   code_systeme_alti_serie    300 non-null    int64                       \n",
      " 7   resultat_obs               300 non-null    float64                     \n",
      " 8   code_methode_obs           300 non-null    int64                       \n",
      " 9   libelle_methode_obs        300 non-null    object                      \n",
      " 10  code_qualification_obs     300 non-null    int64                       \n",
      " 11  libelle_qualification_obs  300 non-null    object                      \n",
      " 12  continuite_obs_hydro       300 non-null    bool                        \n",
      " 13  longitude                  300 non-null    float64                     \n",
      " 14  latitude                   300 non-null    float64                     \n",
      " 15  geometry                   300 non-null    geometry                    \n",
      "dtypes: bool(1), datetime64[ns, Europe/Paris](2), float64(3), geometry(1), int64(4), object(5)\n",
      "memory usage: 37.8+ KB\n",
      "None\n"
     ]
    }
   ],
   "source": [
    "gdf_hydro = gpd.GeoDataFrame(donnees_hydro, \n",
    "                             crs=\"EPSG:4326\", \n",
    "                             geometry=gpd.points_from_xy(donnees_hydro['longitude'], donnees_hydro['latitude']))\n",
    "print(gdf_hydro.info())"
   ]
  },
  {
   "cell_type": "markdown",
   "id": "c30566ff-9060-46bb-808e-c51fca0bb575",
   "metadata": {
    "slideshow": {
     "slide_type": "slide"
    },
    "tags": []
   },
   "source": [
    "On peux utiliser un dataset fourni dans le package geopandas comme fond de carte et utiliser matplotlib pour générer une carte."
   ]
  },
  {
   "cell_type": "code",
   "execution_count": 71,
   "id": "5a01e2fa-a8d5-45c0-b8b3-a999cbda5994",
   "metadata": {},
   "outputs": [
    {
     "data": {
      "text/plain": [
       "(40.0, 52.0)"
      ]
     },
     "execution_count": 71,
     "metadata": {},
     "output_type": "execute_result"
    },
    {
     "data": {
      "image/png": "[encoded data removed]",
      "text/plain": [
       "<Figure size 640x480 with 1 Axes>"
      ]
     },
     "metadata": {},
     "output_type": "display_data"
    }
   ],
   "source": [
    "world = gpd.read_file(gpd.datasets.get_path('naturalearth_lowres'))\n",
    "base = world[world['name']=='France'].plot(color='white', edgecolor='black')\n",
    "\n",
    "gdf_dernieres_mesures = gdf_hydro.groupby('code_station').first()\n",
    "stations_map = gdf_dernieres_mesures.plot(ax=base, marker='o', color='red', markersize=5)\n",
    "\n",
    "stations_map.set_xlim(-7.5,10)\n",
    "stations_map.set_ylim(40,52)"
   ]
  },
  {
   "cell_type": "markdown",
   "id": "9f87a6f6-027f-4776-8a3c-951e72cffddd",
   "metadata": {
    "slideshow": {
     "slide_type": "slide"
    },
    "tags": []
   },
   "source": [
    "La méthode `explore()` permet de générer rapidement un leaflet."
   ]
  },
  {
   "cell_type": "code",
   "execution_count": 73,
   "id": "c848b1b6-48b8-422f-9f1c-b505a1ff374b",
   "metadata": {},
   "outputs": [
    {
     "data": {
      "text/html": [
       "<div style=\"width:100%;\"><div style=\"position:relative;width:100%;height:0;padding-bottom:60%;\"><span style=\"color:#565656\">Make this Notebook Trusted to load map: File -> Trust Notebook</span><iframe srcdoc=\"&lt;!DOCTYPE html&gt;\n",
       "&lt;html&gt;\n",
       "&lt;head&gt;\n",
       "    \n",
       "    &lt;meta http-equiv=&quot;content-type&quot; content=&quot;text/html; charset=UTF-8&quot; /&gt;\n",
       "    \n",
       "        &lt;script&gt;\n",
       "            L_NO_TOUCH = false;\n",
       "            L_DISABLE_3D = false;\n",
       "        &lt;/script&gt;\n",
       "    \n",
       "    &lt;style&gt;html, body {width: 100%;height: 100%;margin: 0;padding: 0;}&lt;/style&gt;\n",
       "    &lt;style&gt;#map {position:absolute;top:0;bottom:0;right:0;left:0;}&lt;/style&gt;\n",
       "    &lt;script src=&quot;https://cdn.jsdelivr.net/npm/leaflet@1.6.0/dist/leaflet.js&quot;&gt;&lt;/script&gt;\n",
       "    &lt;script src=&quot;https://code.jquery.com/jquery-1.12.4.min.js&quot;&gt;&lt;/script&gt;\n",
       "    &lt;script src=&quot;https://maxcdn.bootstrapcdn.com/bootstrap/3.2.0/js/bootstrap.min.js&quot;&gt;&lt;/script&gt;\n",
       "    &lt;script src=&quot;https://cdnjs.cloudflare.com/ajax/libs/Leaflet.awesome-markers/2.0.2/leaflet.awesome-markers.js&quot;&gt;&lt;/script&gt;\n",
       "    &lt;link rel=&quot;stylesheet&quot; href=&quot;https://cdn.jsdelivr.net/npm/leaflet@1.6.0/dist/leaflet.css&quot;/&gt;\n",
       "    &lt;link rel=&quot;stylesheet&quot; href=&quot;https://maxcdn.bootstrapcdn.com/bootstrap/3.2.0/css/bootstrap.min.css&quot;/&gt;\n",
       "    &lt;link rel=&quot;stylesheet&quot; href=&quot;https://maxcdn.bootstrapcdn.com/bootstrap/3.2.0/css/bootstrap-theme.min.css&quot;/&gt;\n",
       "    &lt;link rel=&quot;stylesheet&quot; href=&quot;https://maxcdn.bootstrapcdn.com/font-awesome/4.6.3/css/font-awesome.min.css&quot;/&gt;\n",
       "    &lt;link rel=&quot;stylesheet&quot; href=&quot;https://cdnjs.cloudflare.com/ajax/libs/Leaflet.awesome-markers/2.0.2/leaflet.awesome-markers.css&quot;/&gt;\n",
       "    &lt;link rel=&quot;stylesheet&quot; href=&quot;https://cdn.jsdelivr.net/gh/python-visualization/folium/folium/templates/leaflet.awesome.rotate.min.css&quot;/&gt;\n",
       "    \n",
       "            &lt;meta name=&quot;viewport&quot; content=&quot;width=device-width,\n",
       "                initial-scale=1.0, maximum-scale=1.0, user-scalable=no&quot; /&gt;\n",
       "            &lt;style&gt;\n",
       "                #map_26ccbc4ce0ecb3c11c6bbfd2d1059f7f {\n",
       "                    position: relative;\n",
       "                    width: 100.0%;\n",
       "                    height: 100.0%;\n",
       "                    left: 0.0%;\n",
       "                    top: 0.0%;\n",
       "                }\n",
       "            &lt;/style&gt;\n",
       "        \n",
       "    \n",
       "                    &lt;style&gt;\n",
       "                        .foliumtooltip {\n",
       "                            \n",
       "                        }\n",
       "                       .foliumtooltip table{\n",
       "                            margin: auto;\n",
       "                        }\n",
       "                        .foliumtooltip tr{\n",
       "                            text-align: left;\n",
       "                        }\n",
       "                        .foliumtooltip th{\n",
       "                            padding: 2px; padding-right: 8px;\n",
       "                        }\n",
       "                    &lt;/style&gt;\n",
       "            \n",
       "    \n",
       "                    &lt;style&gt;\n",
       "                        .foliumpopup {\n",
       "                            margin: auto;\n",
       "                        }\n",
       "                       .foliumpopup table{\n",
       "                            margin: auto;\n",
       "                        }\n",
       "                        .foliumpopup tr{\n",
       "                            text-align: left;\n",
       "                        }\n",
       "                        .foliumpopup th{\n",
       "                            padding: 2px; padding-right: 8px;\n",
       "                        }\n",
       "                    &lt;/style&gt;\n",
       "            \n",
       "    &lt;script src=&quot;https://cdnjs.cloudflare.com/ajax/libs/d3/3.5.5/d3.min.js&quot;&gt;&lt;/script&gt;\n",
       "&lt;/head&gt;\n",
       "&lt;body&gt;\n",
       "    \n",
       "    \n",
       "            &lt;div class=&quot;folium-map&quot; id=&quot;map_26ccbc4ce0ecb3c11c6bbfd2d1059f7f&quot; &gt;&lt;/div&gt;\n",
       "        \n",
       "&lt;/body&gt;\n",
       "&lt;script&gt;\n",
       "    \n",
       "    \n",
       "            var map_26ccbc4ce0ecb3c11c6bbfd2d1059f7f = L.map(\n",
       "                &quot;map_26ccbc4ce0ecb3c11c6bbfd2d1059f7f&quot;,\n",
       "                {\n",
       "                    center: [46.05101546, 6.260693613],\n",
       "                    crs: L.CRS.Simple,\n",
       "                    zoom: 10,\n",
       "                    zoomControl: true,\n",
       "                    preferCanvas: false,\n",
       "                }\n",
       "            );\n",
       "            L.control.scale().addTo(map_26ccbc4ce0ecb3c11c6bbfd2d1059f7f);\n",
       "\n",
       "            \n",
       "\n",
       "        \n",
       "    \n",
       "            map_26ccbc4ce0ecb3c11c6bbfd2d1059f7f.fitBounds(\n",
       "                [[45.936304423, 6.066317751], [46.165726497, 6.455069475]],\n",
       "                {}\n",
       "            );\n",
       "        \n",
       "    \n",
       "        function geo_json_abdb75b55fbf68831072bf04e7246e83_styler(feature) {\n",
       "            switch(feature.id) {\n",
       "                case &quot;0&quot;: \n",
       "                    return {&quot;color&quot;: &quot;#440154&quot;, &quot;fillColor&quot;: &quot;#440154&quot;, &quot;fillOpacity&quot;: 0.5, &quot;weight&quot;: 2};\n",
       "                case &quot;1&quot;: \n",
       "                    return {&quot;color&quot;: &quot;#277f8e&quot;, &quot;fillColor&quot;: &quot;#277f8e&quot;, &quot;fillOpacity&quot;: 0.5, &quot;weight&quot;: 2};\n",
       "                case &quot;2&quot;: \n",
       "                    return {&quot;color&quot;: &quot;#471164&quot;, &quot;fillColor&quot;: &quot;#471164&quot;, &quot;fillOpacity&quot;: 0.5, &quot;weight&quot;: 2};\n",
       "                case &quot;3&quot;: \n",
       "                    return {&quot;color&quot;: &quot;#84d44b&quot;, &quot;fillColor&quot;: &quot;#84d44b&quot;, &quot;fillOpacity&quot;: 0.5, &quot;weight&quot;: 2};\n",
       "                case &quot;5&quot;: \n",
       "                    return {&quot;color&quot;: &quot;#482173&quot;, &quot;fillColor&quot;: &quot;#482173&quot;, &quot;fillOpacity&quot;: 0.5, &quot;weight&quot;: 2};\n",
       "                default:\n",
       "                    return {&quot;color&quot;: &quot;#fde725&quot;, &quot;fillColor&quot;: &quot;#fde725&quot;, &quot;fillOpacity&quot;: 0.5, &quot;weight&quot;: 2};\n",
       "            }\n",
       "        }\n",
       "        function geo_json_abdb75b55fbf68831072bf04e7246e83_highlighter(feature) {\n",
       "            switch(feature.id) {\n",
       "                default:\n",
       "                    return {&quot;fillOpacity&quot;: 0.75};\n",
       "            }\n",
       "        }\n",
       "        function geo_json_abdb75b55fbf68831072bf04e7246e83_pointToLayer(feature, latlng) {\n",
       "            var opts = {&quot;bubblingMouseEvents&quot;: true, &quot;color&quot;: &quot;#3388ff&quot;, &quot;dashArray&quot;: null, &quot;dashOffset&quot;: null, &quot;fill&quot;: true, &quot;fillColor&quot;: &quot;#3388ff&quot;, &quot;fillOpacity&quot;: 0.2, &quot;fillRule&quot;: &quot;evenodd&quot;, &quot;lineCap&quot;: &quot;round&quot;, &quot;lineJoin&quot;: &quot;round&quot;, &quot;opacity&quot;: 1.0, &quot;radius&quot;: 2, &quot;stroke&quot;: true, &quot;weight&quot;: 3};\n",
       "            \n",
       "            let style = geo_json_abdb75b55fbf68831072bf04e7246e83_styler(feature)\n",
       "            Object.assign(opts, style)\n",
       "            \n",
       "            return new L.CircleMarker(latlng, opts)\n",
       "        }\n",
       "\n",
       "        function geo_json_abdb75b55fbf68831072bf04e7246e83_onEachFeature(feature, layer) {\n",
       "            layer.on({\n",
       "                mouseout: function(e) {\n",
       "                    if(typeof e.target.setStyle === &quot;function&quot;){\n",
       "                        geo_json_abdb75b55fbf68831072bf04e7246e83.resetStyle(e.target);\n",
       "                    }\n",
       "                },\n",
       "                mouseover: function(e) {\n",
       "                    if(typeof e.target.setStyle === &quot;function&quot;){\n",
       "                        const highlightStyle = geo_json_abdb75b55fbf68831072bf04e7246e83_highlighter(e.target.feature)\n",
       "                        e.target.setStyle(highlightStyle);\n",
       "                    }\n",
       "                },\n",
       "            });\n",
       "        };\n",
       "        var geo_json_abdb75b55fbf68831072bf04e7246e83 = L.geoJson(null, {\n",
       "                onEachFeature: geo_json_abdb75b55fbf68831072bf04e7246e83_onEachFeature,\n",
       "            \n",
       "                style: geo_json_abdb75b55fbf68831072bf04e7246e83_styler,\n",
       "                pointToLayer: geo_json_abdb75b55fbf68831072bf04e7246e83_pointToLayer\n",
       "        });\n",
       "\n",
       "        function geo_json_abdb75b55fbf68831072bf04e7246e83_add (data) {\n",
       "            geo_json_abdb75b55fbf68831072bf04e7246e83\n",
       "                .addData(data)\n",
       "                .addTo(map_26ccbc4ce0ecb3c11c6bbfd2d1059f7f);\n",
       "        }\n",
       "            geo_json_abdb75b55fbf68831072bf04e7246e83_add({&quot;bbox&quot;: [6.066317751, 45.936304423, 6.455069475, 46.165726497], &quot;features&quot;: [{&quot;bbox&quot;: [6.455069475, 46.068079004, 6.455069475, 46.068079004], &quot;geometry&quot;: {&quot;coordinates&quot;: [6.455069475, 46.068079004], &quot;type&quot;: &quot;Point&quot;}, &quot;id&quot;: &quot;0&quot;, &quot;properties&quot;: {&quot;__folium_color&quot;: &quot;#440154&quot;, &quot;code_station&quot;: &quot;V020501002&quot;, &quot;resultat_obs&quot;: 296.0}, &quot;type&quot;: &quot;Feature&quot;}, {&quot;bbox&quot;: [6.418470415, 45.936304423, 6.418470415, 45.936304423], &quot;geometry&quot;: {&quot;coordinates&quot;: [6.418470415, 45.936304423], &quot;type&quot;: &quot;Point&quot;}, &quot;id&quot;: &quot;1&quot;, &quot;properties&quot;: {&quot;__folium_color&quot;: &quot;#277f8e&quot;, &quot;code_station&quot;: &quot;V020542001&quot;, &quot;resultat_obs&quot;: 583.0}, &quot;type&quot;: &quot;Feature&quot;}, {&quot;bbox&quot;: [6.405936393, 46.076794353, 6.405936393, 46.076794353], &quot;geometry&quot;: {&quot;coordinates&quot;: [6.405936393, 46.076794353], &quot;type&quot;: &quot;Point&quot;}, &quot;id&quot;: &quot;2&quot;, &quot;properties&quot;: {&quot;__folium_color&quot;: &quot;#471164&quot;, &quot;code_station&quot;: &quot;V020542201&quot;, &quot;resultat_obs&quot;: 326.0}, &quot;type&quot;: &quot;Feature&quot;}, {&quot;bbox&quot;: [6.271047706, 46.150604321, 6.271047706, 46.150604321], &quot;geometry&quot;: {&quot;coordinates&quot;: [6.271047706, 46.150604321], &quot;type&quot;: &quot;Point&quot;}, &quot;id&quot;: &quot;3&quot;, &quot;properties&quot;: {&quot;__folium_color&quot;: &quot;#84d44b&quot;, &quot;code_station&quot;: &quot;V022000202&quot;, &quot;resultat_obs&quot;: 839.0}, &quot;type&quot;: &quot;Feature&quot;}, {&quot;bbox&quot;: [6.320774188, 46.165726497, 6.320774188, 46.165726497], &quot;geometry&quot;: {&quot;coordinates&quot;: [6.320774188, 46.165726497], &quot;type&quot;: &quot;Point&quot;}, &quot;id&quot;: &quot;4&quot;, &quot;properties&quot;: {&quot;__folium_color&quot;: &quot;#fde725&quot;, &quot;code_station&quot;: &quot;V023502001&quot;, &quot;resultat_obs&quot;: 964.0}, &quot;type&quot;: &quot;Feature&quot;}, {&quot;bbox&quot;: [6.066317751, 46.140267216, 6.066317751, 46.140267216], &quot;geometry&quot;: {&quot;coordinates&quot;: [6.066317751, 46.140267216], &quot;type&quot;: &quot;Point&quot;}, &quot;id&quot;: &quot;5&quot;, &quot;properties&quot;: {&quot;__folium_color&quot;: &quot;#482173&quot;, &quot;code_station&quot;: &quot;V024561001&quot;, &quot;resultat_obs&quot;: 358.0}, &quot;type&quot;: &quot;Feature&quot;}], &quot;type&quot;: &quot;FeatureCollection&quot;});\n",
       "\n",
       "        \n",
       "    \n",
       "    geo_json_abdb75b55fbf68831072bf04e7246e83.bindTooltip(\n",
       "    function(layer){\n",
       "    let div = L.DomUtil.create(&#x27;div&#x27;);\n",
       "    \n",
       "    let handleObject = feature=&gt;typeof(feature)==&#x27;object&#x27; ? JSON.stringify(feature) : feature;\n",
       "    let fields = [&quot;code_station&quot;];\n",
       "    let aliases = [&quot;code_station&quot;];\n",
       "    let table = &#x27;&lt;table&gt;&#x27; +\n",
       "        String(\n",
       "        fields.map(\n",
       "        (v,i)=&gt;\n",
       "        `&lt;tr&gt;\n",
       "            &lt;th&gt;${aliases[i]}&lt;/th&gt;\n",
       "            \n",
       "            &lt;td&gt;${handleObject(layer.feature.properties[v])}&lt;/td&gt;\n",
       "        &lt;/tr&gt;`).join(&#x27;&#x27;))\n",
       "    +&#x27;&lt;/table&gt;&#x27;;\n",
       "    div.innerHTML=table;\n",
       "    \n",
       "    return div\n",
       "    }\n",
       "    ,{&quot;className&quot;: &quot;foliumtooltip&quot;, &quot;sticky&quot;: true});\n",
       "                     \n",
       "    \n",
       "    geo_json_abdb75b55fbf68831072bf04e7246e83.bindPopup(\n",
       "    function(layer){\n",
       "    let div = L.DomUtil.create(&#x27;div&#x27;);\n",
       "    \n",
       "    let handleObject = feature=&gt;typeof(feature)==&#x27;object&#x27; ? JSON.stringify(feature) : feature;\n",
       "    let fields = [&quot;code_station&quot;, &quot;resultat_obs&quot;];\n",
       "    let aliases = [&quot;code_station&quot;, &quot;resultat_obs&quot;];\n",
       "    let table = &#x27;&lt;table&gt;&#x27; +\n",
       "        String(\n",
       "        fields.map(\n",
       "        (v,i)=&gt;\n",
       "        `&lt;tr&gt;\n",
       "            &lt;th&gt;${aliases[i].toLocaleString()}&lt;/th&gt;\n",
       "            \n",
       "            &lt;td&gt;${handleObject(layer.feature.properties[v]).toLocaleString()}&lt;/td&gt;\n",
       "        &lt;/tr&gt;`).join(&#x27;&#x27;))\n",
       "    +&#x27;&lt;/table&gt;&#x27;;\n",
       "    div.innerHTML=table;\n",
       "    \n",
       "    return div\n",
       "    }\n",
       "    ,{&quot;className&quot;: &quot;foliumpopup&quot;});\n",
       "                     \n",
       "    \n",
       "    var color_map_71490d5bfd7dfe4313f90ec46958688d = {};\n",
       "\n",
       "    \n",
       "    color_map_71490d5bfd7dfe4313f90ec46958688d.color = d3.scale.threshold()\n",
       "              .domain([296.0, 297.33867735470943, 298.67735470941886, 300.01603206412824, 301.3547094188377, 302.6933867735471, 304.03206412825654, 305.3707414829659, 306.70941883767534, 308.0480961923848, 309.3867735470942, 310.7254509018036, 312.064128256513, 313.40280561122245, 314.7414829659319, 316.0801603206413, 317.4188376753507, 318.7575150300601, 320.09619238476955, 321.434869739479, 322.77354709418836, 324.1122244488978, 325.4509018036072, 326.78957915831666, 328.12825651302603, 329.46693386773546, 330.8056112224449, 332.1442885771543, 333.4829659318637, 334.82164328657313, 336.16032064128257, 337.498997995992, 338.8376753507014, 340.1763527054108, 341.51503006012024, 342.85370741482967, 344.1923847695391, 345.5310621242485, 346.8697394789579, 348.20841683366734, 349.5470941883768, 350.88577154308615, 352.2244488977956, 353.563126252505, 354.90180360721445, 356.2404809619238, 357.57915831663325, 358.9178356713427, 360.2565130260521, 361.59519038076155, 362.9338677354709, 364.27254509018036, 365.6112224448898, 366.94989979959917, 368.2885771543086, 369.62725450901803, 370.96593186372746, 372.3046092184369, 373.64328657314627, 374.9819639278557, 376.32064128256513, 377.65931863727457, 378.997995991984, 380.3366733466934, 381.6753507014028, 383.01402805611224, 384.3527054108216, 385.69138276553105, 387.0300601202405, 388.3687374749499, 389.70741482965934, 391.0460921843687, 392.38476953907815, 393.7234468937876, 395.062124248497, 396.40080160320645, 397.7394789579158, 399.07815631262525, 400.4168336673347, 401.75551102204406, 403.0941883767535, 404.4328657314629, 405.77154308617236, 407.1102204408818, 408.44889779559117, 409.7875751503006, 411.12625250501003, 412.4649298597194, 413.80360721442884, 415.14228456913827, 416.4809619238477, 417.81963927855713, 419.1583166332665, 420.49699398797594, 421.8356713426854, 423.1743486973948, 424.51302605210424, 425.8517034068136, 427.19038076152304, 428.5290581162325, 429.86773547094185, 431.20641282565134, 432.5450901803607, 433.88376753507015, 435.2224448897796, 436.56112224448896, 437.8997995991984, 439.2384769539078, 440.5771543086172, 441.9158316633267, 443.25450901803606, 444.5931863727455, 445.9318637274549, 447.2705410821643, 448.6092184368738, 449.94789579158316, 451.2865731462926, 452.62525050100203, 453.9639278557114, 455.30260521042084, 456.64128256513027, 457.97995991983964, 459.31863727454913, 460.6573146292585, 461.99599198396794, 463.3346693386774, 464.67334669338675, 466.0120240480962, 467.3507014028056, 468.68937875751504, 470.0280561122245, 471.36673346693385, 472.7054108216433, 474.0440881763527, 475.3827655310621, 476.7214428857716, 478.06012024048096, 479.3987975951904, 480.7374749498998, 482.0761523046092, 483.4148296593186, 484.75350701402806, 486.09218436873743, 487.4308617234469, 488.7695390781563, 490.10821643286573, 491.44689378757516, 492.78557114228454, 494.124248496994, 495.4629258517034, 496.80160320641284, 498.14028056112227, 499.47895791583164, 500.8176352705411, 502.1563126252505, 503.4949899799599, 504.83366733466937, 506.17234468937875, 507.5110220440882, 508.8496993987976, 510.188376753507, 511.5270541082165, 512.8657314629259, 514.2044088176353, 515.5430861723447, 516.8817635270541, 518.2204408817636, 519.559118236473, 520.8977955911823, 522.2364729458918, 523.5751503006012, 524.9138276553106, 526.2525050100201, 527.5911823647294, 528.9298597194388, 530.2685370741483, 531.6072144288577, 532.9458917835672, 534.2845691382765, 535.623246492986, 536.9619238476954, 538.3006012024048, 539.6392785571143, 540.9779559118236, 542.316633266533, 543.6553106212425, 544.9939879759519, 546.3326653306613, 547.6713426853707, 549.0100200400801, 550.3486973947896, 551.687374749499, 553.0260521042085, 554.3647294589179, 555.7034068136272, 557.0420841683367, 558.3807615230461, 559.7194388777555, 561.058116232465, 562.3967935871743, 563.7354709418837, 565.0741482965932, 566.4128256513027, 567.751503006012, 569.0901803607214, 570.4288577154309, 571.7675350701403, 573.1062124248497, 574.4448897795592, 575.7835671342685, 577.1222444889779, 578.4609218436874, 579.7995991983968, 581.1382765531062, 582.4769539078156, 583.8156312625251, 585.1543086172344, 586.4929859719439, 587.8316633266534, 589.1703406813627, 590.5090180360721, 591.8476953907816, 593.186372745491, 594.5250501002004, 595.8637274549098, 597.2024048096192, 598.5410821643286, 599.8797595190381, 601.2184368737476, 602.5571142284568, 603.8957915831663, 605.2344689378758, 606.5731462925852, 607.9118236472946, 609.2505010020041, 610.5891783567134, 611.9278557114228, 613.2665330661323, 614.6052104208417, 615.943887775551, 617.2825651302605, 618.6212424849699, 619.9599198396793, 621.2985971943888, 622.6372745490983, 623.9759519038076, 625.314629258517, 626.6533066132265, 627.9919839679359, 629.3306613226453, 630.6693386773547, 632.0080160320641, 633.3466933867735, 634.685370741483, 636.0240480961924, 637.3627254509017, 638.7014028056112, 640.0400801603207, 641.3787575150301, 642.7174348697395, 644.056112224449, 645.3947895791583, 646.7334669338677, 648.0721442885772, 649.4108216432866, 650.7494989979959, 652.0881763527054, 653.4268537074148, 654.7655310621242, 656.1042084168337, 657.4428857715432, 658.7815631262524, 660.1202404809619, 661.4589178356714, 662.7975951903808, 664.1362725450902, 665.4749498997996, 666.813627254509, 668.1523046092184, 669.4909819639279, 670.8296593186373, 672.1683366733466, 673.5070140280561, 674.8456913827656, 676.1843687374749, 677.5230460921844, 678.8617234468938, 680.2004008016032, 681.5390781563126, 682.8777555110221, 684.2164328657315, 685.5551102204408, 686.8937875751503, 688.2324649298597, 689.5711422845691, 690.9098196392786, 692.248496993988, 693.5871743486973, 694.9258517034068, 696.2645290581163, 697.6032064128257, 698.941883767535, 700.2805611222445, 701.6192384769539, 702.9579158316633, 704.2965931863728, 705.6352705410821, 706.9739478957915, 708.312625250501, 709.6513026052105, 710.9899799599198, 712.3286573146293, 713.6673346693387, 715.0060120240481, 716.3446893787575, 717.683366733467, 719.0220440881764, 720.3607214428857, 721.6993987975952, 723.0380761523046, 724.376753507014, 725.7154308617235, 727.054108216433, 728.3927855711422, 729.7314629258517, 731.0701402805612, 732.4088176352706, 733.7474949899799, 735.0861723446894, 736.4248496993988, 737.7635270541082, 739.1022044088177, 740.440881763527, 741.7795591182364, 743.1182364729459, 744.4569138276553, 745.7955911823647, 747.1342685370741, 748.4729458917836, 749.811623246493, 751.1503006012024, 752.4889779559119, 753.8276553106213, 755.1663326653306, 756.5050100200401, 757.8436873747495, 759.1823647294589, 760.5210420841684, 761.8597194388777, 763.1983967935871, 764.5370741482966, 765.8757515030061, 767.2144288577153, 768.5531062124248, 769.8917835671343, 771.2304609218437, 772.5691382765531, 773.9078156312626, 775.2464929859719, 776.5851703406813, 777.9238476953908, 779.2625250501002, 780.6012024048096, 781.939879759519, 783.2785571142285, 784.6172344689378, 785.9559118236473, 787.2945891783568, 788.6332665330661, 789.9719438877755, 791.310621242485, 792.6492985971944, 793.9879759519038, 795.3266533066133, 796.6653306613226, 798.004008016032, 799.3426853707415, 800.681362725451, 802.0200400801602, 803.3587174348697, 804.6973947895792, 806.0360721442886, 807.374749498998, 808.7134268537075, 810.0521042084168, 811.3907815631262, 812.7294589178357, 814.0681362725451, 815.4068136272546, 816.7454909819639, 818.0841683366733, 819.4228456913828, 820.7615230460922, 822.1002004008016, 823.438877755511, 824.7775551102204, 826.1162324649299, 827.4549098196393, 828.7935871743487, 830.1322645290581, 831.4709418837675, 832.8096192384769, 834.1482965931864, 835.4869739478958, 836.8256513026053, 838.1643286573146, 839.503006012024, 840.8416833667335, 842.1803607214429, 843.5190380761524, 844.8577154308617, 846.1963927855711, 847.5350701402806, 848.87374749499, 850.2124248496993, 851.5511022044088, 852.8897795591182, 854.2284569138277, 855.5671342685371, 856.9058116232464, 858.2444889779559, 859.5831663326653, 860.9218436873748, 862.2605210420842, 863.5991983967936, 864.937875751503, 866.2765531062124, 867.6152304609218, 868.9539078156313, 870.2925851703407, 871.6312625250501, 872.9699398797595, 874.3086172344689, 875.6472945891784, 876.9859719438878, 878.3246492985973, 879.6633266533066, 881.002004008016, 882.3406813627255, 883.6793587174349, 885.0180360721442, 886.3567134268537, 887.6953907815631, 889.0340681362726, 890.372745490982, 891.7114228456913, 893.0501002004008, 894.3887775551102, 895.7274549098196, 897.0661322645291, 898.4048096192384, 899.7434869739479, 901.0821643286573, 902.4208416833667, 903.7595190380762, 905.0981963927856, 906.436873747495, 907.7755511022044, 909.1142284569138, 910.4529058116233, 911.7915831663327, 913.130260521042, 914.4689378757515, 915.8076152304609, 917.1462925851704, 918.4849699398798, 919.8236472945891, 921.1623246492986, 922.501002004008, 923.8396793587175, 925.1783567134269, 926.5170340681362, 927.8557114228457, 929.1943887775551, 930.5330661322645, 931.871743486974, 933.2104208416833, 934.5490981963928, 935.8877755511022, 937.2264529058116, 938.5651302605211, 939.9038076152304, 941.2424849699398, 942.5811623246493, 943.9198396793587, 945.2585170340682, 946.5971943887776, 947.9358717434869, 949.2745490981964, 950.6132264529058, 951.9519038076153, 953.2905811623247, 954.629258517034, 955.9679358717435, 957.3066132264529, 958.6452905811623, 959.9839679358718, 961.3226452905811, 962.6613226452906, 964.0])\n",
       "              .range([&#x27;#440154ff&#x27;, &#x27;#440155ff&#x27;, &#x27;#440256ff&#x27;, &#x27;#440356ff&#x27;, &#x27;#450457ff&#x27;, &#x27;#450458ff&#x27;, &#x27;#450559ff&#x27;, &#x27;#450659ff&#x27;, &#x27;#46075aff&#x27;, &#x27;#46075bff&#x27;, &#x27;#46085cff&#x27;, &#x27;#46095cff&#x27;, &#x27;#460a5dff&#x27;, &#x27;#460a5eff&#x27;, &#x27;#460b5eff&#x27;, &#x27;#460c5fff&#x27;, &#x27;#470d60ff&#x27;, &#x27;#470d61ff&#x27;, &#x27;#470e61ff&#x27;, &#x27;#470f62ff&#x27;, &#x27;#471063ff&#x27;, &#x27;#471064ff&#x27;, &#x27;#471164ff&#x27;, &#x27;#471265ff&#x27;, &#x27;#471365ff&#x27;, &#x27;#481366ff&#x27;, &#x27;#481467ff&#x27;, &#x27;#481568ff&#x27;, &#x27;#481668ff&#x27;, &#x27;#481669ff&#x27;, &#x27;#481769ff&#x27;, &#x27;#48176aff&#x27;, &#x27;#48186bff&#x27;, &#x27;#48196cff&#x27;, &#x27;#481a6cff&#x27;, &#x27;#481a6dff&#x27;, &#x27;#481b6dff&#x27;, &#x27;#481c6eff&#x27;, &#x27;#481c6eff&#x27;, &#x27;#481d6fff&#x27;, &#x27;#481d6fff&#x27;, &#x27;#481f70ff&#x27;, &#x27;#481f70ff&#x27;, &#x27;#482071ff&#x27;, &#x27;#482072ff&#x27;, &#x27;#482173ff&#x27;, &#x27;#482273ff&#x27;, &#x27;#482374ff&#x27;, &#x27;#482374ff&#x27;, &#x27;#482475ff&#x27;, &#x27;#482476ff&#x27;, &#x27;#482576ff&#x27;, &#x27;#482577ff&#x27;, &#x27;#482677ff&#x27;, &#x27;#482778ff&#x27;, &#x27;#482878ff&#x27;, &#x27;#482879ff&#x27;, &#x27;#482979ff&#x27;, &#x27;#47297aff&#x27;, &#x27;#472a7aff&#x27;, &#x27;#472b7aff&#x27;, &#x27;#472c7aff&#x27;, &#x27;#472c7bff&#x27;, &#x27;#472d7bff&#x27;, &#x27;#472d7cff&#x27;, &#x27;#472e7cff&#x27;, &#x27;#472e7dff&#x27;, &#x27;#472f7dff&#x27;, &#x27;#462f7eff&#x27;, &#x27;#46307eff&#x27;, &#x27;#46317eff&#x27;, &#x27;#46327eff&#x27;, &#x27;#46327fff&#x27;, &#x27;#46337fff&#x27;, &#x27;#463480ff&#x27;, &#x27;#453480ff&#x27;, &#x27;#453581ff&#x27;, &#x27;#453581ff&#x27;, &#x27;#453681ff&#x27;, &#x27;#453781ff&#x27;, &#x27;#453882ff&#x27;, &#x27;#443882ff&#x27;, &#x27;#443983ff&#x27;, &#x27;#443983ff&#x27;, &#x27;#443a83ff&#x27;, &#x27;#443a83ff&#x27;, &#x27;#443b84ff&#x27;, &#x27;#433c84ff&#x27;, &#x27;#433d84ff&#x27;, &#x27;#433d85ff&#x27;, &#x27;#433e85ff&#x27;, &#x27;#423e85ff&#x27;, &#x27;#423f85ff&#x27;, &#x27;#423f86ff&#x27;, &#x27;#424086ff&#x27;, &#x27;#424086ff&#x27;, &#x27;#424186ff&#x27;, &#x27;#414187ff&#x27;, &#x27;#414287ff&#x27;, &#x27;#414387ff&#x27;, &#x27;#414487ff&#x27;, &#x27;#404488ff&#x27;, &#x27;#404588ff&#x27;, &#x27;#404588ff&#x27;, &#x27;#404688ff&#x27;, &#x27;#3f4688ff&#x27;, &#x27;#3f4788ff&#x27;, &#x27;#3f4789ff&#x27;, &#x27;#3f4889ff&#x27;, &#x27;#3e4889ff&#x27;, &#x27;#3e4989ff&#x27;, &#x27;#3e4a89ff&#x27;, &#x27;#3e4a89ff&#x27;, &#x27;#3e4b8aff&#x27;, &#x27;#3d4c8aff&#x27;, &#x27;#3d4d8aff&#x27;, &#x27;#3d4d8aff&#x27;, &#x27;#3d4e8aff&#x27;, &#x27;#3c4e8aff&#x27;, &#x27;#3c4f8aff&#x27;, &#x27;#3c4f8aff&#x27;, &#x27;#3c508bff&#x27;, &#x27;#3b508bff&#x27;, &#x27;#3b518bff&#x27;, &#x27;#3b518bff&#x27;, &#x27;#3b528bff&#x27;, &#x27;#3a528bff&#x27;, &#x27;#3a538bff&#x27;, &#x27;#3a538bff&#x27;, &#x27;#3a548cff&#x27;, &#x27;#39548cff&#x27;, &#x27;#39558cff&#x27;, &#x27;#39558cff&#x27;, &#x27;#39568cff&#x27;, &#x27;#38578cff&#x27;, &#x27;#38588cff&#x27;, &#x27;#38588cff&#x27;, &#x27;#38598cff&#x27;, &#x27;#37598cff&#x27;, &#x27;#375a8cff&#x27;, &#x27;#375a8dff&#x27;, &#x27;#375b8dff&#x27;, &#x27;#365b8dff&#x27;, &#x27;#365c8dff&#x27;, &#x27;#365c8dff&#x27;, &#x27;#365d8dff&#x27;, &#x27;#355d8dff&#x27;, &#x27;#355e8dff&#x27;, &#x27;#355f8dff&#x27;, &#x27;#355f8dff&#x27;, &#x27;#34608dff&#x27;, &#x27;#34608dff&#x27;, &#x27;#34618dff&#x27;, &#x27;#34618dff&#x27;, &#x27;#33628dff&#x27;, &#x27;#33628dff&#x27;, &#x27;#33638dff&#x27;, &#x27;#32638dff&#x27;, &#x27;#32648eff&#x27;, &#x27;#32648eff&#x27;, &#x27;#32658eff&#x27;, &#x27;#31658eff&#x27;, &#x27;#31668eff&#x27;, &#x27;#31668eff&#x27;, &#x27;#31678eff&#x27;, &#x27;#31678eff&#x27;, &#x27;#31688eff&#x27;, &#x27;#30688eff&#x27;, &#x27;#30698eff&#x27;, &#x27;#30698eff&#x27;, &#x27;#306a8eff&#x27;, &#x27;#2f6a8eff&#x27;, &#x27;#2f6b8eff&#x27;, &#x27;#2f6b8eff&#x27;, &#x27;#2f6c8eff&#x27;, &#x27;#2e6c8eff&#x27;, &#x27;#2e6d8eff&#x27;, &#x27;#2e6d8eff&#x27;, &#x27;#2e6e8eff&#x27;, &#x27;#2e6e8eff&#x27;, &#x27;#2e6f8eff&#x27;, &#x27;#2d6f8eff&#x27;, &#x27;#2d708eff&#x27;, &#x27;#2d708eff&#x27;, &#x27;#2d718eff&#x27;, &#x27;#2c718eff&#x27;, &#x27;#2c718eff&#x27;, &#x27;#2c728eff&#x27;, &#x27;#2c728eff&#x27;, &#x27;#2c738eff&#x27;, &#x27;#2c738eff&#x27;, &#x27;#2b748eff&#x27;, &#x27;#2b748eff&#x27;, &#x27;#2b758eff&#x27;, &#x27;#2b758eff&#x27;, &#x27;#2a768eff&#x27;, &#x27;#2a768eff&#x27;, &#x27;#2a778eff&#x27;, &#x27;#2a778eff&#x27;, &#x27;#2a788eff&#x27;, &#x27;#29788eff&#x27;, &#x27;#29798eff&#x27;, &#x27;#29798eff&#x27;, &#x27;#297a8eff&#x27;, &#x27;#297a8eff&#x27;, &#x27;#297b8eff&#x27;, &#x27;#287b8eff&#x27;, &#x27;#287c8eff&#x27;, &#x27;#287c8eff&#x27;, &#x27;#287d8eff&#x27;, &#x27;#277d8eff&#x27;, &#x27;#277e8eff&#x27;, &#x27;#277e8eff&#x27;, &#x27;#277f8eff&#x27;, &#x27;#277f8eff&#x27;, &#x27;#27808eff&#x27;, &#x27;#26808eff&#x27;, &#x27;#26818eff&#x27;, &#x27;#26818eff&#x27;, &#x27;#26828eff&#x27;, &#x27;#26828eff&#x27;, &#x27;#26828eff&#x27;, &#x27;#25828eff&#x27;, &#x27;#25838eff&#x27;, &#x27;#25838eff&#x27;, &#x27;#25848eff&#x27;, &#x27;#25858eff&#x27;, &#x27;#25858eff&#x27;, &#x27;#24868eff&#x27;, &#x27;#24868eff&#x27;, &#x27;#24878eff&#x27;, &#x27;#24878eff&#x27;, &#x27;#23888eff&#x27;, &#x27;#23888eff&#x27;, &#x27;#23898eff&#x27;, &#x27;#23898eff&#x27;, &#x27;#238a8dff&#x27;, &#x27;#238a8dff&#x27;, &#x27;#228b8dff&#x27;, &#x27;#228b8dff&#x27;, &#x27;#228c8dff&#x27;, &#x27;#228c8dff&#x27;, &#x27;#228d8dff&#x27;, &#x27;#218d8dff&#x27;, &#x27;#218e8dff&#x27;, &#x27;#218e8dff&#x27;, &#x27;#218f8dff&#x27;, &#x27;#218f8dff&#x27;, &#x27;#21908dff&#x27;, &#x27;#21908dff&#x27;, &#x27;#21918cff&#x27;, &#x27;#20918cff&#x27;, &#x27;#20928cff&#x27;, &#x27;#20928cff&#x27;, &#x27;#20928cff&#x27;, &#x27;#20928cff&#x27;, &#x27;#20938cff&#x27;, &#x27;#1f938cff&#x27;, &#x27;#1f948cff&#x27;, &#x27;#1f948cff&#x27;, &#x27;#1f958bff&#x27;, &#x27;#1f958bff&#x27;, &#x27;#1f968bff&#x27;, &#x27;#1f968bff&#x27;, &#x27;#1f978bff&#x27;, &#x27;#1f988bff&#x27;, &#x27;#1f988bff&#x27;, &#x27;#1f998bff&#x27;, &#x27;#1f998aff&#x27;, &#x27;#1f9a8aff&#x27;, &#x27;#1f9a8aff&#x27;, &#x27;#1e9b8aff&#x27;, &#x27;#1e9b8aff&#x27;, &#x27;#1e9c8aff&#x27;, &#x27;#1e9c89ff&#x27;, &#x27;#1e9d89ff&#x27;, &#x27;#1e9d89ff&#x27;, &#x27;#1e9e89ff&#x27;, &#x27;#1f9e89ff&#x27;, &#x27;#1f9f88ff&#x27;, &#x27;#1f9f88ff&#x27;, &#x27;#1fa088ff&#x27;, &#x27;#1fa088ff&#x27;, &#x27;#1fa188ff&#x27;, &#x27;#1fa188ff&#x27;, &#x27;#1fa187ff&#x27;, &#x27;#1fa187ff&#x27;, &#x27;#1fa287ff&#x27;, &#x27;#1fa287ff&#x27;, &#x27;#1fa386ff&#x27;, &#x27;#20a386ff&#x27;, &#x27;#20a486ff&#x27;, &#x27;#20a486ff&#x27;, &#x27;#20a585ff&#x27;, &#x27;#21a585ff&#x27;, &#x27;#21a685ff&#x27;, &#x27;#21a685ff&#x27;, &#x27;#21a785ff&#x27;, &#x27;#22a785ff&#x27;, &#x27;#22a884ff&#x27;, &#x27;#22a884ff&#x27;, &#x27;#22a983ff&#x27;, &#x27;#23a983ff&#x27;, &#x27;#23aa83ff&#x27;, &#x27;#24ab83ff&#x27;, &#x27;#25ab82ff&#x27;, &#x27;#25ac82ff&#x27;, &#x27;#25ac82ff&#x27;, &#x27;#25ad82ff&#x27;, &#x27;#26ad81ff&#x27;, &#x27;#26ad81ff&#x27;, &#x27;#27ad81ff&#x27;, &#x27;#27ae81ff&#x27;, &#x27;#28ae80ff&#x27;, &#x27;#28af80ff&#x27;, &#x27;#29af7fff&#x27;, &#x27;#29b07fff&#x27;, &#x27;#2ab07fff&#x27;, &#x27;#2bb17eff&#x27;, &#x27;#2cb17eff&#x27;, &#x27;#2cb27dff&#x27;, &#x27;#2db27dff&#x27;, &#x27;#2db37cff&#x27;, &#x27;#2eb37cff&#x27;, &#x27;#2eb47cff&#x27;, &#x27;#2fb47cff&#x27;, &#x27;#30b57bff&#x27;, &#x27;#31b57bff&#x27;, &#x27;#31b67aff&#x27;, &#x27;#32b67aff&#x27;, &#x27;#33b679ff&#x27;, &#x27;#34b679ff&#x27;, &#x27;#34b779ff&#x27;, &#x27;#35b779ff&#x27;, &#x27;#36b878ff&#x27;, &#x27;#37b878ff&#x27;, &#x27;#37b977ff&#x27;, &#x27;#38b977ff&#x27;, &#x27;#39ba76ff&#x27;, &#x27;#3aba76ff&#x27;, &#x27;#3abb75ff&#x27;, &#x27;#3bbb75ff&#x27;, &#x27;#3cbc74ff&#x27;, &#x27;#3dbc74ff&#x27;, &#x27;#3ebc73ff&#x27;, &#x27;#3fbd73ff&#x27;, &#x27;#40bd72ff&#x27;, &#x27;#40be72ff&#x27;, &#x27;#41be71ff&#x27;, &#x27;#42bf71ff&#x27;, &#x27;#43bf70ff&#x27;, &#x27;#45c070ff&#x27;, &#x27;#46c06fff&#x27;, &#x27;#47c16fff&#x27;, &#x27;#48c16eff&#x27;, &#x27;#49c16eff&#x27;, &#x27;#4ac16dff&#x27;, &#x27;#4bc26cff&#x27;, &#x27;#4cc26cff&#x27;, &#x27;#4dc36bff&#x27;, &#x27;#4ec36bff&#x27;, &#x27;#4fc46aff&#x27;, &#x27;#50c46aff&#x27;, &#x27;#51c569ff&#x27;, &#x27;#52c569ff&#x27;, &#x27;#53c568ff&#x27;, &#x27;#54c568ff&#x27;, &#x27;#55c667ff&#x27;, &#x27;#56c667ff&#x27;, &#x27;#57c766ff&#x27;, &#x27;#58c765ff&#x27;, &#x27;#59c864ff&#x27;, &#x27;#5ac864ff&#x27;, &#x27;#5bc863ff&#x27;, &#x27;#5cc863ff&#x27;, &#x27;#5dc962ff&#x27;, &#x27;#5ec962ff&#x27;, &#x27;#5fca61ff&#x27;, &#x27;#60ca60ff&#x27;, &#x27;#62cb5fff&#x27;, &#x27;#63cb5fff&#x27;, &#x27;#64cb5eff&#x27;, &#x27;#65cc5dff&#x27;, &#x27;#66cc5cff&#x27;, &#x27;#67cd5cff&#x27;, &#x27;#68cd5bff&#x27;, &#x27;#6acd5bff&#x27;, &#x27;#6bcd5aff&#x27;, &#x27;#6cce59ff&#x27;, &#x27;#6ece58ff&#x27;, &#x27;#6fcf58ff&#x27;, &#x27;#70cf57ff&#x27;, &#x27;#71d057ff&#x27;, &#x27;#72d056ff&#x27;, &#x27;#74d055ff&#x27;, &#x27;#75d054ff&#x27;, &#x27;#76d153ff&#x27;, &#x27;#77d153ff&#x27;, &#x27;#78d152ff&#x27;, &#x27;#7ad151ff&#x27;, &#x27;#7bd250ff&#x27;, &#x27;#7cd250ff&#x27;, &#x27;#7dd34fff&#x27;, &#x27;#7fd34eff&#x27;, &#x27;#80d34dff&#x27;, &#x27;#81d34dff&#x27;, &#x27;#82d44cff&#x27;, &#x27;#84d44bff&#x27;, &#x27;#85d54aff&#x27;, &#x27;#86d549ff&#x27;, &#x27;#88d548ff&#x27;, &#x27;#89d548ff&#x27;, &#x27;#8ad647ff&#x27;, &#x27;#8bd646ff&#x27;, &#x27;#8dd645ff&#x27;, &#x27;#8ed645ff&#x27;, &#x27;#8fd744ff&#x27;, &#x27;#90d743ff&#x27;, &#x27;#92d742ff&#x27;, &#x27;#93d741ff&#x27;, &#x27;#94d840ff&#x27;, &#x27;#96d83fff&#x27;, &#x27;#97d83eff&#x27;, &#x27;#99d93dff&#x27;, &#x27;#9ad93cff&#x27;, &#x27;#9bd93cff&#x27;, &#x27;#9dd93bff&#x27;, &#x27;#9eda3aff&#x27;, &#x27;#9fda39ff&#x27;, &#x27;#a1da38ff&#x27;, &#x27;#a2da37ff&#x27;, &#x27;#a3db36ff&#x27;, &#x27;#a4db36ff&#x27;, &#x27;#a6db35ff&#x27;, &#x27;#a8db34ff&#x27;, &#x27;#a9dc33ff&#x27;, &#x27;#aadc32ff&#x27;, &#x27;#abdc31ff&#x27;, &#x27;#addc30ff&#x27;, &#x27;#aedd2fff&#x27;, &#x27;#b0dd2fff&#x27;, &#x27;#b1dd2eff&#x27;, &#x27;#b2dd2dff&#x27;, &#x27;#b3de2cff&#x27;, &#x27;#b5de2bff&#x27;, &#x27;#b6de2aff&#x27;, &#x27;#b8de29ff&#x27;, &#x27;#b9de28ff&#x27;, &#x27;#bade28ff&#x27;, &#x27;#bcdf27ff&#x27;, &#x27;#bddf26ff&#x27;, &#x27;#bfdf25ff&#x27;, &#x27;#c0df25ff&#x27;, &#x27;#c1df24ff&#x27;, &#x27;#c2df23ff&#x27;, &#x27;#c4e022ff&#x27;, &#x27;#c5e021ff&#x27;, &#x27;#c7e020ff&#x27;, &#x27;#c8e020ff&#x27;, &#x27;#c9e11fff&#x27;, &#x27;#cbe11eff&#x27;, &#x27;#cce11dff&#x27;, &#x27;#cee11dff&#x27;, &#x27;#cfe11cff&#x27;, &#x27;#d1e11bff&#x27;, &#x27;#d2e21bff&#x27;, &#x27;#d3e21aff&#x27;, &#x27;#d4e21aff&#x27;, &#x27;#d6e219ff&#x27;, &#x27;#d7e219ff&#x27;, &#x27;#d9e319ff&#x27;, &#x27;#dae319ff&#x27;, &#x27;#dbe318ff&#x27;, &#x27;#dde318ff&#x27;, &#x27;#dee318ff&#x27;, &#x27;#dfe318ff&#x27;, &#x27;#e0e418ff&#x27;, &#x27;#e2e418ff&#x27;, &#x27;#e3e418ff&#x27;, &#x27;#e5e418ff&#x27;, &#x27;#e6e419ff&#x27;, &#x27;#e7e419ff&#x27;, &#x27;#e8e519ff&#x27;, &#x27;#eae519ff&#x27;, &#x27;#ebe51aff&#x27;, &#x27;#ece51aff&#x27;, &#x27;#ede51bff&#x27;, &#x27;#efe51bff&#x27;, &#x27;#f0e51cff&#x27;, &#x27;#f1e51dff&#x27;, &#x27;#f3e61dff&#x27;, &#x27;#f4e61eff&#x27;, &#x27;#f5e61eff&#x27;, &#x27;#f6e61fff&#x27;, &#x27;#f7e620ff&#x27;, &#x27;#f8e621ff&#x27;, &#x27;#fae722ff&#x27;, &#x27;#fbe723ff&#x27;, &#x27;#fce724ff&#x27;, &#x27;#fde725ff&#x27;]);\n",
       "    \n",
       "\n",
       "    color_map_71490d5bfd7dfe4313f90ec46958688d.x = d3.scale.linear()\n",
       "              .domain([296.0, 964.0])\n",
       "              .range([0, 450 - 50]);\n",
       "\n",
       "    color_map_71490d5bfd7dfe4313f90ec46958688d.legend = L.control({position: &#x27;topright&#x27;});\n",
       "    color_map_71490d5bfd7dfe4313f90ec46958688d.legend.onAdd = function (map) {var div = L.DomUtil.create(&#x27;div&#x27;, &#x27;legend&#x27;); return div};\n",
       "    color_map_71490d5bfd7dfe4313f90ec46958688d.legend.addTo(map_26ccbc4ce0ecb3c11c6bbfd2d1059f7f);\n",
       "\n",
       "    color_map_71490d5bfd7dfe4313f90ec46958688d.xAxis = d3.svg.axis()\n",
       "        .scale(color_map_71490d5bfd7dfe4313f90ec46958688d.x)\n",
       "        .orient(&quot;top&quot;)\n",
       "        .tickSize(1)\n",
       "        .tickValues([296.0, &#x27;&#x27;, &#x27;&#x27;, &#x27;&#x27;, &#x27;&#x27;, &#x27;&#x27;, &#x27;&#x27;, &#x27;&#x27;, &#x27;&#x27;, &#x27;&#x27;, &#x27;&#x27;, &#x27;&#x27;, &#x27;&#x27;, &#x27;&#x27;, &#x27;&#x27;, &#x27;&#x27;, &#x27;&#x27;, &#x27;&#x27;, &#x27;&#x27;, &#x27;&#x27;, &#x27;&#x27;, &#x27;&#x27;, &#x27;&#x27;, &#x27;&#x27;, &#x27;&#x27;, &#x27;&#x27;, 364.10980392156864, &#x27;&#x27;, &#x27;&#x27;, &#x27;&#x27;, &#x27;&#x27;, &#x27;&#x27;, &#x27;&#x27;, &#x27;&#x27;, &#x27;&#x27;, &#x27;&#x27;, &#x27;&#x27;, &#x27;&#x27;, &#x27;&#x27;, &#x27;&#x27;, &#x27;&#x27;, &#x27;&#x27;, &#x27;&#x27;, &#x27;&#x27;, &#x27;&#x27;, &#x27;&#x27;, &#x27;&#x27;, &#x27;&#x27;, &#x27;&#x27;, &#x27;&#x27;, &#x27;&#x27;, &#x27;&#x27;, 432.2196078431373, &#x27;&#x27;, &#x27;&#x27;, &#x27;&#x27;, &#x27;&#x27;, &#x27;&#x27;, &#x27;&#x27;, &#x27;&#x27;, &#x27;&#x27;, &#x27;&#x27;, &#x27;&#x27;, &#x27;&#x27;, &#x27;&#x27;, &#x27;&#x27;, &#x27;&#x27;, &#x27;&#x27;, &#x27;&#x27;, &#x27;&#x27;, &#x27;&#x27;, &#x27;&#x27;, &#x27;&#x27;, &#x27;&#x27;, &#x27;&#x27;, &#x27;&#x27;, &#x27;&#x27;, &#x27;&#x27;, 500.3294117647059, &#x27;&#x27;, &#x27;&#x27;, &#x27;&#x27;, &#x27;&#x27;, &#x27;&#x27;, &#x27;&#x27;, &#x27;&#x27;, &#x27;&#x27;, &#x27;&#x27;, &#x27;&#x27;, &#x27;&#x27;, &#x27;&#x27;, &#x27;&#x27;, &#x27;&#x27;, &#x27;&#x27;, &#x27;&#x27;, &#x27;&#x27;, &#x27;&#x27;, &#x27;&#x27;, &#x27;&#x27;, &#x27;&#x27;, &#x27;&#x27;, &#x27;&#x27;, &#x27;&#x27;, &#x27;&#x27;, 568.4392156862746, &#x27;&#x27;, &#x27;&#x27;, &#x27;&#x27;, &#x27;&#x27;, &#x27;&#x27;, &#x27;&#x27;, &#x27;&#x27;, &#x27;&#x27;, &#x27;&#x27;, &#x27;&#x27;, &#x27;&#x27;, &#x27;&#x27;, &#x27;&#x27;, &#x27;&#x27;, &#x27;&#x27;, &#x27;&#x27;, &#x27;&#x27;, &#x27;&#x27;, &#x27;&#x27;, &#x27;&#x27;, &#x27;&#x27;, &#x27;&#x27;, &#x27;&#x27;, &#x27;&#x27;, &#x27;&#x27;, 636.5490196078431, &#x27;&#x27;, &#x27;&#x27;, &#x27;&#x27;, &#x27;&#x27;, &#x27;&#x27;, &#x27;&#x27;, &#x27;&#x27;, &#x27;&#x27;, &#x27;&#x27;, &#x27;&#x27;, &#x27;&#x27;, &#x27;&#x27;, &#x27;&#x27;, &#x27;&#x27;, &#x27;&#x27;, &#x27;&#x27;, &#x27;&#x27;, &#x27;&#x27;, &#x27;&#x27;, &#x27;&#x27;, &#x27;&#x27;, &#x27;&#x27;, &#x27;&#x27;, &#x27;&#x27;, &#x27;&#x27;, 704.6588235294118, &#x27;&#x27;, &#x27;&#x27;, &#x27;&#x27;, &#x27;&#x27;, &#x27;&#x27;, &#x27;&#x27;, &#x27;&#x27;, &#x27;&#x27;, &#x27;&#x27;, &#x27;&#x27;, &#x27;&#x27;, &#x27;&#x27;, &#x27;&#x27;, &#x27;&#x27;, &#x27;&#x27;, &#x27;&#x27;, &#x27;&#x27;, &#x27;&#x27;, &#x27;&#x27;, &#x27;&#x27;, &#x27;&#x27;, &#x27;&#x27;, &#x27;&#x27;, &#x27;&#x27;, &#x27;&#x27;, 772.7686274509804, &#x27;&#x27;, &#x27;&#x27;, &#x27;&#x27;, &#x27;&#x27;, &#x27;&#x27;, &#x27;&#x27;, &#x27;&#x27;, &#x27;&#x27;, &#x27;&#x27;, &#x27;&#x27;, &#x27;&#x27;, &#x27;&#x27;, &#x27;&#x27;, &#x27;&#x27;, &#x27;&#x27;, &#x27;&#x27;, &#x27;&#x27;, &#x27;&#x27;, &#x27;&#x27;, &#x27;&#x27;, &#x27;&#x27;, &#x27;&#x27;, &#x27;&#x27;, &#x27;&#x27;, &#x27;&#x27;, 840.878431372549, &#x27;&#x27;, &#x27;&#x27;, &#x27;&#x27;, &#x27;&#x27;, &#x27;&#x27;, &#x27;&#x27;, &#x27;&#x27;, &#x27;&#x27;, &#x27;&#x27;, &#x27;&#x27;, &#x27;&#x27;, &#x27;&#x27;, &#x27;&#x27;, &#x27;&#x27;, &#x27;&#x27;, &#x27;&#x27;, &#x27;&#x27;, &#x27;&#x27;, &#x27;&#x27;, &#x27;&#x27;, &#x27;&#x27;, &#x27;&#x27;, &#x27;&#x27;, &#x27;&#x27;, &#x27;&#x27;, 908.9882352941177, &#x27;&#x27;, &#x27;&#x27;, &#x27;&#x27;, &#x27;&#x27;, &#x27;&#x27;, &#x27;&#x27;, &#x27;&#x27;, &#x27;&#x27;, &#x27;&#x27;, &#x27;&#x27;, &#x27;&#x27;, &#x27;&#x27;, &#x27;&#x27;, &#x27;&#x27;, &#x27;&#x27;, &#x27;&#x27;, &#x27;&#x27;, &#x27;&#x27;, &#x27;&#x27;, &#x27;&#x27;, &#x27;&#x27;, &#x27;&#x27;, &#x27;&#x27;, &#x27;&#x27;, &#x27;&#x27;]);\n",
       "\n",
       "    color_map_71490d5bfd7dfe4313f90ec46958688d.svg = d3.select(&quot;.legend.leaflet-control&quot;).append(&quot;svg&quot;)\n",
       "        .attr(&quot;id&quot;, &#x27;legend&#x27;)\n",
       "        .attr(&quot;width&quot;, 450)\n",
       "        .attr(&quot;height&quot;, 40);\n",
       "\n",
       "    color_map_71490d5bfd7dfe4313f90ec46958688d.g = color_map_71490d5bfd7dfe4313f90ec46958688d.svg.append(&quot;g&quot;)\n",
       "        .attr(&quot;class&quot;, &quot;key&quot;)\n",
       "        .attr(&quot;transform&quot;, &quot;translate(25,16)&quot;);\n",
       "\n",
       "    color_map_71490d5bfd7dfe4313f90ec46958688d.g.selectAll(&quot;rect&quot;)\n",
       "        .data(color_map_71490d5bfd7dfe4313f90ec46958688d.color.range().map(function(d, i) {\n",
       "          return {\n",
       "            x0: i ? color_map_71490d5bfd7dfe4313f90ec46958688d.x(color_map_71490d5bfd7dfe4313f90ec46958688d.color.domain()[i - 1]) : color_map_71490d5bfd7dfe4313f90ec46958688d.x.range()[0],\n",
       "            x1: i &lt; color_map_71490d5bfd7dfe4313f90ec46958688d.color.domain().length ? color_map_71490d5bfd7dfe4313f90ec46958688d.x(color_map_71490d5bfd7dfe4313f90ec46958688d.color.domain()[i]) : color_map_71490d5bfd7dfe4313f90ec46958688d.x.range()[1],\n",
       "            z: d\n",
       "          };\n",
       "        }))\n",
       "      .enter().append(&quot;rect&quot;)\n",
       "        .attr(&quot;height&quot;, 40 - 30)\n",
       "        .attr(&quot;x&quot;, function(d) { return d.x0; })\n",
       "        .attr(&quot;width&quot;, function(d) { return d.x1 - d.x0; })\n",
       "        .style(&quot;fill&quot;, function(d) { return d.z; });\n",
       "\n",
       "    color_map_71490d5bfd7dfe4313f90ec46958688d.g.call(color_map_71490d5bfd7dfe4313f90ec46958688d.xAxis).append(&quot;text&quot;)\n",
       "        .attr(&quot;class&quot;, &quot;caption&quot;)\n",
       "        .attr(&quot;y&quot;, 21)\n",
       "        .text(&quot;resultat_obs&quot;);\n",
       "&lt;/script&gt;\n",
       "&lt;/html&gt;\" style=\"position:absolute;width:100%;height:100%;left:0;top:0;border:none !important;\" allowfullscreen webkitallowfullscreen mozallowfullscreen></iframe></div></div>"
      ],
      "text/plain": [
       "<folium.folium.Map at 0x170df0596f0>"
      ]
     },
     "execution_count": 73,
     "metadata": {},
     "output_type": "execute_result"
    }
   ],
   "source": [
    "gdf_dernieres_mesures[['resultat_obs', 'geometry']].explore(     \n",
    "    column=\"resultat_obs\", # Utiliser le champ resultat_obs pour la couleur\n",
    "    tooltip=\"code_station\", # show \"BoroName\" value in tooltip (on hover)\n",
    "    popup=True, # show all values in popup (on click)\n",
    "    tiles=\"CartoDB positron\", # use \"CartoDB positron\" tiles\n",
    ")"
   ]
  },
  {
   "cell_type": "markdown",
   "id": "3468d4ba-2a43-4485-accf-49a4784da915",
   "metadata": {
    "slideshow": {
     "slide_type": "slide"
    },
    "tags": []
   },
   "source": [
    "On peux enregistrer notre tableau de données spatiales sur le disque (shp, gpkg, sql, ...)."
   ]
  },
  {
   "cell_type": "code",
   "execution_count": 75,
   "id": "e65fe6c5-84e4-429d-9efb-c0c9baabf4d1",
   "metadata": {},
   "outputs": [
    {
     "name": "stdout",
     "output_type": "stream",
     "text": [
      "None\n"
     ]
    }
   ],
   "source": [
    "gdf_hydro.to_file('datasets/output/stations.gpkg')\n",
    "gdf_hydro = None\n",
    "\n",
    "print(gdf_hydro)"
   ]
  },
  {
   "cell_type": "markdown",
   "id": "7429f3d4-eee3-4e1c-be26-96cf5278011d",
   "metadata": {},
   "source": [
    "Et bien sûr, recharger en mémoire un fichier existant."
   ]
  },
  {
   "cell_type": "code",
   "execution_count": 76,
   "id": "a9d633d6-c002-4e86-8271-792f0eefeb11",
   "metadata": {},
   "outputs": [
    {
     "name": "stdout",
     "output_type": "stream",
     "text": [
      "                   date_obs code_site code_station grandeur_hydro  \\\n",
      "0 2022-11-17 17:30:00+01:00  V0220002   V022000202              H   \n",
      "1 2022-11-17 17:25:00+01:00  V0220002   V022000202              H   \n",
      "2 2022-11-17 17:20:00+01:00  V0220002   V022000202              H   \n",
      "3 2022-11-17 17:15:00+01:00  V0220002   V022000202              H   \n",
      "4 2022-11-17 17:10:00+01:00  V0220002   V022000202              H   \n",
      "\n",
      "           date_debut_serie            date_fin_serie  statut_serie  \\\n",
      "0 2022-11-17 01:00:01+01:00 2022-11-17 17:30:00+01:00             4   \n",
      "1 2022-11-17 01:00:01+01:00 2022-11-17 17:30:00+01:00             4   \n",
      "2 2022-11-17 01:00:01+01:00 2022-11-17 17:30:00+01:00             4   \n",
      "3 2022-11-17 01:00:01+01:00 2022-11-17 17:30:00+01:00             4   \n",
      "4 2022-11-17 01:00:01+01:00 2022-11-17 17:30:00+01:00             4   \n",
      "\n",
      "   code_systeme_alti_serie  resultat_obs  code_methode_obs  \\\n",
      "0                       31         839.0                 0   \n",
      "1                       31         839.0                 0   \n",
      "2                       31         835.0                 0   \n",
      "3                       31         838.0                 0   \n",
      "4                       31         845.0                 0   \n",
      "\n",
      "  libelle_methode_obs  code_qualification_obs libelle_qualification_obs  \\\n",
      "0              Mesure                      16             Non qualifiée   \n",
      "1              Mesure                      16             Non qualifiée   \n",
      "2              Mesure                      16             Non qualifiée   \n",
      "3              Mesure                      16             Non qualifiée   \n",
      "4              Mesure                      16             Non qualifiée   \n",
      "\n",
      "   continuite_obs_hydro  longitude   latitude                  geometry  \n",
      "0                  True   6.271048  46.150604  POINT (6.27105 46.15060)  \n",
      "1                  True   6.271048  46.150604  POINT (6.27105 46.15060)  \n",
      "2                  True   6.271048  46.150604  POINT (6.27105 46.15060)  \n",
      "3                  True   6.271048  46.150604  POINT (6.27105 46.15060)  \n",
      "4                  True   6.271048  46.150604  POINT (6.27105 46.15060)  \n"
     ]
    }
   ],
   "source": [
    "gdf_hydro = gpd.read_file('datasets/output/stations.gpkg')\n",
    "print(gdf_hydro.head())"
   ]
  },
  {
   "cell_type": "markdown",
   "id": "3c8f5fc3-d64c-48e5-b085-780e4791cec4",
   "metadata": {
    "slideshow": {
     "slide_type": "slide"
    },
    "tags": []
   },
   "source": [
    "### Pour aller plus loin avec geopandas\n",
    "\n",
    "Geopandas permet de faire énormément de chose que l'on fait classiquement dans un SIG avec des méthodes très simples à utiliser : jointures spatiales, buffer, calculs de distance, etc.\n",
    "\n",
    "Pour en savoir plus, [rendez-vous dans la doc !](https://geopandas.org/en/stable/getting_started/introduction.html)"
   ]
  }
 ],
 "metadata": {
  "kernelspec": {
   "display_name": "Python 3 (ipykernel)",
   "language": "python",
   "name": "python3"
  },
  "language_info": {
   "codemirror_mode": {
    "name": "ipython",
    "version": 3
   },
   "file_extension": ".py",
   "mimetype": "text/x-python",
   "name": "python",
   "nbconvert_exporter": "python",
   "pygments_lexer": "ipython3",
   "version": "3.10.8"
  },
  "vscode": {
   "interpreter": {
    "hash": "916dbcbb3f70747c44a77c7bcd40155683ae19c65e1c03b4aa3499c5328201f1"
   }
  }
 },
 "nbformat": 4,
 "nbformat_minor": 5
}
