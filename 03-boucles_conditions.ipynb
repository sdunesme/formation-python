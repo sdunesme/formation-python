{
 "cells": [
  {
   "cell_type": "markdown",
   "id": "1fa8c3d6-9910-48b1-93b9-ae112b4d88d0",
   "metadata": {
    "slideshow": {
     "slide_type": "slide"
    },
    "tags": []
   },
   "source": [
    "# Les fonctions et les boucles\n",
    "\n",
    "Ce cours est téléchargeable à l'adresse https://github.com/sdunesme/formation-python"
   ]
  },
  {
   "attachments": {},
   "cell_type": "markdown",
   "id": "6bd56713-858e-4c02-8144-ed6285d237be",
   "metadata": {
    "slideshow": {
     "slide_type": "slide"
    },
    "tags": []
   },
   "source": [
    "## Les boucles\n",
    "\n",
    "Les boucles sont des éléments essentiels de la programmation. Elles permettent de rejouer un morceau de code plusieurs fois en faisant varier certains éléments, généralement des variables.\n",
    "\n",
    "### La boucle for\n",
    "\n",
    "La boucle for permet d'itérer une variable selon une liste, un dictionnaire ou un itérateur (comme le générateur `range()`) par exemple."
   ]
  },
  {
   "cell_type": "code",
   "execution_count": null,
   "id": "68f0af35-43f1-486d-864d-a0975eaf914c",
   "metadata": {},
   "outputs": [],
   "source": [
    "especes = ['chêne', 'charme', 'hêtre', 'cocotier']\n",
    "\n",
    "for arbre in especes:\n",
    "    print(arbre)"
   ]
  },
  {
   "cell_type": "code",
   "execution_count": null,
   "id": "0691f1c4",
   "metadata": {},
   "outputs": [],
   "source": [
    "\n",
    "# La variable continue d'exister après la boucle et conserve sa dernière valeur\n",
    "print(arbre)"
   ]
  },
  {
   "cell_type": "markdown",
   "id": "14405565-aabd-4bbd-8a2b-d0d64c261780",
   "metadata": {
    "slideshow": {
     "slide_type": "slide"
    },
    "tags": []
   },
   "source": [
    "La fonction `zip()` permet d'itérer deux objets en même temps pendant une boucle."
   ]
  },
  {
   "cell_type": "code",
   "execution_count": null,
   "id": "92d4777c-dded-41ae-9f67-616f045f2424",
   "metadata": {},
   "outputs": [],
   "source": [
    "especes = ['chêne', 'charme', 'hêtre', 'cocotier']\n",
    "nombre = [9, 5, 3, 4]\n",
    "\n",
    "for nb, espece in zip(nombre, especes):\n",
    "    print(f'Il y a {nb} arbres de type {espece}')"
   ]
  },
  {
   "cell_type": "markdown",
   "id": "90d264ea-e35f-4ea6-a5ef-c2f1504ab015",
   "metadata": {
    "slideshow": {
     "slide_type": "slide"
    },
    "tags": []
   },
   "source": [
    "### La boucle while\n",
    "\n",
    "La boucle while permet d'exécuter du code en boucle tant qu'une condition est remplie."
   ]
  },
  {
   "cell_type": "code",
   "execution_count": null,
   "id": "7df73e14-7a52-4ce8-8fad-78c5ce2a5182",
   "metadata": {
    "slideshow": {
     "slide_type": "fragment"
    },
    "tags": []
   },
   "outputs": [],
   "source": [
    "# On importe la fonction \"randint\" du module random\n",
    "from random import randint\n",
    "\n",
    "# On initialise une liste vide\n",
    "ma_liste = list()\n",
    "\n",
    "# Tant que la longueur de la liste est inférieure à 10 éléments\n",
    "while len(ma_liste) < 10:\n",
    "    print(ma_liste)\n",
    "    # On ajoute un entier aléatoire entre 0 et 10 à la liste\n",
    "    ma_liste.append(randint(0,10))"
   ]
  },
  {
   "cell_type": "markdown",
   "id": "00a8636b-ab3c-443d-807d-e1bbcdfb148c",
   "metadata": {
    "slideshow": {
     "slide_type": "slide"
    },
    "tags": []
   },
   "source": [
    "Il est également fréquent d'utiliser une variable incrémentable avec une boucle while."
   ]
  },
  {
   "cell_type": "code",
   "execution_count": 3,
   "id": "76ac439f-5c66-4583-9de6-2d13d5741b60",
   "metadata": {
    "slideshow": {
     "slide_type": "fragment"
    },
    "tags": []
   },
   "outputs": [
    {
     "name": "stdout",
     "output_type": "stream",
     "text": [
      "1\n",
      "2\n",
      "3\n",
      "4\n",
      "5\n",
      "6\n",
      "7\n",
      "8\n",
      "9\n",
      "10\n"
     ]
    }
   ],
   "source": [
    "# On initialise une variable de type int à 0\n",
    "i = 0\n",
    "\n",
    "# Tant que notre variable est strictement inférieure à 16, la boucle s'exécutera\n",
    "while i < 10:   \n",
    "    # On incrémente notre variable de 1. La variable est directement mise à jour\n",
    "    i += 1\n",
    "    \n",
    "    # On affiche la variable\n",
    "    print(i)"
   ]
  },
  {
   "cell_type": "markdown",
   "id": "57c78147-263f-4464-8e6f-0878da9fb444",
   "metadata": {
    "slideshow": {
     "slide_type": "slide"
    },
    "tags": []
   },
   "source": [
    "Attention: si on ne fait pas attention il est très facile de créer une boucle infinie avec while. Dans ce cas, il faudra utiliser `Ctrl+C` pour forcer son arrêt, ou le bouton stop dans un Jupyter notebook."
   ]
  },
  {
   "cell_type": "code",
   "execution_count": null,
   "id": "9e90b87d-441c-44c1-81d7-87262805d872",
   "metadata": {
    "slideshow": {
     "slide_type": "fragment"
    },
    "tags": []
   },
   "outputs": [],
   "source": [
    "# Attention, lancer cette cellule va lancer une boucle infinie\n",
    "while True:\n",
    "    pass"
   ]
  },
  {
   "attachments": {},
   "cell_type": "markdown",
   "id": "87d9fbb1",
   "metadata": {},
   "source": [
    "> ✍️ Ecrire une boucle affichant un compte à rebour de 10 secondes. La fonction `sleep` importée depuis le package `time` indique à l'interpréteur d'attendre x secondes avant de continuer l'exécution."
   ]
  },
  {
   "cell_type": "code",
   "execution_count": null,
   "id": "38f10ac6",
   "metadata": {},
   "outputs": [],
   "source": []
  },
  {
   "attachments": {},
   "cell_type": "markdown",
   "id": "1e8ead4c-557c-4023-9e8f-8f2d8b984d52",
   "metadata": {
    "slideshow": {
     "slide_type": "slide"
    },
    "tags": []
   },
   "source": [
    "# La structure conditionnelle de base\n",
    "\n",
    "La structure conditionnelle `if...else` est également un élément essentiel en programmation. Elle permet de n'exécuter une partie du code que si une condition est remplie."
   ]
  },
  {
   "cell_type": "code",
   "execution_count": null,
   "id": "0eecaa0d-f762-4b47-86a8-3ffaac5f3380",
   "metadata": {
    "tags": []
   },
   "outputs": [],
   "source": [
    "especes = ['chêne', 'charme', 'hêtre', 'cocotier']\n",
    "\n",
    "# On démarre la boucle\n",
    "for arbre in especes:\n",
    "    \n",
    "    # On réalise un test logique\n",
    "    if arbre == \"cocotier\":\n",
    "        # Si ce test est validé, on concatène la chaine avec une autre\n",
    "        print(arbre + ' <- ne pousse pas dans le coin')\n",
    "    # Si le premier test n'est pas validé, on en fait un autre\n",
    "    elif 'c' not in arbre:\n",
    "        # Si ce second test est validé, on concatène une autre chaine\n",
    "        print(arbre + ' <- ne contient pas la lettre C')\n",
    "    # Si aucun test n'est validé\n",
    "    else:\n",
    "        # On renvoie directement la chaine telle quelle\n",
    "        print(arbre)"
   ]
  },
  {
   "attachments": {},
   "cell_type": "markdown",
   "id": "71dd432e",
   "metadata": {},
   "source": [
    "> ✍️ Ecrire une boucle pour afficher un message de type \"`prenom` a `plus/moins` de 60 ans\" pour chacun des individus du dictionnaire ci-dessous."
   ]
  },
  {
   "cell_type": "code",
   "execution_count": null,
   "id": "b7013ed5",
   "metadata": {},
   "outputs": [],
   "source": [
    "ages = {\n",
    "    'Jean': 47,\n",
    "    'Georges': 71,\n",
    "    'Martin': 45,\n",
    "    'Joseph': 65\n",
    "}"
   ]
  }
 ],
 "metadata": {
  "kernelspec": {
   "display_name": "formation-python",
   "language": "python",
   "name": "python3"
  },
  "language_info": {
   "codemirror_mode": {
    "name": "ipython",
    "version": 3
   },
   "file_extension": ".py",
   "mimetype": "text/x-python",
   "name": "python",
   "nbconvert_exporter": "python",
   "pygments_lexer": "ipython3",
   "version": "3.10.6 | packaged by conda-forge | (main, Aug 22 2022, 20:36:39) [GCC 10.4.0]"
  },
  "vscode": {
   "interpreter": {
    "hash": "50311241a5c10afd3d6254552579c5b4c0c03ce3da3bbd01d84b895efee58118"
   }
  }
 },
 "nbformat": 4,
 "nbformat_minor": 5
}
