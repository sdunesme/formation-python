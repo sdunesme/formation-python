{
 "cells": [
  {
   "cell_type": "markdown",
   "id": "031eb315-6e6e-4933-9afb-f6b8c2fba69e",
   "metadata": {},
   "source": [
    "# Dupliquer un environnement conda à l'identique sur une autre machine\n",
    "\n",
    "- Sur la machine ou l'environnement conda est déjà installé et activé\n",
    "\n",
    "```bash\n",
    "conda list --export > package-list.txt \n",
    "```\n",
    "\n",
    "- Sur la nouvelle machine ou l'environnement virtuel est activé mais ne contient aucun package\n",
    "\n",
    "```bash\n",
    "conda install -c conda-forge --file package-list.txt\n",
    "```\n",
    "\n",
    "- Sur la nouvelle machine si l'environnement virtuel n'est pas encore créé\n",
    "\n",
    "```bash\n",
    "conda create -c conda-forge -n formation --file package-list.txt\n",
    "```\n",
    "\n",
    "# Comment faire si conda devient trop long à installer des packages\n",
    "\n",
    "Conda a tendance à devenir très (très) long à résoudre l'environnement quand on commence à avoir beaucoup de packages installés. Une solution peut être d'utiliser mamba à la place de conda comme gestionnaire de packages.\n",
    "\n",
    "On installe mamba au niveau de l'envrionnement de base (pas dans l'environnement virtuel) : \n",
    "\n",
    "```bash\n",
    "conda install -c conda-forge mamba\n",
    "```\n",
    "\n",
    "Il sera alors accessible dans tous les environnements virtuels. On continuera d'utiliser conda pour activer ou désactiver les environnements virtuels, mais on utilisera mamba pour gérer les packages : \n",
    "\n",
    "```bash\n",
    "conda activate formation-python\n",
    "mamba install -c conda-forge rasterio\n",
    "```"
   ]
  }
 ],
 "metadata": {
  "kernelspec": {
   "display_name": "Python 3 (ipykernel)",
   "language": "python",
   "name": "python3"
  },
  "language_info": {
   "codemirror_mode": {
    "name": "ipython",
    "version": 3
   },
   "file_extension": ".py",
   "mimetype": "text/x-python",
   "name": "python",
   "nbconvert_exporter": "python",
   "pygments_lexer": "ipython3",
   "version": "3.10.6"
  }
 },
 "nbformat": 4,
 "nbformat_minor": 5
}
