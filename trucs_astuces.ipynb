{
 "cells": [
  {
   "cell_type": "markdown",
   "id": "031eb315-6e6e-4933-9afb-f6b8c2fba69e",
   "metadata": {},
   "source": [
    "# Dupliquer un environnement conda à l'identique sur une autre machine\n",
    "\n",
    "- Sur la machine ou l'environnement conda est déjà installé et activé\n",
    "\n",
    "```bash\n",
    "conda list --export > package-list.txt \n",
    "```\n",
    "\n",
    "- Sur la nouvelle machine ou l'environnement virtuel est activé mais ne contient aucun package\n",
    "\n",
    "```bash\n",
    "conda install -c conda-forge --file package-list.txt\n",
    "```\n",
    "\n",
    "- Sur la nouvelle machine si l'environnement virtuel n'est pas encore créé\n",
    "\n",
    "```bash\n",
    "conda create -c conda-forge -n formation --file package-list.txt\n",
    "```"
   ]
  }
 ],
 "metadata": {
  "kernelspec": {
   "display_name": "Python 3 (ipykernel)",
   "language": "python",
   "name": "python3"
  },
  "language_info": {
   "codemirror_mode": {
    "name": "ipython",
    "version": 3
   },
   "file_extension": ".py",
   "mimetype": "text/x-python",
   "name": "python",
   "nbconvert_exporter": "python",
   "pygments_lexer": "ipython3",
   "version": "3.10.8"
  }
 },
 "nbformat": 4,
 "nbformat_minor": 5
}
