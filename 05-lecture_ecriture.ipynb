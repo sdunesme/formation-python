{
 "cells": [
  {
   "attachments": {},
   "cell_type": "markdown",
   "metadata": {
    "slideshow": {
     "slide_type": "slide"
    },
    "tags": []
   },
   "source": [
    "## Lire et écrire dans un fichier\n",
    "\n",
    "Ce cours est téléchargeable à l'adresse https://github.com/sdunesme/formation-python"
   ]
  },
  {
   "cell_type": "markdown",
   "metadata": {},
   "source": [
    "\n",
    "La fonction `open()` permet de créer un reader de fichier."
   ]
  },
  {
   "cell_type": "code",
   "execution_count": null,
   "metadata": {},
   "outputs": [],
   "source": [
    "?open"
   ]
  },
  {
   "cell_type": "code",
   "execution_count": null,
   "metadata": {
    "slideshow": {
     "slide_type": "slide"
    },
    "tags": []
   },
   "outputs": [],
   "source": [
    "f = open('datasets/ipsum.txt')\n",
    "print(f)"
   ]
  },
  {
   "attachments": {},
   "cell_type": "markdown",
   "metadata": {
    "slideshow": {
     "slide_type": "fragment"
    },
    "tags": []
   },
   "source": [
    "Ce reader fonctionne comme un curseur. Pour lire les lignes du fichier et les renvoyer dans une liste, il faut utiliser une méthode du reader, comme la méthode `readlines()` par exemple."
   ]
  },
  {
   "cell_type": "code",
   "execution_count": null,
   "metadata": {
    "tags": []
   },
   "outputs": [],
   "source": [
    "ipsum = f.readlines()\n",
    "print(ipsum)"
   ]
  },
  {
   "cell_type": "markdown",
   "metadata": {
    "slideshow": {
     "slide_type": "slide"
    },
    "tags": []
   },
   "source": [
    "Le reader créé par la fonction `open()` fonctionne comme un curseur : une fois arrivé au bour du fichier, il faut le remettre au début si on veux re-lire le fichier."
   ]
  },
  {
   "cell_type": "code",
   "execution_count": null,
   "metadata": {},
   "outputs": [],
   "source": [
    "# Le curseur est déjà à la fin du fichier\n",
    "ipsum = f.readlines()\n",
    "print(ipsum)"
   ]
  },
  {
   "cell_type": "code",
   "execution_count": null,
   "metadata": {
    "slideshow": {
     "slide_type": "fragment"
    },
    "tags": []
   },
   "outputs": [],
   "source": [
    "# Ici on remet le curseur au début du fichier\n",
    "f.seek(0)\n",
    "\n",
    "# Puis on relance la lecture\n",
    "ipsum = f.readlines()\n",
    "print(ipsum)"
   ]
  },
  {
   "attachments": {},
   "cell_type": "markdown",
   "metadata": {
    "slideshow": {
     "slide_type": "slide"
    },
    "tags": []
   },
   "source": [
    "On peux aussi vouloir lire tout le contenu du fichier directement dans une chaine de caractères (pas une liste). On utilise pour cela une autre méthode du reader : `read()`."
   ]
  },
  {
   "cell_type": "code",
   "execution_count": null,
   "metadata": {},
   "outputs": [],
   "source": [
    "f.seek(0)\n",
    "ipsum = f.read()\n",
    "print(ipsum)"
   ]
  },
  {
   "attachments": {},
   "cell_type": "markdown",
   "metadata": {
    "slideshow": {
     "slide_type": "slide"
    },
    "tags": []
   },
   "source": [
    "On pense toujours à fermer le reader dès qu'on en a plus besoin pour libérer le fichier (d'autres programmes pourraient en avoir besoin)."
   ]
  },
  {
   "cell_type": "code",
   "execution_count": null,
   "metadata": {
    "tags": []
   },
   "outputs": [],
   "source": [
    "f.close()"
   ]
  },
  {
   "cell_type": "markdown",
   "metadata": {
    "slideshow": {
     "slide_type": "fragment"
    },
    "tags": []
   },
   "source": [
    "Une bonne pratique est d'utiliser un contexte. Cela évite d'oublier de fermer le fichier ou de réinitialiser l'itérateur"
   ]
  },
  {
   "cell_type": "code",
   "execution_count": null,
   "metadata": {
    "tags": []
   },
   "outputs": [],
   "source": [
    "# Ici on ouvre le fichier en mode lecture seule ('r' pour read)\n",
    "with open('datasets/ipsum.txt', 'r') as f:\n",
    "    print(f.read())"
   ]
  },
  {
   "attachments": {},
   "cell_type": "markdown",
   "metadata": {},
   "source": [
    "Le code ci-dessus est équivalent à celui ci-dessous. Il permet juste de s'affranchir d'une ligne de code, et est considéré comme plus sécurisé car il garantit qu'on oublie pas de fermer le reader.\n",
    "\n",
    "```python\n",
    "f = open('datasets/ipsum.txt', 'r')\n",
    "print(f.read())\n",
    "f.close()\n",
    "```"
   ]
  },
  {
   "cell_type": "code",
   "execution_count": null,
   "metadata": {
    "slideshow": {
     "slide_type": "fragment"
    },
    "tags": []
   },
   "outputs": [],
   "source": [
    "# Là on ouvre un autre fichier en mode écriture ('w' pour write)\n",
    "with open('datasets/output/monfichier.txt', 'w') as f:\n",
    "    texte = 'mon texte a mettre dans le fichier'\n",
    "    f.write(texte)"
   ]
  },
  {
   "cell_type": "code",
   "execution_count": null,
   "metadata": {
    "slideshow": {
     "slide_type": "slide"
    },
    "tags": []
   },
   "outputs": [],
   "source": [
    "# Et enfin, ici on l'ouvre en mode ajout ('a' pour append)\n",
    "with open('datasets/output/monfichier.txt', 'a') as f:\n",
    "    \n",
    "    # On réalise une boucle\n",
    "    i = 0\n",
    "    while i < 10:\n",
    "        # On incrémente la variable\n",
    "        i += 1\n",
    "        \n",
    "        # On écrit d'abord un retour à la ligne\n",
    "        f.write('\\n')\n",
    "        \n",
    "        # Puis on écrit une ligne\n",
    "        texte = f'ma nouvelle ligne {i}'\n",
    "        f.write(texte)"
   ]
  },
  {
   "attachments": {},
   "cell_type": "markdown",
   "metadata": {},
   "source": [
    "> ✍️ Ecrire une boucle permettant de stocker les prénoms de tous les individus ci-dessous dans des fichiers séparés par commune de résidence. Le nom du fichier texte devra être le nom de la commune. \n",
    "> \n",
    "> Il faudra faire une boucle `for` dans pour itérer sur tous les objets du dictionnaire et les ranger un à un dans le bon fichier. Pour nommer correctement le fichier, vous pouvez utiliser une string substitution."
   ]
  },
  {
   "cell_type": "code",
   "execution_count": null,
   "metadata": {},
   "outputs": [],
   "source": [
    "residences = {\n",
    "    'Michel': 'Vincennes',\n",
    "    'Luc': 'Bron',\n",
    "    'Mélanie': 'Vincennes',\n",
    "    'Joséphine': 'Annecy',\n",
    "    'Caroline': 'Annecy',\n",
    "    'Jean-Paul': 'Bron',\n",
    "    'Claire': 'Vincennes',\n",
    "    'Robert': 'Annecy',\n",
    "    'Sangoku': 'Bron',\n",
    "    'Lucie': 'Vincennes',\n",
    "    'Salomé': 'Bron',\n",
    "    'Gregory': 'Annecy',\n",
    "}\n",
    "\n"
   ]
  }
 ],
 "metadata": {
  "kernelspec": {
   "display_name": "Python 3 (ipykernel)",
   "language": "python",
   "name": "python3"
  },
  "language_info": {
   "codemirror_mode": {
    "name": "ipython",
    "version": 3
   },
   "file_extension": ".py",
   "mimetype": "text/x-python",
   "name": "python",
   "nbconvert_exporter": "python",
   "pygments_lexer": "ipython3",
   "version": "3.10.12"
  },
  "vscode": {
   "interpreter": {
    "hash": "916dbcbb3f70747c44a77c7bcd40155683ae19c65e1c03b4aa3499c5328201f1"
   }
  }
 },
 "nbformat": 4,
 "nbformat_minor": 4
}
