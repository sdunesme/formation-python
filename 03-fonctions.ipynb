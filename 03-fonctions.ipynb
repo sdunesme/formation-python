{
 "cells": [
  {
   "cell_type": "markdown",
   "id": "1fa8c3d6-9910-48b1-93b9-ae112b4d88d0",
   "metadata": {
    "slideshow": {
     "slide_type": "slide"
    },
    "tags": []
   },
   "source": [
    "# Les fonctions et les boucles\n",
    "\n",
    "Ce cours est téléchargeable à l'adresse https://github.com/sdunesme/formation-python"
   ]
  },
  {
   "cell_type": "markdown",
   "id": "6bd56713-858e-4c02-8144-ed6285d237be",
   "metadata": {
    "slideshow": {
     "slide_type": "slide"
    },
    "tags": []
   },
   "source": [
    "## Les boucles\n",
    "\n",
    "Les boucles sont des éléments essentiels de la programmation. Elles permettent de rejouer un morceau de code plusieurs fois en faisant varier certains éléments, généralement des variables.\n",
    "\n",
    "### La boucle for et la structure conditionnelle de base\n",
    "\n",
    "La boucle for permet d'itérer une variable selon une liste, un dictionnaire ou un itérateur (comme le générateur `range()`) par exemple."
   ]
  },
  {
   "cell_type": "code",
   "execution_count": 3,
   "id": "68f0af35-43f1-486d-864d-a0975eaf914c",
   "metadata": {},
   "outputs": [
    {
     "name": "stdout",
     "output_type": "stream",
     "text": [
      "chêne\n",
      "charme\n",
      "hêtre\n",
      "cocotier\n",
      "cocotier\n"
     ]
    }
   ],
   "source": [
    "especes = ['chêne', 'charme', 'hêtre', 'cocotier']\n",
    "\n",
    "for arbre in especes:\n",
    "    print(arbre)\n",
    "\n",
    "# La variable continue d'exister après la boucle et conserve sa dernière valeur\n",
    "print(arbre)"
   ]
  },
  {
   "cell_type": "markdown",
   "id": "1e8ead4c-557c-4023-9e8f-8f2d8b984d52",
   "metadata": {
    "slideshow": {
     "slide_type": "slide"
    },
    "tags": []
   },
   "source": [
    "La structure conditionnelle `if...else` est également un élément essentiel en programmation. Elle permet de n'exécuter une partie du code que si une condition est remplie."
   ]
  },
  {
   "cell_type": "code",
   "execution_count": 7,
   "id": "0eecaa0d-f762-4b47-86a8-3ffaac5f3380",
   "metadata": {
    "tags": []
   },
   "outputs": [
    {
     "name": "stdout",
     "output_type": "stream",
     "text": [
      "chêne\n",
      "charme\n",
      "hêtre <- ne contient pas la lettre C\n",
      "cocotier <- ne pousse pas dans le coin\n"
     ]
    }
   ],
   "source": [
    "# On démarre la boucle\n",
    "for arbre in especes:\n",
    "    \n",
    "    # On réalise un test logique\n",
    "    if arbre == \"cocotier\":\n",
    "        # Si ce test est validé, on concatène la chaine avec une autre\n",
    "        print(arbre + ' <- ne pousse pas dans le coin')\n",
    "    # Si le premier test n'est pas validé, on en fait un autre\n",
    "    elif 'c' not in arbre:\n",
    "        # Si ce second test est validé, on concatène une autre chaine\n",
    "        print(arbre + ' <- ne contient pas la lettre C')\n",
    "    # Si aucun test n'est validé\n",
    "    else:\n",
    "        # On renvoie directement la chaine telle quelle\n",
    "        print(arbre)"
   ]
  },
  {
   "cell_type": "markdown",
   "id": "14405565-aabd-4bbd-8a2b-d0d64c261780",
   "metadata": {
    "slideshow": {
     "slide_type": "slide"
    },
    "tags": []
   },
   "source": [
    "La fonction `zip()` permet d'itérer deux objets en même temps pendant une boucle."
   ]
  },
  {
   "cell_type": "code",
   "execution_count": 17,
   "id": "92d4777c-dded-41ae-9f67-616f045f2424",
   "metadata": {},
   "outputs": [
    {
     "name": "stdout",
     "output_type": "stream",
     "text": [
      "Il y a 9 arbres de type chêne\n",
      "Il y a 5 arbres de type charme\n",
      "Il y a 3 arbres de type hêtre\n",
      "Il y a 4 arbres de type cocotier\n"
     ]
    }
   ],
   "source": [
    "especes = ['chêne', 'charme', 'hêtre', 'cocotier']\n",
    "nombre = [9, 5, 3, 4]\n",
    "\n",
    "for nb, espece in zip(nombre, especes):\n",
    "    print(f'Il y a {nb} arbres de type {espece}')"
   ]
  },
  {
   "cell_type": "markdown",
   "id": "90d264ea-e35f-4ea6-a5ef-c2f1504ab015",
   "metadata": {
    "slideshow": {
     "slide_type": "slide"
    },
    "tags": []
   },
   "source": [
    "### La boucle while\n",
    "\n",
    "La boucle while permet d'exécuter du code en boucle tant qu'une condition est remplie."
   ]
  },
  {
   "cell_type": "code",
   "execution_count": 23,
   "id": "7df73e14-7a52-4ce8-8fad-78c5ce2a5182",
   "metadata": {
    "slideshow": {
     "slide_type": "fragment"
    },
    "tags": []
   },
   "outputs": [
    {
     "name": "stdout",
     "output_type": "stream",
     "text": [
      "[]\n",
      "[6]\n",
      "[6, 4]\n",
      "[6, 4, 8]\n",
      "[6, 4, 8, 1]\n",
      "[6, 4, 8, 1, 4]\n",
      "[6, 4, 8, 1, 4, 8]\n",
      "[6, 4, 8, 1, 4, 8, 8]\n",
      "[6, 4, 8, 1, 4, 8, 8, 4]\n",
      "[6, 4, 8, 1, 4, 8, 8, 4, 8]\n",
      "[6, 4, 8, 1, 4, 8, 8, 4, 8, 9]\n",
      "[6, 4, 8, 1, 4, 8, 8, 4, 8, 9, 3]\n",
      "[6, 4, 8, 1, 4, 8, 8, 4, 8, 9, 3, 7]\n",
      "[6, 4, 8, 1, 4, 8, 8, 4, 8, 9, 3, 7, 6]\n",
      "[6, 4, 8, 1, 4, 8, 8, 4, 8, 9, 3, 7, 6, 1]\n",
      "[6, 4, 8, 1, 4, 8, 8, 4, 8, 9, 3, 7, 6, 1, 8]\n",
      "[6, 4, 8, 1, 4, 8, 8, 4, 8, 9, 3, 7, 6, 1, 8, 9]\n",
      "[6, 4, 8, 1, 4, 8, 8, 4, 8, 9, 3, 7, 6, 1, 8, 9, 2]\n",
      "[6, 4, 8, 1, 4, 8, 8, 4, 8, 9, 3, 7, 6, 1, 8, 9, 2, 2]\n",
      "[6, 4, 8, 1, 4, 8, 8, 4, 8, 9, 3, 7, 6, 1, 8, 9, 2, 2, 6]\n",
      "[6, 4, 8, 1, 4, 8, 8, 4, 8, 9, 3, 7, 6, 1, 8, 9, 2, 2, 6, 10]\n",
      "[6, 4, 8, 1, 4, 8, 8, 4, 8, 9, 3, 7, 6, 1, 8, 9, 2, 2, 6, 10, 10]\n",
      "[6, 4, 8, 1, 4, 8, 8, 4, 8, 9, 3, 7, 6, 1, 8, 9, 2, 2, 6, 10, 10, 7]\n",
      "[6, 4, 8, 1, 4, 8, 8, 4, 8, 9, 3, 7, 6, 1, 8, 9, 2, 2, 6, 10, 10, 7, 8]\n",
      "[6, 4, 8, 1, 4, 8, 8, 4, 8, 9, 3, 7, 6, 1, 8, 9, 2, 2, 6, 10, 10, 7, 8, 3]\n",
      "[6, 4, 8, 1, 4, 8, 8, 4, 8, 9, 3, 7, 6, 1, 8, 9, 2, 2, 6, 10, 10, 7, 8, 3, 1]\n",
      "[6, 4, 8, 1, 4, 8, 8, 4, 8, 9, 3, 7, 6, 1, 8, 9, 2, 2, 6, 10, 10, 7, 8, 3, 1, 0]\n",
      "[6, 4, 8, 1, 4, 8, 8, 4, 8, 9, 3, 7, 6, 1, 8, 9, 2, 2, 6, 10, 10, 7, 8, 3, 1, 0, 1]\n",
      "[6, 4, 8, 1, 4, 8, 8, 4, 8, 9, 3, 7, 6, 1, 8, 9, 2, 2, 6, 10, 10, 7, 8, 3, 1, 0, 1, 3]\n",
      "[6, 4, 8, 1, 4, 8, 8, 4, 8, 9, 3, 7, 6, 1, 8, 9, 2, 2, 6, 10, 10, 7, 8, 3, 1, 0, 1, 3, 4]\n",
      "[6, 4, 8, 1, 4, 8, 8, 4, 8, 9, 3, 7, 6, 1, 8, 9, 2, 2, 6, 10, 10, 7, 8, 3, 1, 0, 1, 3, 4, 5]\n",
      "[6, 4, 8, 1, 4, 8, 8, 4, 8, 9, 3, 7, 6, 1, 8, 9, 2, 2, 6, 10, 10, 7, 8, 3, 1, 0, 1, 3, 4, 5, 1]\n",
      "[6, 4, 8, 1, 4, 8, 8, 4, 8, 9, 3, 7, 6, 1, 8, 9, 2, 2, 6, 10, 10, 7, 8, 3, 1, 0, 1, 3, 4, 5, 1, 8]\n",
      "[6, 4, 8, 1, 4, 8, 8, 4, 8, 9, 3, 7, 6, 1, 8, 9, 2, 2, 6, 10, 10, 7, 8, 3, 1, 0, 1, 3, 4, 5, 1, 8, 3]\n",
      "[6, 4, 8, 1, 4, 8, 8, 4, 8, 9, 3, 7, 6, 1, 8, 9, 2, 2, 6, 10, 10, 7, 8, 3, 1, 0, 1, 3, 4, 5, 1, 8, 3, 6]\n",
      "[6, 4, 8, 1, 4, 8, 8, 4, 8, 9, 3, 7, 6, 1, 8, 9, 2, 2, 6, 10, 10, 7, 8, 3, 1, 0, 1, 3, 4, 5, 1, 8, 3, 6, 6]\n",
      "[6, 4, 8, 1, 4, 8, 8, 4, 8, 9, 3, 7, 6, 1, 8, 9, 2, 2, 6, 10, 10, 7, 8, 3, 1, 0, 1, 3, 4, 5, 1, 8, 3, 6, 6, 8]\n",
      "[6, 4, 8, 1, 4, 8, 8, 4, 8, 9, 3, 7, 6, 1, 8, 9, 2, 2, 6, 10, 10, 7, 8, 3, 1, 0, 1, 3, 4, 5, 1, 8, 3, 6, 6, 8, 2]\n",
      "[6, 4, 8, 1, 4, 8, 8, 4, 8, 9, 3, 7, 6, 1, 8, 9, 2, 2, 6, 10, 10, 7, 8, 3, 1, 0, 1, 3, 4, 5, 1, 8, 3, 6, 6, 8, 2, 10]\n",
      "[6, 4, 8, 1, 4, 8, 8, 4, 8, 9, 3, 7, 6, 1, 8, 9, 2, 2, 6, 10, 10, 7, 8, 3, 1, 0, 1, 3, 4, 5, 1, 8, 3, 6, 6, 8, 2, 10, 10]\n",
      "[6, 4, 8, 1, 4, 8, 8, 4, 8, 9, 3, 7, 6, 1, 8, 9, 2, 2, 6, 10, 10, 7, 8, 3, 1, 0, 1, 3, 4, 5, 1, 8, 3, 6, 6, 8, 2, 10, 10, 4]\n",
      "[6, 4, 8, 1, 4, 8, 8, 4, 8, 9, 3, 7, 6, 1, 8, 9, 2, 2, 6, 10, 10, 7, 8, 3, 1, 0, 1, 3, 4, 5, 1, 8, 3, 6, 6, 8, 2, 10, 10, 4, 6]\n",
      "[6, 4, 8, 1, 4, 8, 8, 4, 8, 9, 3, 7, 6, 1, 8, 9, 2, 2, 6, 10, 10, 7, 8, 3, 1, 0, 1, 3, 4, 5, 1, 8, 3, 6, 6, 8, 2, 10, 10, 4, 6, 9]\n",
      "[6, 4, 8, 1, 4, 8, 8, 4, 8, 9, 3, 7, 6, 1, 8, 9, 2, 2, 6, 10, 10, 7, 8, 3, 1, 0, 1, 3, 4, 5, 1, 8, 3, 6, 6, 8, 2, 10, 10, 4, 6, 9, 0]\n",
      "[6, 4, 8, 1, 4, 8, 8, 4, 8, 9, 3, 7, 6, 1, 8, 9, 2, 2, 6, 10, 10, 7, 8, 3, 1, 0, 1, 3, 4, 5, 1, 8, 3, 6, 6, 8, 2, 10, 10, 4, 6, 9, 0, 6]\n",
      "[6, 4, 8, 1, 4, 8, 8, 4, 8, 9, 3, 7, 6, 1, 8, 9, 2, 2, 6, 10, 10, 7, 8, 3, 1, 0, 1, 3, 4, 5, 1, 8, 3, 6, 6, 8, 2, 10, 10, 4, 6, 9, 0, 6, 6]\n",
      "[6, 4, 8, 1, 4, 8, 8, 4, 8, 9, 3, 7, 6, 1, 8, 9, 2, 2, 6, 10, 10, 7, 8, 3, 1, 0, 1, 3, 4, 5, 1, 8, 3, 6, 6, 8, 2, 10, 10, 4, 6, 9, 0, 6, 6, 0]\n",
      "[6, 4, 8, 1, 4, 8, 8, 4, 8, 9, 3, 7, 6, 1, 8, 9, 2, 2, 6, 10, 10, 7, 8, 3, 1, 0, 1, 3, 4, 5, 1, 8, 3, 6, 6, 8, 2, 10, 10, 4, 6, 9, 0, 6, 6, 0, 4]\n",
      "[6, 4, 8, 1, 4, 8, 8, 4, 8, 9, 3, 7, 6, 1, 8, 9, 2, 2, 6, 10, 10, 7, 8, 3, 1, 0, 1, 3, 4, 5, 1, 8, 3, 6, 6, 8, 2, 10, 10, 4, 6, 9, 0, 6, 6, 0, 4, 4]\n",
      "[6, 4, 8, 1, 4, 8, 8, 4, 8, 9, 3, 7, 6, 1, 8, 9, 2, 2, 6, 10, 10, 7, 8, 3, 1, 0, 1, 3, 4, 5, 1, 8, 3, 6, 6, 8, 2, 10, 10, 4, 6, 9, 0, 6, 6, 0, 4, 4, 5]\n",
      "[6, 4, 8, 1, 4, 8, 8, 4, 8, 9, 3, 7, 6, 1, 8, 9, 2, 2, 6, 10, 10, 7, 8, 3, 1, 0, 1, 3, 4, 5, 1, 8, 3, 6, 6, 8, 2, 10, 10, 4, 6, 9, 0, 6, 6, 0, 4, 4, 5, 5]\n",
      "terminé\n",
      "[6, 4, 8, 1, 4, 8, 8, 4, 8, 9, 3, 7, 6, 1, 8, 9, 2, 2, 6, 10, 10, 7, 8, 3, 1, 0, 1, 3, 4, 5, 1, 8, 3, 6, 6, 8, 2, 10, 10, 4, 6, 9, 0, 6, 6, 0, 4, 4, 5, 5, 7]\n"
     ]
    }
   ],
   "source": [
    "# On importe la fonction \"randint\" du module random\n",
    "from random import randint\n",
    "\n",
    "# On initialise une liste vide\n",
    "ma_liste = list()\n",
    "\n",
    "# Tant que la longueur de la liste est inférieure ou égale à 50 éléments\n",
    "while len(ma_liste) <= 50:\n",
    "    print(ma_liste)\n",
    "    # On ajoute un entier aléatoire entre 0 et 10 à la liste\n",
    "    ma_liste.append(randint(0,10))\n",
    "    \n",
    "print('La boucle est terminée')        \n",
    "print(ma_liste)"
   ]
  },
  {
   "cell_type": "markdown",
   "id": "00a8636b-ab3c-443d-807d-e1bbcdfb148c",
   "metadata": {
    "slideshow": {
     "slide_type": "slide"
    },
    "tags": []
   },
   "source": [
    "Il est également fréquent d'utiliser une variable incrémentable avec une boucle while."
   ]
  },
  {
   "cell_type": "code",
   "execution_count": 10,
   "id": "76ac439f-5c66-4583-9de6-2d13d5741b60",
   "metadata": {
    "slideshow": {
     "slide_type": "fragment"
    },
    "tags": []
   },
   "outputs": [
    {
     "name": "stdout",
     "output_type": "stream",
     "text": [
      "0 mississipi\n",
      "1 mississipi\n",
      "2 missisipis\n",
      "3 missisipis\n",
      "4 missisipis\n",
      "5 missisipis\n",
      "6 missisipis\n",
      "7 missisipis\n",
      "8 missisipis\n",
      "9 missisipis\n",
      "10 missisipis\n",
      "11 missisipis\n",
      "12 missisipis\n",
      "13 missisipis\n",
      "14 missisipis\n",
      "15 missisipis\n"
     ]
    }
   ],
   "source": [
    "# On initialise une variable de type int à 0\n",
    "i = 0\n",
    "\n",
    "# Tant que notre variable est strictement inférieure à 16, la boucle s'exécutera\n",
    "while i < 16:\n",
    "    \n",
    "    if i >= 2:\n",
    "        ajout = 'missisipis'\n",
    "    else:\n",
    "        ajout = 'mississipi'\n",
    "        \n",
    "    print(str(i) + ' ' + ajout)\n",
    "    \n",
    "    # On incrémente notre variable de 1. La variable est directement mise à jour\n",
    "    i += 1"
   ]
  },
  {
   "cell_type": "code",
   "execution_count": 4,
   "id": "ed2cbbad-d4b0-4cdd-a098-4727e38bb549",
   "metadata": {},
   "outputs": [
    {
     "name": "stdout",
     "output_type": "stream",
     "text": [
      "0\n",
      "1\n",
      "2\n",
      "3\n",
      "4\n",
      "5\n",
      "6\n",
      "7\n",
      "8\n",
      "9\n",
      "10\n"
     ]
    }
   ],
   "source": [
    "# Exemple avec juste la variable incrémentable \n",
    "i=0\n",
    "while i<=10:\n",
    "    print(i)\n",
    "    i += 1"
   ]
  },
  {
   "cell_type": "markdown",
   "id": "57c78147-263f-4464-8e6f-0878da9fb444",
   "metadata": {
    "slideshow": {
     "slide_type": "slide"
    },
    "tags": []
   },
   "source": [
    "Attention: si on ne fait pas attention il est très facile de créer une boucle infinie avec while. Dans ce cas, il faudra utiliser `Ctrl+C` pour forcer son arrêt, ou le bouton stop dans un Jupyter notebook."
   ]
  },
  {
   "cell_type": "code",
   "execution_count": 25,
   "id": "9e90b87d-441c-44c1-81d7-87262805d872",
   "metadata": {
    "slideshow": {
     "slide_type": "fragment"
    },
    "tags": []
   },
   "outputs": [
    {
     "ename": "KeyboardInterrupt",
     "evalue": "",
     "output_type": "error",
     "traceback": [
      "\u001b[0;31m---------------------------------------------------------------------------\u001b[0m",
      "\u001b[0;31mKeyboardInterrupt\u001b[0m                         Traceback (most recent call last)",
      "Cell \u001b[0;32mIn [25], line 1\u001b[0m\n\u001b[0;32m----> 1\u001b[0m \u001b[38;5;28;01mwhile\u001b[39;00m \u001b[38;5;28;01mTrue\u001b[39;00m:\n\u001b[1;32m      2\u001b[0m     \u001b[38;5;28;01mpass\u001b[39;00m\n",
      "\u001b[0;31mKeyboardInterrupt\u001b[0m: "
     ]
    }
   ],
   "source": [
    "while True:\n",
    "    pass"
   ]
  },
  {
   "cell_type": "markdown",
   "id": "80927cc8-a9e5-4ba5-a3be-42c0e4566782",
   "metadata": {
    "slideshow": {
     "slide_type": "slide"
    },
    "tags": []
   },
   "source": [
    "## Premières fonctions\n",
    "\n",
    "Une fonction est un morceau de code amené à être répété de nombreuses fois. Les développeurs étant des gens fainéants, ils écrivent des fonctions pour éviter d'avoir à recopier tout le temps la même chose !\n",
    "\n",
    "Une fonction est définie à minima par son nom et les arguments dont elle a besoin pour fonctionner. Elle peut retourner un objet."
   ]
  },
  {
   "cell_type": "code",
   "execution_count": 11,
   "id": "61bc72eb-1f07-4cc8-a64e-b62ca3c31994",
   "metadata": {},
   "outputs": [
    {
     "name": "stdout",
     "output_type": "stream",
     "text": [
      "L'individu Georges Abitbol a 71 ans\n"
     ]
    }
   ],
   "source": [
    "def decrire_individu(prenom, nom, age):\n",
    "    message = f'L\\'individu {prenom} {nom} a {age} ans'\n",
    "    \n",
    "    return message\n",
    "\n",
    "print( decrire_individu(prenom='Georges', nom='Abitbol', age=71) )"
   ]
  },
  {
   "cell_type": "markdown",
   "id": "c0aa2841-92c8-4fa2-af02-c46242a2f9e5",
   "metadata": {},
   "source": [
    "Lorsque l'on fait appel à une fonction, on peux soit nommer ses arguments, soit les renseigner dans le bon ordre."
   ]
  },
  {
   "cell_type": "code",
   "execution_count": 20,
   "id": "26d6f2e4-b317-4717-b729-d00c4a43fa80",
   "metadata": {},
   "outputs": [
    {
     "name": "stdout",
     "output_type": "stream",
     "text": [
      "L'individu Georges Abitbol a 71 ans\n",
      "L'individu Georges Abitbol a 71 ans\n"
     ]
    },
    {
     "data": {
      "text/plain": [
       "\"L'individu Test2 Test a 158 ans\""
      ]
     },
     "execution_count": 20,
     "metadata": {},
     "output_type": "execute_result"
    }
   ],
   "source": [
    "print( decrire_individu('Georges', 'Abitbol', 71) )\n",
    "\n",
    "print( decrire_individu(nom='Abitbol', age=71, prenom='Georges') )\n",
    "\n",
    "args = {\n",
    "    'nom': 'Test',\n",
    "    'prenom': 'Test2',\n",
    "    'age': 158\n",
    "}\n",
    "decrire_individu(**args)"
   ]
  },
  {
   "cell_type": "markdown",
   "id": "a5ed29fd-11f7-4688-9917-ebd52565153e",
   "metadata": {
    "slideshow": {
     "slide_type": "slide"
    },
    "tags": []
   },
   "source": [
    "Une variable déclarée dans une fonction ne peux pas être utilisée en dehors de celle-ci (sauf dans certains cas d'usage avancé). C'est la notion de portée d'une variable."
   ]
  },
  {
   "cell_type": "code",
   "execution_count": 21,
   "id": "37be4990-5b53-4b5d-bb7f-cded82b2e4fe",
   "metadata": {},
   "outputs": [
    {
     "ename": "NameError",
     "evalue": "name 'message' is not defined",
     "output_type": "error",
     "traceback": [
      "\u001b[0;31m---------------------------------------------------------------------------\u001b[0m",
      "\u001b[0;31mNameError\u001b[0m                                 Traceback (most recent call last)",
      "Cell \u001b[0;32mIn [21], line 1\u001b[0m\n\u001b[0;32m----> 1\u001b[0m \u001b[38;5;28mprint\u001b[39m(\u001b[43mmessage\u001b[49m)\n",
      "\u001b[0;31mNameError\u001b[0m: name 'message' is not defined"
     ]
    }
   ],
   "source": [
    "print(message)"
   ]
  },
  {
   "cell_type": "markdown",
   "id": "faf5f785-7587-4cde-8317-db7119e3e7da",
   "metadata": {
    "slideshow": {
     "slide_type": "slide"
    },
    "tags": []
   },
   "source": [
    "Il est possible que des valeurs par défaut soient déclarés au moment de la définition de la fonction. Ces arguments deviennent alors optionnels lorsque l'on fera appel à cette fonction."
   ]
  },
  {
   "cell_type": "code",
   "execution_count": 36,
   "id": "42886b7c-f388-49b6-b725-a509818d0976",
   "metadata": {},
   "outputs": [
    {
     "name": "stdout",
     "output_type": "stream",
     "text": [
      "L'individu Georges Abitbol a 71 ans\n",
      "L'individu Georges Abitbol a 30 ans\n"
     ]
    }
   ],
   "source": [
    "def decrire_individu(prenom, nom, age = 30):\n",
    "    message = f'L\\'individu {prenom} {nom} a {age} ans'\n",
    "    \n",
    "    return message\n",
    "\n",
    "print(decrire_individu(prenom='Georges', nom='Abitbol', age=71))\n",
    "print(decrire_individu(prenom='Georges', nom='Abitbol'))"
   ]
  },
  {
   "cell_type": "markdown",
   "id": "9d6f6727-c94b-4722-ba7f-9fbf420a24c8",
   "metadata": {
    "slideshow": {
     "slide_type": "slide"
    },
    "tags": []
   },
   "source": [
    "Quand on est amené à partager ses fonctions, il est important de penser à rédiger une page d'aide. Voici un exemple."
   ]
  },
  {
   "cell_type": "code",
   "execution_count": 38,
   "id": "bfa2e4e1-bc6b-41b7-b674-b03ae190cd48",
   "metadata": {},
   "outputs": [
    {
     "data": {
      "text/plain": [
       "\u001b[0;31mSignature:\u001b[0m \u001b[0mdecrire_individu\u001b[0m\u001b[0;34m(\u001b[0m\u001b[0mprenom\u001b[0m\u001b[0;34m,\u001b[0m \u001b[0mnom\u001b[0m\u001b[0;34m,\u001b[0m \u001b[0mage\u001b[0m\u001b[0;34m=\u001b[0m\u001b[0;36m30\u001b[0m\u001b[0;34m)\u001b[0m\u001b[0;34m\u001b[0m\u001b[0;34m\u001b[0m\u001b[0m\n",
       "\u001b[0;31mDocstring:\u001b[0m\n",
       "Retourne un message d'informations sur un individu.\n",
       "\n",
       "Parameters:\n",
       "    prenom (str): Prénom de l'individu.\n",
       "    nom (str): Nom de l'individu.\n",
       "    age (int): Age de l'individu.\n",
       "\n",
       "Returns:\n",
       "    message (str): Message mis en forme avec les informaions sur l'individu\n",
       "\u001b[0;31mFile:\u001b[0m      /tmp/ipykernel_17237/2752702604.py\n",
       "\u001b[0;31mType:\u001b[0m      function\n"
      ]
     },
     "metadata": {},
     "output_type": "display_data"
    }
   ],
   "source": [
    "def decrire_individu(prenom, nom, age=30):\n",
    "    '''\n",
    "    Retourne un message d'informations sur un individu.\n",
    "\n",
    "    Parameters:\n",
    "        prenom (str): Prénom de l'individu.\n",
    "        nom (str): Nom de l'individu.\n",
    "        age (int): Age de l'individu.\n",
    "\n",
    "    Returns:\n",
    "        message (str): Message mis en forme avec les informaions sur l'individu\n",
    "    '''    \n",
    "    \n",
    "    message = f'L\\'individu {prenom} {nom} a {age} ans'\n",
    "    \n",
    "    return message\n",
    "\n",
    "?decrire_individu"
   ]
  },
  {
   "cell_type": "markdown",
   "id": "ffe975b5-931a-4246-aa21-1a9f7e586439",
   "metadata": {
    "slideshow": {
     "slide_type": "slide"
    },
    "tags": []
   },
   "source": [
    "## Lire et écrire dans un fichier\n",
    "\n",
    "La fonction `open()` permet de créer un reader de fichier."
   ]
  },
  {
   "cell_type": "code",
   "execution_count": 20,
   "id": "a82c45f8-efbb-40d4-95bb-cd632857f93e",
   "metadata": {},
   "outputs": [
    {
     "data": {
      "text/plain": [
       "\u001b[1;31mSignature:\u001b[0m\n",
       "\u001b[0mopen\u001b[0m\u001b[1;33m(\u001b[0m\u001b[1;33m\n",
       "\u001b[0m    \u001b[0mfile\u001b[0m\u001b[1;33m,\u001b[0m\u001b[1;33m\n",
       "\u001b[0m    \u001b[0mmode\u001b[0m\u001b[1;33m=\u001b[0m\u001b[1;34m'r'\u001b[0m\u001b[1;33m,\u001b[0m\u001b[1;33m\n",
       "\u001b[0m    \u001b[0mbuffering\u001b[0m\u001b[1;33m=\u001b[0m\u001b[1;33m-\u001b[0m\u001b[1;36m1\u001b[0m\u001b[1;33m,\u001b[0m\u001b[1;33m\n",
       "\u001b[0m    \u001b[0mencoding\u001b[0m\u001b[1;33m=\u001b[0m\u001b[1;32mNone\u001b[0m\u001b[1;33m,\u001b[0m\u001b[1;33m\n",
       "\u001b[0m    \u001b[0merrors\u001b[0m\u001b[1;33m=\u001b[0m\u001b[1;32mNone\u001b[0m\u001b[1;33m,\u001b[0m\u001b[1;33m\n",
       "\u001b[0m    \u001b[0mnewline\u001b[0m\u001b[1;33m=\u001b[0m\u001b[1;32mNone\u001b[0m\u001b[1;33m,\u001b[0m\u001b[1;33m\n",
       "\u001b[0m    \u001b[0mclosefd\u001b[0m\u001b[1;33m=\u001b[0m\u001b[1;32mTrue\u001b[0m\u001b[1;33m,\u001b[0m\u001b[1;33m\n",
       "\u001b[0m    \u001b[0mopener\u001b[0m\u001b[1;33m=\u001b[0m\u001b[1;32mNone\u001b[0m\u001b[1;33m,\u001b[0m\u001b[1;33m\n",
       "\u001b[0m\u001b[1;33m)\u001b[0m\u001b[1;33m\u001b[0m\u001b[1;33m\u001b[0m\u001b[0m\n",
       "\u001b[1;31mDocstring:\u001b[0m\n",
       "Open file and return a stream.  Raise OSError upon failure.\n",
       "\n",
       "file is either a text or byte string giving the name (and the path\n",
       "if the file isn't in the current working directory) of the file to\n",
       "be opened or an integer file descriptor of the file to be\n",
       "wrapped. (If a file descriptor is given, it is closed when the\n",
       "returned I/O object is closed, unless closefd is set to False.)\n",
       "\n",
       "mode is an optional string that specifies the mode in which the file\n",
       "is opened. It defaults to 'r' which means open for reading in text\n",
       "mode.  Other common values are 'w' for writing (truncating the file if\n",
       "it already exists), 'x' for creating and writing to a new file, and\n",
       "'a' for appending (which on some Unix systems, means that all writes\n",
       "append to the end of the file regardless of the current seek position).\n",
       "In text mode, if encoding is not specified the encoding used is platform\n",
       "dependent: locale.getpreferredencoding(False) is called to get the\n",
       "current locale encoding. (For reading and writing raw bytes use binary\n",
       "mode and leave encoding unspecified.) The available modes are:\n",
       "\n",
       "========= ===============================================================\n",
       "Character Meaning\n",
       "--------- ---------------------------------------------------------------\n",
       "'r'       open for reading (default)\n",
       "'w'       open for writing, truncating the file first\n",
       "'x'       create a new file and open it for writing\n",
       "'a'       open for writing, appending to the end of the file if it exists\n",
       "'b'       binary mode\n",
       "'t'       text mode (default)\n",
       "'+'       open a disk file for updating (reading and writing)\n",
       "'U'       universal newline mode (deprecated)\n",
       "========= ===============================================================\n",
       "\n",
       "The default mode is 'rt' (open for reading text). For binary random\n",
       "access, the mode 'w+b' opens and truncates the file to 0 bytes, while\n",
       "'r+b' opens the file without truncation. The 'x' mode implies 'w' and\n",
       "raises an `FileExistsError` if the file already exists.\n",
       "\n",
       "Python distinguishes between files opened in binary and text modes,\n",
       "even when the underlying operating system doesn't. Files opened in\n",
       "binary mode (appending 'b' to the mode argument) return contents as\n",
       "bytes objects without any decoding. In text mode (the default, or when\n",
       "'t' is appended to the mode argument), the contents of the file are\n",
       "returned as strings, the bytes having been first decoded using a\n",
       "platform-dependent encoding or using the specified encoding if given.\n",
       "\n",
       "'U' mode is deprecated and will raise an exception in future versions\n",
       "of Python.  It has no effect in Python 3.  Use newline to control\n",
       "universal newlines mode.\n",
       "\n",
       "buffering is an optional integer used to set the buffering policy.\n",
       "Pass 0 to switch buffering off (only allowed in binary mode), 1 to select\n",
       "line buffering (only usable in text mode), and an integer > 1 to indicate\n",
       "the size of a fixed-size chunk buffer.  When no buffering argument is\n",
       "given, the default buffering policy works as follows:\n",
       "\n",
       "* Binary files are buffered in fixed-size chunks; the size of the buffer\n",
       "  is chosen using a heuristic trying to determine the underlying device's\n",
       "  \"block size\" and falling back on `io.DEFAULT_BUFFER_SIZE`.\n",
       "  On many systems, the buffer will typically be 4096 or 8192 bytes long.\n",
       "\n",
       "* \"Interactive\" text files (files for which isatty() returns True)\n",
       "  use line buffering.  Other text files use the policy described above\n",
       "  for binary files.\n",
       "\n",
       "encoding is the name of the encoding used to decode or encode the\n",
       "file. This should only be used in text mode. The default encoding is\n",
       "platform dependent, but any encoding supported by Python can be\n",
       "passed.  See the codecs module for the list of supported encodings.\n",
       "\n",
       "errors is an optional string that specifies how encoding errors are to\n",
       "be handled---this argument should not be used in binary mode. Pass\n",
       "'strict' to raise a ValueError exception if there is an encoding error\n",
       "(the default of None has the same effect), or pass 'ignore' to ignore\n",
       "errors. (Note that ignoring encoding errors can lead to data loss.)\n",
       "See the documentation for codecs.register or run 'help(codecs.Codec)'\n",
       "for a list of the permitted encoding error strings.\n",
       "\n",
       "newline controls how universal newlines works (it only applies to text\n",
       "mode). It can be None, '', '\\n', '\\r', and '\\r\\n'.  It works as\n",
       "follows:\n",
       "\n",
       "* On input, if newline is None, universal newlines mode is\n",
       "  enabled. Lines in the input can end in '\\n', '\\r', or '\\r\\n', and\n",
       "  these are translated into '\\n' before being returned to the\n",
       "  caller. If it is '', universal newline mode is enabled, but line\n",
       "  endings are returned to the caller untranslated. If it has any of\n",
       "  the other legal values, input lines are only terminated by the given\n",
       "  string, and the line ending is returned to the caller untranslated.\n",
       "\n",
       "* On output, if newline is None, any '\\n' characters written are\n",
       "  translated to the system default line separator, os.linesep. If\n",
       "  newline is '' or '\\n', no translation takes place. If newline is any\n",
       "  of the other legal values, any '\\n' characters written are translated\n",
       "  to the given string.\n",
       "\n",
       "If closefd is False, the underlying file descriptor will be kept open\n",
       "when the file is closed. This does not work when a file name is given\n",
       "and must be True in that case.\n",
       "\n",
       "A custom opener can be used by passing a callable as *opener*. The\n",
       "underlying file descriptor for the file object is then obtained by\n",
       "calling *opener* with (*file*, *flags*). *opener* must return an open\n",
       "file descriptor (passing os.open as *opener* results in functionality\n",
       "similar to passing None).\n",
       "\n",
       "open() returns a file object whose type depends on the mode, and\n",
       "through which the standard file operations such as reading and writing\n",
       "are performed. When open() is used to open a file in a text mode ('w',\n",
       "'r', 'wt', 'rt', etc.), it returns a TextIOWrapper. When used to open\n",
       "a file in a binary mode, the returned class varies: in read binary\n",
       "mode, it returns a BufferedReader; in write binary and append binary\n",
       "modes, it returns a BufferedWriter, and in read/write mode, it returns\n",
       "a BufferedRandom.\n",
       "\n",
       "It is also possible to use a string or bytearray as a file for both\n",
       "reading and writing. For strings StringIO can be used like a file\n",
       "opened in a text mode, and for bytes a BytesIO can be used like a file\n",
       "opened in a binary mode.\n",
       "\u001b[1;31mType:\u001b[0m      function\n"
      ]
     },
     "metadata": {},
     "output_type": "display_data"
    }
   ],
   "source": [
    "?open"
   ]
  },
  {
   "cell_type": "code",
   "execution_count": 43,
   "id": "8cd57fa0-9c02-430e-9d53-5f263e0282da",
   "metadata": {
    "slideshow": {
     "slide_type": "slide"
    },
    "tags": []
   },
   "outputs": [
    {
     "name": "stdout",
     "output_type": "stream",
     "text": [
      "<_io.TextIOWrapper name='datasets/ipsum.txt' mode='r' encoding='UTF-8'>\n"
     ]
    }
   ],
   "source": [
    "f = open('datasets/ipsum.txt')\n",
    "print(f)"
   ]
  },
  {
   "cell_type": "markdown",
   "id": "43f4898a-16db-4821-a557-532fbaa3598c",
   "metadata": {
    "slideshow": {
     "slide_type": "fragment"
    },
    "tags": []
   },
   "source": [
    "Pour lire les lignes du fichier et les renvoyer dans une liste, il faut utiliser la méthode `readlines()`."
   ]
  },
  {
   "cell_type": "code",
   "execution_count": 44,
   "id": "3323a115-c938-4db3-9f5b-3d278baa08b9",
   "metadata": {
    "tags": []
   },
   "outputs": [
    {
     "name": "stdout",
     "output_type": "stream",
     "text": [
      "['Lorem ipsum dolor sit amet. A dolorum maxime non quae aliquid eum ipsam ullam aut repellendus esse vel magnam assumenda est ducimus iure? Et libero quia et accusantium fuga et inventore voluptatem in unde optio qui commodi ullam sit quia nostrum. Vel exercitationem consequatur sit illo magnam nam blanditiis voluptatibus qui molestias maxime et esse repudiandae qui odio deserunt sed illum aperiam.\\n', '\\n', 'Et blanditiis quia non natus sapiente 33 galisum dolorem qui illo accusamus sed labore tempore non vero ipsam. Id magni facere eos voluptatibus magnam non repudiandae maxime. Aut enim velit et repellat porro aut officiis galisum qui architecto magnam quo perspiciatis fugit?\\n', '\\n', 'Ad magni impedit est esse vitae qui eveniet asperiores et numquam optio! Aut ipsum sint qui internos minus aut nulla omnis in reprehenderit nesciunt 33 necessitatibus iure.\\n', '\\n', 'Et quod galisum non voluptate veritatis ut adipisci cupiditate et obcaecati mollitia et eaque suscipit. Sit enim iusto aut nihil voluptates ab magnam alias qui galisum dolores! Sed galisum vitae et autem quae qui maxime tenetur ut minima sapiente et quia voluptatem aut pariatur omnis.\\n', '\\n', 'Est accusamus expedita in suscipit delectus et tenetur galisum! Id rerum nemo ad autem quos sed magnam praesentium ea optio alias aut natus corrupti sed dicta ducimus.']\n"
     ]
    }
   ],
   "source": [
    "ipsum = f.readlines()\n",
    "print(ipsum)"
   ]
  },
  {
   "cell_type": "markdown",
   "id": "e255be60-2895-4aac-9642-585e56de71c1",
   "metadata": {
    "slideshow": {
     "slide_type": "slide"
    },
    "tags": []
   },
   "source": [
    "Le reader créé par la fonction `open()` fonctionne comme un curseur : une fois arrivé au bour du fichier, il faut le remettre au début si on veux re-lire le fichier."
   ]
  },
  {
   "cell_type": "code",
   "execution_count": 49,
   "id": "703bfc71-5e25-414e-8441-f9fcc5730ed2",
   "metadata": {},
   "outputs": [
    {
     "data": {
      "text/plain": [
       "[]"
      ]
     },
     "execution_count": 49,
     "metadata": {},
     "output_type": "execute_result"
    }
   ],
   "source": [
    "f.readlines()"
   ]
  },
  {
   "cell_type": "code",
   "execution_count": 51,
   "id": "c8733025-b1ed-4b48-9c35-6f42611109cc",
   "metadata": {
    "slideshow": {
     "slide_type": "fragment"
    },
    "tags": []
   },
   "outputs": [
    {
     "data": {
      "text/plain": [
       "['Lorem ipsum dolor sit amet. A dolorum maxime non quae aliquid eum ipsam ullam aut repellendus esse vel magnam assumenda est ducimus iure? Et libero quia et accusantium fuga et inventore voluptatem in unde optio qui commodi ullam sit quia nostrum. Vel exercitationem consequatur sit illo magnam nam blanditiis voluptatibus qui molestias maxime et esse repudiandae qui odio deserunt sed illum aperiam.\\n',\n",
       " '\\n',\n",
       " 'Et blanditiis quia non natus sapiente 33 galisum dolorem qui illo accusamus sed labore tempore non vero ipsam. Id magni facere eos voluptatibus magnam non repudiandae maxime. Aut enim velit et repellat porro aut officiis galisum qui architecto magnam quo perspiciatis fugit?\\n',\n",
       " '\\n',\n",
       " 'Ad magni impedit est esse vitae qui eveniet asperiores et numquam optio! Aut ipsum sint qui internos minus aut nulla omnis in reprehenderit nesciunt 33 necessitatibus iure.\\n',\n",
       " '\\n',\n",
       " 'Et quod galisum non voluptate veritatis ut adipisci cupiditate et obcaecati mollitia et eaque suscipit. Sit enim iusto aut nihil voluptates ab magnam alias qui galisum dolores! Sed galisum vitae et autem quae qui maxime tenetur ut minima sapiente et quia voluptatem aut pariatur omnis.\\n',\n",
       " '\\n',\n",
       " 'Est accusamus expedita in suscipit delectus et tenetur galisum! Id rerum nemo ad autem quos sed magnam praesentium ea optio alias aut natus corrupti sed dicta ducimus.']"
      ]
     },
     "execution_count": 51,
     "metadata": {},
     "output_type": "execute_result"
    }
   ],
   "source": [
    "f.seek(0)\n",
    "f.readlines()"
   ]
  },
  {
   "cell_type": "markdown",
   "id": "21d343f1-3da6-4436-a4d9-3796723f1e0d",
   "metadata": {
    "slideshow": {
     "slide_type": "slide"
    },
    "tags": []
   },
   "source": [
    "On peux aussi vouloir lire tout le contenu du fichier directement dans une chaine de caractères (pas une liste)."
   ]
  },
  {
   "cell_type": "code",
   "execution_count": 52,
   "id": "d5014e39-3692-4dc8-a169-430f5ed00866",
   "metadata": {},
   "outputs": [
    {
     "data": {
      "text/plain": [
       "'Lorem ipsum dolor sit amet. A dolorum maxime non quae aliquid eum ipsam ullam aut repellendus esse vel magnam assumenda est ducimus iure? Et libero quia et accusantium fuga et inventore voluptatem in unde optio qui commodi ullam sit quia nostrum. Vel exercitationem consequatur sit illo magnam nam blanditiis voluptatibus qui molestias maxime et esse repudiandae qui odio deserunt sed illum aperiam.\\n\\nEt blanditiis quia non natus sapiente 33 galisum dolorem qui illo accusamus sed labore tempore non vero ipsam. Id magni facere eos voluptatibus magnam non repudiandae maxime. Aut enim velit et repellat porro aut officiis galisum qui architecto magnam quo perspiciatis fugit?\\n\\nAd magni impedit est esse vitae qui eveniet asperiores et numquam optio! Aut ipsum sint qui internos minus aut nulla omnis in reprehenderit nesciunt 33 necessitatibus iure.\\n\\nEt quod galisum non voluptate veritatis ut adipisci cupiditate et obcaecati mollitia et eaque suscipit. Sit enim iusto aut nihil voluptates ab magnam alias qui galisum dolores! Sed galisum vitae et autem quae qui maxime tenetur ut minima sapiente et quia voluptatem aut pariatur omnis.\\n\\nEst accusamus expedita in suscipit delectus et tenetur galisum! Id rerum nemo ad autem quos sed magnam praesentium ea optio alias aut natus corrupti sed dicta ducimus.'"
      ]
     },
     "execution_count": 52,
     "metadata": {},
     "output_type": "execute_result"
    }
   ],
   "source": [
    "f.seek(0)\n",
    "f.read()"
   ]
  },
  {
   "cell_type": "markdown",
   "id": "52643240-5e8d-4344-aaaa-d9f9eb71c0cf",
   "metadata": {
    "slideshow": {
     "slide_type": "slide"
    },
    "tags": []
   },
   "source": [
    "On pense toujours à fermer le reader dès qu'on en a plus besoin pour libérer le fichier (d'autres programmes pourraient en avoir besoin). C'est extrèmement important si vous faites un jour de la parallélisation."
   ]
  },
  {
   "cell_type": "code",
   "execution_count": 58,
   "id": "ffc31217-c3ad-4877-ab71-072eed5bbe98",
   "metadata": {
    "tags": []
   },
   "outputs": [],
   "source": [
    "f.close()"
   ]
  },
  {
   "cell_type": "markdown",
   "id": "6eb558cd-f716-4374-923b-495e195a5c8e",
   "metadata": {
    "slideshow": {
     "slide_type": "fragment"
    },
    "tags": []
   },
   "source": [
    "Une bonne pratique est d'utiliser un contexte. Cela évite d'oublier de fermer le fichier ou de réinitialiser l'itérateur"
   ]
  },
  {
   "cell_type": "code",
   "execution_count": 65,
   "id": "cfffcbcc-b12a-4c32-9e55-4e97225c6bcc",
   "metadata": {
    "tags": []
   },
   "outputs": [
    {
     "name": "stdout",
     "output_type": "stream",
     "text": [
      "Lorem ipsum dolor sit amet. A dolorum maxime non quae aliquid eum ipsam ullam aut repellendus esse vel magnam assumenda est ducimus iure? Et libero quia et accusantium fuga et inventore voluptatem in unde optio qui commodi ullam sit quia nostrum. Vel exercitationem consequatur sit illo magnam nam blanditiis voluptatibus qui molestias maxime et esse repudiandae qui odio deserunt sed illum aperiam.\n",
      "\n",
      "Et blanditiis quia non natus sapiente 33 galisum dolorem qui illo accusamus sed labore tempore non vero ipsam. Id magni facere eos voluptatibus magnam non repudiandae maxime. Aut enim velit et repellat porro aut officiis galisum qui architecto magnam quo perspiciatis fugit?\n",
      "\n",
      "Ad magni impedit est esse vitae qui eveniet asperiores et numquam optio! Aut ipsum sint qui internos minus aut nulla omnis in reprehenderit nesciunt 33 necessitatibus iure.\n",
      "\n",
      "Et quod galisum non voluptate veritatis ut adipisci cupiditate et obcaecati mollitia et eaque suscipit. Sit enim iusto aut nihil voluptates ab magnam alias qui galisum dolores! Sed galisum vitae et autem quae qui maxime tenetur ut minima sapiente et quia voluptatem aut pariatur omnis.\n",
      "\n",
      "Est accusamus expedita in suscipit delectus et tenetur galisum! Id rerum nemo ad autem quos sed magnam praesentium ea optio alias aut natus corrupti sed dicta ducimus.\n"
     ]
    }
   ],
   "source": [
    "# Ici on ouvre le fichier en mode lecture seule ('r' pour read)\n",
    "with open('datasets/ipsum.txt', 'r') as f:\n",
    "    iris_data = f.readlines()\n",
    "    f.seek(0)\n",
    "    print(f.read())"
   ]
  },
  {
   "cell_type": "code",
   "execution_count": 68,
   "id": "5138eb02-b696-43d4-80c9-be8d8e22151c",
   "metadata": {
    "slideshow": {
     "slide_type": "fragment"
    },
    "tags": []
   },
   "outputs": [
    {
     "name": "stdout",
     "output_type": "stream",
     "text": [
      "<_io.TextIOWrapper name='datasets/output/monfichier.txt' mode='w' encoding='UTF-8'>\n",
      "L'individu Georges Abitbol a 71 ans\n"
     ]
    }
   ],
   "source": [
    "# Là on ouvre un autre fichier en mode écriture ('w' pour write)\n",
    "with open('datasets/output/monfichier.txt', 'w') as f:\n",
    "    print(f)\n",
    "    texte = decrire_individu(prenom='Georges', nom='Abitbol', age=71)\n",
    "    print(texte)\n",
    "    f.write(texte)"
   ]
  },
  {
   "cell_type": "code",
   "execution_count": 78,
   "id": "9817ae15-93ad-4f49-ad39-b955a31de884",
   "metadata": {
    "slideshow": {
     "slide_type": "slide"
    },
    "tags": []
   },
   "outputs": [],
   "source": [
    "# Et enfin, ici on l'ouvre en mode ajout ('a' pour append)\n",
    "with open('datasets/output/monfichier.txt', 'a') as f:\n",
    "    \n",
    "    # On réalise une itération sur 2 listes en même temps avec la fonction zip\n",
    "    for nom, age in zip(['Clooney', 'Brassens', 'Pompidou'], [61, 101, 111]):\n",
    "        \n",
    "        # On écrit d'abord un retour à la ligne, puis on génère notre merveilleuse phrase\n",
    "        f.write('\\n')\n",
    "        texte = decrire_individu(prenom='Georges', nom=nom, age=age)\n",
    "        f.write(texte)"
   ]
  },
  {
   "cell_type": "markdown",
   "id": "485f104b-b86b-4485-96d1-04432c849704",
   "metadata": {
    "slideshow": {
     "slide_type": "slide"
    },
    "tags": []
   },
   "source": [
    "## Capturer les erreurs\n",
    "\n",
    "Capturer un type d'erreur permet d'exécuter du code en cas de déclenchement de cette erreur. Cela permet également de la rendre non bloquante dans l'exécution d'une boucle par exemple."
   ]
  },
  {
   "cell_type": "code",
   "execution_count": 19,
   "id": "85a0063b-9f6e-481f-9cc8-f8f1b7e1eb2c",
   "metadata": {
    "slideshow": {
     "slide_type": "slide"
    },
    "tags": []
   },
   "outputs": [
    {
     "name": "stdout",
     "output_type": "stream",
     "text": [
      "Dans ma soupe, je met des patates\n",
      "miam\n",
      "Dans ma soupe, je met des carottes\n",
      "miam\n",
      "Dans ma soupe, je met des navets\n",
      "miam\n"
     ]
    },
    {
     "ename": "TypeError",
     "evalue": "can only concatenate str (not \"float\") to str",
     "output_type": "error",
     "traceback": [
      "\u001b[0;31m---------------------------------------------------------------------------\u001b[0m",
      "\u001b[0;31mTypeError\u001b[0m                                 Traceback (most recent call last)",
      "\u001b[0;32m/tmp/ipykernel_13832/2908755025.py\u001b[0m in \u001b[0;36m<module>\u001b[0;34m\u001b[0m\n\u001b[1;32m      2\u001b[0m \u001b[0;34m\u001b[0m\u001b[0m\n\u001b[1;32m      3\u001b[0m \u001b[0;32mfor\u001b[0m \u001b[0mitem\u001b[0m \u001b[0;32min\u001b[0m \u001b[0mliste\u001b[0m\u001b[0;34m:\u001b[0m\u001b[0;34m\u001b[0m\u001b[0;34m\u001b[0m\u001b[0m\n\u001b[0;32m----> 4\u001b[0;31m     \u001b[0mprint\u001b[0m\u001b[0;34m(\u001b[0m\u001b[0;34m\"Dans ma soupe, je met des \"\u001b[0m \u001b[0;34m+\u001b[0m \u001b[0mitem\u001b[0m\u001b[0;34m)\u001b[0m\u001b[0;34m\u001b[0m\u001b[0;34m\u001b[0m\u001b[0m\n\u001b[0m\u001b[1;32m      5\u001b[0m     \u001b[0mprint\u001b[0m\u001b[0;34m(\u001b[0m\u001b[0;34m\"miam\"\u001b[0m\u001b[0;34m)\u001b[0m\u001b[0;34m\u001b[0m\u001b[0;34m\u001b[0m\u001b[0m\n",
      "\u001b[0;31mTypeError\u001b[0m: can only concatenate str (not \"float\") to str"
     ]
    }
   ],
   "source": [
    "liste = ['patates', 'carottes', 'navets', 9.56, 'brocolis', 'poireaux']\n",
    "\n",
    "for item in liste:\n",
    "    print(\"Dans ma soupe, je met des \" + item)\n",
    "    print(\"miam\")"
   ]
  },
  {
   "cell_type": "code",
   "execution_count": 20,
   "id": "dbaa7923-2aa5-436e-a515-3d3f5cd5d9f2",
   "metadata": {
    "slideshow": {
     "slide_type": "slide"
    },
    "tags": []
   },
   "outputs": [
    {
     "name": "stdout",
     "output_type": "stream",
     "text": [
      "Dans ma soupe, je met des patates\n",
      "miam\n",
      "Dans ma soupe, je met des carottes\n",
      "miam\n",
      "Dans ma soupe, je met des navets\n",
      "miam\n",
      "Dans ma soupe, je met des brocolis\n",
      "miam\n",
      "Dans ma soupe, je met des poireaux\n",
      "miam\n"
     ]
    }
   ],
   "source": [
    "for item in liste:\n",
    "    try:\n",
    "        print(\"Dans ma soupe, je met des \" + item)\n",
    "    except TypeError:\n",
    "        continue\n",
    "        \n",
    "    print(\"miam\")"
   ]
  }
 ],
 "metadata": {
  "kernelspec": {
   "display_name": "Python 3 (ipykernel)",
   "language": "python",
   "name": "python3"
  },
  "language_info": {
   "codemirror_mode": {
    "name": "ipython",
    "version": 3
   },
   "file_extension": ".py",
   "mimetype": "text/x-python",
   "name": "python",
   "nbconvert_exporter": "python",
   "pygments_lexer": "ipython3",
   "version": "3.10.6"
  }
 },
 "nbformat": 4,
 "nbformat_minor": 5
}
