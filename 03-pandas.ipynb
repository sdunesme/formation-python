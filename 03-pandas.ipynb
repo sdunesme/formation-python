{
 "cells": [
  {
   "attachments": {},
   "cell_type": "markdown",
   "id": "345fabd1-b310-4458-a1a4-bab4528aa3cd",
   "metadata": {
    "slideshow": {
     "slide_type": "slide"
    },
    "tags": []
   },
   "source": [
    "# Librairie tableaux, statistiques et data science : pandas\n",
    "\n",
    "> pandas is a fast, powerful, flexible and easy to use open source data analysis and manipulation tool,\n",
    "built on top of the Python programming language."
   ]
  },
  {
   "cell_type": "code",
   "execution_count": null,
   "id": "d583041a-d819-4ebc-9077-bb92b496d6f3",
   "metadata": {},
   "outputs": [],
   "source": [
    "# On importe le module principal du package et on affiche la version de pandas\n",
    "import pandas as pd\n",
    "print(pd.__version__)"
   ]
  },
  {
   "cell_type": "code",
   "execution_count": null,
   "id": "6236cf88-ca70-4912-8e89-403acf9fcd40",
   "metadata": {
    "slideshow": {
     "slide_type": "fragment"
    },
    "tags": []
   },
   "outputs": [],
   "source": [
    "# On affiche l'aide\n",
    "?pd"
   ]
  },
  {
   "cell_type": "markdown",
   "id": "16a64ba3-2a97-47cb-8c1c-7f492a51a947",
   "metadata": {
    "slideshow": {
     "slide_type": "slide"
    },
    "tags": []
   },
   "source": [
    "## Nouveaux types d'objets fournis par pandas\n",
    "\n",
    "Pandas fourni principalement le type (classe) d'objet `DataFrame`."
   ]
  },
  {
   "cell_type": "code",
   "execution_count": null,
   "id": "91aaeb3c-22ed-4658-b39f-ff1c847b76c4",
   "metadata": {},
   "outputs": [],
   "source": [
    "# On créé un DataFrame vide qu'on enregistre dans la variable df, puis on l'affiche\n",
    "df = pd.DataFrame()\n",
    "print(df)"
   ]
  },
  {
   "cell_type": "markdown",
   "id": "a5975d9c-12d5-4ce5-81da-9b89f2f6b5ce",
   "metadata": {
    "slideshow": {
     "slide_type": "slide"
    },
    "tags": []
   },
   "source": [
    "On peux créer un DataFrame à partir d'un dictionnaire existant. Les clés du dictionnaire doivent correspondre aux colonnes, et les valeurs aux lignes."
   ]
  },
  {
   "cell_type": "code",
   "execution_count": null,
   "id": "34f72182-4a21-46de-977d-a9fc2926ca23",
   "metadata": {},
   "outputs": [],
   "source": [
    "inventaire_arbres = {\n",
    "    'espece': ['chêne', 'charme', 'hêtre', 'cocotier'],\n",
    "    'nombre': [15, 24, 2, 0]\n",
    "}\n",
    "\n",
    "df_arbres = pd.DataFrame(inventaire_arbres)\n",
    "print(df_arbres)"
   ]
  },
  {
   "cell_type": "markdown",
   "id": "aa44d24c-241d-4cca-82e2-d2e5d7389f78",
   "metadata": {
    "slideshow": {
     "slide_type": "slide"
    },
    "tags": []
   },
   "source": [
    "La [pandas cheatsheet](https://pandas.pydata.org/Pandas_Cheat_Sheet.pdf) résume beaucoup de méthodes et à avoir toujours sous la main.\n",
    "\n",
    "Par exemple, pour ajouter des lignes à un DataFrame :"
   ]
  },
  {
   "cell_type": "code",
   "execution_count": null,
   "id": "e0e306fb-f4f1-4e08-8672-b72705d62e7b",
   "metadata": {},
   "outputs": [],
   "source": [
    "inventaire_nouveaux_arbres = {\n",
    "    'espece': ['pommier', 'poirier', 'bananier', 'manguier'],\n",
    "    'nombre': [15, 24, 54, 26]\n",
    "}\n",
    "\n",
    "# En réalité, on va concaténer deux DataFrames ayant les mêmes colonnes\n",
    "df_nouveaux_arbres = pd.DataFrame(inventaire_nouveaux_arbres)\n",
    "df_arbres = pd.concat([df_arbres, df_nouveaux_arbres])\n",
    "\n",
    "print(df_arbres)"
   ]
  },
  {
   "cell_type": "markdown",
   "id": "2aaeb5b0-5512-4cb8-abe9-e3519588721c",
   "metadata": {
    "slideshow": {
     "slide_type": "slide"
    },
    "tags": []
   },
   "source": [
    "Notez qu'après une concaténation, les index pandas ne sont plus uniques, contrairement aux index Python qui le sont toujours."
   ]
  },
  {
   "cell_type": "code",
   "execution_count": null,
   "id": "5f9b6a27-a97a-4bb4-898e-d1dc927b7a6e",
   "metadata": {},
   "outputs": [],
   "source": [
    "print(df_arbres.loc[1])\n",
    "print('---')\n",
    "print(df_arbres.iloc[1])"
   ]
  },
  {
   "cell_type": "markdown",
   "id": "befc8f0a-4491-4ff3-88fd-c55200b3227f",
   "metadata": {
    "slideshow": {
     "slide_type": "slide"
    },
    "tags": []
   },
   "source": [
    "On peux reset les index pandas. Une colonne index sera alors créée pour conserver les anciens index."
   ]
  },
  {
   "cell_type": "code",
   "execution_count": null,
   "id": "bd18ab76-457a-4e99-afb4-2298a713d14c",
   "metadata": {},
   "outputs": [],
   "source": [
    "df_arbres.reset_index(inplace = True)\n",
    "print(df_arbres)"
   ]
  },
  {
   "attachments": {},
   "cell_type": "markdown",
   "id": "f871dd47",
   "metadata": {},
   "source": [
    "> ✍️ Transformer le dictionnaire ci-dessous en DataFrame pandas."
   ]
  },
  {
   "cell_type": "code",
   "execution_count": null,
   "id": "797510c5",
   "metadata": {},
   "outputs": [],
   "source": [
    "infos_personnelles = {\n",
    "    'id': ['jdupont', 'gabitbol'],\n",
    "    'nom': ['Dupont', 'Abitbol'],\n",
    "    'prenom': ['Jean', 'Georges'],\n",
    "    'age': [37, 71],\n",
    "}\n",
    "\n"
   ]
  },
  {
   "attachments": {},
   "cell_type": "markdown",
   "id": "d50dc069",
   "metadata": {},
   "source": [
    "> ✍️ Ajouter une personne à ce tableau en utilisant la fonction concat(). Faire en sorte que les index soient uniques pour chaque ligne."
   ]
  },
  {
   "cell_type": "code",
   "execution_count": null,
   "id": "d32e2658",
   "metadata": {},
   "outputs": [],
   "source": []
  },
  {
   "cell_type": "markdown",
   "id": "2aaa5ae9-8902-4732-9513-edb4cb8ad904",
   "metadata": {
    "slideshow": {
     "slide_type": "slide"
    },
    "tags": []
   },
   "source": [
    "Les tableaux pandas sont dits \"tidy\". Exemple :"
   ]
  },
  {
   "cell_type": "code",
   "execution_count": null,
   "id": "1d9d9644-8fc5-47b3-8947-fc7ef43c53e8",
   "metadata": {},
   "outputs": [],
   "source": [
    "# Faire référence à une colonne\n",
    "df_arbres['espece']"
   ]
  },
  {
   "cell_type": "code",
   "execution_count": null,
   "id": "8287b4b8-790a-4f92-8481-7645f6efcc49",
   "metadata": {},
   "outputs": [],
   "source": [
    "# Multiplier 2 colonnes\n",
    "print(df_arbres['index'] * df_arbres['nombre'])"
   ]
  },
  {
   "cell_type": "markdown",
   "id": "3282e4d2-f32e-481e-b538-e813dbb161ee",
   "metadata": {
    "slideshow": {
     "slide_type": "slide"
    },
    "tags": []
   },
   "source": [
    "Pour supprimer une colonne dont on n'a plus besoin :"
   ]
  },
  {
   "cell_type": "code",
   "execution_count": null,
   "id": "680c0cd3-1b4d-462a-837d-f5db26f4404b",
   "metadata": {},
   "outputs": [],
   "source": [
    "df_arbres.drop(columns=['index'], inplace = True)\n",
    "print(df_arbres)"
   ]
  },
  {
   "cell_type": "markdown",
   "id": "b859f5e7-842d-4798-9030-27a8173cf1ed",
   "metadata": {
    "slideshow": {
     "slide_type": "slide"
    },
    "tags": []
   },
   "source": [
    "Pour résumer des variables selon un champ catégoriel :"
   ]
  },
  {
   "cell_type": "code",
   "execution_count": null,
   "id": "d0490d76-8a02-4c86-a065-63bccd5b23f9",
   "metadata": {},
   "outputs": [],
   "source": [
    "# Rajoutons quelques lignes à notre tableau\n",
    "df_arbres = pd.concat([\n",
    "    df_arbres, \n",
    "    pd.DataFrame({\n",
    "    'espece': ['chêne', 'charme', 'hêtre', 'cocotier'],\n",
    "    'nombre': [15, 24, 2, 0]\n",
    "    })\n",
    "])\n",
    "\n",
    "print(df_arbres)"
   ]
  },
  {
   "cell_type": "code",
   "execution_count": null,
   "id": "589b5184-da5c-41c1-95b3-9385e001bf6b",
   "metadata": {
    "slideshow": {
     "slide_type": "slide"
    },
    "tags": []
   },
   "outputs": [],
   "source": [
    "# Résumons en faisant une somme par catégorie\n",
    "somme_arbres = df_arbres.groupby('espece').sum()\n",
    "print(somme_arbres)"
   ]
  },
  {
   "cell_type": "markdown",
   "id": "a3d22b08-bf2f-448e-906d-14e13f77a99c",
   "metadata": {
    "slideshow": {
     "slide_type": "slide"
    },
    "tags": []
   },
   "source": [
    "En faisant cela, l'index pandas est devenu une chaine de caractère correspondant au nom du groupe au moment du `groupby`."
   ]
  },
  {
   "cell_type": "code",
   "execution_count": null,
   "id": "22fcc5b4-c69b-4c41-9c78-498a1dd056a1",
   "metadata": {},
   "outputs": [],
   "source": [
    "somme_arbres.index"
   ]
  },
  {
   "cell_type": "code",
   "execution_count": null,
   "id": "d4b6a2c2-1ca0-44e5-ac60-9baaa6c04c04",
   "metadata": {},
   "outputs": [],
   "source": [
    "somme_arbres.loc['charme']"
   ]
  },
  {
   "attachments": {},
   "cell_type": "markdown",
   "id": "e379bf2b-9f3d-4e5d-9ce7-f5f29fc51b2b",
   "metadata": {
    "slideshow": {
     "slide_type": "slide"
    },
    "tags": []
   },
   "source": [
    "Pour réaliser des graphiques, on peux utiliser matplotlib via une méthode des DataFrames pandas :"
   ]
  },
  {
   "cell_type": "code",
   "execution_count": null,
   "id": "3a826809-a9b7-455f-b91d-91f40829db0e",
   "metadata": {},
   "outputs": [],
   "source": [
    "df_arbres.plot.bar(x='espece', title='Nombre d\\'especes')"
   ]
  },
  {
   "cell_type": "code",
   "execution_count": null,
   "id": "7a12e4e8-7404-4173-82ba-97c231da29a9",
   "metadata": {
    "slideshow": {
     "slide_type": "slide"
    },
    "tags": []
   },
   "outputs": [],
   "source": [
    "# Avec des lignes dupliquées\n",
    "mon_histo = df_arbres.plot.bar(x='espece', y='nombre', title='Nombre d\\'individus recensés par espèce')"
   ]
  },
  {
   "cell_type": "code",
   "execution_count": null,
   "id": "f76122bc-1e5f-443e-a5a1-2e3dcf8422c4",
   "metadata": {
    "slideshow": {
     "slide_type": "slide"
    },
    "tags": []
   },
   "outputs": [],
   "source": [
    "# Avec le résumé statistique\n",
    "mon_histo = somme_arbres.sort_values('nombre', ascending=False).plot.bar(y='nombre', title='Nombre d\\'individus recensés par espèce')"
   ]
  },
  {
   "cell_type": "markdown",
   "id": "7fef18f8-2a10-483d-9362-5f8feb639179",
   "metadata": {
    "slideshow": {
     "slide_type": "slide"
    },
    "tags": []
   },
   "source": [
    "## Lire et écrire dans des fichiers avec pandas\n",
    "\n",
    "Pandas peut générer des tableaux de données directement depuis des fichiers : par exemple csv, presse-papier, excel, sql, json, xml, ...\n",
    "Nous allons travailler avec un jeu de données de l'agence ORE (https://www.data.gouv.fr/fr/datasets/consommation-annuelle-delectricite-et-gaz-par-departement-et-par-secteur-dactivite/)."
   ]
  },
  {
   "cell_type": "code",
   "execution_count": null,
   "id": "e7186480-cf4c-4049-826e-7d4e1f9e1eb0",
   "metadata": {},
   "outputs": [],
   "source": [
    "df_conso = pd.read_csv('datasets/conso-elec-gaz-annuelle-par-secteur-dactivite-agregee-departement.csv', sep=';', encoding='UTF-8')\n",
    "print(df_conso)"
   ]
  },
  {
   "cell_type": "markdown",
   "id": "639309bb-a7d3-409e-9b27-5a40e946fe4f",
   "metadata": {
    "slideshow": {
     "slide_type": "slide"
    },
    "tags": []
   },
   "source": [
    "La sauvegarde d'un tableau de données dans un fichier est également extrêmement simple."
   ]
  },
  {
   "cell_type": "code",
   "execution_count": null,
   "id": "47e80cc8-5610-49ed-82fa-e8602a14f590",
   "metadata": {},
   "outputs": [],
   "source": [
    "df_arbres.to_csv('datasets/output/inventaire.csv', sep=',')"
   ]
  },
  {
   "cell_type": "markdown",
   "id": "a8c3cd1a-34c0-423a-a66b-d1791b32545d",
   "metadata": {
    "slideshow": {
     "slide_type": "slide"
    },
    "tags": []
   },
   "source": [
    "## Visualiser des données avec pandas\n",
    "### Table\n",
    "\n",
    "Les tableaux pandas s'intègrent bien dans les Jupyter notebook si on enlève la fonction `print()`."
   ]
  },
  {
   "cell_type": "code",
   "execution_count": null,
   "id": "89bae791-abea-47a8-8caf-16157bef24ac",
   "metadata": {},
   "outputs": [],
   "source": [
    "df_conso"
   ]
  },
  {
   "cell_type": "markdown",
   "id": "67ffa49f-afcc-4cc4-82d1-7d61cf6ffce7",
   "metadata": {
    "slideshow": {
     "slide_type": "slide"
    },
    "tags": []
   },
   "source": [
    "Les méthodes head et tail permettent de récupérer les premières et dernières lignes."
   ]
  },
  {
   "cell_type": "code",
   "execution_count": null,
   "id": "cb8f9429-ad1f-4e05-8363-139b2b19ae28",
   "metadata": {},
   "outputs": [],
   "source": [
    "df_conso.head(15)"
   ]
  },
  {
   "cell_type": "code",
   "execution_count": null,
   "id": "67446124-a2fa-4b01-958c-4b034415a61d",
   "metadata": {
    "slideshow": {
     "slide_type": "slide"
    },
    "tags": []
   },
   "outputs": [],
   "source": [
    "df_conso.tail(15)"
   ]
  },
  {
   "cell_type": "markdown",
   "id": "5a4cb3f0-0095-4498-9024-96b00a3d95c5",
   "metadata": {},
   "source": [
    "On obtient la liste des variables (colonnes) du tableau avec l'attribut ```.columns```"
   ]
  },
  {
   "cell_type": "code",
   "execution_count": null,
   "id": "97b262c6-83f2-45c8-9b21-eddcedddf6c2",
   "metadata": {},
   "outputs": [],
   "source": [
    "df_conso.columns"
   ]
  },
  {
   "cell_type": "markdown",
   "id": "2cca4f2d-5b64-4c0e-a4fd-8f249dde9f6d",
   "metadata": {
    "slideshow": {
     "slide_type": "slide"
    },
    "tags": []
   },
   "source": [
    "On accède aux lignes via leur index grâce à la propriété `.loc[]`"
   ]
  },
  {
   "cell_type": "code",
   "execution_count": null,
   "id": "8e4440bf-18ac-4e12-9629-a466343d53a8",
   "metadata": {},
   "outputs": [],
   "source": [
    "df_conso.loc[30:40]"
   ]
  },
  {
   "cell_type": "code",
   "execution_count": null,
   "id": "3906e0d6-2865-4e34-86b9-9e659b2ba7d0",
   "metadata": {},
   "outputs": [],
   "source": [
    "somme_arbres"
   ]
  },
  {
   "cell_type": "code",
   "execution_count": null,
   "id": "86be5db4-a8a2-4ba0-8402-cda8174869dc",
   "metadata": {
    "slideshow": {
     "slide_type": "slide"
    },
    "tags": []
   },
   "outputs": [],
   "source": [
    "# Cela fonctionne aussi avec les index de type str\n",
    "somme_arbres.loc['charme':'poirier']"
   ]
  },
  {
   "cell_type": "markdown",
   "id": "b7cc8609-773d-4af4-8f64-2fc64a1fa8d3",
   "metadata": {
    "slideshow": {
     "slide_type": "slide"
    },
    "tags": []
   },
   "source": [
    "On peux filtrer les lignes de ces différentes façons :"
   ]
  },
  {
   "cell_type": "code",
   "execution_count": null,
   "id": "fada124b-2b0f-46b3-b155-d057f34e27c9",
   "metadata": {},
   "outputs": [],
   "source": [
    "df_conso[df_conso['filiere'] == \"Electricité\"]"
   ]
  },
  {
   "cell_type": "code",
   "execution_count": null,
   "id": "0d97ead4-5c29-4bea-979a-bcb8cdaf6e02",
   "metadata": {},
   "outputs": [],
   "source": [
    "df_conso.query('consoa > 20000')"
   ]
  },
  {
   "cell_type": "markdown",
   "id": "0a94c7a8-14d5-4551-a730-f446c5244094",
   "metadata": {
    "slideshow": {
     "slide_type": "slide"
    },
    "tags": []
   },
   "source": [
    "### Charts\n",
    "\n",
    "Voici quelques possibilités simples de plot avec pandas. Ces fonctionnalités sont utiles pour visualiser l'état de vos données en cours de traitement, mais je conseille plutôt d'utiliser R et ggplot pour réaliser vos graphiques pour vos rapports et publications.\n",
    "\n",
    "Toutes les possibilités de plotting de pandas sont [détaillées ici](https://pandas.pydata.org/docs/user_guide/visualization.html) et [là](https://pandas.pydata.org/docs/reference/api/pandas.DataFrame.plot.html#pandas-dataframe-plot)."
   ]
  },
  {
   "cell_type": "code",
   "execution_count": null,
   "id": "45c5b321-9ddc-41ab-bb2b-4dfb4972af6f",
   "metadata": {},
   "outputs": [],
   "source": [
    "df_isere = df_conso.query('code_departement == \"38\" and filiere == \"Electricité\" and operateur == \"Enedis\"')\n",
    "df_isere"
   ]
  },
  {
   "cell_type": "code",
   "execution_count": null,
   "id": "2937cf2e-c134-4578-bad4-7529ec56bb4d",
   "metadata": {
    "slideshow": {
     "slide_type": "slide"
    },
    "tags": []
   },
   "outputs": [],
   "source": [
    "df_isere.plot.scatter(x='annee', y='consoa')"
   ]
  },
  {
   "attachments": {},
   "cell_type": "markdown",
   "id": "346125af",
   "metadata": {},
   "source": [
    "> ✍️ Filtrer le dataset df_conso pour ne garder que les données de la filière électricité de l'opérateur Enedis. Tracer des boxplot par année pour une des variables à l'aide de la méthode de DataFrame `.boxplot()`. Utilisez l'aide pour trouver les arguments dont vous avez besoin pour choisir la variable à afficher et la variable catégorielle."
   ]
  },
  {
   "cell_type": "code",
   "execution_count": null,
   "id": "3136ed57",
   "metadata": {},
   "outputs": [],
   "source": []
  },
  {
   "attachments": {},
   "cell_type": "markdown",
   "id": "5fa7cffa",
   "metadata": {},
   "source": [
    "> ✍️ Calculer les moyennes de la consommation annuelle de gaz industrielle par année par région et tracer le résultat sur un graphique."
   ]
  },
  {
   "cell_type": "code",
   "execution_count": null,
   "id": "d90cba75",
   "metadata": {},
   "outputs": [],
   "source": []
  },
  {
   "attachments": {},
   "cell_type": "markdown",
   "id": "cbf7883b",
   "metadata": {},
   "source": [
    "> ✍️ Enregistrer le DataFrame des moyennes dans un fichier csv."
   ]
  },
  {
   "cell_type": "code",
   "execution_count": null,
   "id": "a814d000",
   "metadata": {},
   "outputs": [],
   "source": []
  },
  {
   "attachments": {},
   "cell_type": "markdown",
   "id": "22b8ec33-8293-497f-9d43-0c6c11832147",
   "metadata": {
    "slideshow": {
     "slide_type": "slide"
    },
    "tags": []
   },
   "source": [
    "## Ajouter des géométries spatiales avec geopandas\n",
    "\n",
    "Le package geopandas ajoute la gestion des géométries spatiales à pandas."
   ]
  },
  {
   "cell_type": "code",
   "execution_count": null,
   "id": "49dce553-b516-458b-a0b0-11590217a413",
   "metadata": {},
   "outputs": [],
   "source": [
    "import geopandas as gpd"
   ]
  },
  {
   "cell_type": "markdown",
   "id": "14c004c0-2c58-47c2-909a-46a160216909",
   "metadata": {
    "slideshow": {
     "slide_type": "slide"
    },
    "tags": []
   },
   "source": [
    "### Ouvrir un shapefile comme GeoDataFrame"
   ]
  },
  {
   "cell_type": "code",
   "execution_count": null,
   "id": "ac9c74f8-5dfb-4f77-83a3-a3743f624015",
   "metadata": {},
   "outputs": [],
   "source": [
    "adminexpress = gpd.read_file('datasets/DEPARTEMENT.shp')\n",
    "print(adminexpress.info())"
   ]
  },
  {
   "cell_type": "code",
   "execution_count": null,
   "id": "d9d3db2a-5226-4c71-9ffd-a2b755b73e1d",
   "metadata": {},
   "outputs": [],
   "source": [
    "adminexpress"
   ]
  },
  {
   "cell_type": "markdown",
   "id": "cb84c1c1-ecfb-4fa3-b3e6-c8d667a2553d",
   "metadata": {},
   "source": [
    "### Réaliser une jointure avec les données de l'agence ORE"
   ]
  },
  {
   "cell_type": "markdown",
   "id": "16474d35-1899-410d-aeb6-4200ebb5c8a6",
   "metadata": {},
   "source": [
    "> ✍️ Filtrer les données de l'agence ORE pour n'obtenir la somme de consommation électrique de l'année 2020 par département (tous opérateurs confondus). Utiliser la méthode pd.merge pour faire une jointure avec ADMINEXPRESS (consulter la documentation de pandas)"
   ]
  },
  {
   "cell_type": "code",
   "execution_count": null,
   "id": "1819a2a0-62e0-49c8-b408-5172754566d8",
   "metadata": {},
   "outputs": [],
   "source": []
  },
  {
   "cell_type": "markdown",
   "id": "c30566ff-9060-46bb-808e-c51fca0bb575",
   "metadata": {
    "slideshow": {
     "slide_type": "slide"
    },
    "tags": []
   },
   "source": [
    "### Produire des cartes avec geopandas\n",
    "\n",
    "On peux utiliser un dataset fourni dans le package geopandas comme fond de carte et utiliser matplotlib pour générer une carte."
   ]
  },
  {
   "cell_type": "code",
   "execution_count": null,
   "id": "414f165e-3a06-4c72-89c9-26e7908e3d81",
   "metadata": {},
   "outputs": [],
   "source": [
    "# On peux simplement afficher les géométries de cette façon en colorant les polygones selon la consommation électrique annuelle agricole\n",
    "map = gdf.plot(column='consoa', legend=True)"
   ]
  },
  {
   "cell_type": "code",
   "execution_count": null,
   "id": "4a3cdd1b",
   "metadata": {},
   "outputs": [],
   "source": [
    "# On peux utiliser le package contextily pour ajouter un fond OSM\n",
    "import contextily as cx\n",
    "\n",
    "# Il faut pour cela reprojeter nos points en Pseudo-Mercator\n",
    "gdf_pm = gdf.to_crs(epsg=3857)\n",
    "\n",
    "# On refait ensuite la même carte que précédemment avec la consommation électrique du secteur tertiaire\n",
    "map = gdf_pm.plot(column='consot', legend=True)\n",
    "\n",
    "# Et on ajoute la basemap\n",
    "cx.add_basemap(map)"
   ]
  },
  {
   "attachments": {},
   "cell_type": "markdown",
   "id": "9f87a6f6-027f-4776-8a3c-951e72cffddd",
   "metadata": {
    "slideshow": {
     "slide_type": "slide"
    },
    "tags": []
   },
   "source": [
    "La méthode `explore()` permet de générer rapidement un leaflet. Cette méthode fait appel au package ipyleaflet."
   ]
  },
  {
   "cell_type": "code",
   "execution_count": null,
   "id": "c848b1b6-48b8-422f-9f1c-b505a1ff374b",
   "metadata": {},
   "outputs": [],
   "source": [
    "gdf_pm.explore(     \n",
    "    column=\"consototale\", # Utiliser le champ consototale pour la couleur des polygones\n",
    "    tooltip=[\"NOM\", \"consoa\", 'consoi', 'consot', 'consor', 'consona'], # Sélectionner les variables à afficher dans le tooltip\n",
    "    popup=True, # Montrer toutes les valeurs dans le popup (lorsque l'on clique sur le polygone)\n",
    "    tiles=\"CartoDB positron\", # Choix du fond de carte\n",
    ")"
   ]
  },
  {
   "attachments": {},
   "cell_type": "markdown",
   "id": "3468d4ba-2a43-4485-accf-49a4784da915",
   "metadata": {
    "slideshow": {
     "slide_type": "slide"
    },
    "tags": []
   },
   "source": [
    "### Enregistrer et lire un fichier avec geopandas\n",
    "\n",
    "On peux enregistrer notre tableau de données spatiales sur le disque (shp, gpkg, sql, ...)."
   ]
  },
  {
   "cell_type": "code",
   "execution_count": null,
   "id": "e65fe6c5-84e4-429d-9efb-c0c9baabf4d1",
   "metadata": {},
   "outputs": [],
   "source": [
    "gdf.to_file('datasets/output/conso_electrique_departements_2020.gpkg')\n",
    "gdf = None\n",
    "\n",
    "print(gdf)"
   ]
  },
  {
   "cell_type": "markdown",
   "id": "7429f3d4-eee3-4e1c-be26-96cf5278011d",
   "metadata": {},
   "source": [
    "Et bien sûr, recharger en mémoire un fichier existant."
   ]
  },
  {
   "cell_type": "code",
   "execution_count": null,
   "id": "a9d633d6-c002-4e86-8271-792f0eefeb11",
   "metadata": {},
   "outputs": [],
   "source": [
    "gdf = gpd.read_file('datasets/output/conso_electrique_departements_2020.gpkg')\n",
    "gdf"
   ]
  },
  {
   "cell_type": "markdown",
   "id": "3c8f5fc3-d64c-48e5-b085-780e4791cec4",
   "metadata": {
    "slideshow": {
     "slide_type": "slide"
    },
    "tags": []
   },
   "source": [
    "### Pour aller plus loin avec geopandas\n",
    "\n",
    "Geopandas permet de faire énormément de chose que l'on fait classiquement dans un SIG avec des méthodes très simples à utiliser : jointures spatiales, buffer, calculs de distance, etc.\n",
    "\n",
    "Pour en savoir plus, [rendez-vous dans la doc !](https://geopandas.org/en/stable/getting_started/introduction.html)\n",
    "\n",
    "#### TP Bonus\n",
    "\n",
    "> ✍️ Réaliser une carte de l'évolution globale de la consommation électrique annuelle sur la période 2011-2021 par département, pour un secteur d'activité au choix"
   ]
  },
  {
   "cell_type": "code",
   "execution_count": null,
   "id": "def1cc5d-78bf-4de6-ab1a-f4957e7b915e",
   "metadata": {},
   "outputs": [],
   "source": []
  }
 ],
 "metadata": {
  "kernelspec": {
   "display_name": "Python 3 (ipykernel)",
   "language": "python",
   "name": "python3"
  },
  "language_info": {
   "codemirror_mode": {
    "name": "ipython",
    "version": 3
   },
   "file_extension": ".py",
   "mimetype": "text/x-python",
   "name": "python",
   "nbconvert_exporter": "python",
   "pygments_lexer": "ipython3",
   "version": "3.10.12"
  },
  "vscode": {
   "interpreter": {
    "hash": "50311241a5c10afd3d6254552579c5b4c0c03ce3da3bbd01d84b895efee58118"
   }
  }
 },
 "nbformat": 4,
 "nbformat_minor": 5
}
