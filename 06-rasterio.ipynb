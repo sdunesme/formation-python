{
 "cells": [
  {
   "cell_type": "markdown",
   "id": "e15de822-4297-4d8a-9c42-fdc9fa89b18e",
   "metadata": {},
   "source": [
    "# Librairie gestion de rasters : rasterio\n",
    "\n",
    "Ce cours est téléchargeable à l'adresse https://github.com/sdunesme/formation-python"
   ]
  },
  {
   "attachments": {},
   "cell_type": "markdown",
   "id": "6643f31b-c079-431a-b181-0a897effe3f7",
   "metadata": {},
   "source": [
    "> Geographic information systems use GeoTIFF and other formats to organize and store gridded raster datasets such as satellite imagery and terrain models. Rasterio reads and writes these formats and provides a Python API based on Numpy N-dimensional arrays and GeoJSON.\n",
    "\n",
    "N'hésitez pas à aller lire [la documentation de rasterio](https://rasterio.readthedocs.io/en/latest/).\n",
    "\n",
    "\n",
    "L'image Landsat utilisée dans cet exemple est téléchargeable à l'adresse https://filesender.ens-lyon.fr/?vid=72409910-a052-14e9-6359-000075b7f6e0 (lien temporaire). Pour un usage sur DataCamp, téléchargez le zip sur votre PC, décompressez le puis décompressez chaque bande. Uploadez les .tif sur votre Workspace DataCamp, dans le dossier datasets/landsat (créez le dossier si besoin)."
   ]
  },
  {
   "cell_type": "code",
   "execution_count": 1,
   "id": "9b323194-4dd2-40e2-8e20-39dfd0159aed",
   "metadata": {},
   "outputs": [],
   "source": [
    "import rasterio as rio"
   ]
  },
  {
   "attachments": {},
   "cell_type": "markdown",
   "id": "2a87d7ff-2137-47bc-b587-756d6de60b72",
   "metadata": {},
   "source": [
    "## Ouverture d'une donnée raster\n",
    "\n",
    "On ouvre un dataset (DatasetReader) avec la fonction rio.open(). Un dataset n'occupe que très peu de mémoire vive : seules les en-têtes du fichier sont lues, pas les données matricielles. "
   ]
  },
  {
   "cell_type": "code",
   "execution_count": null,
   "id": "b02b7e43-0ddb-4ef6-8a55-3dad3009d1d9",
   "metadata": {},
   "outputs": [],
   "source": [
    "import sys\n",
    "\n",
    "###\n",
    "# Sans contexte\n",
    "src = rio.open('datasets/landsat/p196r028_7dt20010721_z31_10.tif')\n",
    "'''\n",
    "On utilise le dataset ici\n",
    "'''\n",
    "src.close() # Il faut penser à fermer le dataset pour libérer le fichier\n",
    "\n",
    "###\n",
    "# En utilisant un contexte (méthode à préférer)\n",
    "with rio.open('datasets/landsat/p196r028_7dt20010721_z31_10.tif') as src:\n",
    "    print('crs:', src.crs)\n",
    "    print('bbox:', src.bounds)\n",
    "    print('nombre de bandes:', src.count)\n",
    "    print('taille:', src.shape)\n",
    "    print('---')\n",
    "    print('profile:', src.profile)\n",
    "    print('---')\n",
    "    print('RAM utilisée par le dataset (Mb):', sys.getsizeof(src)/1000000)"
   ]
  },
  {
   "cell_type": "markdown",
   "id": "c71d0396-879b-47f4-aafa-63af45212210",
   "metadata": {},
   "source": [
    "Pour récupérer des données matricielles, on utilise la méthode `.read()` du dataset en précisant la bande si on souhaite n'en ouvrir qu'une."
   ]
  },
  {
   "cell_type": "code",
   "execution_count": null,
   "id": "234eb8b6-31a1-4014-8d70-7654884b1840",
   "metadata": {},
   "outputs": [],
   "source": [
    "# On ouvre le dataset avec un contexte\n",
    "with rio.open('datasets/landsat/p196r028_7dt20010721_z31_10.tif') as src:\n",
    "    band1 = src.read(1) # On charge le contenu de la bande 1 en mémoire, dans la variable band1\n",
    "    profile = src.profile # On charge également le profile en mémoire pour pouvoir le réutiliser plus tard\n",
    "    \n",
    "    print('RAM utilisée par le dataset (Mb):', sys.getsizeof(src)/1000000)\n",
    "# On quitte le contexte : le dataset est fermé et le fichier libéré, mais l'image et le profile restent chargés en mémoire\n",
    "\n",
    "print('---')\n",
    "print(src)\n",
    "print('RAM utilisée par l\\'image band1 (Mb):', sys.getsizeof(band1)/1000000)\n",
    "print('profile:', profile)"
   ]
  },
  {
   "cell_type": "code",
   "execution_count": null,
   "id": "b1d5eb21-db8e-4054-84bb-18a2cb72c99a",
   "metadata": {},
   "outputs": [],
   "source": [
    "# La bande 1 a été chargée en mémoire sous la forme d'un tableau numpy\n",
    "band1"
   ]
  },
  {
   "cell_type": "markdown",
   "id": "5a14ac60-a6e3-46bf-8b75-204cb5b746f1",
   "metadata": {},
   "source": [
    "On peux afficher cette image avec la fonction `show()` du module plot du package rasterio. Cette fonction est une \"surcouche\" à matplotlib."
   ]
  },
  {
   "cell_type": "code",
   "execution_count": null,
   "id": "4937a956-8e63-4dcc-b6d9-4b8d4ac204b8",
   "metadata": {},
   "outputs": [],
   "source": [
    "from rasterio.plot import show\n",
    "\n",
    "show(band1)"
   ]
  },
  {
   "cell_type": "markdown",
   "id": "43d83b11-7505-45c2-aab8-69c8f1a274fa",
   "metadata": {},
   "source": [
    "## Fusionner des bandes\n",
    "\n",
    "Notre dataset landsat est composé de 4 bandes livrées dans des fichiers tiff séparés. On peux les fusionner avec rasterio.\n",
    "\n",
    "La première étape est de charger les 4 bandes en mémoire."
   ]
  },
  {
   "cell_type": "code",
   "execution_count": null,
   "id": "773f2c8e-556d-4e25-bb8e-409907920096",
   "metadata": {},
   "outputs": [],
   "source": [
    "# On créé un dictionnaire imbriqué dans lequel on va stocker le chemin du fichier pour chaque bande\n",
    "liste_bandes = {\n",
    "    'band1': {'fichier': 'datasets/landsat/p196r028_7dt20010721_z31_10.tif'},\n",
    "    'band2': {'fichier': 'datasets/landsat/p196r028_7dt20010721_z31_20.tif'},\n",
    "    'band3': {'fichier': 'datasets/landsat/p196r028_7dt20010721_z31_30.tif'},\n",
    "    'band4': {'fichier': 'datasets/landsat/p196r028_7dt20010721_z31_40.tif'},\n",
    "}\n",
    "\n",
    "# Maintenant, on va charger en mémoire les données matricielles de chaque bande\n",
    "# Pour cela, on va itérer sur les clés du dictionnaire liste_bandes\n",
    "for bnd in liste_bandes:\n",
    "    # On récupère le chemin du fichier correspondant à la bande actuellement traitée\n",
    "    chemin_fichier = liste_bandes[bnd]['fichier']\n",
    "    \n",
    "    # On ouvre le dataset correspondant\n",
    "    with rio.open(chemin_fichier, 'r') as src:\n",
    "        \n",
    "        # On charge l'image en mémoire dans le dictionnaire, sous un nouvelle clé \"img\"\n",
    "        liste_bandes[bnd]['img'] = src.read(1)\n",
    "        \n",
    "print(liste_bandes)"
   ]
  },
  {
   "cell_type": "markdown",
   "id": "12790d8f-befe-4299-8dad-5924749f3d47",
   "metadata": {},
   "source": [
    "On va maintenant créer un nouveau fichier"
   ]
  },
  {
   "cell_type": "code",
   "execution_count": 38,
   "id": "8a8e80e5-6ede-4003-a33c-88369c5ce937",
   "metadata": {},
   "outputs": [],
   "source": [
    "# Il faut d'abord faire une modification sur le profil de l'image : elle n'a plus une seule bande mais 4\n",
    "# Tout le reste (projection, driver, taille, etc.) ne change pas\n",
    "profile['count'] = 4\n",
    "profile['nodata'] = 0\n",
    "\n",
    "# On ouvre ensuite un nouveau dataset en mode 'w' (write)\n",
    "# On \"déplie\" le dictionnaire profile pour transformer tout son contenu en arguments nommés\n",
    "with rio.open('datasets/output/landsat.tif', 'w', **profile) as dst:\n",
    "    \n",
    "    # On écrit les bandes chargées en mémoire dans le fichier\n",
    "    dst.write(liste_bandes['band1']['img'], 1)\n",
    "    dst.write(liste_bandes['band2']['img'], 2)\n",
    "    dst.write(liste_bandes['band3']['img'], 3)\n",
    "    dst.write(liste_bandes['band4']['img'], 4)\n",
    "# On quitte le contexte, le dataset est fermé et le fichier est libéré \n",
    "\n",
    "# On pense à décharger la mémoire si on n'a plus besoin de l'image\n",
    "liste_bandes = None"
   ]
  },
  {
   "cell_type": "markdown",
   "id": "19b87abe-ad88-4303-a72c-24a68558d22b",
   "metadata": {},
   "source": [
    "Si on n'a pas d'image \"modèle\" (c'est à dire que l'on créé une nouvelle image de toute pièce), il faudra définir le profil manuellement."
   ]
  },
  {
   "cell_type": "code",
   "execution_count": null,
   "id": "712bd725-f5fd-49ea-a946-4ced6937be4f",
   "metadata": {},
   "outputs": [],
   "source": [
    "from rasterio.crs import CRS\n",
    "from rasterio.transform import Affine\n",
    "\n",
    "profile = {\n",
    "    'driver': 'GTiff', # Le driver correspondant au format image souhaité (voir les drivers disponibles ici: https://gdal.org/drivers/raster/index.html)\n",
    "    'dtype': 'uint8', # Le datatype (uint8, utin16, float32, etc.)\n",
    "    'nodata': 0, # La valeur nodata\n",
    "    'width': 8433, # Le nombre de pixels de l'image en largeur\n",
    "    'height': 7443, # La nombre de pixels de l'image en hauteur\n",
    "    'count': 1, # Le nombre de bandes\n",
    "    'crs': CRS.from_epsg(32631), # La projection (en utilisant le code EPSG)\n",
    "    'transform': Affine(30.0, 0.0, 593985.0, 0.0, -30.0, 5213355.0), # La fonction de transformation affine pour passer du référentiel image au référentiel géographique\n",
    "}\n",
    "\n",
    "?Affine"
   ]
  },
  {
   "cell_type": "markdown",
   "id": "45c2f573-f501-4ca2-8e44-5b45e36f86f9",
   "metadata": {},
   "source": [
    "On peux ré-ouvrir l'image et charger plusieurs bandes dans un seul tableau numpy."
   ]
  },
  {
   "cell_type": "code",
   "execution_count": null,
   "id": "ef96ae3b-6e2f-4a80-8528-a0b8850a62b3",
   "metadata": {},
   "outputs": [],
   "source": [
    "import rasterio as rio\n",
    "from rasterio.plot import show\n",
    "\n",
    "with rio.open('datasets/output/landsat.tif', 'r') as src:\n",
    "    img = src.read()\n",
    "    \n",
    "print('RAM utilisée par l\\'image img (Mb):', sys.getsizeof(img)/1000000)\n",
    "print(img.shape) # On affiche les dimensions de l'image\n",
    "\n",
    "show(img[0:3]) # On affiche les 3 premières bandes"
   ]
  },
  {
   "cell_type": "code",
   "execution_count": null,
   "id": "0ca41571-7966-45d4-a309-ce1b3fb10212",
   "metadata": {},
   "outputs": [],
   "source": [
    "# On peux choisir l'ordre d'affichage des bandes comme ceci\n",
    "show([img[3], img[1], img[2]])"
   ]
  },
  {
   "cell_type": "code",
   "execution_count": null,
   "id": "6ce81168-8034-4f7b-b71d-09ee216684d2",
   "metadata": {},
   "outputs": [],
   "source": [
    "# On pense à décharger l'image de la mémoire vive quand on a terminé de travailler dessus\n",
    "img = None\n",
    "print('RAM utilisée par l\\'image img (Mb):', sys.getsizeof(img)/1000000)"
   ]
  },
  {
   "cell_type": "markdown",
   "id": "75c7eaf9-131d-4fd6-8ba2-ed326ba8a4f3",
   "metadata": {},
   "source": [
    "## Masquer un raster avec un shapefile"
   ]
  },
  {
   "cell_type": "code",
   "execution_count": null,
   "id": "2b7b63c1-c40d-4bfe-9e25-974201d194fc",
   "metadata": {},
   "outputs": [],
   "source": [
    "import geopandas as gpd\n",
    "\n",
    "mask_df = gpd.read_file('datasets/masque_rhone.gpkg')\n",
    "mask_df"
   ]
  },
  {
   "cell_type": "code",
   "execution_count": null,
   "id": "1ceef3f6-dadc-470e-a704-dbb96fc8b647",
   "metadata": {},
   "outputs": [],
   "source": [
    "mask_polygon = mask_df['geometry'].loc[0]\n",
    "mask_polygon"
   ]
  },
  {
   "cell_type": "code",
   "execution_count": null,
   "id": "a1455e52-0953-4d5c-a781-6da84d7b904c",
   "metadata": {},
   "outputs": [],
   "source": [
    "from rasterio.mask import mask\n",
    "\n",
    "with rio.open(\"datasets/output/landsat.tif\") as src:\n",
    "    masked_img, masked_transform = mask(src, [mask_polygon], crop=True)\n",
    "    profile = src.profile\n",
    "    \n",
    "show(masked_img)"
   ]
  },
  {
   "cell_type": "markdown",
   "id": "a1e86bf4-ee34-4ef5-94df-52570449b831",
   "metadata": {},
   "source": [
    "Pour enregistrer cette image, il faut faire des modifications dans le profil: la taille et la tranformation affine ont changé. La méthode `.update()` permet de mettre à jour plusieurs valeurs d'un dictionnaire à partir d'un autre."
   ]
  },
  {
   "cell_type": "code",
   "execution_count": 42,
   "id": "822ef1db-d6b5-4284-8106-026d34724b4d",
   "metadata": {},
   "outputs": [],
   "source": [
    "profile.update({\n",
    "    \"height\": masked_img.shape[1],\n",
    "    \"width\": masked_img.shape[2],\n",
    "    \"transform\": masked_transform\n",
    "})\n",
    "\n",
    "with rio.open('datasets/output/landsat_masked.tif', 'w', **profile) as dst:\n",
    "    # On peux écrire les 3 bandes d'un coup\n",
    "    dst.write(masked_img)"
   ]
  },
  {
   "cell_type": "markdown",
   "id": "3edccf35-6357-44f3-9a74-1905a3adc192",
   "metadata": {},
   "source": [
    "## Calculatrice raster\n",
    "\n",
    "Il n'y a pas à proprement parler de calculatrice raster implémentée dans rasterio, mais cela n'est pas vraiment nécessaire vu la simplicité à effectuer ce genre d'opérations avec les tableaux numpy :"
   ]
  },
  {
   "cell_type": "code",
   "execution_count": null,
   "id": "b968b04d-226b-4bae-94a2-64b6767335fe",
   "metadata": {},
   "outputs": [],
   "source": [
    "import numpy as np\n",
    "\n",
    "# On transforme nos pixels entier en flottants\n",
    "float_img = masked_img.astype(np.float32)\n",
    "\n",
    "# On remplace tous les 0 par des NaN pour éviter les divisions par 0\n",
    "float_img[float_img == 0.0] = np.nan\n",
    "\n",
    "# On fait notre calcul\n",
    "ndvi = (float_img[3] - float_img[0]) / (float_img[3] + float_img[0])\n",
    "\n",
    "show(ndvi)"
   ]
  },
  {
   "cell_type": "code",
   "execution_count": 60,
   "id": "aa7487da-309b-452e-aafc-58aca80f268b",
   "metadata": {},
   "outputs": [],
   "source": [
    "# Pour écrire l'image sur le disque, il faut mettre à jour le profil\n",
    "profile.update({\n",
    "    'count': 1,\n",
    "    'dtype': 'float32',\n",
    "})\n",
    "\n",
    "with rio.open('datasets/output/ndvi.tif', 'w', **profile) as dst:\n",
    "    # On peux écrire les 3 bandes d'un coup\n",
    "    dst.write(ndvi, 1)"
   ]
  },
  {
   "cell_type": "markdown",
   "id": "e2ddf758-73b1-431d-9e5b-e9d8d8aeecdd",
   "metadata": {},
   "source": [
    "## Pour aller plus loin avec rasterio\n",
    "\n"
   ]
  },
  {
   "cell_type": "markdown",
   "id": "62b0c386-17d1-4703-8e32-13aeb3ccfe3e",
   "metadata": {},
   "source": [
    "Rasterio gère nativement beaucoup d'autres opérations que l'on est amené à faire régulièrement avec des rasters : reprojections, géoréférencement, resampling, etc. \n",
    "\n",
    "La lecture par bloc des images volumineuses qui ne rentrent pas en entier dans la mémoire vive est également impémentée et relativement simple d'utilisation. \n",
    "\n",
    "Rendez-vous dans [la documentation de rasterio](https://rasterio.readthedocs.io/en/latest/) pour en savoir plus."
   ]
  }
 ],
 "metadata": {
  "kernelspec": {
   "display_name": "Python 3",
   "language": "python",
   "name": "python3"
  },
  "language_info": {
   "codemirror_mode": {
    "name": "ipython",
    "version": 3
   },
   "file_extension": ".py",
   "mimetype": "text/x-python",
   "name": "python",
   "nbconvert_exporter": "python",
   "pygments_lexer": "ipython3",
   "version": "3.8.10 (default, Nov 14 2022, 12:59:47) \n[GCC 9.4.0]"
  },
  "vscode": {
   "interpreter": {
    "hash": "916dbcbb3f70747c44a77c7bcd40155683ae19c65e1c03b4aa3499c5328201f1"
   }
  }
 },
 "nbformat": 4,
 "nbformat_minor": 5
}
