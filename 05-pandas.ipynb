{
 "cells": [
  {
   "attachments": {},
   "cell_type": "markdown",
   "id": "345fabd1-b310-4458-a1a4-bab4528aa3cd",
   "metadata": {
    "slideshow": {
     "slide_type": "slide"
    },
    "tags": []
   },
   "source": [
    "# Librairie tableaux, statistiques et data science : pandas\n",
    "\n",
    "> pandas is a fast, powerful, flexible and easy to use open source data analysis and manipulation tool,\n",
    "built on top of the Python programming language."
   ]
  },
  {
   "cell_type": "code",
   "execution_count": null,
   "id": "d583041a-d819-4ebc-9077-bb92b496d6f3",
   "metadata": {},
   "outputs": [],
   "source": [
    "# On importe le module principal du package et on affiche la version de pandas\n",
    "import pandas as pd\n",
    "print(pd.__version__)"
   ]
  },
  {
   "cell_type": "code",
   "execution_count": null,
   "id": "6236cf88-ca70-4912-8e89-403acf9fcd40",
   "metadata": {
    "slideshow": {
     "slide_type": "fragment"
    },
    "tags": []
   },
   "outputs": [],
   "source": [
    "# On affiche l'aide\n",
    "?pd"
   ]
  },
  {
   "cell_type": "markdown",
   "id": "16a64ba3-2a97-47cb-8c1c-7f492a51a947",
   "metadata": {
    "slideshow": {
     "slide_type": "slide"
    },
    "tags": []
   },
   "source": [
    "## Nouveaux types d'objets fournis par pandas\n",
    "\n",
    "Pandas fourni principalement le type (classe) d'objet `DataFrame`."
   ]
  },
  {
   "cell_type": "code",
   "execution_count": null,
   "id": "91aaeb3c-22ed-4658-b39f-ff1c847b76c4",
   "metadata": {},
   "outputs": [],
   "source": [
    "# On créé un DataFrame vide qu'on enregistre dans la variable df, puis on l'affiche\n",
    "df = pd.DataFrame()\n",
    "print(df)"
   ]
  },
  {
   "cell_type": "markdown",
   "id": "a5975d9c-12d5-4ce5-81da-9b89f2f6b5ce",
   "metadata": {
    "slideshow": {
     "slide_type": "slide"
    },
    "tags": []
   },
   "source": [
    "On peux créer un DataFrame à partir d'un dictionnaire existant. Les clés du dictionnaire doivent correspondre aux colonnes, et les valeurs aux lignes."
   ]
  },
  {
   "cell_type": "code",
   "execution_count": null,
   "id": "34f72182-4a21-46de-977d-a9fc2926ca23",
   "metadata": {},
   "outputs": [],
   "source": [
    "inventaire_arbres = {\n",
    "    'espece': ['chêne', 'charme', 'hêtre', 'cocotier'],\n",
    "    'nombre': [15, 24, 2, 0]\n",
    "}\n",
    "\n",
    "df_arbres = pd.DataFrame(inventaire_arbres)\n",
    "print(df_arbres)"
   ]
  },
  {
   "cell_type": "markdown",
   "id": "aa44d24c-241d-4cca-82e2-d2e5d7389f78",
   "metadata": {
    "slideshow": {
     "slide_type": "slide"
    },
    "tags": []
   },
   "source": [
    "La [pandas cheatsheet](https://pandas.pydata.org/Pandas_Cheat_Sheet.pdf) résume beaucoup de méthodes et à avoir toujours sous la main.\n",
    "\n",
    "Par exemple, pour ajouter des lignes à un DataFrame :"
   ]
  },
  {
   "cell_type": "code",
   "execution_count": null,
   "id": "e0e306fb-f4f1-4e08-8672-b72705d62e7b",
   "metadata": {},
   "outputs": [],
   "source": [
    "inventaire_nouveaux_arbres = {\n",
    "    'espece': ['pommier', 'poirier', 'bananier', 'manguier'],\n",
    "    'nombre': [15, 24, 54, 26]\n",
    "}\n",
    "\n",
    "# En réalité, on va concaténer deux DataFrames ayant les mêmes colonnes\n",
    "df_nouveaux_arbres = pd.DataFrame(inventaire_nouveaux_arbres)\n",
    "df_arbres = pd.concat([df_arbres, df_nouveaux_arbres])\n",
    "\n",
    "print(df_arbres)"
   ]
  },
  {
   "cell_type": "markdown",
   "id": "2aaeb5b0-5512-4cb8-abe9-e3519588721c",
   "metadata": {
    "slideshow": {
     "slide_type": "slide"
    },
    "tags": []
   },
   "source": [
    "Notez qu'après une concaténation, les index pandas ne sont plus uniques, contrairement aux index Python qui le sont toujours."
   ]
  },
  {
   "cell_type": "code",
   "execution_count": null,
   "id": "5f9b6a27-a97a-4bb4-898e-d1dc927b7a6e",
   "metadata": {},
   "outputs": [],
   "source": [
    "print(df_arbres.loc[1])\n",
    "print('---')\n",
    "print(df_arbres.iloc[1])"
   ]
  },
  {
   "cell_type": "markdown",
   "id": "befc8f0a-4491-4ff3-88fd-c55200b3227f",
   "metadata": {
    "slideshow": {
     "slide_type": "slide"
    },
    "tags": []
   },
   "source": [
    "On peux reset les index pandas. Une colonne index sera alors créée pour conserver les anciens index."
   ]
  },
  {
   "cell_type": "code",
   "execution_count": null,
   "id": "bd18ab76-457a-4e99-afb4-2298a713d14c",
   "metadata": {},
   "outputs": [],
   "source": [
    "df_arbres.reset_index(inplace = True)\n",
    "print(df_arbres)"
   ]
  },
  {
   "attachments": {},
   "cell_type": "markdown",
   "id": "f871dd47",
   "metadata": {},
   "source": [
    "> ✍️ Transformer le dictionnaire ci-dessous en DataFrame pandas."
   ]
  },
  {
   "cell_type": "code",
   "execution_count": null,
   "id": "797510c5",
   "metadata": {},
   "outputs": [],
   "source": [
    "infos_personnelles = {\n",
    "    'id': ['jdupont', 'gabitbol'],\n",
    "    'nom': ['Dupont', 'Abitbol'],\n",
    "    'prenom': ['Jean', 'Georges'],\n",
    "    'age': [37, 71],\n",
    "}\n",
    "\n"
   ]
  },
  {
   "attachments": {},
   "cell_type": "markdown",
   "id": "d50dc069",
   "metadata": {},
   "source": [
    "> ✍️ Ajouter une personne à ce tableau en utilisant la fonction concat(). Faire en sorte que les index soient uniques pour chaque ligne."
   ]
  },
  {
   "cell_type": "code",
   "execution_count": null,
   "id": "d32e2658",
   "metadata": {},
   "outputs": [],
   "source": []
  },
  {
   "cell_type": "markdown",
   "id": "2aaa5ae9-8902-4732-9513-edb4cb8ad904",
   "metadata": {
    "slideshow": {
     "slide_type": "slide"
    },
    "tags": []
   },
   "source": [
    "Les tableaux pandas sont dits \"tidy\". Exemple :"
   ]
  },
  {
   "cell_type": "code",
   "execution_count": null,
   "id": "1d9d9644-8fc5-47b3-8947-fc7ef43c53e8",
   "metadata": {},
   "outputs": [],
   "source": [
    "# Faire référence à une colonne\n",
    "df_arbres['espece']"
   ]
  },
  {
   "cell_type": "code",
   "execution_count": null,
   "id": "8287b4b8-790a-4f92-8481-7645f6efcc49",
   "metadata": {},
   "outputs": [],
   "source": [
    "# Multiplier 2 colonnes\n",
    "print(df_arbres['index'] * df_arbres['nombre'])"
   ]
  },
  {
   "cell_type": "markdown",
   "id": "3282e4d2-f32e-481e-b538-e813dbb161ee",
   "metadata": {
    "slideshow": {
     "slide_type": "slide"
    },
    "tags": []
   },
   "source": [
    "Pour supprimer une colonne dont on n'a plus besoin :"
   ]
  },
  {
   "cell_type": "code",
   "execution_count": null,
   "id": "680c0cd3-1b4d-462a-837d-f5db26f4404b",
   "metadata": {},
   "outputs": [],
   "source": [
    "df_arbres.drop(columns=['index'], inplace = True)\n",
    "print(df_arbres)"
   ]
  },
  {
   "cell_type": "markdown",
   "id": "b859f5e7-842d-4798-9030-27a8173cf1ed",
   "metadata": {
    "slideshow": {
     "slide_type": "slide"
    },
    "tags": []
   },
   "source": [
    "Pour résumer des variables selon un champ catégoriel :"
   ]
  },
  {
   "cell_type": "code",
   "execution_count": null,
   "id": "d0490d76-8a02-4c86-a065-63bccd5b23f9",
   "metadata": {},
   "outputs": [],
   "source": [
    "# Rajoutons quelques lignes à notre tableau\n",
    "df_arbres = pd.concat([\n",
    "    df_arbres, \n",
    "    pd.DataFrame({\n",
    "    'espece': ['chêne', 'charme', 'hêtre', 'cocotier'],\n",
    "    'nombre': [15, 24, 2, 0]\n",
    "    })\n",
    "])\n",
    "\n",
    "print(df_arbres)"
   ]
  },
  {
   "cell_type": "code",
   "execution_count": null,
   "id": "589b5184-da5c-41c1-95b3-9385e001bf6b",
   "metadata": {
    "slideshow": {
     "slide_type": "slide"
    },
    "tags": []
   },
   "outputs": [],
   "source": [
    "# Résumons en faisant une somme par catégorie\n",
    "somme_arbres = df_arbres.groupby('espece').sum()\n",
    "print(somme_arbres)"
   ]
  },
  {
   "cell_type": "markdown",
   "id": "a3d22b08-bf2f-448e-906d-14e13f77a99c",
   "metadata": {
    "slideshow": {
     "slide_type": "slide"
    },
    "tags": []
   },
   "source": [
    "En faisant cela, l'index pandas est devenu une chaine de caractère correspondant au nom du groupe au moment du `groupby`."
   ]
  },
  {
   "cell_type": "code",
   "execution_count": null,
   "id": "22fcc5b4-c69b-4c41-9c78-498a1dd056a1",
   "metadata": {},
   "outputs": [],
   "source": [
    "somme_arbres.index"
   ]
  },
  {
   "cell_type": "code",
   "execution_count": null,
   "id": "d4b6a2c2-1ca0-44e5-ac60-9baaa6c04c04",
   "metadata": {},
   "outputs": [],
   "source": [
    "somme_arbres.loc['charme']"
   ]
  },
  {
   "attachments": {},
   "cell_type": "markdown",
   "id": "e379bf2b-9f3d-4e5d-9ce7-f5f29fc51b2b",
   "metadata": {
    "slideshow": {
     "slide_type": "slide"
    },
    "tags": []
   },
   "source": [
    "Pour réaliser des graphiques, on peux utiliser matplotlib via une méthode des DataFrames pandas :"
   ]
  },
  {
   "cell_type": "code",
   "execution_count": null,
   "id": "3a826809-a9b7-455f-b91d-91f40829db0e",
   "metadata": {},
   "outputs": [],
   "source": [
    "df_arbres.plot.bar(x='espece', title='Nombre d\\'especes')"
   ]
  },
  {
   "cell_type": "code",
   "execution_count": null,
   "id": "7a12e4e8-7404-4173-82ba-97c231da29a9",
   "metadata": {
    "slideshow": {
     "slide_type": "slide"
    },
    "tags": []
   },
   "outputs": [],
   "source": [
    "# Avec des lignes dupliquées\n",
    "mon_histo = df_arbres.plot.bar(x='espece', y='nombre', title='Nombre d\\'individus recensés par espèce')"
   ]
  },
  {
   "cell_type": "code",
   "execution_count": null,
   "id": "f76122bc-1e5f-443e-a5a1-2e3dcf8422c4",
   "metadata": {
    "slideshow": {
     "slide_type": "slide"
    },
    "tags": []
   },
   "outputs": [],
   "source": [
    "# Avec le résumé statistique\n",
    "mon_histo = somme_arbres.sort_values('nombre', ascending=False).plot.bar(y='nombre', title='Nombre d\\'individus recensés par espèce')"
   ]
  },
  {
   "cell_type": "markdown",
   "id": "7fef18f8-2a10-483d-9362-5f8feb639179",
   "metadata": {
    "slideshow": {
     "slide_type": "slide"
    },
    "tags": []
   },
   "source": [
    "## Lire et écrire dans des fichiers avec pandas\n",
    "\n",
    "Pandas peut générer des tableaux de données directement depuis des fichiers : par exemple csv, presse-papier, excel, sql, json, xml, ..."
   ]
  },
  {
   "cell_type": "code",
   "execution_count": null,
   "id": "e7186480-cf4c-4049-826e-7d4e1f9e1eb0",
   "metadata": {},
   "outputs": [],
   "source": [
    "df_iris = pd.read_csv('datasets/iris.csv', sep=',', encoding='UTF-8')\n",
    "print(df_iris)"
   ]
  },
  {
   "cell_type": "markdown",
   "id": "639309bb-a7d3-409e-9b27-5a40e946fe4f",
   "metadata": {
    "slideshow": {
     "slide_type": "slide"
    },
    "tags": []
   },
   "source": [
    "La sauvegarde d'un tableau de données dans un fichier est également extrêmement simple."
   ]
  },
  {
   "cell_type": "code",
   "execution_count": 45,
   "id": "47e80cc8-5610-49ed-82fa-e8602a14f590",
   "metadata": {},
   "outputs": [],
   "source": [
    "df_arbres.to_csv('datasets/output/inventaire.csv', sep=',')"
   ]
  },
  {
   "cell_type": "markdown",
   "id": "a8c3cd1a-34c0-423a-a66b-d1791b32545d",
   "metadata": {
    "slideshow": {
     "slide_type": "slide"
    },
    "tags": []
   },
   "source": [
    "## Visualiser des données avec pandas\n",
    "### Table\n",
    "\n",
    "Les tableaux pandas s'intègrent bien dans les Jupyter notebook si on enlève la fonction `print()`."
   ]
  },
  {
   "cell_type": "code",
   "execution_count": null,
   "id": "89bae791-abea-47a8-8caf-16157bef24ac",
   "metadata": {},
   "outputs": [],
   "source": [
    "df_iris"
   ]
  },
  {
   "cell_type": "markdown",
   "id": "67ffa49f-afcc-4cc4-82d1-7d61cf6ffce7",
   "metadata": {
    "slideshow": {
     "slide_type": "slide"
    },
    "tags": []
   },
   "source": [
    "Les méthodes head et tail permettent de récupérer les premières et dernières lignes."
   ]
  },
  {
   "cell_type": "code",
   "execution_count": null,
   "id": "cb8f9429-ad1f-4e05-8363-139b2b19ae28",
   "metadata": {},
   "outputs": [],
   "source": [
    "df_iris.head(15)"
   ]
  },
  {
   "cell_type": "code",
   "execution_count": null,
   "id": "67446124-a2fa-4b01-958c-4b034415a61d",
   "metadata": {
    "slideshow": {
     "slide_type": "slide"
    },
    "tags": []
   },
   "outputs": [],
   "source": [
    "df_iris.tail(15)"
   ]
  },
  {
   "cell_type": "markdown",
   "id": "2cca4f2d-5b64-4c0e-a4fd-8f249dde9f6d",
   "metadata": {
    "slideshow": {
     "slide_type": "slide"
    },
    "tags": []
   },
   "source": [
    "On accède aux lignes via leur index grâce à la propriété `.loc[]`"
   ]
  },
  {
   "cell_type": "code",
   "execution_count": null,
   "id": "8e4440bf-18ac-4e12-9629-a466343d53a8",
   "metadata": {},
   "outputs": [],
   "source": [
    "df_iris.loc[30:40]"
   ]
  },
  {
   "cell_type": "code",
   "execution_count": null,
   "id": "3906e0d6-2865-4e34-86b9-9e659b2ba7d0",
   "metadata": {},
   "outputs": [],
   "source": [
    "somme_arbres"
   ]
  },
  {
   "cell_type": "code",
   "execution_count": null,
   "id": "86be5db4-a8a2-4ba0-8402-cda8174869dc",
   "metadata": {
    "slideshow": {
     "slide_type": "slide"
    },
    "tags": []
   },
   "outputs": [],
   "source": [
    "# Cela fonctionne aussi avec les index de type str\n",
    "somme_arbres.loc['charme':'poirier']"
   ]
  },
  {
   "cell_type": "markdown",
   "id": "b7cc8609-773d-4af4-8f64-2fc64a1fa8d3",
   "metadata": {
    "slideshow": {
     "slide_type": "slide"
    },
    "tags": []
   },
   "source": [
    "On peux filtrer les lignes de cette façon :"
   ]
  },
  {
   "cell_type": "code",
   "execution_count": null,
   "id": "fada124b-2b0f-46b3-b155-d057f34e27c9",
   "metadata": {},
   "outputs": [],
   "source": [
    "df_iris[df_iris['Petal.Length'] > 5]"
   ]
  },
  {
   "cell_type": "markdown",
   "id": "0a94c7a8-14d5-4551-a730-f446c5244094",
   "metadata": {
    "slideshow": {
     "slide_type": "slide"
    },
    "tags": []
   },
   "source": [
    "### Charts\n",
    "\n",
    "Voici quelques possibilités simples de plot avec pandas. Ces fonctionnalités sont utiles pour visualiser l'état de vos données en cours de traitement, mais je conseille plutôt d'utiliser R et ggplot pour réaliser vos graphiques pour vos rapports et publications.\n",
    "\n",
    "Toutes les possibilités de plotting de pandas sont [détaillées ici](https://pandas.pydata.org/docs/user_guide/visualization.html) et [là](https://pandas.pydata.org/docs/reference/api/pandas.DataFrame.plot.html#pandas-dataframe-plot)."
   ]
  },
  {
   "cell_type": "code",
   "execution_count": null,
   "id": "2937cf2e-c134-4578-bad4-7529ec56bb4d",
   "metadata": {
    "slideshow": {
     "slide_type": "slide"
    },
    "tags": []
   },
   "outputs": [],
   "source": [
    "df_iris.plot.scatter(x='Sepal.Length', y='Sepal.Width')"
   ]
  },
  {
   "cell_type": "code",
   "execution_count": null,
   "id": "3bb29e3f-bd56-41e3-92e9-18f5959c5552",
   "metadata": {
    "slideshow": {
     "slide_type": "slide"
    },
    "tags": []
   },
   "outputs": [],
   "source": [
    "df_iris[df_iris.Species == \"virginica\"].plot.scatter(x='Sepal.Length', y='Sepal.Width')"
   ]
  },
  {
   "attachments": {},
   "cell_type": "markdown",
   "id": "346125af",
   "metadata": {},
   "source": [
    "> ✍️ Ouvrir le dataset iris.csv dans un DataFrame. Tracer des boxplot pour une des variables à l'aide de la méthode de DataFrame `.boxplot()`. Utilisez l'aide pour trouver les arguments dont vous avez besoin pour choisir la variable à afficher et la variable catégorielle."
   ]
  },
  {
   "cell_type": "code",
   "execution_count": null,
   "id": "3136ed57",
   "metadata": {},
   "outputs": [],
   "source": []
  },
  {
   "attachments": {},
   "cell_type": "markdown",
   "id": "5fa7cffa",
   "metadata": {},
   "source": [
    "> ✍️ Calculer les moyennes de toutes les variables par espèce et tracer le résultat sur un graphique."
   ]
  },
  {
   "cell_type": "code",
   "execution_count": null,
   "id": "d90cba75",
   "metadata": {},
   "outputs": [],
   "source": []
  },
  {
   "attachments": {},
   "cell_type": "markdown",
   "id": "cbf7883b",
   "metadata": {},
   "source": [
    "> ✍️ Enregistrer le DataFrame des moyennes dans un fichier csv."
   ]
  },
  {
   "cell_type": "code",
   "execution_count": null,
   "id": "a814d000",
   "metadata": {},
   "outputs": [],
   "source": []
  },
  {
   "attachments": {},
   "cell_type": "markdown",
   "id": "36a6032e-b94a-4dac-88f6-6f55e31704f2",
   "metadata": {
    "slideshow": {
     "slide_type": "slide"
    },
    "tags": []
   },
   "source": [
    "## Exemple d'application : Récupérer des données via une API\n",
    "\n",
    "Pour récupérer des données directement depuis une API, on va utiliser le package requests. Par exemple, l'[API des stations Velo'V](https://transport.data.gouv.fr/datasets/velos-libre-service-lyon-velov-disponibilite-en-temps-reel)."
   ]
  },
  {
   "cell_type": "code",
   "execution_count": null,
   "id": "3c252417-2820-4510-afd2-082c5f4a7cd8",
   "metadata": {},
   "outputs": [],
   "source": [
    "# On importe tout le package requests\n",
    "import requests\n",
    "\n",
    "# On récupère les informations temps réel sur les stations Velo'V\n",
    "reponse = requests.get('https://transport.data.gouv.fr/gbfs/lyon/station_status.json')\n",
    "\n",
    "# La fonction get du package requests va renvoyer un objet de type Reponse\n",
    "print(reponse)"
   ]
  },
  {
   "cell_type": "markdown",
   "id": "b0d2f722-53f9-4aeb-b348-79eaeb55be71",
   "metadata": {
    "slideshow": {
     "slide_type": "slide"
    },
    "tags": []
   },
   "source": [
    "On peux vérifier à quoi correspond le code HTTP de la réponse dans la documentation de l'API. Puis on vérifie ce quelle contient."
   ]
  },
  {
   "cell_type": "code",
   "execution_count": null,
   "id": "3eed5f3c-e83f-4076-b57b-61c0616740cf",
   "metadata": {},
   "outputs": [],
   "source": [
    "print(reponse.status_code)"
   ]
  },
  {
   "cell_type": "code",
   "execution_count": null,
   "id": "a9da5eab-3936-40db-887a-1e6492dee5b7",
   "metadata": {},
   "outputs": [],
   "source": [
    "print(reponse.json())"
   ]
  },
  {
   "cell_type": "markdown",
   "id": "74075ce2-6578-492e-adb9-621cf630956e",
   "metadata": {
    "slideshow": {
     "slide_type": "slide"
    },
    "tags": []
   },
   "source": [
    "Pour stocker le contenu de cette réponse dans un DataFrame : "
   ]
  },
  {
   "cell_type": "code",
   "execution_count": null,
   "id": "b8809d81-7b27-4a22-8bf1-e18588a5e357",
   "metadata": {},
   "outputs": [],
   "source": [
    "import pandas as pd\n",
    "\n",
    "donnees_velov = pd.DataFrame(reponse.json()['data']['stations'])\n",
    "donnees_velov"
   ]
  },
  {
   "attachments": {},
   "cell_type": "markdown",
   "id": "e120ed89",
   "metadata": {},
   "source": [
    "On a récupéré un certain nombre d'informations sur l'état en temps réel des stations. On peux faire un boxplot pour le nombre de vélos actuellement disponibles par station comme ci-desous."
   ]
  },
  {
   "cell_type": "code",
   "execution_count": null,
   "id": "96edb664",
   "metadata": {},
   "outputs": [],
   "source": [
    "graph_chronique = donnees_velov.boxplot(column=['num_bikes_available', 'num_docks_available'], rot=45)"
   ]
  },
  {
   "attachments": {},
   "cell_type": "markdown",
   "id": "1cd8dc4e-e295-4ac1-9384-5f27bd58ceff",
   "metadata": {
    "slideshow": {
     "slide_type": "slide"
    },
    "tags": []
   },
   "source": [
    "Les dates (colonnes `last_reported` dans le DataFrame) sont dans un format particulier : le [timestamp](https://en.wikipedia.org/wiki/Unix_time) (nombre de secondes écoulées depuis l'epoch UNIX : le 1er Janvier 1970).\n",
    "\n",
    "On peux utiliser la méthode `info()` pour vérifier le type d'objet des dates."
   ]
  },
  {
   "cell_type": "code",
   "execution_count": null,
   "id": "b416708c-0f22-44f7-8523-563931ca576b",
   "metadata": {},
   "outputs": [],
   "source": [
    "print(donnees_velov.info())"
   ]
  },
  {
   "attachments": {},
   "cell_type": "markdown",
   "id": "790ae638-ef2f-41ab-b8c6-66f2ee02256e",
   "metadata": {
    "slideshow": {
     "slide_type": "slide"
    },
    "tags": []
   },
   "source": [
    "Il existe en Python un type d'objet `datetime` spécialement concu pour les dates, fourni par le package du même nom. Pas besoin de l'importer pour l'utiliser avec pandas car pandas propose des méthodes de plus haut niveau pour effectuer la conversion.\n",
    "\n",
    "Nous allons l'utiliser pour transformer ces timestamps en dates."
   ]
  },
  {
   "cell_type": "code",
   "execution_count": null,
   "id": "19493761-c3e1-4111-b7ab-2ada205f1e2b",
   "metadata": {},
   "outputs": [],
   "source": [
    "donnees_velov['last_reported'] = pd.to_datetime(donnees_velov['last_reported'], unit='s', utc=True)\n",
    "print(donnees_velov.info())"
   ]
  },
  {
   "cell_type": "code",
   "execution_count": null,
   "id": "324a5fab-b387-4823-a658-46e2cf55cb22",
   "metadata": {},
   "outputs": [],
   "source": [
    "donnees_velov"
   ]
  },
  {
   "attachments": {},
   "cell_type": "markdown",
   "id": "c719509d-edf3-42f1-b07e-248df6af5837",
   "metadata": {
    "slideshow": {
     "slide_type": "slide"
    },
    "tags": []
   },
   "source": [
    "Pour remettre nos dates sur la bonne timezone :"
   ]
  },
  {
   "cell_type": "code",
   "execution_count": null,
   "id": "c489fac3-7bad-4a4f-8137-e99a5a591f44",
   "metadata": {},
   "outputs": [],
   "source": [
    "donnees_velov['last_reported'] = donnees_velov['last_reported'].dt.tz_convert('Europe/Paris')\n",
    "\n",
    "print(donnees_velov.info())\n",
    "donnees_velov"
   ]
  },
  {
   "attachments": {},
   "cell_type": "markdown",
   "id": "22892eec",
   "metadata": {},
   "source": [
    "Les colonnes `is_installed`, `is_renting` et `is_returning` sont probablement des booléens codés sur les entiers 0 (False) et 1 (True). On le vérifie comme ceci : "
   ]
  },
  {
   "cell_type": "code",
   "execution_count": null,
   "id": "d61e57f2",
   "metadata": {},
   "outputs": [],
   "source": [
    "# On lance une boucle sur les noms des troic colonnes qui nous intéressent\n",
    "for col in ['is_installed', 'is_renting', 'is_returning']:\n",
    "    \n",
    "    # On vérifie les valeurs uniques de cette colonne\n",
    "    print(f'valeurs uniques de la colonne {col} : {donnees_velov[col].unique()}')"
   ]
  },
  {
   "attachments": {},
   "cell_type": "markdown",
   "id": "bddfbb9e",
   "metadata": {},
   "source": [
    "On peux aussi réaliser un boxplot par catégorie pour vérifier si c'est cohérent."
   ]
  },
  {
   "cell_type": "code",
   "execution_count": null,
   "id": "cfcf7e44",
   "metadata": {},
   "outputs": [],
   "source": [
    "donnees_velov.groupby('is_installed').boxplot(column=['num_bikes_available', 'num_docks_available'], rot=45)"
   ]
  },
  {
   "attachments": {},
   "cell_type": "markdown",
   "id": "247af996",
   "metadata": {},
   "source": [
    "> ✍️ Réalisez la conversion des colonnes `is_installed`, `is_renting` et `is_returning` en booléens. Il faudra refaire la boucle sur les trois colonnes, et utiliser la méthode `.astype(bool)` pour transformer les valeurs. Vérifiez le résultat en affichant les informations du DataFrame avec la méthode `.info()`, puis en affichant le DataFrame."
   ]
  },
  {
   "cell_type": "code",
   "execution_count": null,
   "id": "d37bfa9c",
   "metadata": {},
   "outputs": [],
   "source": []
  },
  {
   "attachments": {},
   "cell_type": "markdown",
   "id": "cff261ce",
   "metadata": {},
   "source": [
    "> ✍️ Ajoutez une colonne `num_docks_total` : la somme de `num_bikes_available`\tet de `num_docks_available`."
   ]
  },
  {
   "cell_type": "code",
   "execution_count": null,
   "id": "9b304a1c",
   "metadata": {},
   "outputs": [],
   "source": []
  },
  {
   "attachments": {},
   "cell_type": "markdown",
   "id": "ce65fbbd",
   "metadata": {},
   "source": [
    "> ✍️ Créez un nouveau DataFrame ne contenant que les lignes correspondant à des stations installées et fonctionnelles. Utilisez la [pandas cheatsheet](https://pandas.pydata.org/Pandas_Cheat_Sheet.pdf) pour vous aider."
   ]
  },
  {
   "cell_type": "code",
   "execution_count": null,
   "id": "a3163d79",
   "metadata": {},
   "outputs": [],
   "source": []
  },
  {
   "attachments": {},
   "cell_type": "markdown",
   "id": "5a942fac",
   "metadata": {},
   "source": [
    "Dans notre tableau, les stations sont identifiées par leur id. Pour savoir à quoi correspondent ces id, il faut récupérer des données sur un autre point de terminaison de l'API : "
   ]
  },
  {
   "cell_type": "code",
   "execution_count": null,
   "id": "0da8e427",
   "metadata": {},
   "outputs": [],
   "source": [
    "reponse = requests.get('https://transport.data.gouv.fr/gbfs/lyon/station_information.json')\n",
    "\n",
    "infos_stations = pd.DataFrame(reponse.json()['data']['stations'])\n",
    "infos_stations"
   ]
  },
  {
   "attachments": {},
   "cell_type": "markdown",
   "id": "1833b174",
   "metadata": {},
   "source": [
    "On réalise ensuite une jointure attributaire avec la fonction `merge()` du module principal de pandas :"
   ]
  },
  {
   "cell_type": "code",
   "execution_count": null,
   "id": "3cf551ea",
   "metadata": {},
   "outputs": [],
   "source": [
    "donnees_velov_completes = pd.merge(donnees_velov, infos_stations, how='left', on='station_id')\n",
    "donnees_velov_completes"
   ]
  },
  {
   "attachments": {},
   "cell_type": "markdown",
   "id": "22b8ec33-8293-497f-9d43-0c6c11832147",
   "metadata": {
    "slideshow": {
     "slide_type": "slide"
    },
    "tags": []
   },
   "source": [
    "## Ajouter des géométries spatiales avec geopandas\n",
    "\n",
    "Le package geopandas ajoute la gestion des géométries spatiales à pandas."
   ]
  },
  {
   "cell_type": "code",
   "execution_count": 72,
   "id": "49dce553-b516-458b-a0b0-11590217a413",
   "metadata": {},
   "outputs": [],
   "source": [
    "import geopandas as gpd"
   ]
  },
  {
   "cell_type": "markdown",
   "id": "14c004c0-2c58-47c2-909a-46a160216909",
   "metadata": {
    "slideshow": {
     "slide_type": "slide"
    },
    "tags": []
   },
   "source": [
    "### Transformer un DataFrame en GeoDataFrame\n",
    "\n",
    "On va créer un GeoDataFrame avec des géométries spatiales de type point à partir des données latitude et longitude renvoyées par l'API."
   ]
  },
  {
   "cell_type": "code",
   "execution_count": null,
   "id": "ac9c74f8-5dfb-4f77-83a3-a3743f624015",
   "metadata": {},
   "outputs": [],
   "source": [
    "gdf_velov = gpd.GeoDataFrame(donnees_velov_completes, \n",
    "                             crs=\"EPSG:4326\", \n",
    "                             geometry=gpd.points_from_xy(donnees_velov_completes['lon'], \n",
    "                                                         donnees_velov_completes['lat']))\n",
    "print(gdf_velov.info())"
   ]
  },
  {
   "cell_type": "code",
   "execution_count": null,
   "id": "d9d3db2a-5226-4c71-9ffd-a2b755b73e1d",
   "metadata": {},
   "outputs": [],
   "source": [
    "gdf_velov['geometry']"
   ]
  },
  {
   "cell_type": "markdown",
   "id": "c30566ff-9060-46bb-808e-c51fca0bb575",
   "metadata": {
    "slideshow": {
     "slide_type": "slide"
    },
    "tags": []
   },
   "source": [
    "### Produire des cartes avec geopandas\n",
    "\n",
    "On peux utiliser un dataset fourni dans le package geopandas comme fond de carte et utiliser matplotlib pour générer une carte."
   ]
  },
  {
   "cell_type": "code",
   "execution_count": null,
   "id": "414f165e-3a06-4c72-89c9-26e7908e3d81",
   "metadata": {},
   "outputs": [],
   "source": [
    "# On peux simplement afficher les points de cette façon\n",
    "stations_map = gdf_velov.plot(marker='o', color='red', markersize=1)"
   ]
  },
  {
   "cell_type": "code",
   "execution_count": null,
   "id": "4a3cdd1b",
   "metadata": {},
   "outputs": [],
   "source": [
    "# On peux utiliser le package contextily pour ajouter un fond OSM\n",
    "import contextily as cx\n",
    "\n",
    "# Il faut pour cela reprojeter nos points en Pseudo-Mercator\n",
    "gdf_pm = gdf_velov.to_crs(epsg=3857)\n",
    "\n",
    "# On refait ensuite la même carte que précédemment\n",
    "stations_map = gdf_pm.plot(marker='o', color='red', markersize=1)\n",
    "\n",
    "# Et on ajoute la basemap\n",
    "cx.add_basemap(stations_map)"
   ]
  },
  {
   "attachments": {},
   "cell_type": "markdown",
   "id": "9f87a6f6-027f-4776-8a3c-951e72cffddd",
   "metadata": {
    "slideshow": {
     "slide_type": "slide"
    },
    "tags": []
   },
   "source": [
    "La méthode `explore()` permet de générer rapidement un leaflet. Cette méthode fait appel au package ipyleaflet.\n",
    "\n",
    "Sur DataCamp, il faudra peut-être passer en vue Jupyter Lab (`View > Switch to Jupyter Lab`) pour voir la carte, et éventuellement installer le package ipyleaflet avec la commande `!pip install ipyleaflet`."
   ]
  },
  {
   "cell_type": "code",
   "execution_count": null,
   "id": "c848b1b6-48b8-422f-9f1c-b505a1ff374b",
   "metadata": {},
   "outputs": [],
   "source": [
    "# On supprime la colonne last_reported car la méthode .explore() ne sais pas gérer le type datetime\n",
    "gdf_pm.drop(columns='last_reported').explore(     \n",
    "    column=\"num_bikes_available\", # Utiliser le champ num_bikes_available pour la couleur des points\n",
    "    tooltip=[\"name\", 'num_bikes_available', 'num_docks_available'], # <Sélectionner les colonnes à afficher dans le tooltip\n",
    "    popup=True, # Montrer toutes les valeurs dans le popup (lorsque l'on clique sur le point)\n",
    "    tiles=\"CartoDB positron\", # Choix du fond de carte\n",
    ")"
   ]
  },
  {
   "attachments": {},
   "cell_type": "markdown",
   "id": "3468d4ba-2a43-4485-accf-49a4784da915",
   "metadata": {
    "slideshow": {
     "slide_type": "slide"
    },
    "tags": []
   },
   "source": [
    "### Enregistrer et lire un fichier avec geopandas\n",
    "\n",
    "On peux enregistrer notre tableau de données spatiales sur le disque (shp, gpkg, sql, ...)."
   ]
  },
  {
   "cell_type": "code",
   "execution_count": null,
   "id": "e65fe6c5-84e4-429d-9efb-c0c9baabf4d1",
   "metadata": {},
   "outputs": [],
   "source": [
    "gdf_velov.to_file('datasets/output/stations.gpkg')\n",
    "gdf_velov = None\n",
    "\n",
    "print(gdf_velov)"
   ]
  },
  {
   "cell_type": "markdown",
   "id": "7429f3d4-eee3-4e1c-be26-96cf5278011d",
   "metadata": {},
   "source": [
    "Et bien sûr, recharger en mémoire un fichier existant."
   ]
  },
  {
   "cell_type": "code",
   "execution_count": null,
   "id": "a9d633d6-c002-4e86-8271-792f0eefeb11",
   "metadata": {},
   "outputs": [],
   "source": [
    "gdf_velov = gpd.read_file('datasets/output/stations.gpkg')\n",
    "gdf_velov.head()"
   ]
  },
  {
   "cell_type": "markdown",
   "id": "3c8f5fc3-d64c-48e5-b085-780e4791cec4",
   "metadata": {
    "slideshow": {
     "slide_type": "slide"
    },
    "tags": []
   },
   "source": [
    "### Pour aller plus loin avec geopandas\n",
    "\n",
    "Geopandas permet de faire énormément de chose que l'on fait classiquement dans un SIG avec des méthodes très simples à utiliser : jointures spatiales, buffer, calculs de distance, etc.\n",
    "\n",
    "Pour en savoir plus, [rendez-vous dans la doc !](https://geopandas.org/en/stable/getting_started/introduction.html)"
   ]
  },
  {
   "attachments": {},
   "cell_type": "markdown",
   "id": "885b6f3f",
   "metadata": {},
   "source": [
    "## TP bonus\n",
    "\n",
    "> ✍️ Réalisez une boucle qui requête l'API Velo'V une fois par minute pendant 30 minutes. A chaque itération, ajoutez une ligne à votre tableau de données avec les nouvelles valeurs récupérées."
   ]
  },
  {
   "cell_type": "code",
   "execution_count": null,
   "id": "d4362cd2",
   "metadata": {},
   "outputs": [],
   "source": []
  },
  {
   "attachments": {},
   "cell_type": "markdown",
   "id": "5c3c46ed",
   "metadata": {},
   "source": [
    "> ✍️ A la fin des 30 minutes, affichez un graphique du nombre de vélos disponibles en fonction du temps pour quelques stations que vous aurez choisi. "
   ]
  },
  {
   "cell_type": "code",
   "execution_count": null,
   "id": "33f15a36",
   "metadata": {},
   "outputs": [],
   "source": []
  },
  {
   "attachments": {},
   "cell_type": "markdown",
   "id": "74dd214f",
   "metadata": {},
   "source": [
    "> ✍️ Avec votre tableau de données complet, calculez la variance du nombre de vélo disponible au cour de ces 30 minutes pour chaque station. Il faudra utiliser les méthodes `.group_by()` pour regrouper les données par station, et `.var()` pour caluler la variance. "
   ]
  },
  {
   "cell_type": "code",
   "execution_count": null,
   "id": "06227434",
   "metadata": {},
   "outputs": [],
   "source": []
  },
  {
   "attachments": {},
   "cell_type": "markdown",
   "id": "583849d9",
   "metadata": {},
   "source": [
    "> ✍️ Créez une carte interactive de la variance du nombre de vélos par station Velo'V au cours de ces 30 minutes."
   ]
  },
  {
   "cell_type": "code",
   "execution_count": null,
   "id": "e4540588",
   "metadata": {},
   "outputs": [],
   "source": []
  }
 ],
 "metadata": {
  "kernelspec": {
   "display_name": "formation-python",
   "language": "python",
   "name": "python3"
  },
  "language_info": {
   "codemirror_mode": {
    "name": "ipython",
    "version": 3
   },
   "file_extension": ".py",
   "mimetype": "text/x-python",
   "name": "python",
   "nbconvert_exporter": "python",
   "pygments_lexer": "ipython3",
   "version": "3.10.6"
  },
  "vscode": {
   "interpreter": {
    "hash": "50311241a5c10afd3d6254552579c5b4c0c03ce3da3bbd01d84b895efee58118"
   }
  }
 },
 "nbformat": 4,
 "nbformat_minor": 5
}
