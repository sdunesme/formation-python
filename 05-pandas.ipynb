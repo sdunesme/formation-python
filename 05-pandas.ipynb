{
 "cells": [
  {
   "attachments": {},
   "cell_type": "markdown",
   "id": "345fabd1-b310-4458-a1a4-bab4528aa3cd",
   "metadata": {
    "slideshow": {
     "slide_type": "slide"
    },
    "tags": []
   },
   "source": [
    "# Librairie tableaux, statistiques et data science : pandas\n",
    "\n",
    "> pandas is a fast, powerful, flexible and easy to use open source data analysis and manipulation tool,\n",
    "built on top of the Python programming language."
   ]
  },
  {
   "cell_type": "code",
   "execution_count": null,
   "id": "d583041a-d819-4ebc-9077-bb92b496d6f3",
   "metadata": {},
   "outputs": [],
   "source": [
    "# On importe le module principal du package et on affiche la version de pandas\n",
    "import pandas as pd\n",
    "print(pd.__version__)"
   ]
  },
  {
   "cell_type": "code",
   "execution_count": null,
   "id": "6236cf88-ca70-4912-8e89-403acf9fcd40",
   "metadata": {
    "slideshow": {
     "slide_type": "fragment"
    },
    "tags": []
   },
   "outputs": [],
   "source": [
    "# On affiche l'aide\n",
    "?pd"
   ]
  },
  {
   "cell_type": "markdown",
   "id": "16a64ba3-2a97-47cb-8c1c-7f492a51a947",
   "metadata": {
    "slideshow": {
     "slide_type": "slide"
    },
    "tags": []
   },
   "source": [
    "## Nouveaux types d'objets fournis par pandas\n",
    "\n",
    "Pandas fourni principalement le type (classe) d'objet `DataFrame`."
   ]
  },
  {
   "cell_type": "code",
   "execution_count": null,
   "id": "91aaeb3c-22ed-4658-b39f-ff1c847b76c4",
   "metadata": {},
   "outputs": [],
   "source": [
    "# On créé un DataFrame vide qu'on enregistre dans la variable df, puis on l'affiche\n",
    "df = pd.DataFrame()\n",
    "print(df)"
   ]
  },
  {
   "cell_type": "markdown",
   "id": "a5975d9c-12d5-4ce5-81da-9b89f2f6b5ce",
   "metadata": {
    "slideshow": {
     "slide_type": "slide"
    },
    "tags": []
   },
   "source": [
    "On peux créer un DataFrame à partir d'un dictionnaire existant. Les clés du dictionnaire doivent correspondre aux colonnes, et les valeurs aux lignes."
   ]
  },
  {
   "cell_type": "code",
   "execution_count": null,
   "id": "34f72182-4a21-46de-977d-a9fc2926ca23",
   "metadata": {},
   "outputs": [],
   "source": [
    "inventaire_arbres = {\n",
    "    'espece': ['chêne', 'charme', 'hêtre', 'cocotier'],\n",
    "    'nombre': [15, 24, 2, 0]\n",
    "}\n",
    "\n",
    "df_arbres = pd.DataFrame(inventaire_arbres)\n",
    "print(df_arbres)"
   ]
  },
  {
   "cell_type": "markdown",
   "id": "aa44d24c-241d-4cca-82e2-d2e5d7389f78",
   "metadata": {
    "slideshow": {
     "slide_type": "slide"
    },
    "tags": []
   },
   "source": [
    "La [pandas cheatsheet](https://pandas.pydata.org/Pandas_Cheat_Sheet.pdf) résume beaucoup de méthodes et à avoir toujours sous la main.\n",
    "\n",
    "Par exemple, pour ajouter des lignes à un DataFrame :"
   ]
  },
  {
   "cell_type": "code",
   "execution_count": null,
   "id": "e0e306fb-f4f1-4e08-8672-b72705d62e7b",
   "metadata": {},
   "outputs": [],
   "source": [
    "inventaire_nouveaux_arbres = {\n",
    "    'espece': ['pommier', 'poirier', 'bananier', 'manguier'],\n",
    "    'nombre': [15, 24, 54, 26]\n",
    "}\n",
    "\n",
    "# En réalité, on va concaténer deux DataFrames ayant les mêmes colonnes\n",
    "df_nouveaux_arbres = pd.DataFrame(inventaire_nouveaux_arbres)\n",
    "df_arbres = pd.concat([df_arbres, df_nouveaux_arbres])\n",
    "\n",
    "print(df_arbres)"
   ]
  },
  {
   "cell_type": "markdown",
   "id": "2aaeb5b0-5512-4cb8-abe9-e3519588721c",
   "metadata": {
    "slideshow": {
     "slide_type": "slide"
    },
    "tags": []
   },
   "source": [
    "Notez qu'après une concaténation, les index pandas ne sont plus uniques, contrairement aux index Python qui le sont toujours."
   ]
  },
  {
   "cell_type": "code",
   "execution_count": null,
   "id": "5f9b6a27-a97a-4bb4-898e-d1dc927b7a6e",
   "metadata": {},
   "outputs": [],
   "source": [
    "print(df_arbres.loc[1])\n",
    "print('---')\n",
    "print(df_arbres.iloc[1])"
   ]
  },
  {
   "cell_type": "markdown",
   "id": "befc8f0a-4491-4ff3-88fd-c55200b3227f",
   "metadata": {
    "slideshow": {
     "slide_type": "slide"
    },
    "tags": []
   },
   "source": [
    "On peux reset les index pandas. Une colonne index sera alors créée pour conserver les anciens index."
   ]
  },
  {
   "cell_type": "code",
   "execution_count": null,
   "id": "bd18ab76-457a-4e99-afb4-2298a713d14c",
   "metadata": {},
   "outputs": [],
   "source": [
    "df_arbres.reset_index(inplace = True)\n",
    "print(df_arbres)"
   ]
  },
  {
   "attachments": {},
   "cell_type": "markdown",
   "id": "f871dd47",
   "metadata": {},
   "source": [
    "> ✍️ Transformer le dictionnaire ci-dessous en DataFrame pandas."
   ]
  },
  {
   "cell_type": "code",
   "execution_count": null,
   "id": "797510c5",
   "metadata": {},
   "outputs": [],
   "source": [
    "infos_personnelles = {\n",
    "    'id': ['jdupont', 'gabitbol'],\n",
    "    'nom': ['Dupont', 'Abitbol'],\n",
    "    'prenom': ['Jean', 'Georges'],\n",
    "    'age': [37, 71],\n",
    "}\n",
    "\n"
   ]
  },
  {
   "attachments": {},
   "cell_type": "markdown",
   "id": "d50dc069",
   "metadata": {},
   "source": [
    "> ✍️ Ajouter une personne à ce tableau en utilisant la fonction concat(). Faire en sorte que les index soient uniques pour chaque ligne."
   ]
  },
  {
   "cell_type": "code",
   "execution_count": null,
   "id": "d32e2658",
   "metadata": {},
   "outputs": [],
   "source": []
  },
  {
   "cell_type": "markdown",
   "id": "2aaa5ae9-8902-4732-9513-edb4cb8ad904",
   "metadata": {
    "slideshow": {
     "slide_type": "slide"
    },
    "tags": []
   },
   "source": [
    "Les tableaux pandas sont dits \"tidy\". Exemple :"
   ]
  },
  {
   "cell_type": "code",
   "execution_count": null,
   "id": "1d9d9644-8fc5-47b3-8947-fc7ef43c53e8",
   "metadata": {},
   "outputs": [],
   "source": [
    "# Faire référence à une colonne\n",
    "df_arbres['espece']"
   ]
  },
  {
   "cell_type": "code",
   "execution_count": null,
   "id": "8287b4b8-790a-4f92-8481-7645f6efcc49",
   "metadata": {},
   "outputs": [],
   "source": [
    "# Multiplier 2 colonnes\n",
    "print(df_arbres['index'] * df_arbres['nombre'])"
   ]
  },
  {
   "cell_type": "markdown",
   "id": "3282e4d2-f32e-481e-b538-e813dbb161ee",
   "metadata": {
    "slideshow": {
     "slide_type": "slide"
    },
    "tags": []
   },
   "source": [
    "Pour supprimer une colonne dont on n'a plus besoin :"
   ]
  },
  {
   "cell_type": "code",
   "execution_count": null,
   "id": "680c0cd3-1b4d-462a-837d-f5db26f4404b",
   "metadata": {},
   "outputs": [],
   "source": [
    "df_arbres.drop(columns=['index'], inplace = True)\n",
    "print(df_arbres)"
   ]
  },
  {
   "cell_type": "markdown",
   "id": "b859f5e7-842d-4798-9030-27a8173cf1ed",
   "metadata": {
    "slideshow": {
     "slide_type": "slide"
    },
    "tags": []
   },
   "source": [
    "Pour résumer des variables selon un champ catégoriel :"
   ]
  },
  {
   "cell_type": "code",
   "execution_count": null,
   "id": "d0490d76-8a02-4c86-a065-63bccd5b23f9",
   "metadata": {},
   "outputs": [],
   "source": [
    "# Rajoutons quelques lignes à notre tableau\n",
    "df_arbres = pd.concat([\n",
    "    df_arbres, \n",
    "    pd.DataFrame({\n",
    "    'espece': ['chêne', 'charme', 'hêtre', 'cocotier'],\n",
    "    'nombre': [15, 24, 2, 0]\n",
    "    })\n",
    "])\n",
    "\n",
    "print(df_arbres)"
   ]
  },
  {
   "cell_type": "code",
   "execution_count": null,
   "id": "589b5184-da5c-41c1-95b3-9385e001bf6b",
   "metadata": {
    "slideshow": {
     "slide_type": "slide"
    },
    "tags": []
   },
   "outputs": [],
   "source": [
    "# Résumons en faisant une somme par catégorie\n",
    "somme_arbres = df_arbres.groupby('espece').sum()\n",
    "print(somme_arbres)"
   ]
  },
  {
   "cell_type": "markdown",
   "id": "a3d22b08-bf2f-448e-906d-14e13f77a99c",
   "metadata": {
    "slideshow": {
     "slide_type": "slide"
    },
    "tags": []
   },
   "source": [
    "En faisant cela, l'index pandas est devenu une chaine de caractère correspondant au nom du groupe au moment du `groupby`."
   ]
  },
  {
   "cell_type": "code",
   "execution_count": null,
   "id": "22fcc5b4-c69b-4c41-9c78-498a1dd056a1",
   "metadata": {},
   "outputs": [],
   "source": [
    "somme_arbres.index"
   ]
  },
  {
   "cell_type": "code",
   "execution_count": null,
   "id": "d4b6a2c2-1ca0-44e5-ac60-9baaa6c04c04",
   "metadata": {},
   "outputs": [],
   "source": [
    "somme_arbres.loc['charme']"
   ]
  },
  {
   "attachments": {},
   "cell_type": "markdown",
   "id": "e379bf2b-9f3d-4e5d-9ce7-f5f29fc51b2b",
   "metadata": {
    "slideshow": {
     "slide_type": "slide"
    },
    "tags": []
   },
   "source": [
    "Pour réaliser des graphiques, on peux utiliser matplotlib via une méthode des DataFrames pandas :"
   ]
  },
  {
   "cell_type": "code",
   "execution_count": null,
   "id": "3a826809-a9b7-455f-b91d-91f40829db0e",
   "metadata": {},
   "outputs": [],
   "source": [
    "df_arbres.plot.bar(x='espece', title='Nombre d\\'especes')"
   ]
  },
  {
   "cell_type": "code",
   "execution_count": null,
   "id": "7a12e4e8-7404-4173-82ba-97c231da29a9",
   "metadata": {
    "slideshow": {
     "slide_type": "slide"
    },
    "tags": []
   },
   "outputs": [],
   "source": [
    "# Avec des lignes dupliquées\n",
    "mon_histo = df_arbres.plot.bar(x='espece', y='nombre', title='Nombre d\\'individus recensés par espèce')"
   ]
  },
  {
   "cell_type": "code",
   "execution_count": null,
   "id": "f76122bc-1e5f-443e-a5a1-2e3dcf8422c4",
   "metadata": {
    "slideshow": {
     "slide_type": "slide"
    },
    "tags": []
   },
   "outputs": [],
   "source": [
    "# Avec le résumé statistique\n",
    "mon_histo = somme_arbres.sort_values('nombre', ascending=False).plot.bar(y='nombre', title='Nombre d\\'individus recensés par espèce')"
   ]
  },
  {
   "cell_type": "markdown",
   "id": "7fef18f8-2a10-483d-9362-5f8feb639179",
   "metadata": {
    "slideshow": {
     "slide_type": "slide"
    },
    "tags": []
   },
   "source": [
    "## Lire et écrire dans des fichiers avec pandas\n",
    "\n",
    "Pandas peut générer des tableaux de données directement depuis des fichiers : par exemple csv, presse-papier, excel, sql, json, xml, ..."
   ]
  },
  {
   "cell_type": "code",
   "execution_count": null,
   "id": "e7186480-cf4c-4049-826e-7d4e1f9e1eb0",
   "metadata": {},
   "outputs": [],
   "source": [
    "df_iris = pd.read_csv('datasets/iris.csv', sep=',', encoding='UTF-8')\n",
    "print(df_iris)"
   ]
  },
  {
   "cell_type": "markdown",
   "id": "639309bb-a7d3-409e-9b27-5a40e946fe4f",
   "metadata": {
    "slideshow": {
     "slide_type": "slide"
    },
    "tags": []
   },
   "source": [
    "La sauvegarde d'un tableau de données dans un fichier est également extrêmement simple."
   ]
  },
  {
   "cell_type": "code",
   "execution_count": 45,
   "id": "47e80cc8-5610-49ed-82fa-e8602a14f590",
   "metadata": {},
   "outputs": [],
   "source": [
    "df_arbres.to_csv('datasets/output/inventaire.csv', sep=',')"
   ]
  },
  {
   "cell_type": "markdown",
   "id": "a8c3cd1a-34c0-423a-a66b-d1791b32545d",
   "metadata": {
    "slideshow": {
     "slide_type": "slide"
    },
    "tags": []
   },
   "source": [
    "## Visualiser des données avec pandas\n",
    "### Table\n",
    "\n",
    "Les tableaux pandas s'intègrent bien dans les Jupyter notebook si on enlève la fonction `print()`."
   ]
  },
  {
   "cell_type": "code",
   "execution_count": null,
   "id": "89bae791-abea-47a8-8caf-16157bef24ac",
   "metadata": {},
   "outputs": [],
   "source": [
    "df_iris"
   ]
  },
  {
   "cell_type": "markdown",
   "id": "67ffa49f-afcc-4cc4-82d1-7d61cf6ffce7",
   "metadata": {
    "slideshow": {
     "slide_type": "slide"
    },
    "tags": []
   },
   "source": [
    "Les méthodes head et tail permettent de récupérer les premières et dernières lignes."
   ]
  },
  {
   "cell_type": "code",
   "execution_count": null,
   "id": "cb8f9429-ad1f-4e05-8363-139b2b19ae28",
   "metadata": {},
   "outputs": [],
   "source": [
    "df_iris.head(15)"
   ]
  },
  {
   "cell_type": "code",
   "execution_count": null,
   "id": "67446124-a2fa-4b01-958c-4b034415a61d",
   "metadata": {
    "slideshow": {
     "slide_type": "slide"
    },
    "tags": []
   },
   "outputs": [],
   "source": [
    "df_iris.tail(15)"
   ]
  },
  {
   "cell_type": "markdown",
   "id": "2cca4f2d-5b64-4c0e-a4fd-8f249dde9f6d",
   "metadata": {
    "slideshow": {
     "slide_type": "slide"
    },
    "tags": []
   },
   "source": [
    "On accède aux lignes via leur index grâce à la propriété `.loc[]`"
   ]
  },
  {
   "cell_type": "code",
   "execution_count": null,
   "id": "8e4440bf-18ac-4e12-9629-a466343d53a8",
   "metadata": {},
   "outputs": [],
   "source": [
    "df_iris.loc[30:40]"
   ]
  },
  {
   "cell_type": "code",
   "execution_count": null,
   "id": "3906e0d6-2865-4e34-86b9-9e659b2ba7d0",
   "metadata": {},
   "outputs": [],
   "source": [
    "somme_arbres"
   ]
  },
  {
   "cell_type": "code",
   "execution_count": null,
   "id": "86be5db4-a8a2-4ba0-8402-cda8174869dc",
   "metadata": {
    "slideshow": {
     "slide_type": "slide"
    },
    "tags": []
   },
   "outputs": [],
   "source": [
    "# Cela fonctionne aussi avec les index de type str\n",
    "somme_arbres.loc['charme':'poirier']"
   ]
  },
  {
   "cell_type": "markdown",
   "id": "b7cc8609-773d-4af4-8f64-2fc64a1fa8d3",
   "metadata": {
    "slideshow": {
     "slide_type": "slide"
    },
    "tags": []
   },
   "source": [
    "On peux filtrer les lignes de cette façon :"
   ]
  },
  {
   "cell_type": "code",
   "execution_count": null,
   "id": "fada124b-2b0f-46b3-b155-d057f34e27c9",
   "metadata": {},
   "outputs": [],
   "source": [
    "df_iris[df_iris['Petal.Length'] > 5]"
   ]
  },
  {
   "cell_type": "markdown",
   "id": "0a94c7a8-14d5-4551-a730-f446c5244094",
   "metadata": {
    "slideshow": {
     "slide_type": "slide"
    },
    "tags": []
   },
   "source": [
    "### Charts\n",
    "\n",
    "Voici quelques possibilités simples de plot avec pandas. Ces fonctionnalités sont utiles pour visualiser l'état de vos données en cours de traitement, mais je conseille plutôt d'utiliser R et ggplot pour réaliser vos graphiques pour vos rapports et publications.\n",
    "\n",
    "Toutes les possibilités de plotting de pandas sont [détaillées ici](https://pandas.pydata.org/docs/user_guide/visualization.html) et [là](https://pandas.pydata.org/docs/reference/api/pandas.DataFrame.plot.html#pandas-dataframe-plot)."
   ]
  },
  {
   "cell_type": "code",
   "execution_count": null,
   "id": "2937cf2e-c134-4578-bad4-7529ec56bb4d",
   "metadata": {
    "slideshow": {
     "slide_type": "slide"
    },
    "tags": []
   },
   "outputs": [],
   "source": [
    "df_iris.plot.scatter(x='Sepal.Length', y='Sepal.Width')"
   ]
  },
  {
   "cell_type": "code",
   "execution_count": null,
   "id": "3bb29e3f-bd56-41e3-92e9-18f5959c5552",
   "metadata": {
    "slideshow": {
     "slide_type": "slide"
    },
    "tags": []
   },
   "outputs": [],
   "source": [
    "df_iris[df_iris.Species == \"virginica\"].plot.scatter(x='Sepal.Length', y='Sepal.Width')"
   ]
  },
  {
   "attachments": {},
   "cell_type": "markdown",
   "id": "346125af",
   "metadata": {},
   "source": [
    "> ✍️ Ouvrir le dataset iris.csv dans un DataFrame. Tracer des boxplot pour une des variables à l'aide de la méthode de DataFrame `.boxplot()`. Utilisez l'aide pour trouver les arguments dont vous avez besoin pour choisir la variable à afficher et la variable catégorielle."
   ]
  },
  {
   "cell_type": "code",
   "execution_count": null,
   "id": "3136ed57",
   "metadata": {},
   "outputs": [],
   "source": []
  },
  {
   "attachments": {},
   "cell_type": "markdown",
   "id": "5fa7cffa",
   "metadata": {},
   "source": [
    "> ✍️ Calculer les moyennes de toutes les variables par espèce et tracer le résultat sur un graphique."
   ]
  },
  {
   "cell_type": "code",
   "execution_count": null,
   "id": "d90cba75",
   "metadata": {},
   "outputs": [],
   "source": []
  },
  {
   "attachments": {},
   "cell_type": "markdown",
   "id": "cbf7883b",
   "metadata": {},
   "source": [
    "> ✍️ Enregistrer le DataFrame des moyennes dans un fichier csv."
   ]
  },
  {
   "cell_type": "code",
   "execution_count": null,
   "id": "a814d000",
   "metadata": {},
   "outputs": [],
   "source": []
  },
  {
   "attachments": {},
   "cell_type": "markdown",
   "id": "36a6032e-b94a-4dac-88f6-6f55e31704f2",
   "metadata": {
    "slideshow": {
     "slide_type": "slide"
    },
    "tags": []
   },
   "source": [
    "## Récupérer des données via une API\n",
    "\n",
    "Pour récupérer des données directement depuis une API, on va utiliser le package requests. Par exemple, l'[API des stations Velo'V](https://transport.data.gouv.fr/datasets/velos-libre-service-lyon-velov-disponibilite-en-temps-reel)."
   ]
  },
  {
   "cell_type": "code",
   "execution_count": null,
   "id": "3c252417-2820-4510-afd2-082c5f4a7cd8",
   "metadata": {},
   "outputs": [],
   "source": [
    "# On importe tout le package requests\n",
    "import requests\n",
    "\n",
    "# On récupère les informations temps réel sur les stations Velo'V\n",
    "reponse = requests.get('https://transport.data.gouv.fr/gbfs/lyon/station_status.json')\n",
    "\n",
    "# La fonction get du package requests va renvoyer un objet de type Reponse\n",
    "print(reponse)"
   ]
  },
  {
   "cell_type": "markdown",
   "id": "b0d2f722-53f9-4aeb-b348-79eaeb55be71",
   "metadata": {
    "slideshow": {
     "slide_type": "slide"
    },
    "tags": []
   },
   "source": [
    "On peux vérifier à quoi correspond le code HTTP de la réponse dans la documentation de l'API. Puis on vérifie ce quelle contient."
   ]
  },
  {
   "cell_type": "code",
   "execution_count": 2,
   "id": "3eed5f3c-e83f-4076-b57b-61c0616740cf",
   "metadata": {},
   "outputs": [
    {
     "name": "stdout",
     "output_type": "stream",
     "text": [
      "200\n"
     ]
    }
   ],
   "source": [
    "print(reponse.status_code)"
   ]
  },
  {
   "cell_type": "code",
   "execution_count": null,
   "id": "a9da5eab-3936-40db-887a-1e6492dee5b7",
   "metadata": {},
   "outputs": [],
   "source": [
    "print(reponse.json())"
   ]
  },
  {
   "cell_type": "markdown",
   "id": "74075ce2-6578-492e-adb9-621cf630956e",
   "metadata": {
    "slideshow": {
     "slide_type": "slide"
    },
    "tags": []
   },
   "source": [
    "Pour stocker le contenu de cette réponse dans un DataFrame : "
   ]
  },
  {
   "cell_type": "code",
   "execution_count": 24,
   "id": "b8809d81-7b27-4a22-8bf1-e18588a5e357",
   "metadata": {},
   "outputs": [
    {
     "name": "stdout",
     "output_type": "stream",
     "text": [
      "     is_installed  is_renting  is_returning  last_reported  \\\n",
      "0               1           1             1     1674593389   \n",
      "1               1           1             1     1674593762   \n",
      "2               1           1             1     1674593296   \n",
      "3               1           1             1     1674593626   \n",
      "4               1           1             1     1674593820   \n",
      "..            ...         ...           ...            ...   \n",
      "426             1           1             1     1674593834   \n",
      "427             1           1             1     1674593454   \n",
      "428             1           1             1     1674593526   \n",
      "429             1           1             1     1674593645   \n",
      "430             1           1             1     1674593583   \n",
      "\n",
      "     num_bikes_available  num_docks_available station_id  \n",
      "0                     14                    8       2010  \n",
      "1                     17                    2       5015  \n",
      "2                      8                    9      32001  \n",
      "3                      8                   12       6004  \n",
      "4                     22                   18       7035  \n",
      "..                   ...                  ...        ...  \n",
      "426                    2                   18       8002  \n",
      "427                   10                   10      10007  \n",
      "428                    3                   37       9033  \n",
      "429                    9                   13       5001  \n",
      "430                   19                   11       3018  \n",
      "\n",
      "[431 rows x 7 columns]\n"
     ]
    }
   ],
   "source": [
    "import pandas as pd\n",
    "\n",
    "donnees_velov = pd.DataFrame(reponse.json()['data']['stations'])\n",
    "print(donnees_velov)"
   ]
  },
  {
   "attachments": {},
   "cell_type": "markdown",
   "id": "e120ed89",
   "metadata": {},
   "source": [
    "On a récupéré un certain nombre d'informations sur l'état en temps réel des stations. On peux faire un boxplot pour le nombre de vélos actuellement disponibles par station comme ci-desous."
   ]
  },
  {
   "cell_type": "code",
   "execution_count": 16,
   "id": "96edb664",
   "metadata": {},
   "outputs": [
    {
     "data": {
      "image/png": "[encoded data removed]",
      "text/plain": [
       "<Figure size 640x480 with 1 Axes>"
      ]
     },
     "metadata": {},
     "output_type": "display_data"
    }
   ],
   "source": [
    "graph_chronique = donnees_velov['num_bikes_available'].plot.box()"
   ]
  },
  {
   "attachments": {},
   "cell_type": "markdown",
   "id": "1cd8dc4e-e295-4ac1-9384-5f27bd58ceff",
   "metadata": {
    "slideshow": {
     "slide_type": "slide"
    },
    "tags": []
   },
   "source": [
    "Les dates (colonnes `last_reported` dans le DataFrame) sont dans un format particulier : le [timestamp](https://en.wikipedia.org/wiki/Unix_time).\n",
    "\n",
    "On peux utiliser la méthode `info()` pour vérifier le type d'objet des dates."
   ]
  },
  {
   "cell_type": "code",
   "execution_count": 17,
   "id": "b416708c-0f22-44f7-8523-563931ca576b",
   "metadata": {},
   "outputs": [
    {
     "name": "stdout",
     "output_type": "stream",
     "text": [
      "<class 'pandas.core.frame.DataFrame'>\n",
      "RangeIndex: 431 entries, 0 to 430\n",
      "Data columns (total 7 columns):\n",
      " #   Column               Non-Null Count  Dtype \n",
      "---  ------               --------------  ----- \n",
      " 0   is_installed         431 non-null    int64 \n",
      " 1   is_renting           431 non-null    int64 \n",
      " 2   is_returning         431 non-null    int64 \n",
      " 3   last_reported        431 non-null    int64 \n",
      " 4   num_bikes_available  431 non-null    int64 \n",
      " 5   num_docks_available  431 non-null    int64 \n",
      " 6   station_id           431 non-null    object\n",
      "dtypes: int64(6), object(1)\n",
      "memory usage: 23.7+ KB\n",
      "None\n"
     ]
    }
   ],
   "source": [
    "print(donnees_velov.info())"
   ]
  },
  {
   "attachments": {},
   "cell_type": "markdown",
   "id": "790ae638-ef2f-41ab-b8c6-66f2ee02256e",
   "metadata": {
    "slideshow": {
     "slide_type": "slide"
    },
    "tags": []
   },
   "source": [
    "Il existe en Python un type d'objet `datetime` spécialement concu pour les dates, fourni par le package du même nom. Pas besoin de l'importer pour l'utiliser avec pandas car pandas propose des méthodes de plus haut niveau pour effectuer la conversion.\n",
    "\n",
    "Nous allons l'utiliser pour transformer ces timestamps en dates."
   ]
  },
  {
   "cell_type": "code",
   "execution_count": 25,
   "id": "19493761-c3e1-4111-b7ab-2ada205f1e2b",
   "metadata": {},
   "outputs": [
    {
     "name": "stdout",
     "output_type": "stream",
     "text": [
      "<class 'pandas.core.frame.DataFrame'>\n",
      "RangeIndex: 431 entries, 0 to 430\n",
      "Data columns (total 7 columns):\n",
      " #   Column               Non-Null Count  Dtype         \n",
      "---  ------               --------------  -----         \n",
      " 0   is_installed         431 non-null    int64         \n",
      " 1   is_renting           431 non-null    int64         \n",
      " 2   is_returning         431 non-null    int64         \n",
      " 3   last_reported        431 non-null    datetime64[ns]\n",
      " 4   num_bikes_available  431 non-null    int64         \n",
      " 5   num_docks_available  431 non-null    int64         \n",
      " 6   station_id           431 non-null    object        \n",
      "dtypes: datetime64[ns](1), int64(5), object(1)\n",
      "memory usage: 23.7+ KB\n",
      "None\n"
     ]
    }
   ],
   "source": [
    "donnees_velov['last_reported'] = pd.to_datetime(donnees_velov['last_reported'], unit='s')\n",
    "print(donnees_velov.info())"
   ]
  },
  {
   "cell_type": "code",
   "execution_count": 33,
   "id": "324a5fab-b387-4823-a658-46e2cf55cb22",
   "metadata": {},
   "outputs": [
    {
     "data": {
      "text/html": [
       "<div>\n",
       "<style scoped>\n",
       "    .dataframe tbody tr th:only-of-type {\n",
       "        vertical-align: middle;\n",
       "    }\n",
       "\n",
       "    .dataframe tbody tr th {\n",
       "        vertical-align: top;\n",
       "    }\n",
       "\n",
       "    .dataframe thead th {\n",
       "        text-align: right;\n",
       "    }\n",
       "</style>\n",
       "<table border=\"1\" class=\"dataframe\">\n",
       "  <thead>\n",
       "    <tr style=\"text-align: right;\">\n",
       "      <th></th>\n",
       "      <th>is_installed</th>\n",
       "      <th>is_renting</th>\n",
       "      <th>is_returning</th>\n",
       "      <th>last_reported</th>\n",
       "      <th>num_bikes_available</th>\n",
       "      <th>num_docks_available</th>\n",
       "      <th>station_id</th>\n",
       "    </tr>\n",
       "  </thead>\n",
       "  <tbody>\n",
       "    <tr>\n",
       "      <th>0</th>\n",
       "      <td>1</td>\n",
       "      <td>1</td>\n",
       "      <td>1</td>\n",
       "      <td>2023-01-24 20:49:49</td>\n",
       "      <td>14</td>\n",
       "      <td>8</td>\n",
       "      <td>2010</td>\n",
       "    </tr>\n",
       "    <tr>\n",
       "      <th>1</th>\n",
       "      <td>1</td>\n",
       "      <td>1</td>\n",
       "      <td>1</td>\n",
       "      <td>2023-01-24 20:56:02</td>\n",
       "      <td>17</td>\n",
       "      <td>2</td>\n",
       "      <td>5015</td>\n",
       "    </tr>\n",
       "    <tr>\n",
       "      <th>2</th>\n",
       "      <td>1</td>\n",
       "      <td>1</td>\n",
       "      <td>1</td>\n",
       "      <td>2023-01-24 20:48:16</td>\n",
       "      <td>8</td>\n",
       "      <td>9</td>\n",
       "      <td>32001</td>\n",
       "    </tr>\n",
       "    <tr>\n",
       "      <th>3</th>\n",
       "      <td>1</td>\n",
       "      <td>1</td>\n",
       "      <td>1</td>\n",
       "      <td>2023-01-24 20:53:46</td>\n",
       "      <td>8</td>\n",
       "      <td>12</td>\n",
       "      <td>6004</td>\n",
       "    </tr>\n",
       "    <tr>\n",
       "      <th>4</th>\n",
       "      <td>1</td>\n",
       "      <td>1</td>\n",
       "      <td>1</td>\n",
       "      <td>2023-01-24 20:57:00</td>\n",
       "      <td>22</td>\n",
       "      <td>18</td>\n",
       "      <td>7035</td>\n",
       "    </tr>\n",
       "    <tr>\n",
       "      <th>...</th>\n",
       "      <td>...</td>\n",
       "      <td>...</td>\n",
       "      <td>...</td>\n",
       "      <td>...</td>\n",
       "      <td>...</td>\n",
       "      <td>...</td>\n",
       "      <td>...</td>\n",
       "    </tr>\n",
       "    <tr>\n",
       "      <th>426</th>\n",
       "      <td>1</td>\n",
       "      <td>1</td>\n",
       "      <td>1</td>\n",
       "      <td>2023-01-24 20:57:14</td>\n",
       "      <td>2</td>\n",
       "      <td>18</td>\n",
       "      <td>8002</td>\n",
       "    </tr>\n",
       "    <tr>\n",
       "      <th>427</th>\n",
       "      <td>1</td>\n",
       "      <td>1</td>\n",
       "      <td>1</td>\n",
       "      <td>2023-01-24 20:50:54</td>\n",
       "      <td>10</td>\n",
       "      <td>10</td>\n",
       "      <td>10007</td>\n",
       "    </tr>\n",
       "    <tr>\n",
       "      <th>428</th>\n",
       "      <td>1</td>\n",
       "      <td>1</td>\n",
       "      <td>1</td>\n",
       "      <td>2023-01-24 20:52:06</td>\n",
       "      <td>3</td>\n",
       "      <td>37</td>\n",
       "      <td>9033</td>\n",
       "    </tr>\n",
       "    <tr>\n",
       "      <th>429</th>\n",
       "      <td>1</td>\n",
       "      <td>1</td>\n",
       "      <td>1</td>\n",
       "      <td>2023-01-24 20:54:05</td>\n",
       "      <td>9</td>\n",
       "      <td>13</td>\n",
       "      <td>5001</td>\n",
       "    </tr>\n",
       "    <tr>\n",
       "      <th>430</th>\n",
       "      <td>1</td>\n",
       "      <td>1</td>\n",
       "      <td>1</td>\n",
       "      <td>2023-01-24 20:53:03</td>\n",
       "      <td>19</td>\n",
       "      <td>11</td>\n",
       "      <td>3018</td>\n",
       "    </tr>\n",
       "  </tbody>\n",
       "</table>\n",
       "<p>431 rows × 7 columns</p>\n",
       "</div>"
      ],
      "text/plain": [
       "     is_installed  is_renting  is_returning       last_reported  \\\n",
       "0               1           1             1 2023-01-24 20:49:49   \n",
       "1               1           1             1 2023-01-24 20:56:02   \n",
       "2               1           1             1 2023-01-24 20:48:16   \n",
       "3               1           1             1 2023-01-24 20:53:46   \n",
       "4               1           1             1 2023-01-24 20:57:00   \n",
       "..            ...         ...           ...                 ...   \n",
       "426             1           1             1 2023-01-24 20:57:14   \n",
       "427             1           1             1 2023-01-24 20:50:54   \n",
       "428             1           1             1 2023-01-24 20:52:06   \n",
       "429             1           1             1 2023-01-24 20:54:05   \n",
       "430             1           1             1 2023-01-24 20:53:03   \n",
       "\n",
       "     num_bikes_available  num_docks_available station_id  \n",
       "0                     14                    8       2010  \n",
       "1                     17                    2       5015  \n",
       "2                      8                    9      32001  \n",
       "3                      8                   12       6004  \n",
       "4                     22                   18       7035  \n",
       "..                   ...                  ...        ...  \n",
       "426                    2                   18       8002  \n",
       "427                   10                   10      10007  \n",
       "428                    3                   37       9033  \n",
       "429                    9                   13       5001  \n",
       "430                   19                   11       3018  \n",
       "\n",
       "[431 rows x 7 columns]"
      ]
     },
     "execution_count": 33,
     "metadata": {},
     "output_type": "execute_result"
    }
   ],
   "source": [
    "donnees_velov"
   ]
  },
  {
   "cell_type": "code",
   "execution_count": null,
   "id": "cdb0e51e",
   "metadata": {},
   "outputs": [],
   "source": [
    "# La méthode describe permet de se rendre compte d'un problème de timezone\n",
    "donnees_velov['last_reported'].describe()"
   ]
  },
  {
   "attachments": {},
   "cell_type": "markdown",
   "id": "c719509d-edf3-42f1-b07e-248df6af5837",
   "metadata": {
    "slideshow": {
     "slide_type": "slide"
    },
    "tags": []
   },
   "source": [
    "Pour remettre nos dates sur la bonne timezone :"
   ]
  },
  {
   "cell_type": "code",
   "execution_count": 35,
   "id": "c489fac3-7bad-4a4f-8137-e99a5a591f44",
   "metadata": {},
   "outputs": [
    {
     "name": "stdout",
     "output_type": "stream",
     "text": [
      "<class 'pandas.core.frame.DataFrame'>\n",
      "RangeIndex: 431 entries, 0 to 430\n",
      "Data columns (total 7 columns):\n",
      " #   Column               Non-Null Count  Dtype                       \n",
      "---  ------               --------------  -----                       \n",
      " 0   is_installed         431 non-null    int64                       \n",
      " 1   is_renting           431 non-null    int64                       \n",
      " 2   is_returning         431 non-null    int64                       \n",
      " 3   last_reported        431 non-null    datetime64[ns, Europe/Paris]\n",
      " 4   num_bikes_available  431 non-null    int64                       \n",
      " 5   num_docks_available  431 non-null    int64                       \n",
      " 6   station_id           431 non-null    object                      \n",
      "dtypes: datetime64[ns, Europe/Paris](1), int64(5), object(1)\n",
      "memory usage: 23.7+ KB\n",
      "None\n"
     ]
    },
    {
     "data": {
      "text/html": [
       "<div>\n",
       "<style scoped>\n",
       "    .dataframe tbody tr th:only-of-type {\n",
       "        vertical-align: middle;\n",
       "    }\n",
       "\n",
       "    .dataframe tbody tr th {\n",
       "        vertical-align: top;\n",
       "    }\n",
       "\n",
       "    .dataframe thead th {\n",
       "        text-align: right;\n",
       "    }\n",
       "</style>\n",
       "<table border=\"1\" class=\"dataframe\">\n",
       "  <thead>\n",
       "    <tr style=\"text-align: right;\">\n",
       "      <th></th>\n",
       "      <th>is_installed</th>\n",
       "      <th>is_renting</th>\n",
       "      <th>is_returning</th>\n",
       "      <th>last_reported</th>\n",
       "      <th>num_bikes_available</th>\n",
       "      <th>num_docks_available</th>\n",
       "      <th>station_id</th>\n",
       "    </tr>\n",
       "  </thead>\n",
       "  <tbody>\n",
       "    <tr>\n",
       "      <th>0</th>\n",
       "      <td>1</td>\n",
       "      <td>1</td>\n",
       "      <td>1</td>\n",
       "      <td>2023-01-24 20:49:49+01:00</td>\n",
       "      <td>14</td>\n",
       "      <td>8</td>\n",
       "      <td>2010</td>\n",
       "    </tr>\n",
       "    <tr>\n",
       "      <th>1</th>\n",
       "      <td>1</td>\n",
       "      <td>1</td>\n",
       "      <td>1</td>\n",
       "      <td>2023-01-24 20:56:02+01:00</td>\n",
       "      <td>17</td>\n",
       "      <td>2</td>\n",
       "      <td>5015</td>\n",
       "    </tr>\n",
       "    <tr>\n",
       "      <th>2</th>\n",
       "      <td>1</td>\n",
       "      <td>1</td>\n",
       "      <td>1</td>\n",
       "      <td>2023-01-24 20:48:16+01:00</td>\n",
       "      <td>8</td>\n",
       "      <td>9</td>\n",
       "      <td>32001</td>\n",
       "    </tr>\n",
       "    <tr>\n",
       "      <th>3</th>\n",
       "      <td>1</td>\n",
       "      <td>1</td>\n",
       "      <td>1</td>\n",
       "      <td>2023-01-24 20:53:46+01:00</td>\n",
       "      <td>8</td>\n",
       "      <td>12</td>\n",
       "      <td>6004</td>\n",
       "    </tr>\n",
       "    <tr>\n",
       "      <th>4</th>\n",
       "      <td>1</td>\n",
       "      <td>1</td>\n",
       "      <td>1</td>\n",
       "      <td>2023-01-24 20:57:00+01:00</td>\n",
       "      <td>22</td>\n",
       "      <td>18</td>\n",
       "      <td>7035</td>\n",
       "    </tr>\n",
       "    <tr>\n",
       "      <th>...</th>\n",
       "      <td>...</td>\n",
       "      <td>...</td>\n",
       "      <td>...</td>\n",
       "      <td>...</td>\n",
       "      <td>...</td>\n",
       "      <td>...</td>\n",
       "      <td>...</td>\n",
       "    </tr>\n",
       "    <tr>\n",
       "      <th>426</th>\n",
       "      <td>1</td>\n",
       "      <td>1</td>\n",
       "      <td>1</td>\n",
       "      <td>2023-01-24 20:57:14+01:00</td>\n",
       "      <td>2</td>\n",
       "      <td>18</td>\n",
       "      <td>8002</td>\n",
       "    </tr>\n",
       "    <tr>\n",
       "      <th>427</th>\n",
       "      <td>1</td>\n",
       "      <td>1</td>\n",
       "      <td>1</td>\n",
       "      <td>2023-01-24 20:50:54+01:00</td>\n",
       "      <td>10</td>\n",
       "      <td>10</td>\n",
       "      <td>10007</td>\n",
       "    </tr>\n",
       "    <tr>\n",
       "      <th>428</th>\n",
       "      <td>1</td>\n",
       "      <td>1</td>\n",
       "      <td>1</td>\n",
       "      <td>2023-01-24 20:52:06+01:00</td>\n",
       "      <td>3</td>\n",
       "      <td>37</td>\n",
       "      <td>9033</td>\n",
       "    </tr>\n",
       "    <tr>\n",
       "      <th>429</th>\n",
       "      <td>1</td>\n",
       "      <td>1</td>\n",
       "      <td>1</td>\n",
       "      <td>2023-01-24 20:54:05+01:00</td>\n",
       "      <td>9</td>\n",
       "      <td>13</td>\n",
       "      <td>5001</td>\n",
       "    </tr>\n",
       "    <tr>\n",
       "      <th>430</th>\n",
       "      <td>1</td>\n",
       "      <td>1</td>\n",
       "      <td>1</td>\n",
       "      <td>2023-01-24 20:53:03+01:00</td>\n",
       "      <td>19</td>\n",
       "      <td>11</td>\n",
       "      <td>3018</td>\n",
       "    </tr>\n",
       "  </tbody>\n",
       "</table>\n",
       "<p>431 rows × 7 columns</p>\n",
       "</div>"
      ],
      "text/plain": [
       "     is_installed  is_renting  is_returning             last_reported  \\\n",
       "0               1           1             1 2023-01-24 20:49:49+01:00   \n",
       "1               1           1             1 2023-01-24 20:56:02+01:00   \n",
       "2               1           1             1 2023-01-24 20:48:16+01:00   \n",
       "3               1           1             1 2023-01-24 20:53:46+01:00   \n",
       "4               1           1             1 2023-01-24 20:57:00+01:00   \n",
       "..            ...         ...           ...                       ...   \n",
       "426             1           1             1 2023-01-24 20:57:14+01:00   \n",
       "427             1           1             1 2023-01-24 20:50:54+01:00   \n",
       "428             1           1             1 2023-01-24 20:52:06+01:00   \n",
       "429             1           1             1 2023-01-24 20:54:05+01:00   \n",
       "430             1           1             1 2023-01-24 20:53:03+01:00   \n",
       "\n",
       "     num_bikes_available  num_docks_available station_id  \n",
       "0                     14                    8       2010  \n",
       "1                     17                    2       5015  \n",
       "2                      8                    9      32001  \n",
       "3                      8                   12       6004  \n",
       "4                     22                   18       7035  \n",
       "..                   ...                  ...        ...  \n",
       "426                    2                   18       8002  \n",
       "427                   10                   10      10007  \n",
       "428                    3                   37       9033  \n",
       "429                    9                   13       5001  \n",
       "430                   19                   11       3018  \n",
       "\n",
       "[431 rows x 7 columns]"
      ]
     },
     "execution_count": 35,
     "metadata": {},
     "output_type": "execute_result"
    }
   ],
   "source": [
    "donnees_velov['last_reported'] = donnees_velov['last_reported'].dt.tz_convert('Europe/Paris')\n",
    "\n",
    "print(donnees_velov.info())\n",
    "donnees_velov"
   ]
  },
  {
   "attachments": {},
   "cell_type": "markdown",
   "id": "22b8ec33-8293-497f-9d43-0c6c11832147",
   "metadata": {
    "slideshow": {
     "slide_type": "slide"
    },
    "tags": []
   },
   "source": [
    "## Ajouter des géométries spatiales avec geopandas\n",
    "\n",
    "Le package geopandas ajoute la gestion des géométries spatiales à pandas."
   ]
  },
  {
   "cell_type": "code",
   "execution_count": 84,
   "id": "49dce553-b516-458b-a0b0-11590217a413",
   "metadata": {},
   "outputs": [],
   "source": [
    "import geopandas as gpd"
   ]
  },
  {
   "cell_type": "markdown",
   "id": "14c004c0-2c58-47c2-909a-46a160216909",
   "metadata": {
    "slideshow": {
     "slide_type": "slide"
    },
    "tags": []
   },
   "source": [
    "### Transformer un DataFrame en GeoDataFrame\n",
    "\n",
    "On va créer un GeoDataFrame avec des géométries spatiales de type point à partir des données latitude et longitude renvoyées par l'API."
   ]
  },
  {
   "cell_type": "code",
   "execution_count": 88,
   "id": "ac9c74f8-5dfb-4f77-83a3-a3743f624015",
   "metadata": {},
   "outputs": [
    {
     "name": "stdout",
     "output_type": "stream",
     "text": [
      "<class 'geopandas.geodataframe.GeoDataFrame'>\n",
      "RangeIndex: 100 entries, 0 to 99\n",
      "Data columns (total 17 columns):\n",
      " #   Column                     Non-Null Count  Dtype                       \n",
      "---  ------                     --------------  -----                       \n",
      " 0   code_site                  100 non-null    object                      \n",
      " 1   code_station               100 non-null    object                      \n",
      " 2   grandeur_hydro             100 non-null    object                      \n",
      " 3   date_debut_serie           100 non-null    datetime64[ns, Europe/Paris]\n",
      " 4   date_fin_serie             100 non-null    datetime64[ns, Europe/Paris]\n",
      " 5   statut_serie               100 non-null    int64                       \n",
      " 6   code_systeme_alti_serie    100 non-null    int64                       \n",
      " 7   date_obs                   100 non-null    datetime64[ns, Europe/Paris]\n",
      " 8   resultat_obs               100 non-null    float64                     \n",
      " 9   code_methode_obs           100 non-null    int64                       \n",
      " 10  libelle_methode_obs        100 non-null    object                      \n",
      " 11  code_qualification_obs     100 non-null    int64                       \n",
      " 12  libelle_qualification_obs  100 non-null    object                      \n",
      " 13  continuite_obs_hydro       100 non-null    bool                        \n",
      " 14  longitude                  100 non-null    float64                     \n",
      " 15  latitude                   100 non-null    float64                     \n",
      " 16  geometry                   100 non-null    geometry                    \n",
      "dtypes: bool(1), datetime64[ns, Europe/Paris](3), float64(3), geometry(1), int64(4), object(5)\n",
      "memory usage: 12.7+ KB\n",
      "None\n"
     ]
    }
   ],
   "source": [
    "gdf_hydro = gpd.GeoDataFrame(donnees_hydro, \n",
    "                             crs=\"EPSG:4326\", \n",
    "                             geometry=gpd.points_from_xy(donnees_hydro['longitude'], \n",
    "                                                         donnees_hydro['latitude']))\n",
    "print(gdf_hydro.info())"
   ]
  },
  {
   "cell_type": "code",
   "execution_count": 94,
   "id": "d9d3db2a-5226-4c71-9ffd-a2b755b73e1d",
   "metadata": {},
   "outputs": [
    {
     "data": {
      "text/plain": [
       "0     POINT (6.27105 46.15060)\n",
       "1     POINT (6.27105 46.15060)\n",
       "2     POINT (6.27105 46.15060)\n",
       "3     POINT (6.27105 46.15060)\n",
       "4     POINT (6.27105 46.15060)\n",
       "                ...           \n",
       "95    POINT (6.27105 46.15060)\n",
       "96    POINT (6.27105 46.15060)\n",
       "97    POINT (6.27105 46.15060)\n",
       "98    POINT (6.27105 46.15060)\n",
       "99    POINT (6.27105 46.15060)\n",
       "Name: geometry, Length: 100, dtype: geometry"
      ]
     },
     "execution_count": 94,
     "metadata": {},
     "output_type": "execute_result"
    }
   ],
   "source": [
    "gdf_hydro['geometry']"
   ]
  },
  {
   "cell_type": "markdown",
   "id": "c30566ff-9060-46bb-808e-c51fca0bb575",
   "metadata": {
    "slideshow": {
     "slide_type": "slide"
    },
    "tags": []
   },
   "source": [
    "### Produire des cartes avec geopandas\n",
    "\n",
    "On peux utiliser un dataset fourni dans le package geopandas comme fond de carte et utiliser matplotlib pour générer une carte."
   ]
  },
  {
   "cell_type": "code",
   "execution_count": 97,
   "id": "bcbafcc7-65d7-4218-a3f0-3b96f70e3d77",
   "metadata": {},
   "outputs": [],
   "source": [
    "world = gpd.read_file(gpd.datasets.get_path('naturalearth_lowres'))"
   ]
  },
  {
   "cell_type": "code",
   "execution_count": 102,
   "id": "414f165e-3a06-4c72-89c9-26e7908e3d81",
   "metadata": {},
   "outputs": [
    {
     "data": {
      "text/plain": [
       "(40.0, 52.0)"
      ]
     },
     "execution_count": 102,
     "metadata": {},
     "output_type": "execute_result"
    },
    {
     "data": {
      "image/png": "[encoded data removed]",
      "text/plain": [
       "<Figure size 640x480 with 1 Axes>"
      ]
     },
     "metadata": {},
     "output_type": "display_data"
    }
   ],
   "source": [
    "base = world[world['name']=='France'].plot(color='white', edgecolor='black')\n",
    "\n",
    "gdf_dernieres_mesures = gdf_hydro.groupby('code_station').first()\n",
    "\n",
    "stations_map = gdf_dernieres_mesures.plot(ax=base, marker='o', color='red', markersize=100)\n",
    "\n",
    "stations_map.set_xlim(-7.5,10)\n",
    "stations_map.set_ylim(40,52)"
   ]
  },
  {
   "cell_type": "markdown",
   "id": "9f87a6f6-027f-4776-8a3c-951e72cffddd",
   "metadata": {
    "slideshow": {
     "slide_type": "slide"
    },
    "tags": []
   },
   "source": [
    "La méthode `explore()` permet de générer rapidement un leaflet. Cette méthode fait appel au package ipyleaflet."
   ]
  },
  {
   "cell_type": "code",
   "execution_count": 108,
   "id": "c848b1b6-48b8-422f-9f1c-b505a1ff374b",
   "metadata": {},
   "outputs": [
    {
     "name": "stderr",
     "output_type": "stream",
     "text": [
      "/opt/miniconda3/envs/formation-python/lib/python3.10/site-packages/mapclassify/classifiers.py:891: RuntimeWarning: invalid value encountered in double_scalars\n",
      "  gadf = 1 - self.adcm / adam\n"
     ]
    },
    {
     "data": {
      "text/html": [
       "<div style=\"width:100%;\"><div style=\"position:relative;width:100%;height:0;padding-bottom:60%;\"><span style=\"color:#565656\">Make this Notebook Trusted to load map: File -> Trust Notebook</span><iframe srcdoc=\"&lt;!DOCTYPE html&gt;\n",
       "&lt;head&gt;    \n",
       "    &lt;meta http-equiv=&quot;content-type&quot; content=&quot;text/html; charset=UTF-8&quot; /&gt;\n",
       "    \n",
       "        &lt;script&gt;\n",
       "            L_NO_TOUCH = false;\n",
       "            L_DISABLE_3D = false;\n",
       "        &lt;/script&gt;\n",
       "    \n",
       "    &lt;style&gt;html, body {width: 100%;height: 100%;margin: 0;padding: 0;}&lt;/style&gt;\n",
       "    &lt;style&gt;#map {position:absolute;top:0;bottom:0;right:0;left:0;}&lt;/style&gt;\n",
       "    &lt;script src=&quot;https://cdn.jsdelivr.net/npm/leaflet@1.6.0/dist/leaflet.js&quot;&gt;&lt;/script&gt;\n",
       "    &lt;script src=&quot;https://code.jquery.com/jquery-1.12.4.min.js&quot;&gt;&lt;/script&gt;\n",
       "    &lt;script src=&quot;https://maxcdn.bootstrapcdn.com/bootstrap/3.2.0/js/bootstrap.min.js&quot;&gt;&lt;/script&gt;\n",
       "    &lt;script src=&quot;https://cdnjs.cloudflare.com/ajax/libs/Leaflet.awesome-markers/2.0.2/leaflet.awesome-markers.js&quot;&gt;&lt;/script&gt;\n",
       "    &lt;link rel=&quot;stylesheet&quot; href=&quot;https://cdn.jsdelivr.net/npm/leaflet@1.6.0/dist/leaflet.css&quot;/&gt;\n",
       "    &lt;link rel=&quot;stylesheet&quot; href=&quot;https://maxcdn.bootstrapcdn.com/bootstrap/3.2.0/css/bootstrap.min.css&quot;/&gt;\n",
       "    &lt;link rel=&quot;stylesheet&quot; href=&quot;https://maxcdn.bootstrapcdn.com/bootstrap/3.2.0/css/bootstrap-theme.min.css&quot;/&gt;\n",
       "    &lt;link rel=&quot;stylesheet&quot; href=&quot;https://maxcdn.bootstrapcdn.com/font-awesome/4.6.3/css/font-awesome.min.css&quot;/&gt;\n",
       "    &lt;link rel=&quot;stylesheet&quot; href=&quot;https://cdnjs.cloudflare.com/ajax/libs/Leaflet.awesome-markers/2.0.2/leaflet.awesome-markers.css&quot;/&gt;\n",
       "    &lt;link rel=&quot;stylesheet&quot; href=&quot;https://cdn.jsdelivr.net/gh/python-visualization/folium/folium/templates/leaflet.awesome.rotate.min.css&quot;/&gt;\n",
       "    \n",
       "            &lt;meta name=&quot;viewport&quot; content=&quot;width=device-width,\n",
       "                initial-scale=1.0, maximum-scale=1.0, user-scalable=no&quot; /&gt;\n",
       "            &lt;style&gt;\n",
       "                #map_fdfb9642556a4104c4a4b261581574c2 {\n",
       "                    position: relative;\n",
       "                    width: 100.0%;\n",
       "                    height: 100.0%;\n",
       "                    left: 0.0%;\n",
       "                    top: 0.0%;\n",
       "                }\n",
       "            &lt;/style&gt;\n",
       "        \n",
       "    \n",
       "                    &lt;style&gt;\n",
       "                        .foliumtooltip {\n",
       "                            \n",
       "                        }\n",
       "                       .foliumtooltip table{\n",
       "                            margin: auto;\n",
       "                        }\n",
       "                        .foliumtooltip tr{\n",
       "                            text-align: left;\n",
       "                        }\n",
       "                        .foliumtooltip th{\n",
       "                            padding: 2px; padding-right: 8px;\n",
       "                        }\n",
       "                    &lt;/style&gt;\n",
       "            \n",
       "    \n",
       "                    &lt;style&gt;\n",
       "                        .foliumpopup {\n",
       "                            margin: auto;\n",
       "                        }\n",
       "                       .foliumpopup table{\n",
       "                            margin: auto;\n",
       "                        }\n",
       "                        .foliumpopup tr{\n",
       "                            text-align: left;\n",
       "                        }\n",
       "                        .foliumpopup th{\n",
       "                            padding: 2px; padding-right: 8px;\n",
       "                        }\n",
       "                    &lt;/style&gt;\n",
       "            \n",
       "    &lt;script src=&quot;https://cdnjs.cloudflare.com/ajax/libs/d3/3.5.5/d3.min.js&quot;&gt;&lt;/script&gt;\n",
       "&lt;/head&gt;\n",
       "&lt;body&gt;    \n",
       "    \n",
       "            &lt;div class=&quot;folium-map&quot; id=&quot;map_fdfb9642556a4104c4a4b261581574c2&quot; &gt;&lt;/div&gt;\n",
       "        \n",
       "&lt;/body&gt;\n",
       "&lt;script&gt;    \n",
       "    \n",
       "            var map_fdfb9642556a4104c4a4b261581574c2 = L.map(\n",
       "                &quot;map_fdfb9642556a4104c4a4b261581574c2&quot;,\n",
       "                {\n",
       "                    center: [46.150604321, 6.271047706],\n",
       "                    crs: L.CRS.Simple,\n",
       "                    zoom: 10,\n",
       "                    zoomControl: true,\n",
       "                    preferCanvas: false,\n",
       "                }\n",
       "            );\n",
       "            L.control.scale().addTo(map_fdfb9642556a4104c4a4b261581574c2);\n",
       "\n",
       "            \n",
       "\n",
       "        \n",
       "    \n",
       "            map_fdfb9642556a4104c4a4b261581574c2.fitBounds(\n",
       "                [[46.150604321, 6.271047706], [46.150604321, 6.271047706]],\n",
       "                {}\n",
       "            );\n",
       "        \n",
       "    \n",
       "        function geo_json_acbf83fdd430ab8d1870034cb75b634a_styler(feature) {\n",
       "            switch(feature.id) {\n",
       "                default:\n",
       "                    return {&quot;color&quot;: &quot;#440154&quot;, &quot;fillColor&quot;: &quot;#440154&quot;, &quot;fillOpacity&quot;: 0.5, &quot;weight&quot;: 2};\n",
       "            }\n",
       "        }\n",
       "        function geo_json_acbf83fdd430ab8d1870034cb75b634a_highlighter(feature) {\n",
       "            switch(feature.id) {\n",
       "                default:\n",
       "                    return {&quot;fillOpacity&quot;: 0.75};\n",
       "            }\n",
       "        }\n",
       "        function geo_json_acbf83fdd430ab8d1870034cb75b634a_pointToLayer(feature, latlng) {\n",
       "            var opts = {&quot;bubblingMouseEvents&quot;: true, &quot;color&quot;: &quot;#3388ff&quot;, &quot;dashArray&quot;: null, &quot;dashOffset&quot;: null, &quot;fill&quot;: true, &quot;fillColor&quot;: &quot;#3388ff&quot;, &quot;fillOpacity&quot;: 0.2, &quot;fillRule&quot;: &quot;evenodd&quot;, &quot;lineCap&quot;: &quot;round&quot;, &quot;lineJoin&quot;: &quot;round&quot;, &quot;opacity&quot;: 1.0, &quot;radius&quot;: 2, &quot;stroke&quot;: true, &quot;weight&quot;: 3};\n",
       "            \n",
       "            let style = geo_json_acbf83fdd430ab8d1870034cb75b634a_styler(feature)\n",
       "            Object.assign(opts, style)\n",
       "            \n",
       "            return new L.CircleMarker(latlng, opts)\n",
       "        }\n",
       "\n",
       "        function geo_json_acbf83fdd430ab8d1870034cb75b634a_onEachFeature(feature, layer) {\n",
       "            layer.on({\n",
       "                mouseout: function(e) {\n",
       "                    if(typeof e.target.setStyle === &quot;function&quot;){\n",
       "                        geo_json_acbf83fdd430ab8d1870034cb75b634a.resetStyle(e.target);\n",
       "                    }\n",
       "                },\n",
       "                mouseover: function(e) {\n",
       "                    if(typeof e.target.setStyle === &quot;function&quot;){\n",
       "                        const highlightStyle = geo_json_acbf83fdd430ab8d1870034cb75b634a_highlighter(e.target.feature)\n",
       "                        e.target.setStyle(highlightStyle);\n",
       "                    }\n",
       "                },\n",
       "            });\n",
       "        };\n",
       "        var geo_json_acbf83fdd430ab8d1870034cb75b634a = L.geoJson(null, {\n",
       "                onEachFeature: geo_json_acbf83fdd430ab8d1870034cb75b634a_onEachFeature,\n",
       "            \n",
       "                style: geo_json_acbf83fdd430ab8d1870034cb75b634a_styler,\n",
       "                pointToLayer: geo_json_acbf83fdd430ab8d1870034cb75b634a_pointToLayer\n",
       "        });\n",
       "\n",
       "        function geo_json_acbf83fdd430ab8d1870034cb75b634a_add (data) {\n",
       "            geo_json_acbf83fdd430ab8d1870034cb75b634a\n",
       "                .addData(data)\n",
       "                .addTo(map_fdfb9642556a4104c4a4b261581574c2);\n",
       "        }\n",
       "            geo_json_acbf83fdd430ab8d1870034cb75b634a_add({&quot;bbox&quot;: [6.271047706, 46.150604321, 6.271047706, 46.150604321], &quot;features&quot;: [{&quot;bbox&quot;: [6.271047706, 46.150604321, 6.271047706, 46.150604321], &quot;geometry&quot;: {&quot;coordinates&quot;: [6.271047706, 46.150604321], &quot;type&quot;: &quot;Point&quot;}, &quot;id&quot;: &quot;0&quot;, &quot;properties&quot;: {&quot;__folium_color&quot;: &quot;#440154&quot;, &quot;code_station&quot;: &quot;V022000202&quot;, &quot;resultat_obs&quot;: 772.0}, &quot;type&quot;: &quot;Feature&quot;}], &quot;type&quot;: &quot;FeatureCollection&quot;});\n",
       "\n",
       "        \n",
       "    \n",
       "    geo_json_acbf83fdd430ab8d1870034cb75b634a.bindTooltip(\n",
       "    function(layer){\n",
       "    let div = L.DomUtil.create(&#x27;div&#x27;);\n",
       "    \n",
       "    let handleObject = feature=&gt;typeof(feature)==&#x27;object&#x27; ? JSON.stringify(feature) : feature;\n",
       "    let fields = [&quot;code_station&quot;];\n",
       "    let aliases = [&quot;code_station&quot;];\n",
       "    let table = &#x27;&lt;table&gt;&#x27; +\n",
       "        String(\n",
       "        fields.map(\n",
       "        (v,i)=&gt;\n",
       "        `&lt;tr&gt;\n",
       "            &lt;th&gt;${aliases[i]}&lt;/th&gt;\n",
       "            \n",
       "            &lt;td&gt;${handleObject(layer.feature.properties[v])}&lt;/td&gt;\n",
       "        &lt;/tr&gt;`).join(&#x27;&#x27;))\n",
       "    +&#x27;&lt;/table&gt;&#x27;;\n",
       "    div.innerHTML=table;\n",
       "    \n",
       "    return div\n",
       "    }\n",
       "    ,{&quot;className&quot;: &quot;foliumtooltip&quot;, &quot;sticky&quot;: true});\n",
       "                     \n",
       "    \n",
       "    geo_json_acbf83fdd430ab8d1870034cb75b634a.bindPopup(\n",
       "    function(layer){\n",
       "    let div = L.DomUtil.create(&#x27;div&#x27;);\n",
       "    \n",
       "    let handleObject = feature=&gt;typeof(feature)==&#x27;object&#x27; ? JSON.stringify(feature) : feature;\n",
       "    let fields = [&quot;code_station&quot;, &quot;resultat_obs&quot;];\n",
       "    let aliases = [&quot;code_station&quot;, &quot;resultat_obs&quot;];\n",
       "    let table = &#x27;&lt;table&gt;&#x27; +\n",
       "        String(\n",
       "        fields.map(\n",
       "        (v,i)=&gt;\n",
       "        `&lt;tr&gt;\n",
       "            &lt;th&gt;${aliases[i].toLocaleString()}&lt;/th&gt;\n",
       "            \n",
       "            &lt;td&gt;${handleObject(layer.feature.properties[v]).toLocaleString()}&lt;/td&gt;\n",
       "        &lt;/tr&gt;`).join(&#x27;&#x27;))\n",
       "    +&#x27;&lt;/table&gt;&#x27;;\n",
       "    div.innerHTML=table;\n",
       "    \n",
       "    return div\n",
       "    }\n",
       "    ,{&quot;className&quot;: &quot;foliumpopup&quot;});\n",
       "                     \n",
       "    \n",
       "    var color_map_05f7b4ff7c64807a277fc792e5d78748 = {};\n",
       "\n",
       "    \n",
       "    color_map_05f7b4ff7c64807a277fc792e5d78748.color = d3.scale.threshold()\n",
       "              .domain([772.0, 772.0, 772.0, 772.0, 772.0, 772.0, 772.0, 772.0, 772.0, 772.0, 772.0, 772.0, 772.0, 772.0, 772.0, 772.0, 772.0, 772.0, 772.0, 772.0, 772.0, 772.0, 772.0, 772.0, 772.0, 772.0, 772.0, 772.0, 772.0, 772.0, 772.0, 772.0, 772.0, 772.0, 772.0, 772.0, 772.0, 772.0, 772.0, 772.0, 772.0, 772.0, 772.0, 772.0, 772.0, 772.0, 772.0, 772.0, 772.0, 772.0, 772.0, 772.0, 772.0, 772.0, 772.0, 772.0, 772.0, 772.0, 772.0, 772.0, 772.0, 772.0, 772.0, 772.0, 772.0, 772.0, 772.0, 772.0, 772.0, 772.0, 772.0, 772.0, 772.0, 772.0, 772.0, 772.0, 772.0, 772.0, 772.0, 772.0, 772.0, 772.0, 772.0, 772.0, 772.0, 772.0, 772.0, 772.0, 772.0, 772.0, 772.0, 772.0, 772.0, 772.0, 772.0, 772.0, 772.0, 772.0, 772.0, 772.0, 772.0, 772.0, 772.0, 772.0, 772.0, 772.0, 772.0, 772.0, 772.0, 772.0, 772.0, 772.0, 772.0, 772.0, 772.0, 772.0, 772.0, 772.0, 772.0, 772.0, 772.0, 772.0, 772.0, 772.0, 772.0, 772.0, 772.0, 772.0, 772.0, 772.0, 772.0, 772.0, 772.0, 772.0, 772.0, 772.0, 772.0, 772.0, 772.0, 772.0, 772.0, 772.0, 772.0, 772.0, 772.0, 772.0, 772.0, 772.0, 772.0, 772.0, 772.0, 772.0, 772.0, 772.0, 772.0, 772.0, 772.0, 772.0, 772.0, 772.0, 772.0, 772.0, 772.0, 772.0, 772.0, 772.0, 772.0, 772.0, 772.0, 772.0, 772.0, 772.0, 772.0, 772.0, 772.0, 772.0, 772.0, 772.0, 772.0, 772.0, 772.0, 772.0, 772.0, 772.0, 772.0, 772.0, 772.0, 772.0, 772.0, 772.0, 772.0, 772.0, 772.0, 772.0, 772.0, 772.0, 772.0, 772.0, 772.0, 772.0, 772.0, 772.0, 772.0, 772.0, 772.0, 772.0, 772.0, 772.0, 772.0, 772.0, 772.0, 772.0, 772.0, 772.0, 772.0, 772.0, 772.0, 772.0, 772.0, 772.0, 772.0, 772.0, 772.0, 772.0, 772.0, 772.0, 772.0, 772.0, 772.0, 772.0, 772.0, 772.0, 772.0, 772.0, 772.0, 772.0, 772.0, 772.0, 772.0, 772.0, 772.0, 772.0, 772.0, 772.0, 772.0, 772.0, 772.0, 772.0, 772.0, 772.0, 772.0, 772.0, 772.0, 772.0, 772.0, 772.0, 772.0, 772.0, 772.0, 772.0, 772.0, 772.0, 772.0, 772.0, 772.0, 772.0, 772.0, 772.0, 772.0, 772.0, 772.0, 772.0, 772.0, 772.0, 772.0, 772.0, 772.0, 772.0, 772.0, 772.0, 772.0, 772.0, 772.0, 772.0, 772.0, 772.0, 772.0, 772.0, 772.0, 772.0, 772.0, 772.0, 772.0, 772.0, 772.0, 772.0, 772.0, 772.0, 772.0, 772.0, 772.0, 772.0, 772.0, 772.0, 772.0, 772.0, 772.0, 772.0, 772.0, 772.0, 772.0, 772.0, 772.0, 772.0, 772.0, 772.0, 772.0, 772.0, 772.0, 772.0, 772.0, 772.0, 772.0, 772.0, 772.0, 772.0, 772.0, 772.0, 772.0, 772.0, 772.0, 772.0, 772.0, 772.0, 772.0, 772.0, 772.0, 772.0, 772.0, 772.0, 772.0, 772.0, 772.0, 772.0, 772.0, 772.0, 772.0, 772.0, 772.0, 772.0, 772.0, 772.0, 772.0, 772.0, 772.0, 772.0, 772.0, 772.0, 772.0, 772.0, 772.0, 772.0, 772.0, 772.0, 772.0, 772.0, 772.0, 772.0, 772.0, 772.0, 772.0, 772.0, 772.0, 772.0, 772.0, 772.0, 772.0, 772.0, 772.0, 772.0, 772.0, 772.0, 772.0, 772.0, 772.0, 772.0, 772.0, 772.0, 772.0, 772.0, 772.0, 772.0, 772.0, 772.0, 772.0, 772.0, 772.0, 772.0, 772.0, 772.0, 772.0, 772.0, 772.0, 772.0, 772.0, 772.0, 772.0, 772.0, 772.0, 772.0, 772.0, 772.0, 772.0, 772.0, 772.0, 772.0, 772.0, 772.0, 772.0, 772.0, 772.0, 772.0, 772.0, 772.0, 772.0, 772.0, 772.0, 772.0, 772.0, 772.0, 772.0, 772.0, 772.0, 772.0, 772.0, 772.0, 772.0, 772.0, 772.0, 772.0, 772.0, 772.0, 772.0, 772.0, 772.0, 772.0, 772.0, 772.0, 772.0, 772.0, 772.0, 772.0, 772.0, 772.0, 772.0, 772.0, 772.0, 772.0, 772.0, 772.0, 772.0, 772.0, 772.0, 772.0, 772.0, 772.0, 772.0, 772.0, 772.0, 772.0, 772.0, 772.0, 772.0, 772.0, 772.0, 772.0, 772.0, 772.0, 772.0, 772.0, 772.0, 772.0, 772.0, 772.0, 772.0, 772.0, 772.0, 772.0, 772.0, 772.0, 772.0, 772.0, 772.0, 772.0, 772.0, 772.0, 772.0, 772.0, 772.0, 772.0])\n",
       "              .range([&#x27;#440154ff&#x27;, &#x27;#440154ff&#x27;, &#x27;#440154ff&#x27;, &#x27;#440154ff&#x27;, &#x27;#440154ff&#x27;, &#x27;#440154ff&#x27;, &#x27;#440154ff&#x27;, &#x27;#440154ff&#x27;, &#x27;#440154ff&#x27;, &#x27;#440154ff&#x27;, &#x27;#440154ff&#x27;, &#x27;#440154ff&#x27;, &#x27;#440154ff&#x27;, &#x27;#440154ff&#x27;, &#x27;#440154ff&#x27;, &#x27;#440154ff&#x27;, &#x27;#440154ff&#x27;, &#x27;#440154ff&#x27;, &#x27;#440154ff&#x27;, &#x27;#440154ff&#x27;, &#x27;#440154ff&#x27;, &#x27;#440154ff&#x27;, &#x27;#440154ff&#x27;, &#x27;#440154ff&#x27;, &#x27;#440154ff&#x27;, &#x27;#440154ff&#x27;, &#x27;#440154ff&#x27;, &#x27;#440154ff&#x27;, &#x27;#440154ff&#x27;, &#x27;#440154ff&#x27;, &#x27;#440154ff&#x27;, &#x27;#440154ff&#x27;, &#x27;#440154ff&#x27;, &#x27;#440154ff&#x27;, &#x27;#440154ff&#x27;, &#x27;#440154ff&#x27;, &#x27;#440154ff&#x27;, &#x27;#440154ff&#x27;, &#x27;#440154ff&#x27;, &#x27;#440154ff&#x27;, &#x27;#440154ff&#x27;, &#x27;#440154ff&#x27;, &#x27;#440154ff&#x27;, &#x27;#440154ff&#x27;, &#x27;#440154ff&#x27;, &#x27;#440154ff&#x27;, &#x27;#440154ff&#x27;, &#x27;#440154ff&#x27;, &#x27;#440154ff&#x27;, &#x27;#440154ff&#x27;, &#x27;#440154ff&#x27;, &#x27;#440154ff&#x27;, &#x27;#440154ff&#x27;, &#x27;#440154ff&#x27;, &#x27;#440154ff&#x27;, &#x27;#440154ff&#x27;, &#x27;#440154ff&#x27;, &#x27;#440154ff&#x27;, &#x27;#440154ff&#x27;, &#x27;#440154ff&#x27;, &#x27;#440154ff&#x27;, &#x27;#440154ff&#x27;, &#x27;#440154ff&#x27;, &#x27;#440154ff&#x27;, &#x27;#440154ff&#x27;, &#x27;#440154ff&#x27;, &#x27;#440154ff&#x27;, &#x27;#440154ff&#x27;, &#x27;#440154ff&#x27;, &#x27;#440154ff&#x27;, &#x27;#440154ff&#x27;, &#x27;#440154ff&#x27;, &#x27;#440154ff&#x27;, &#x27;#440154ff&#x27;, &#x27;#440154ff&#x27;, &#x27;#440154ff&#x27;, &#x27;#440154ff&#x27;, &#x27;#440154ff&#x27;, &#x27;#440154ff&#x27;, &#x27;#440154ff&#x27;, &#x27;#440154ff&#x27;, &#x27;#440154ff&#x27;, &#x27;#440154ff&#x27;, &#x27;#440154ff&#x27;, &#x27;#440154ff&#x27;, &#x27;#440154ff&#x27;, &#x27;#440154ff&#x27;, &#x27;#440154ff&#x27;, &#x27;#440154ff&#x27;, &#x27;#440154ff&#x27;, &#x27;#440154ff&#x27;, &#x27;#440154ff&#x27;, &#x27;#440154ff&#x27;, &#x27;#440154ff&#x27;, &#x27;#440154ff&#x27;, &#x27;#440154ff&#x27;, &#x27;#440154ff&#x27;, &#x27;#440154ff&#x27;, &#x27;#440154ff&#x27;, &#x27;#440154ff&#x27;, &#x27;#440154ff&#x27;, &#x27;#440154ff&#x27;, &#x27;#440154ff&#x27;, &#x27;#440154ff&#x27;, &#x27;#440154ff&#x27;, &#x27;#440154ff&#x27;, &#x27;#440154ff&#x27;, &#x27;#440154ff&#x27;, &#x27;#440154ff&#x27;, &#x27;#440154ff&#x27;, &#x27;#440154ff&#x27;, &#x27;#440154ff&#x27;, &#x27;#440154ff&#x27;, &#x27;#440154ff&#x27;, &#x27;#440154ff&#x27;, &#x27;#440154ff&#x27;, &#x27;#440154ff&#x27;, &#x27;#440154ff&#x27;, &#x27;#440154ff&#x27;, &#x27;#440154ff&#x27;, &#x27;#440154ff&#x27;, &#x27;#440154ff&#x27;, &#x27;#440154ff&#x27;, &#x27;#440154ff&#x27;, &#x27;#440154ff&#x27;, &#x27;#440154ff&#x27;, &#x27;#440154ff&#x27;, &#x27;#440154ff&#x27;, &#x27;#440154ff&#x27;, &#x27;#440154ff&#x27;, &#x27;#440154ff&#x27;, &#x27;#440154ff&#x27;, &#x27;#440154ff&#x27;, &#x27;#440154ff&#x27;, &#x27;#440154ff&#x27;, &#x27;#440154ff&#x27;, &#x27;#440154ff&#x27;, &#x27;#440154ff&#x27;, &#x27;#440154ff&#x27;, &#x27;#440154ff&#x27;, &#x27;#440154ff&#x27;, &#x27;#440154ff&#x27;, &#x27;#440154ff&#x27;, &#x27;#440154ff&#x27;, &#x27;#440154ff&#x27;, &#x27;#440154ff&#x27;, &#x27;#440154ff&#x27;, &#x27;#440154ff&#x27;, &#x27;#440154ff&#x27;, &#x27;#440154ff&#x27;, &#x27;#440154ff&#x27;, &#x27;#440154ff&#x27;, &#x27;#440154ff&#x27;, &#x27;#440154ff&#x27;, &#x27;#440154ff&#x27;, &#x27;#440154ff&#x27;, &#x27;#440154ff&#x27;, &#x27;#440154ff&#x27;, &#x27;#440154ff&#x27;, &#x27;#440154ff&#x27;, &#x27;#440154ff&#x27;, &#x27;#440154ff&#x27;, &#x27;#440154ff&#x27;, &#x27;#440154ff&#x27;, &#x27;#440154ff&#x27;, &#x27;#440154ff&#x27;, &#x27;#440154ff&#x27;, &#x27;#440154ff&#x27;, &#x27;#440154ff&#x27;, &#x27;#440154ff&#x27;, &#x27;#440154ff&#x27;, &#x27;#440154ff&#x27;, &#x27;#440154ff&#x27;, &#x27;#440154ff&#x27;, &#x27;#440154ff&#x27;, &#x27;#440154ff&#x27;, &#x27;#440154ff&#x27;, &#x27;#440154ff&#x27;, &#x27;#440154ff&#x27;, &#x27;#440154ff&#x27;, &#x27;#440154ff&#x27;, &#x27;#440154ff&#x27;, &#x27;#440154ff&#x27;, &#x27;#440154ff&#x27;, &#x27;#440154ff&#x27;, &#x27;#440154ff&#x27;, &#x27;#440154ff&#x27;, &#x27;#440154ff&#x27;, &#x27;#440154ff&#x27;, &#x27;#440154ff&#x27;, &#x27;#440154ff&#x27;, &#x27;#440154ff&#x27;, &#x27;#440154ff&#x27;, &#x27;#440154ff&#x27;, &#x27;#440154ff&#x27;, &#x27;#440154ff&#x27;, &#x27;#440154ff&#x27;, &#x27;#440154ff&#x27;, &#x27;#440154ff&#x27;, &#x27;#440154ff&#x27;, &#x27;#440154ff&#x27;, &#x27;#440154ff&#x27;, &#x27;#440154ff&#x27;, &#x27;#440154ff&#x27;, &#x27;#440154ff&#x27;, &#x27;#440154ff&#x27;, &#x27;#440154ff&#x27;, &#x27;#440154ff&#x27;, &#x27;#440154ff&#x27;, &#x27;#440154ff&#x27;, &#x27;#440154ff&#x27;, &#x27;#440154ff&#x27;, &#x27;#440154ff&#x27;, &#x27;#440154ff&#x27;, &#x27;#440154ff&#x27;, &#x27;#440154ff&#x27;, &#x27;#440154ff&#x27;, &#x27;#440154ff&#x27;, &#x27;#440154ff&#x27;, &#x27;#440154ff&#x27;, &#x27;#440154ff&#x27;, &#x27;#440154ff&#x27;, &#x27;#440154ff&#x27;, &#x27;#440154ff&#x27;, &#x27;#440154ff&#x27;, &#x27;#440154ff&#x27;, &#x27;#440154ff&#x27;, &#x27;#440154ff&#x27;, &#x27;#440154ff&#x27;, &#x27;#440154ff&#x27;, &#x27;#440154ff&#x27;, &#x27;#440154ff&#x27;, &#x27;#440154ff&#x27;, &#x27;#440154ff&#x27;, &#x27;#440154ff&#x27;, &#x27;#440154ff&#x27;, &#x27;#440154ff&#x27;, &#x27;#440154ff&#x27;, &#x27;#440154ff&#x27;, &#x27;#440154ff&#x27;, &#x27;#440154ff&#x27;, &#x27;#440154ff&#x27;, &#x27;#440154ff&#x27;, &#x27;#440154ff&#x27;, &#x27;#440154ff&#x27;, &#x27;#440154ff&#x27;, &#x27;#440154ff&#x27;, &#x27;#440154ff&#x27;, &#x27;#440154ff&#x27;, &#x27;#440154ff&#x27;, &#x27;#440154ff&#x27;, &#x27;#440154ff&#x27;, &#x27;#440154ff&#x27;, &#x27;#440154ff&#x27;, &#x27;#440154ff&#x27;, &#x27;#440154ff&#x27;, &#x27;#440154ff&#x27;, &#x27;#440154ff&#x27;, &#x27;#440154ff&#x27;, &#x27;#440154ff&#x27;, &#x27;#440154ff&#x27;, &#x27;#440154ff&#x27;, &#x27;#440154ff&#x27;, &#x27;#440154ff&#x27;, &#x27;#440154ff&#x27;, &#x27;#440154ff&#x27;, &#x27;#440154ff&#x27;, &#x27;#440154ff&#x27;, &#x27;#440154ff&#x27;, &#x27;#440154ff&#x27;, &#x27;#440154ff&#x27;, &#x27;#440154ff&#x27;, &#x27;#440154ff&#x27;, &#x27;#440154ff&#x27;, &#x27;#440154ff&#x27;, &#x27;#440154ff&#x27;, &#x27;#440154ff&#x27;, &#x27;#440154ff&#x27;, &#x27;#440154ff&#x27;, &#x27;#440154ff&#x27;, &#x27;#440154ff&#x27;, &#x27;#440154ff&#x27;, &#x27;#440154ff&#x27;, &#x27;#440154ff&#x27;, &#x27;#440154ff&#x27;, &#x27;#440154ff&#x27;, &#x27;#440154ff&#x27;, &#x27;#440154ff&#x27;, &#x27;#440154ff&#x27;, &#x27;#440154ff&#x27;, &#x27;#440154ff&#x27;, &#x27;#440154ff&#x27;, &#x27;#440154ff&#x27;, &#x27;#440154ff&#x27;, &#x27;#440154ff&#x27;, &#x27;#440154ff&#x27;, &#x27;#440154ff&#x27;, &#x27;#440154ff&#x27;, &#x27;#440154ff&#x27;, &#x27;#440154ff&#x27;, &#x27;#440154ff&#x27;, &#x27;#440154ff&#x27;, &#x27;#440154ff&#x27;, &#x27;#440154ff&#x27;, &#x27;#440154ff&#x27;, &#x27;#440154ff&#x27;, &#x27;#440154ff&#x27;, &#x27;#440154ff&#x27;, &#x27;#440154ff&#x27;, &#x27;#440154ff&#x27;, &#x27;#440154ff&#x27;, &#x27;#440154ff&#x27;, &#x27;#440154ff&#x27;, &#x27;#440154ff&#x27;, &#x27;#440154ff&#x27;, &#x27;#440154ff&#x27;, &#x27;#440154ff&#x27;, &#x27;#440154ff&#x27;, &#x27;#440154ff&#x27;, &#x27;#440154ff&#x27;, &#x27;#440154ff&#x27;, &#x27;#440154ff&#x27;, &#x27;#440154ff&#x27;, &#x27;#440154ff&#x27;, &#x27;#440154ff&#x27;, &#x27;#440154ff&#x27;, &#x27;#440154ff&#x27;, &#x27;#440154ff&#x27;, &#x27;#440154ff&#x27;, &#x27;#440154ff&#x27;, &#x27;#440154ff&#x27;, &#x27;#440154ff&#x27;, &#x27;#440154ff&#x27;, &#x27;#440154ff&#x27;, &#x27;#440154ff&#x27;, &#x27;#440154ff&#x27;, &#x27;#440154ff&#x27;, &#x27;#440154ff&#x27;, &#x27;#440154ff&#x27;, &#x27;#440154ff&#x27;, &#x27;#440154ff&#x27;, &#x27;#440154ff&#x27;, &#x27;#440154ff&#x27;, &#x27;#440154ff&#x27;, &#x27;#440154ff&#x27;, &#x27;#440154ff&#x27;, &#x27;#440154ff&#x27;, &#x27;#440154ff&#x27;, &#x27;#440154ff&#x27;, &#x27;#440154ff&#x27;, &#x27;#440154ff&#x27;, &#x27;#440154ff&#x27;, &#x27;#440154ff&#x27;, &#x27;#440154ff&#x27;, &#x27;#440154ff&#x27;, &#x27;#440154ff&#x27;, &#x27;#440154ff&#x27;, &#x27;#440154ff&#x27;, &#x27;#440154ff&#x27;, &#x27;#440154ff&#x27;, &#x27;#440154ff&#x27;, &#x27;#440154ff&#x27;, &#x27;#440154ff&#x27;, &#x27;#440154ff&#x27;, &#x27;#440154ff&#x27;, &#x27;#440154ff&#x27;, &#x27;#440154ff&#x27;, &#x27;#440154ff&#x27;, &#x27;#440154ff&#x27;, &#x27;#440154ff&#x27;, &#x27;#440154ff&#x27;, &#x27;#440154ff&#x27;, &#x27;#440154ff&#x27;, &#x27;#440154ff&#x27;, &#x27;#440154ff&#x27;, &#x27;#440154ff&#x27;, &#x27;#440154ff&#x27;, &#x27;#440154ff&#x27;, &#x27;#440154ff&#x27;, &#x27;#440154ff&#x27;, &#x27;#440154ff&#x27;, &#x27;#440154ff&#x27;, &#x27;#440154ff&#x27;, &#x27;#440154ff&#x27;, &#x27;#440154ff&#x27;, &#x27;#440154ff&#x27;, &#x27;#440154ff&#x27;, &#x27;#440154ff&#x27;, &#x27;#440154ff&#x27;, &#x27;#440154ff&#x27;, &#x27;#440154ff&#x27;, &#x27;#440154ff&#x27;, &#x27;#440154ff&#x27;, &#x27;#440154ff&#x27;, &#x27;#440154ff&#x27;, &#x27;#440154ff&#x27;, &#x27;#440154ff&#x27;, &#x27;#440154ff&#x27;, &#x27;#440154ff&#x27;, &#x27;#440154ff&#x27;, &#x27;#440154ff&#x27;, &#x27;#440154ff&#x27;, &#x27;#440154ff&#x27;, &#x27;#440154ff&#x27;, &#x27;#440154ff&#x27;, &#x27;#440154ff&#x27;, &#x27;#440154ff&#x27;, &#x27;#440154ff&#x27;, &#x27;#440154ff&#x27;, &#x27;#440154ff&#x27;, &#x27;#440154ff&#x27;, &#x27;#440154ff&#x27;, &#x27;#440154ff&#x27;, &#x27;#440154ff&#x27;, &#x27;#440154ff&#x27;, &#x27;#440154ff&#x27;, &#x27;#440154ff&#x27;, &#x27;#440154ff&#x27;, &#x27;#440154ff&#x27;, &#x27;#440154ff&#x27;, &#x27;#440154ff&#x27;, &#x27;#440154ff&#x27;, &#x27;#440154ff&#x27;, &#x27;#440154ff&#x27;, &#x27;#440154ff&#x27;, &#x27;#440154ff&#x27;, &#x27;#440154ff&#x27;, &#x27;#440154ff&#x27;, &#x27;#440154ff&#x27;, &#x27;#440154ff&#x27;, &#x27;#440154ff&#x27;, &#x27;#440154ff&#x27;, &#x27;#440154ff&#x27;, &#x27;#440154ff&#x27;, &#x27;#440154ff&#x27;, &#x27;#440154ff&#x27;, &#x27;#440154ff&#x27;, &#x27;#440154ff&#x27;, &#x27;#440154ff&#x27;, &#x27;#440154ff&#x27;, &#x27;#440154ff&#x27;, &#x27;#440154ff&#x27;, &#x27;#440154ff&#x27;, &#x27;#440154ff&#x27;, &#x27;#440154ff&#x27;, &#x27;#440154ff&#x27;, &#x27;#440154ff&#x27;, &#x27;#440154ff&#x27;, &#x27;#440154ff&#x27;, &#x27;#440154ff&#x27;, &#x27;#440154ff&#x27;, &#x27;#440154ff&#x27;, &#x27;#440154ff&#x27;, &#x27;#440154ff&#x27;, &#x27;#440154ff&#x27;, &#x27;#440154ff&#x27;, &#x27;#440154ff&#x27;, &#x27;#440154ff&#x27;, &#x27;#440154ff&#x27;, &#x27;#440154ff&#x27;, &#x27;#440154ff&#x27;, &#x27;#440154ff&#x27;, &#x27;#440154ff&#x27;, &#x27;#440154ff&#x27;, &#x27;#440154ff&#x27;, &#x27;#440154ff&#x27;, &#x27;#440154ff&#x27;, &#x27;#440154ff&#x27;, &#x27;#440154ff&#x27;, &#x27;#440154ff&#x27;, &#x27;#440154ff&#x27;, &#x27;#440154ff&#x27;, &#x27;#440154ff&#x27;, &#x27;#440154ff&#x27;, &#x27;#440154ff&#x27;, &#x27;#440154ff&#x27;, &#x27;#440154ff&#x27;, &#x27;#440154ff&#x27;, &#x27;#440154ff&#x27;, &#x27;#440154ff&#x27;, &#x27;#440154ff&#x27;, &#x27;#440154ff&#x27;, &#x27;#440154ff&#x27;, &#x27;#440154ff&#x27;, &#x27;#440154ff&#x27;, &#x27;#440154ff&#x27;, &#x27;#440154ff&#x27;, &#x27;#440154ff&#x27;, &#x27;#440154ff&#x27;, &#x27;#440154ff&#x27;, &#x27;#440154ff&#x27;, &#x27;#440154ff&#x27;, &#x27;#440154ff&#x27;, &#x27;#440154ff&#x27;, &#x27;#440154ff&#x27;, &#x27;#440154ff&#x27;, &#x27;#440154ff&#x27;, &#x27;#440154ff&#x27;, &#x27;#440154ff&#x27;, &#x27;#440154ff&#x27;]);\n",
       "    \n",
       "\n",
       "    color_map_05f7b4ff7c64807a277fc792e5d78748.x = d3.scale.linear()\n",
       "              .domain([772.0, 772.0])\n",
       "              .range([0, 400]);\n",
       "\n",
       "    color_map_05f7b4ff7c64807a277fc792e5d78748.legend = L.control({position: &#x27;topright&#x27;});\n",
       "    color_map_05f7b4ff7c64807a277fc792e5d78748.legend.onAdd = function (map) {var div = L.DomUtil.create(&#x27;div&#x27;, &#x27;legend&#x27;); return div};\n",
       "    color_map_05f7b4ff7c64807a277fc792e5d78748.legend.addTo(map_fdfb9642556a4104c4a4b261581574c2);\n",
       "\n",
       "    color_map_05f7b4ff7c64807a277fc792e5d78748.xAxis = d3.svg.axis()\n",
       "        .scale(color_map_05f7b4ff7c64807a277fc792e5d78748.x)\n",
       "        .orient(&quot;top&quot;)\n",
       "        .tickSize(1)\n",
       "        .tickValues([772.0, &#x27;&#x27;, &#x27;&#x27;, &#x27;&#x27;, &#x27;&#x27;, &#x27;&#x27;, &#x27;&#x27;, &#x27;&#x27;, &#x27;&#x27;, &#x27;&#x27;, &#x27;&#x27;, &#x27;&#x27;, &#x27;&#x27;, &#x27;&#x27;, &#x27;&#x27;, &#x27;&#x27;, &#x27;&#x27;, &#x27;&#x27;, &#x27;&#x27;, &#x27;&#x27;, &#x27;&#x27;, &#x27;&#x27;, &#x27;&#x27;, &#x27;&#x27;, &#x27;&#x27;, &#x27;&#x27;, 772.0, &#x27;&#x27;, &#x27;&#x27;, &#x27;&#x27;, &#x27;&#x27;, &#x27;&#x27;, &#x27;&#x27;, &#x27;&#x27;, &#x27;&#x27;, &#x27;&#x27;, &#x27;&#x27;, &#x27;&#x27;, &#x27;&#x27;, &#x27;&#x27;, &#x27;&#x27;, &#x27;&#x27;, &#x27;&#x27;, &#x27;&#x27;, &#x27;&#x27;, &#x27;&#x27;, &#x27;&#x27;, &#x27;&#x27;, &#x27;&#x27;, &#x27;&#x27;, &#x27;&#x27;, &#x27;&#x27;, 772.0, &#x27;&#x27;, &#x27;&#x27;, &#x27;&#x27;, &#x27;&#x27;, &#x27;&#x27;, &#x27;&#x27;, &#x27;&#x27;, &#x27;&#x27;, &#x27;&#x27;, &#x27;&#x27;, &#x27;&#x27;, &#x27;&#x27;, &#x27;&#x27;, &#x27;&#x27;, &#x27;&#x27;, &#x27;&#x27;, &#x27;&#x27;, &#x27;&#x27;, &#x27;&#x27;, &#x27;&#x27;, &#x27;&#x27;, &#x27;&#x27;, &#x27;&#x27;, &#x27;&#x27;, &#x27;&#x27;, 772.0, &#x27;&#x27;, &#x27;&#x27;, &#x27;&#x27;, &#x27;&#x27;, &#x27;&#x27;, &#x27;&#x27;, &#x27;&#x27;, &#x27;&#x27;, &#x27;&#x27;, &#x27;&#x27;, &#x27;&#x27;, &#x27;&#x27;, &#x27;&#x27;, &#x27;&#x27;, &#x27;&#x27;, &#x27;&#x27;, &#x27;&#x27;, &#x27;&#x27;, &#x27;&#x27;, &#x27;&#x27;, &#x27;&#x27;, &#x27;&#x27;, &#x27;&#x27;, &#x27;&#x27;, &#x27;&#x27;, 772.0, &#x27;&#x27;, &#x27;&#x27;, &#x27;&#x27;, &#x27;&#x27;, &#x27;&#x27;, &#x27;&#x27;, &#x27;&#x27;, &#x27;&#x27;, &#x27;&#x27;, &#x27;&#x27;, &#x27;&#x27;, &#x27;&#x27;, &#x27;&#x27;, &#x27;&#x27;, &#x27;&#x27;, &#x27;&#x27;, &#x27;&#x27;, &#x27;&#x27;, &#x27;&#x27;, &#x27;&#x27;, &#x27;&#x27;, &#x27;&#x27;, &#x27;&#x27;, &#x27;&#x27;, &#x27;&#x27;, 772.0, &#x27;&#x27;, &#x27;&#x27;, &#x27;&#x27;, &#x27;&#x27;, &#x27;&#x27;, &#x27;&#x27;, &#x27;&#x27;, &#x27;&#x27;, &#x27;&#x27;, &#x27;&#x27;, &#x27;&#x27;, &#x27;&#x27;, &#x27;&#x27;, &#x27;&#x27;, &#x27;&#x27;, &#x27;&#x27;, &#x27;&#x27;, &#x27;&#x27;, &#x27;&#x27;, &#x27;&#x27;, &#x27;&#x27;, &#x27;&#x27;, &#x27;&#x27;, &#x27;&#x27;, &#x27;&#x27;, 772.0, &#x27;&#x27;, &#x27;&#x27;, &#x27;&#x27;, &#x27;&#x27;, &#x27;&#x27;, &#x27;&#x27;, &#x27;&#x27;, &#x27;&#x27;, &#x27;&#x27;, &#x27;&#x27;, &#x27;&#x27;, &#x27;&#x27;, &#x27;&#x27;, &#x27;&#x27;, &#x27;&#x27;, &#x27;&#x27;, &#x27;&#x27;, &#x27;&#x27;, &#x27;&#x27;, &#x27;&#x27;, &#x27;&#x27;, &#x27;&#x27;, &#x27;&#x27;, &#x27;&#x27;, &#x27;&#x27;, 772.0, &#x27;&#x27;, &#x27;&#x27;, &#x27;&#x27;, &#x27;&#x27;, &#x27;&#x27;, &#x27;&#x27;, &#x27;&#x27;, &#x27;&#x27;, &#x27;&#x27;, &#x27;&#x27;, &#x27;&#x27;, &#x27;&#x27;, &#x27;&#x27;, &#x27;&#x27;, &#x27;&#x27;, &#x27;&#x27;, &#x27;&#x27;, &#x27;&#x27;, &#x27;&#x27;, &#x27;&#x27;, &#x27;&#x27;, &#x27;&#x27;, &#x27;&#x27;, &#x27;&#x27;, &#x27;&#x27;, 772.0, &#x27;&#x27;, &#x27;&#x27;, &#x27;&#x27;, &#x27;&#x27;, &#x27;&#x27;, &#x27;&#x27;, &#x27;&#x27;, &#x27;&#x27;, &#x27;&#x27;, &#x27;&#x27;, &#x27;&#x27;, &#x27;&#x27;, &#x27;&#x27;, &#x27;&#x27;, &#x27;&#x27;, &#x27;&#x27;, &#x27;&#x27;, &#x27;&#x27;, &#x27;&#x27;, &#x27;&#x27;, &#x27;&#x27;, &#x27;&#x27;, &#x27;&#x27;, &#x27;&#x27;, &#x27;&#x27;, 772.0, &#x27;&#x27;, &#x27;&#x27;, &#x27;&#x27;, &#x27;&#x27;, &#x27;&#x27;, &#x27;&#x27;, &#x27;&#x27;, &#x27;&#x27;, &#x27;&#x27;, &#x27;&#x27;, &#x27;&#x27;, &#x27;&#x27;, &#x27;&#x27;, &#x27;&#x27;, &#x27;&#x27;, &#x27;&#x27;, &#x27;&#x27;, &#x27;&#x27;, &#x27;&#x27;, &#x27;&#x27;, &#x27;&#x27;, &#x27;&#x27;, &#x27;&#x27;, &#x27;&#x27;, &#x27;&#x27;]);\n",
       "\n",
       "    color_map_05f7b4ff7c64807a277fc792e5d78748.svg = d3.select(&quot;.legend.leaflet-control&quot;).append(&quot;svg&quot;)\n",
       "        .attr(&quot;id&quot;, &#x27;legend&#x27;)\n",
       "        .attr(&quot;width&quot;, 450)\n",
       "        .attr(&quot;height&quot;, 40);\n",
       "\n",
       "    color_map_05f7b4ff7c64807a277fc792e5d78748.g = color_map_05f7b4ff7c64807a277fc792e5d78748.svg.append(&quot;g&quot;)\n",
       "        .attr(&quot;class&quot;, &quot;key&quot;)\n",
       "        .attr(&quot;transform&quot;, &quot;translate(25,16)&quot;);\n",
       "\n",
       "    color_map_05f7b4ff7c64807a277fc792e5d78748.g.selectAll(&quot;rect&quot;)\n",
       "        .data(color_map_05f7b4ff7c64807a277fc792e5d78748.color.range().map(function(d, i) {\n",
       "          return {\n",
       "            x0: i ? color_map_05f7b4ff7c64807a277fc792e5d78748.x(color_map_05f7b4ff7c64807a277fc792e5d78748.color.domain()[i - 1]) : color_map_05f7b4ff7c64807a277fc792e5d78748.x.range()[0],\n",
       "            x1: i &lt; color_map_05f7b4ff7c64807a277fc792e5d78748.color.domain().length ? color_map_05f7b4ff7c64807a277fc792e5d78748.x(color_map_05f7b4ff7c64807a277fc792e5d78748.color.domain()[i]) : color_map_05f7b4ff7c64807a277fc792e5d78748.x.range()[1],\n",
       "            z: d\n",
       "          };\n",
       "        }))\n",
       "      .enter().append(&quot;rect&quot;)\n",
       "        .attr(&quot;height&quot;, 10)\n",
       "        .attr(&quot;x&quot;, function(d) { return d.x0; })\n",
       "        .attr(&quot;width&quot;, function(d) { return d.x1 - d.x0; })\n",
       "        .style(&quot;fill&quot;, function(d) { return d.z; });\n",
       "\n",
       "    color_map_05f7b4ff7c64807a277fc792e5d78748.g.call(color_map_05f7b4ff7c64807a277fc792e5d78748.xAxis).append(&quot;text&quot;)\n",
       "        .attr(&quot;class&quot;, &quot;caption&quot;)\n",
       "        .attr(&quot;y&quot;, 21)\n",
       "        .text(&#x27;resultat_obs&#x27;);\n",
       "&lt;/script&gt;\" style=\"position:absolute;width:100%;height:100%;left:0;top:0;border:none !important;\" allowfullscreen webkitallowfullscreen mozallowfullscreen></iframe></div></div>"
      ],
      "text/plain": [
       "<folium.folium.Map at 0x7f91590a1720>"
      ]
     },
     "execution_count": 108,
     "metadata": {},
     "output_type": "execute_result"
    }
   ],
   "source": [
    "gdf_dernieres_mesures[['resultat_obs', 'geometry']].explore(     \n",
    "    column=\"resultat_obs\", # Utiliser le champ resultat_obs pour la couleur\n",
    "    tooltip=\"code_station\", # show \"BoroName\" value in tooltip (on hover)\n",
    "    popup=True, # show all values in popup (on click)\n",
    "    tiles=\"CartoDB positron\", # use \"CartoDB positron\" tiles\n",
    ")"
   ]
  },
  {
   "cell_type": "markdown",
   "id": "3468d4ba-2a43-4485-accf-49a4784da915",
   "metadata": {
    "slideshow": {
     "slide_type": "slide"
    },
    "tags": []
   },
   "source": [
    "### Enregistrer et lire un fchier avec geopandas\n",
    "\n",
    "On peux enregistrer notre tableau de données spatiales sur le disque (shp, gpkg, sql, ...)."
   ]
  },
  {
   "cell_type": "code",
   "execution_count": 114,
   "id": "e65fe6c5-84e4-429d-9efb-c0c9baabf4d1",
   "metadata": {},
   "outputs": [
    {
     "name": "stdout",
     "output_type": "stream",
     "text": [
      "None\n"
     ]
    }
   ],
   "source": [
    "gdf_hydro.to_file('datasets/output/stations.gpkg')\n",
    "gdf_hydro = None\n",
    "\n",
    "print(gdf_hydro)"
   ]
  },
  {
   "cell_type": "markdown",
   "id": "7429f3d4-eee3-4e1c-be26-96cf5278011d",
   "metadata": {},
   "source": [
    "Et bien sûr, recharger en mémoire un fichier existant."
   ]
  },
  {
   "cell_type": "code",
   "execution_count": 117,
   "id": "a9d633d6-c002-4e86-8271-792f0eefeb11",
   "metadata": {},
   "outputs": [
    {
     "name": "stdout",
     "output_type": "stream",
     "text": [
      "  code_site code_station grandeur_hydro          date_debut_serie  \\\n",
      "0  V0220002   V022000202              H 2022-11-21 07:00:01+01:00   \n",
      "1  V0220002   V022000202              H 2022-11-21 07:00:01+01:00   \n",
      "2  V0220002   V022000202              H 2022-11-21 07:00:01+01:00   \n",
      "3  V0220002   V022000202              H 2022-11-21 07:00:01+01:00   \n",
      "4  V0220002   V022000202              H 2022-11-21 07:00:01+01:00   \n",
      "\n",
      "             date_fin_serie  statut_serie  code_systeme_alti_serie  \\\n",
      "0 2022-11-21 09:30:00+01:00             4                       31   \n",
      "1 2022-11-21 09:30:00+01:00             4                       31   \n",
      "2 2022-11-21 09:30:00+01:00             4                       31   \n",
      "3 2022-11-21 09:30:00+01:00             4                       31   \n",
      "4 2022-11-21 09:30:00+01:00             4                       31   \n",
      "\n",
      "                   date_obs  resultat_obs  code_methode_obs  \\\n",
      "0 2022-11-21 09:30:00+01:00         772.0                 0   \n",
      "1 2022-11-21 09:25:00+01:00         765.0                 0   \n",
      "2 2022-11-21 09:20:00+01:00         753.0                 0   \n",
      "3 2022-11-21 09:15:00+01:00         722.0                 0   \n",
      "4 2022-11-21 09:10:00+01:00         735.0                 0   \n",
      "\n",
      "  libelle_methode_obs  code_qualification_obs libelle_qualification_obs  \\\n",
      "0              Mesure                      16             Non qualifiée   \n",
      "1              Mesure                      16             Non qualifiée   \n",
      "2              Mesure                      16             Non qualifiée   \n",
      "3              Mesure                      16             Non qualifiée   \n",
      "4              Mesure                      16             Non qualifiée   \n",
      "\n",
      "   continuite_obs_hydro  longitude   latitude                  geometry  \n",
      "0                  True   6.271048  46.150604  POINT (6.27105 46.15060)  \n",
      "1                  True   6.271048  46.150604  POINT (6.27105 46.15060)  \n",
      "2                  True   6.271048  46.150604  POINT (6.27105 46.15060)  \n",
      "3                  True   6.271048  46.150604  POINT (6.27105 46.15060)  \n",
      "4                  True   6.271048  46.150604  POINT (6.27105 46.15060)  \n"
     ]
    }
   ],
   "source": [
    "gdf_hydro = gpd.read_file('datasets/output/stations.gpkg')\n",
    "print(gdf_hydro.head())"
   ]
  },
  {
   "cell_type": "markdown",
   "id": "3c8f5fc3-d64c-48e5-b085-780e4791cec4",
   "metadata": {
    "slideshow": {
     "slide_type": "slide"
    },
    "tags": []
   },
   "source": [
    "### Pour aller plus loin avec geopandas\n",
    "\n",
    "Geopandas permet de faire énormément de chose que l'on fait classiquement dans un SIG avec des méthodes très simples à utiliser : jointures spatiales, buffer, calculs de distance, etc.\n",
    "\n",
    "Pour en savoir plus, [rendez-vous dans la doc !](https://geopandas.org/en/stable/getting_started/introduction.html)"
   ]
  }
 ],
 "metadata": {
  "kernelspec": {
   "display_name": "formation-python",
   "language": "python",
   "name": "python3"
  },
  "language_info": {
   "codemirror_mode": {
    "name": "ipython",
    "version": 3
   },
   "file_extension": ".py",
   "mimetype": "text/x-python",
   "name": "python",
   "nbconvert_exporter": "python",
   "pygments_lexer": "ipython3",
   "version": "3.10.6"
  },
  "vscode": {
   "interpreter": {
    "hash": "50311241a5c10afd3d6254552579c5b4c0c03ce3da3bbd01d84b895efee58118"
   }
  }
 },
 "nbformat": 4,
 "nbformat_minor": 5
}
