{
 "cells": [
  {
   "cell_type": "markdown",
   "metadata": {
    "slideshow": {
     "slide_type": "slide"
    },
    "tags": []
   },
   "source": [
    "# Introduction à l'usage de python en géographie\n",
    "\n",
    "Ce cours est téléchargeable à l'adresse https://github.com/sdunesme/formation-python"
   ]
  },
  {
   "cell_type": "markdown",
   "metadata": {
    "slideshow": {
     "slide_type": "slide"
    },
    "tags": []
   },
   "source": [
    "## Qu'est-ce que Python ?\n",
    "> Python est un langage de programmation **interprété** et **multiplateformes**. Il favorise la programmation impérative structurée, **fonctionnelle et orientée objet**. Il est doté d'un **typage dynamique fort**, d'une gestion automatique de la mémoire par ramasse-miettes et d'un système de gestion d'exceptions.\n",
    "\n",
    "La première version de Python a été publiée en 1991. La version actuellement maintenue (version 3) a été publiée en 2018.\n",
    "\n",
    "Python est un langage **opensource** et **gratuit** de **haut niveau**. C'est un langage de programmation relativement simple à prendre en main."
   ]
  },
  {
   "cell_type": "markdown",
   "metadata": {
    "slideshow": {
     "slide_type": "slide"
    },
    "tags": []
   },
   "source": [
    "## Qu'est-ce que la programmation orientée objet ?\n",
    "\n",
    "> La programmation orientée objet est un **paradigme de programmation informatique**. Elle consiste en la **définition et l'interaction de briques logicielles appelées objets** ; un objet représente un concept, une idée ou toute entité du monde physique, comme une voiture, une personne ou encore une page d'un livre. Il possède une structure interne et un comportement, et **il sait interagir avec ses pairs**. Il s'agit donc de représenter ces objets et leurs relations ; l'interaction entre les objets via leurs relations permet de concevoir et réaliser les fonctionnalités attendues, de mieux résoudre le ou les problèmes.\n",
    "\n",
    "En résumé, il est possible de concevoir en Python **des entités qui suivent un certain nombre de règles de fonctionnement et d’interactions entre elles**. Ces règles sont définies dans des **classes**, qui servent ensuite à générer des objets. "
   ]
  },
  {
   "cell_type": "markdown",
   "metadata": {
    "slideshow": {
     "slide_type": "slide"
    },
    "tags": []
   },
   "source": [
    "## Que peut-on faire en Python ?\n",
    "Grâce à la gigantesque communauté mondiale Python, il est possible de faire à peu près tout ce que vous pouvez imaginer. Voici quelques exemples qui peuvent être utiles aux géographes (par ordre de complexité) :\n",
    "\n",
    "    - Créer des applications en ligne de commande\n",
    "    - Automatiser des manipulations de fichiers répétitives\n",
    "    - Créer des graphiques, des images, etc.\n",
    "    - Echanger des données avec des capteurs ou des API externes\n",
    "    - Automatiser des chaines de traitements complexes\n",
    "    - Créer des packages QGIS ou ArcGIS\n",
    "    - Créer des applications web\n",
    "    - Créer des applications avec GUI\n",
    "    - ..."
   ]
  },
  {
   "cell_type": "markdown",
   "metadata": {
    "slideshow": {
     "slide_type": "slide"
    },
    "tags": []
   },
   "source": [
    "## Qu'est-ce qu'un package ?\n",
    "Un package (aussi appelé librairie ou bibliothèque) est un ensemble de **modules**, proposant principalement des **fonctions** et des **classes**. Ce sont des sortes de **boites à outils thématiques**. Un certain nombre de ces packages sont pré-installés avec Python, d'autres sont téléchargeables et installables via des gestionnaires de paquets comme **PyPI** ou **conda**. Il est également possible d'écrire ses propres packages. "
   ]
  },
  {
   "cell_type": "markdown",
   "metadata": {
    "slideshow": {
     "slide_type": "slide"
    },
    "tags": []
   },
   "source": [
    "## Qu'est-ce que Miniconda ?\n",
    "Anaconda est une **distribution** libre et open source des langages de programmation Python et R appliqué au développement d'applications dédiées à la science des données et à l'apprentissage automatique (traitement de données à grande échelle, analyse prédictive, calcul scientifique), qui vise à simplifier la **gestion des paquets** et de déploiement. Les versions de paquetages sont gérées par le **système de gestion de paquets conda**. \n",
    "\n",
    "Miniconda est la **version minimaliste d'Anaconda** qui inclut uniquement Conda, Python, les paquets dont ils dépendent, et un petit nombre d'autres paquets systèmes utiles. "
   ]
  },
  {
   "cell_type": "markdown",
   "metadata": {
    "slideshow": {
     "slide_type": "slide"
    },
    "tags": []
   },
   "source": [
    "## Installer son environnement de base\n",
    "Télécharger et installer la [dernière version de Miniconda disponible](https://docs.conda.io/en/latest/miniconda.html#latest-miniconda-installer-links) pour son architecture. Les options par défaut sont, en général, les bonnes.\n",
    "Lancer ensuite l'application **Anaconda Prompt**.\n",
    "\n",
    "```bash\n",
    "conda info\n",
    "conda list\n",
    "```"
   ]
  },
  {
   "cell_type": "markdown",
   "metadata": {
    "slideshow": {
     "slide_type": "slide"
    },
    "tags": []
   },
   "source": [
    "## Créer un environnement virtuel\n",
    "### Le problème\n",
    "\n",
    "> Les programmes Python utilisent souvent des packages. Ils nécessitent, parfois, une version spécifique d'une bibliothèque, par exemple parce qu'un certain bogue a été corrigé ou encore que le programme a été implémenté en utilisant une version obsolète de l'interface de cette bibliothèque.\n",
    "\n",
    "> Cela signifie qu'il n'est pas toujours possible, pour une installation unique de Python, de couvrir tous les besoins de toutes les applications. Basiquement, si une application A dépend de la version 1.0 d'un module et qu'une application B dépend de la version 2.0, ces dépendances entrent en conflit et installer la version 1.0 ou 2.0 laisse une des deux applications incapable de fonctionner."
   ]
  },
  {
   "cell_type": "markdown",
   "metadata": {
    "slideshow": {
     "slide_type": "slide"
    },
    "tags": []
   },
   "source": [
    "### La solution\n",
    "\n",
    "La solution est de créer un environnement virtuel, un dossier auto-suffisant qui contient une installation de Python pour une version particulière de Python ainsi que des paquets additionnels.\n",
    "\n",
    "> Différentes applications peuvent alors utiliser des environnements virtuels différents. Pour résoudre l'exemple précédent où il existe un conflit de dépendances, l'application A a son environnement virtuel avec la version 1.0 installée pendant que l'application B a un autre environnement virtuel avec la version 2.0. Si l'application B requiert que la bibliothèque soit mise à jour à la version 3.0, cela n'affecte pas l'environnement de A.\n",
    "\n",
    "La conservation d'un environnement de base le plus léger possible et l'utilisation d'environnements virtuels pour ses applications est une bonne pratique à adopter au plus tôt."
   ]
  },
  {
   "cell_type": "markdown",
   "metadata": {
    "slideshow": {
     "slide_type": "slide"
    },
    "tags": []
   },
   "source": [
    "### Créer un environnement virtuel avec conda\n",
    "\n",
    "```bash\n",
    "conda create -n formation-python\n",
    "conda activate formation-python\n",
    "\n",
    "conda install python\n",
    "\n",
    "conda info\n",
    "conda list\n",
    "\n",
    "python\n",
    "```\n",
    "\n",
    "La console python s'ouvre. Elle permet de lancer une commande directement. Par exemple : "
   ]
  },
  {
   "cell_type": "code",
   "execution_count": 1,
   "metadata": {
    "tags": []
   },
   "outputs": [
    {
     "name": "stdout",
     "output_type": "stream",
     "text": [
      "hello geographers!\n"
     ]
    }
   ],
   "source": [
    "print(\"hello geographers!\")\n",
    "exit()"
   ]
  },
  {
   "cell_type": "markdown",
   "metadata": {
    "tags": []
   },
   "source": [
    "Je suis dans mon environnement virtuel : cela signifie que si j'y installe un package, il ne sera pas accessible via l'environnement de base ou mes autres environnements virtuels. "
   ]
  },
  {
   "cell_type": "markdown",
   "metadata": {
    "slideshow": {
     "slide_type": "slide"
    },
    "tags": []
   },
   "source": [
    "### Supprimer un environnement virtuel avec conda\n",
    "\n",
    "```bash\n",
    "# Retourner dans l'environnement de base lorsque l'on est dans un environnement virtuel\n",
    "conda deactivate\n",
    "\n",
    "# Supprimer un environnement virtuel\n",
    "conda env remove -n formation-python\n",
    "```"
   ]
  },
  {
   "cell_type": "markdown",
   "metadata": {
    "slideshow": {
     "slide_type": "slide"
    },
    "tags": []
   },
   "source": [
    "## Installer un IDE\n",
    "### Qu'es-ce que c'est ?\n",
    "En programmation informatique, un environnement de développement est un **ensemble d'outils qui permet d'augmenter la productivité** des programmeurs qui développent des logiciels. Il comporte un **éditeur de texte destiné à la programmation**, des fonctions qui permettent, par pression sur un bouton, de démarrer le compilateur ou l'éditeur de liens ainsi qu'un débogueur en ligne, qui permet d'exécuter ligne par ligne le programme en cours de construction."
   ]
  },
  {
   "cell_type": "markdown",
   "metadata": {
    "slideshow": {
     "slide_type": "slide"
    },
    "tags": []
   },
   "source": [
    "### Installer et lancer le Jupyter Lab\n",
    "Jupyter Lab un IDE interactif. Son interface permet de rédiger et d'exécuter des cellules de code au sein de documents markdown. Il est très utilisé en data science, en informatique scientifique, en journalisme informatique et en apprentissage automatique. \n",
    "\n",
    "Retourner dans l'Anaconda Prompt.\n",
    "\n",
    "```bash\n",
    "conda install -c conda-forge jupyterlab\n",
    "conda list\n",
    "\n",
    "jupyter-lab\n",
    "```\n",
    "\n",
    "Le Jupyter Lab est lancé et accessible depuis votre navigateur à l'adresse http://localhost:8888/\n",
    "Pour le stopper, retourner dans l'Anaconda Prompt et faire ```Ctrl + C```."
   ]
  },
  {
   "cell_type": "markdown",
   "metadata": {
    "slideshow": {
     "slide_type": "slide"
    },
    "tags": []
   },
   "source": [
    "Si vous souhaitez pouvoir utiliser la commande conda dans n'importe quel terminal (pas uniquement l'Anaconda Prompt), lancez la commande suivante : \n",
    "\n",
    "```bash\n",
    "conda init\n",
    "```\n",
    "\n",
    "Pour annuler cette configuration :\n",
    "\n",
    "```bash\n",
    "conda init --reverse\n",
    "```"
   ]
  },
  {
   "cell_type": "markdown",
   "metadata": {
    "slideshow": {
     "slide_type": "slide"
    },
    "tags": []
   },
   "source": [
    "### Installer Visual Studio Code (facultatif)\n",
    "Visual Studio Code est un excellent IDE pour Python et beaucoup d'autres languages structurés. Nous ne l'utiliserons pas lors de cette formation mais vous pourriez être amenés à l'utiliser lorsque vous quitterez l'environnement Jupyter Lab. \n",
    "- Télécharger et installer la [dernière version disponible](https://code.visualstudio.com/) pour son architecture. Lancer VSCode, puis se rendre dans l'onglet \"Extensions\". \n",
    "- Installer les extensions Python (ms-python.python), Pylance (ms-python.vscode-pylance) et Path Intellisense (christian-kohler.path-intellisense).\n",
    "- Ouvrir le dossier de la formation"
   ]
  },
  {
   "cell_type": "markdown",
   "metadata": {
    "slideshow": {
     "slide_type": "slide"
    },
    "tags": []
   },
   "source": [
    "# Premiers contacts avec Python"
   ]
  },
  {
   "cell_type": "code",
   "execution_count": 1,
   "metadata": {
    "slideshow": {
     "slide_type": "fragment"
    },
    "tags": []
   },
   "outputs": [
    {
     "name": "stdout",
     "output_type": "stream",
     "text": [
      "hello geographers!\n"
     ]
    }
   ],
   "source": [
    "print(\"hello geographers!\")"
   ]
  },
  {
   "cell_type": "markdown",
   "metadata": {
    "slideshow": {
     "slide_type": "fragment"
    },
    "tags": []
   },
   "source": [
    "Le # permet d'écrire des commentaires qui ne seront pas interprétés lors de l'exécution du code Python."
   ]
  },
  {
   "cell_type": "code",
   "execution_count": 2,
   "metadata": {
    "slideshow": {
     "slide_type": "fragment"
    },
    "tags": []
   },
   "outputs": [
    {
     "data": {
      "text/plain": [
       "8"
      ]
     },
     "execution_count": 2,
     "metadata": {},
     "output_type": "execute_result"
    }
   ],
   "source": [
    "4+4 # Cette commande devrait renvoyer le résultat de cette opération arithmétique complexe"
   ]
  }
 ],
 "metadata": {
  "kernelspec": {
   "display_name": "Python 3 (ipykernel)",
   "language": "python",
   "name": "python3"
  },
  "language_info": {
   "codemirror_mode": {
    "name": "ipython",
    "version": 3
   },
   "file_extension": ".py",
   "mimetype": "text/x-python",
   "name": "python",
   "nbconvert_exporter": "python",
   "pygments_lexer": "ipython3",
   "version": "3.7.3"
  },
  "vscode": {
   "interpreter": {
    "hash": "916dbcbb3f70747c44a77c7bcd40155683ae19c65e1c03b4aa3499c5328201f1"
   }
  }
 },
 "nbformat": 4,
 "nbformat_minor": 4
}
