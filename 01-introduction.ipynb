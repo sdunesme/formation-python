{
 "cells": [
  {
   "cell_type": "markdown",
   "metadata": {
    "slideshow": {
     "slide_type": "slide"
    },
    "tags": []
   },
   "source": [
    "# Introduction à l'usage de python en géographie\n",
    "\n",
    "Ce cours est téléchargeable à l'adresse https://github.com/sdunesme/formation-python"
   ]
  },
  {
   "cell_type": "markdown",
   "metadata": {
    "slideshow": {
     "slide_type": "slide"
    },
    "tags": []
   },
   "source": [
    "## Qu'est-ce que Python ?\n",
    "> Python est un langage de programmation **interprété** et **multiplateformes**. Il favorise la programmation impérative structurée, **fonctionnelle et orientée objet**. Il est doté d'un **typage dynamique fort**, d'une gestion automatique de la mémoire par ramasse-miettes et d'un système de gestion d'exceptions.\n",
    "\n",
    "La première version de Python a été publiée en 1991. La version actuellement maintenue (version 3) a été publiée en 2018.\n",
    "\n",
    "Python est un langage **opensource** et **gratuit** de **haut niveau**. C'est un langage de programmation relativement simple à prendre en main."
   ]
  },
  {
   "cell_type": "markdown",
   "metadata": {
    "slideshow": {
     "slide_type": "slide"
    },
    "tags": []
   },
   "source": [
    "## Qu'est-ce que la programmation orientée objet ?\n",
    "\n",
    "> La programmation orientée objet est un **paradigme de programmation informatique**. Elle consiste en la **définition et l'interaction de briques logicielles appelées objets** ; un objet représente un concept, une idée ou toute entité du monde physique, comme une voiture, une personne ou encore une page d'un livre. Il possède une structure interne et un comportement, et **il sait interagir avec ses pairs**. Il s'agit donc de représenter ces objets et leurs relations ; l'interaction entre les objets via leurs relations permet de concevoir et réaliser les fonctionnalités attendues, de mieux résoudre le ou les problèmes.\n",
    "\n",
    "En résumé, il est possible de concevoir en Python **des entités qui suivent un certain nombre de règles de fonctionnement et d’interactions entre elles**. Ces règles sont définies dans des **classes**, qui servent ensuite à générer des objets. "
   ]
  },
  {
   "cell_type": "markdown",
   "metadata": {
    "slideshow": {
     "slide_type": "slide"
    },
    "tags": []
   },
   "source": [
    "## Que peut-on faire en Python ?\n",
    "Grâce à la gigantesque communauté mondiale Python, il est possible de faire à peu près tout ce que vous pouvez imaginer. Voici quelques exemples qui peuvent être utiles aux géographes (par ordre de complexité) :\n",
    "\n",
    "    - Créer des applications en ligne de commande\n",
    "    - Automatiser des manipulations de fichiers répétitives\n",
    "    - Créer des graphiques, des images, etc.\n",
    "    - Echanger des données avec des capteurs ou des API externes\n",
    "    - Automatiser des chaines de traitements complexes\n",
    "    - Créer des packages QGIS ou ArcGIS\n",
    "    - Créer des applications web\n",
    "    - Créer des applications avec GUI\n",
    "    - ..."
   ]
  },
  {
   "cell_type": "markdown",
   "metadata": {
    "slideshow": {
     "slide_type": "slide"
    },
    "tags": []
   },
   "source": [
    "## Qu'est-ce qu'un package ?\n",
    "Un package (aussi appelé librairie ou bibliothèque) est un ensemble de **modules**, proposant principalement des **fonctions** et des **classes**. Ce sont des sortes de **boites à outils thématiques**. Un certain nombre de ces packages sont pré-installés avec Python, d'autres sont téléchargeables et installables via des gestionnaires de paquets comme **PyPI** ou **conda**. Il est également possible d'écrire ses propres packages. "
   ]
  },
  {
   "attachments": {},
   "cell_type": "markdown",
   "metadata": {
    "slideshow": {
     "slide_type": "slide"
    },
    "tags": []
   },
   "source": [
    "# Premiers contacts avec Python\n",
    "\n",
    "Exécutez la cellule de code ci-dessous avec le bouton ```Run``` ou avec les raccourcis clavier :\n",
    "- ```Ctrl+Enter``` : Exécuter la cellule\n",
    "- ```Shift+Enter``` : Exécuter la cellule et passer à la suivante "
   ]
  },
  {
   "cell_type": "code",
   "execution_count": null,
   "metadata": {
    "slideshow": {
     "slide_type": "fragment"
    },
    "tags": []
   },
   "outputs": [],
   "source": [
    "print(\"hello geographers!\")"
   ]
  },
  {
   "cell_type": "markdown",
   "metadata": {
    "slideshow": {
     "slide_type": "fragment"
    },
    "tags": []
   },
   "source": [
    "Le # permet d'écrire des commentaires qui ne seront pas interprétés lors de l'exécution du code Python."
   ]
  },
  {
   "cell_type": "code",
   "execution_count": null,
   "metadata": {
    "slideshow": {
     "slide_type": "fragment"
    },
    "tags": []
   },
   "outputs": [],
   "source": [
    "4+4 # Cette commande devrait renvoyer le résultat de cette opération arithmétique complexe"
   ]
  }
 ],
 "metadata": {
  "kernelspec": {
   "display_name": "Python 3 (ipykernel)",
   "language": "python",
   "name": "python3"
  },
  "language_info": {
   "codemirror_mode": {
    "name": "ipython",
    "version": 3
   },
   "file_extension": ".py",
   "mimetype": "text/x-python",
   "name": "python",
   "nbconvert_exporter": "python",
   "pygments_lexer": "ipython3",
   "version": "3.8.10 (default, Nov 14 2022, 12:59:47) \n[GCC 9.4.0]"
  },
  "vscode": {
   "interpreter": {
    "hash": "916dbcbb3f70747c44a77c7bcd40155683ae19c65e1c03b4aa3499c5328201f1"
   }
  }
 },
 "nbformat": 4,
 "nbformat_minor": 4
}
